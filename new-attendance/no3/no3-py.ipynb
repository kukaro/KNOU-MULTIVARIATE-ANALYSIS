{
 "cells": [
  {
   "cell_type": "code",
   "execution_count": 1,
   "id": "723aaab2",
   "metadata": {},
   "outputs": [],
   "source": [
    "import pandas as pd\n",
    "import numpy as np\n",
    "import matplotlib.pyplot as plt"
   ]
  },
  {
   "cell_type": "code",
   "execution_count": 13,
   "id": "8b166c59",
   "metadata": {},
   "outputs": [
    {
     "data": {
      "text/html": [
       "<div>\n",
       "<style scoped>\n",
       "    .dataframe tbody tr th:only-of-type {\n",
       "        vertical-align: middle;\n",
       "    }\n",
       "\n",
       "    .dataframe tbody tr th {\n",
       "        vertical-align: top;\n",
       "    }\n",
       "\n",
       "    .dataframe thead th {\n",
       "        text-align: right;\n",
       "    }\n",
       "</style>\n",
       "<table border=\"1\" class=\"dataframe\">\n",
       "  <thead>\n",
       "    <tr style=\"text-align: right;\">\n",
       "      <th></th>\n",
       "      <th>0</th>\n",
       "      <th>1</th>\n",
       "      <th>2</th>\n",
       "      <th>3</th>\n",
       "      <th>4</th>\n",
       "      <th>5</th>\n",
       "      <th>6</th>\n",
       "      <th>7</th>\n",
       "      <th>8</th>\n",
       "      <th>9</th>\n",
       "      <th>...</th>\n",
       "      <th>290</th>\n",
       "      <th>291</th>\n",
       "      <th>292</th>\n",
       "      <th>293</th>\n",
       "      <th>294</th>\n",
       "      <th>295</th>\n",
       "      <th>296</th>\n",
       "      <th>297</th>\n",
       "      <th>298</th>\n",
       "      <th>299</th>\n",
       "    </tr>\n",
       "  </thead>\n",
       "  <tbody>\n",
       "    <tr>\n",
       "      <th>BIO</th>\n",
       "      <td>1</td>\n",
       "      <td>4</td>\n",
       "      <td>2</td>\n",
       "      <td>2</td>\n",
       "      <td>3</td>\n",
       "      <td>1</td>\n",
       "      <td>3</td>\n",
       "      <td>4</td>\n",
       "      <td>2</td>\n",
       "      <td>2</td>\n",
       "      <td>...</td>\n",
       "      <td>3</td>\n",
       "      <td>3</td>\n",
       "      <td>4</td>\n",
       "      <td>1</td>\n",
       "      <td>3</td>\n",
       "      <td>1</td>\n",
       "      <td>1</td>\n",
       "      <td>3</td>\n",
       "      <td>2</td>\n",
       "      <td>3</td>\n",
       "    </tr>\n",
       "    <tr>\n",
       "      <th>GEO</th>\n",
       "      <td>1</td>\n",
       "      <td>4</td>\n",
       "      <td>1</td>\n",
       "      <td>3</td>\n",
       "      <td>1</td>\n",
       "      <td>1</td>\n",
       "      <td>3</td>\n",
       "      <td>3</td>\n",
       "      <td>1</td>\n",
       "      <td>3</td>\n",
       "      <td>...</td>\n",
       "      <td>5</td>\n",
       "      <td>3</td>\n",
       "      <td>3</td>\n",
       "      <td>1</td>\n",
       "      <td>3</td>\n",
       "      <td>1</td>\n",
       "      <td>1</td>\n",
       "      <td>4</td>\n",
       "      <td>2</td>\n",
       "      <td>3</td>\n",
       "    </tr>\n",
       "    <tr>\n",
       "      <th>CHEM</th>\n",
       "      <td>1</td>\n",
       "      <td>3</td>\n",
       "      <td>3</td>\n",
       "      <td>2</td>\n",
       "      <td>2</td>\n",
       "      <td>1</td>\n",
       "      <td>3</td>\n",
       "      <td>4</td>\n",
       "      <td>3</td>\n",
       "      <td>3</td>\n",
       "      <td>...</td>\n",
       "      <td>3</td>\n",
       "      <td>1</td>\n",
       "      <td>4</td>\n",
       "      <td>1</td>\n",
       "      <td>3</td>\n",
       "      <td>1</td>\n",
       "      <td>1</td>\n",
       "      <td>4</td>\n",
       "      <td>2</td>\n",
       "      <td>3</td>\n",
       "    </tr>\n",
       "    <tr>\n",
       "      <th>ALG</th>\n",
       "      <td>1</td>\n",
       "      <td>4</td>\n",
       "      <td>4</td>\n",
       "      <td>4</td>\n",
       "      <td>2</td>\n",
       "      <td>4</td>\n",
       "      <td>2</td>\n",
       "      <td>2</td>\n",
       "      <td>3</td>\n",
       "      <td>2</td>\n",
       "      <td>...</td>\n",
       "      <td>3</td>\n",
       "      <td>5</td>\n",
       "      <td>3</td>\n",
       "      <td>5</td>\n",
       "      <td>2</td>\n",
       "      <td>1</td>\n",
       "      <td>3</td>\n",
       "      <td>2</td>\n",
       "      <td>5</td>\n",
       "      <td>5</td>\n",
       "    </tr>\n",
       "    <tr>\n",
       "      <th>CALC</th>\n",
       "      <td>1</td>\n",
       "      <td>4</td>\n",
       "      <td>1</td>\n",
       "      <td>4</td>\n",
       "      <td>3</td>\n",
       "      <td>4</td>\n",
       "      <td>3</td>\n",
       "      <td>3</td>\n",
       "      <td>4</td>\n",
       "      <td>3</td>\n",
       "      <td>...</td>\n",
       "      <td>4</td>\n",
       "      <td>5</td>\n",
       "      <td>4</td>\n",
       "      <td>3</td>\n",
       "      <td>2</td>\n",
       "      <td>1</td>\n",
       "      <td>3</td>\n",
       "      <td>4</td>\n",
       "      <td>4</td>\n",
       "      <td>5</td>\n",
       "    </tr>\n",
       "    <tr>\n",
       "      <th>STAT</th>\n",
       "      <td>1</td>\n",
       "      <td>4</td>\n",
       "      <td>1</td>\n",
       "      <td>3</td>\n",
       "      <td>4</td>\n",
       "      <td>4</td>\n",
       "      <td>1</td>\n",
       "      <td>2</td>\n",
       "      <td>3</td>\n",
       "      <td>4</td>\n",
       "      <td>...</td>\n",
       "      <td>2</td>\n",
       "      <td>2</td>\n",
       "      <td>4</td>\n",
       "      <td>3</td>\n",
       "      <td>3</td>\n",
       "      <td>1</td>\n",
       "      <td>1</td>\n",
       "      <td>5</td>\n",
       "      <td>4</td>\n",
       "      <td>5</td>\n",
       "    </tr>\n",
       "  </tbody>\n",
       "</table>\n",
       "<p>6 rows × 300 columns</p>\n",
       "</div>"
      ],
      "text/plain": [
       "      0    1    2    3    4    5    6    7    8    9    ...  290  291  292  \\\n",
       "BIO     1    4    2    2    3    1    3    4    2    2  ...    3    3    4   \n",
       "GEO     1    4    1    3    1    1    3    3    1    3  ...    5    3    3   \n",
       "CHEM    1    3    3    2    2    1    3    4    3    3  ...    3    1    4   \n",
       "ALG     1    4    4    4    2    4    2    2    3    2  ...    3    5    3   \n",
       "CALC    1    4    1    4    3    4    3    3    4    3  ...    4    5    4   \n",
       "STAT    1    4    1    3    4    4    1    2    3    4  ...    2    2    4   \n",
       "\n",
       "      293  294  295  296  297  298  299  \n",
       "BIO     1    3    1    1    3    2    3  \n",
       "GEO     1    3    1    1    4    2    3  \n",
       "CHEM    1    3    1    1    4    2    3  \n",
       "ALG     5    2    1    3    2    5    5  \n",
       "CALC    3    2    1    3    4    4    5  \n",
       "STAT    3    3    1    1    5    4    5  \n",
       "\n",
       "[6 rows x 300 columns]"
      ]
     },
     "execution_count": 13,
     "metadata": {},
     "output_type": "execute_result"
    }
   ],
   "source": [
    "data = pd.read_csv('../../mvadata/favoritesujects.csv').iloc[:,1:]\n",
    "data.transpose()"
   ]
  },
  {
   "cell_type": "code",
   "execution_count": 76,
   "id": "8a1769cc",
   "metadata": {},
   "outputs": [],
   "source": [
    "from factor_analyzer import FactorAnalyzer\n",
    "fa = FactorAnalyzer(method='ml')"
   ]
  },
  {
   "cell_type": "code",
   "execution_count": 77,
   "id": "7b177329",
   "metadata": {},
   "outputs": [
    {
     "data": {
      "text/plain": [
       "FactorAnalyzer(method='ml', rotation_kwargs={})"
      ]
     },
     "execution_count": 77,
     "metadata": {},
     "output_type": "execute_result"
    }
   ],
   "source": [
    "# 적합\n",
    "fa.fit(data)"
   ]
  },
  {
   "cell_type": "code",
   "execution_count": 78,
   "id": "ce5125e2",
   "metadata": {},
   "outputs": [],
   "source": [
    "ev, v = fa.get_eigenvalues()"
   ]
  },
  {
   "cell_type": "code",
   "execution_count": 79,
   "id": "f1481d44",
   "metadata": {},
   "outputs": [
    {
     "data": {
      "text/plain": [
       "array([2.78672826, 1.77778185, 0.63046377, 0.33664744, 0.2621086 ,\n",
       "       0.20627009])"
      ]
     },
     "execution_count": 79,
     "metadata": {},
     "output_type": "execute_result"
    }
   ],
   "source": [
    "ev"
   ]
  },
  {
   "cell_type": "code",
   "execution_count": 80,
   "id": "489a7ee2",
   "metadata": {},
   "outputs": [
    {
     "data": {
      "text/plain": [
       "array([0.46445471, 0.29629698, 0.10507729, 0.05610791, 0.04368477,\n",
       "       0.03437835])"
      ]
     },
     "execution_count": 80,
     "metadata": {},
     "output_type": "execute_result"
    }
   ],
   "source": [
    "ev/sum(ev)"
   ]
  },
  {
   "cell_type": "code",
   "execution_count": 81,
   "id": "8be9f6e0",
   "metadata": {},
   "outputs": [
    {
     "data": {
      "text/plain": [
       "FactorAnalyzer(method='ml', n_factors=2, rotation='varimax', rotation_kwargs={})"
      ]
     },
     "execution_count": 81,
     "metadata": {},
     "output_type": "execute_result"
    }
   ],
   "source": [
    "fa_varimax = FactorAnalyzer(n_factors=2, rotation='varimax', method='ml')\n",
    "fa_varimax.fit(data)"
   ]
  },
  {
   "cell_type": "code",
   "execution_count": 82,
   "id": "fc124011",
   "metadata": {},
   "outputs": [
    {
     "data": {
      "text/plain": [
       "(array([2.12440789, 1.86311993]),\n",
       " array([0.35406798, 0.31051999]),\n",
       " array([0.35406798, 0.66458797]))"
      ]
     },
     "execution_count": 82,
     "metadata": {},
     "output_type": "execute_result"
    }
   ],
   "source": [
    "fa_varimax.get_factor_variance()"
   ]
  },
  {
   "cell_type": "code",
   "execution_count": 83,
   "id": "f63e7477",
   "metadata": {},
   "outputs": [
    {
     "data": {
      "text/plain": [
       "array([[0.85456218, 0.13257078],\n",
       "       [0.77932796, 0.13455083],\n",
       "       [0.86460889, 0.05545418],\n",
       "       [0.03133501, 0.79070486],\n",
       "       [0.09671634, 0.97107824],\n",
       "       [0.16998486, 0.50612123]])"
      ]
     },
     "execution_count": 83,
     "metadata": {},
     "output_type": "execute_result"
    }
   ],
   "source": [
    "fa_varimax.loadings_"
   ]
  },
  {
   "cell_type": "code",
   "execution_count": 84,
   "id": "64997ac0",
   "metadata": {},
   "outputs": [
    {
     "data": {
      "text/plain": [
       "array([[ 0.84606402,  0.05355398, -0.03750408],\n",
       "       [ 0.77594153,  0.03977838,  0.00369147],\n",
       "       [ 0.89982681, -0.09837621,  0.04477106],\n",
       "       [ 0.01868688,  0.29976808,  0.78644161],\n",
       "       [-0.07203889,  0.87086045,  0.10764171],\n",
       "       [ 0.04142764,  0.57953091, -0.04761265]])"
      ]
     },
     "execution_count": 84,
     "metadata": {},
     "output_type": "execute_result"
    }
   ],
   "source": [
    "fa.loadings_"
   ]
  },
  {
   "cell_type": "code",
   "execution_count": 32,
   "id": "3a26454d",
   "metadata": {},
   "outputs": [
    {
     "name": "stderr",
     "output_type": "stream",
     "text": [
      "/usr/local/lib/python3.9/site-packages/sklearn/utils/extmath.py:368: FutureWarning: If 'random_state' is not supplied, the current default is to use 0 as a fixed seed. This will change to  None in version 1.2 leading to non-deterministic results that better reflect nature of the randomized_svd solver. If you want to silence this warning, set 'random_state' to an integer seed or to None explicitly depending if you want your code to be deterministic or not.\n",
      "  warnings.warn(\n"
     ]
    },
    {
     "data": {
      "text/plain": [
       "array([[ 0.78230188, -0.4538988 ],\n",
       "       [ 0.77117922, -0.41643707],\n",
       "       [ 0.74777143, -0.51261891],\n",
       "       [ 0.54724649,  0.70076193],\n",
       "       [ 0.63507108,  0.66447311],\n",
       "       [ 0.56396677,  0.45051965]])"
      ]
     },
     "execution_count": 32,
     "metadata": {},
     "output_type": "execute_result"
    }
   ],
   "source": [
    "FactorAnalyzer(n_factors=2, rotation=None, method='principal').fit(data).loadings_"
   ]
  },
  {
   "cell_type": "code",
   "execution_count": 61,
   "id": "dcf666c2",
   "metadata": {},
   "outputs": [
    {
     "data": {
      "text/plain": [
       "FactorAnalyzer(method='ml', n_factors=2, rotation_kwargs={})"
      ]
     },
     "execution_count": 61,
     "metadata": {},
     "output_type": "execute_result"
    }
   ],
   "source": [
    "fa_promax = FactorAnalyzer(n_factors=2, rotation='promax', method='ml')\n",
    "fa_promax.fit(data)"
   ]
  },
  {
   "cell_type": "code",
   "execution_count": 62,
   "id": "bb02ef1e",
   "metadata": {},
   "outputs": [
    {
     "data": {
      "text/plain": [
       "(array([2.14826428, 1.88768463]),\n",
       " array([0.35804405, 0.31461411]),\n",
       " array([0.35804405, 0.67265815]))"
      ]
     },
     "execution_count": 62,
     "metadata": {},
     "output_type": "execute_result"
    }
   ],
   "source": [
    "fa_promax.get_factor_variance()"
   ]
  },
  {
   "cell_type": "code",
   "execution_count": 63,
   "id": "5fa4da3f",
   "metadata": {},
   "outputs": [
    {
     "data": {
      "text/plain": [
       "array([[ 0.85983213,  0.01728205],\n",
       "       [ 0.78206276,  0.02984049],\n",
       "       [ 0.88187748, -0.06365976],\n",
       "       [-0.08770075,  0.81114717],\n",
       "       [-0.04774378,  0.98804396],\n",
       "       [ 0.09824484,  0.49824927]])"
      ]
     },
     "execution_count": 63,
     "metadata": {},
     "output_type": "execute_result"
    }
   ],
   "source": [
    "fa_promax.loadings_"
   ]
  },
  {
   "cell_type": "code",
   "execution_count": null,
   "id": "c193e0eb",
   "metadata": {},
   "outputs": [],
   "source": []
  }
 ],
 "metadata": {
  "kernelspec": {
   "display_name": "Python 3 (ipykernel)",
   "language": "python",
   "name": "python3"
  },
  "language_info": {
   "codemirror_mode": {
    "name": "ipython",
    "version": 3
   },
   "file_extension": ".py",
   "mimetype": "text/x-python",
   "name": "python",
   "nbconvert_exporter": "python",
   "pygments_lexer": "ipython3",
   "version": "3.9.6"
  }
 },
 "nbformat": 4,
 "nbformat_minor": 5
}
