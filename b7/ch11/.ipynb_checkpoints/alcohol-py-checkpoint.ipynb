{
 "cells": [
  {
   "cell_type": "code",
   "execution_count": 1,
   "id": "79e4d11a",
   "metadata": {},
   "outputs": [],
   "source": [
    "import numpy as np\n",
    "import pandas as pd"
   ]
  },
  {
   "cell_type": "code",
   "execution_count": 8,
   "id": "d2762a82",
   "metadata": {},
   "outputs": [
    {
     "data": {
      "text/html": [
       "<div>\n",
       "<style scoped>\n",
       "    .dataframe tbody tr th:only-of-type {\n",
       "        vertical-align: middle;\n",
       "    }\n",
       "\n",
       "    .dataframe tbody tr th {\n",
       "        vertical-align: top;\n",
       "    }\n",
       "\n",
       "    .dataframe thead th {\n",
       "        text-align: right;\n",
       "    }\n",
       "</style>\n",
       "<table border=\"1\" class=\"dataframe\">\n",
       "  <thead>\n",
       "    <tr style=\"text-align: right;\">\n",
       "      <th></th>\n",
       "      <th>TYPE</th>\n",
       "      <th>MEOH</th>\n",
       "      <th>ACET</th>\n",
       "      <th>BU1</th>\n",
       "      <th>MEPR</th>\n",
       "      <th>ACAL</th>\n",
       "      <th>LNPRO1</th>\n",
       "    </tr>\n",
       "  </thead>\n",
       "  <tbody>\n",
       "    <tr>\n",
       "      <th>0</th>\n",
       "      <td>typeA</td>\n",
       "      <td>3.0</td>\n",
       "      <td>15.0</td>\n",
       "      <td>0.2</td>\n",
       "      <td>9.0</td>\n",
       "      <td>9.0</td>\n",
       "      <td>5.86</td>\n",
       "    </tr>\n",
       "    <tr>\n",
       "      <th>1</th>\n",
       "      <td>typeA</td>\n",
       "      <td>23.0</td>\n",
       "      <td>13.0</td>\n",
       "      <td>0.8</td>\n",
       "      <td>9.0</td>\n",
       "      <td>2.0</td>\n",
       "      <td>6.67</td>\n",
       "    </tr>\n",
       "    <tr>\n",
       "      <th>2</th>\n",
       "      <td>typeA</td>\n",
       "      <td>65.0</td>\n",
       "      <td>96.0</td>\n",
       "      <td>0.4</td>\n",
       "      <td>9.0</td>\n",
       "      <td>4.0</td>\n",
       "      <td>5.31</td>\n",
       "    </tr>\n",
       "    <tr>\n",
       "      <th>3</th>\n",
       "      <td>typeA</td>\n",
       "      <td>279.0</td>\n",
       "      <td>66.0</td>\n",
       "      <td>0.9</td>\n",
       "      <td>36.0</td>\n",
       "      <td>4.8</td>\n",
       "      <td>5.45</td>\n",
       "    </tr>\n",
       "    <tr>\n",
       "      <th>4</th>\n",
       "      <td>typeA</td>\n",
       "      <td>292.0</td>\n",
       "      <td>210.0</td>\n",
       "      <td>1.1</td>\n",
       "      <td>34.0</td>\n",
       "      <td>8.0</td>\n",
       "      <td>4.08</td>\n",
       "    </tr>\n",
       "  </tbody>\n",
       "</table>\n",
       "</div>"
      ],
      "text/plain": [
       "    TYPE   MEOH   ACET  BU1  MEPR  ACAL  LNPRO1\n",
       "0  typeA    3.0   15.0  0.2   9.0   9.0    5.86\n",
       "1  typeA   23.0   13.0  0.8   9.0   2.0    6.67\n",
       "2  typeA   65.0   96.0  0.4   9.0   4.0    5.31\n",
       "3  typeA  279.0   66.0  0.9  36.0   4.8    5.45\n",
       "4  typeA  292.0  210.0  1.1  34.0   8.0    4.08"
      ]
     },
     "execution_count": 8,
     "metadata": {},
     "output_type": "execute_result"
    }
   ],
   "source": [
    "# 데이터 읽기\n",
    "alcohol = pd.read_excel('../../mvadata/alcohol.xlsx')\n",
    "alcohol.head()"
   ]
  },
  {
   "cell_type": "code",
   "execution_count": 10,
   "id": "ea9944c4",
   "metadata": {},
   "outputs": [
    {
     "data": {
      "text/html": [
       "<div>\n",
       "<style scoped>\n",
       "    .dataframe tbody tr th:only-of-type {\n",
       "        vertical-align: middle;\n",
       "    }\n",
       "\n",
       "    .dataframe tbody tr th {\n",
       "        vertical-align: top;\n",
       "    }\n",
       "\n",
       "    .dataframe thead th {\n",
       "        text-align: right;\n",
       "    }\n",
       "</style>\n",
       "<table border=\"1\" class=\"dataframe\">\n",
       "  <thead>\n",
       "    <tr style=\"text-align: right;\">\n",
       "      <th></th>\n",
       "      <th>MEOH</th>\n",
       "      <th>ACET</th>\n",
       "      <th>BU1</th>\n",
       "      <th>MEPR</th>\n",
       "      <th>ACAL</th>\n",
       "      <th>LNPRO1</th>\n",
       "    </tr>\n",
       "  </thead>\n",
       "  <tbody>\n",
       "    <tr>\n",
       "      <th>count</th>\n",
       "      <td>77.000000</td>\n",
       "      <td>77.000000</td>\n",
       "      <td>77.000000</td>\n",
       "      <td>77.000000</td>\n",
       "      <td>77.000000</td>\n",
       "      <td>77.000000</td>\n",
       "    </tr>\n",
       "    <tr>\n",
       "      <th>mean</th>\n",
       "      <td>845.629870</td>\n",
       "      <td>211.666234</td>\n",
       "      <td>14.741558</td>\n",
       "      <td>35.755844</td>\n",
       "      <td>12.505195</td>\n",
       "      <td>5.300519</td>\n",
       "    </tr>\n",
       "    <tr>\n",
       "      <th>std</th>\n",
       "      <td>329.673058</td>\n",
       "      <td>114.766325</td>\n",
       "      <td>8.831513</td>\n",
       "      <td>14.535460</td>\n",
       "      <td>5.326594</td>\n",
       "      <td>1.108275</td>\n",
       "    </tr>\n",
       "    <tr>\n",
       "      <th>min</th>\n",
       "      <td>3.000000</td>\n",
       "      <td>13.000000</td>\n",
       "      <td>0.200000</td>\n",
       "      <td>9.000000</td>\n",
       "      <td>2.000000</td>\n",
       "      <td>3.300000</td>\n",
       "    </tr>\n",
       "    <tr>\n",
       "      <th>25%</th>\n",
       "      <td>620.000000</td>\n",
       "      <td>127.000000</td>\n",
       "      <td>9.300000</td>\n",
       "      <td>26.000000</td>\n",
       "      <td>8.600000</td>\n",
       "      <td>4.280000</td>\n",
       "    </tr>\n",
       "    <tr>\n",
       "      <th>50%</th>\n",
       "      <td>910.000000</td>\n",
       "      <td>181.000000</td>\n",
       "      <td>17.000000</td>\n",
       "      <td>33.000000</td>\n",
       "      <td>11.000000</td>\n",
       "      <td>5.260000</td>\n",
       "    </tr>\n",
       "    <tr>\n",
       "      <th>75%</th>\n",
       "      <td>1087.000000</td>\n",
       "      <td>287.000000</td>\n",
       "      <td>20.000000</td>\n",
       "      <td>46.000000</td>\n",
       "      <td>15.000000</td>\n",
       "      <td>6.220000</td>\n",
       "    </tr>\n",
       "    <tr>\n",
       "      <th>max</th>\n",
       "      <td>1548.000000</td>\n",
       "      <td>495.000000</td>\n",
       "      <td>30.000000</td>\n",
       "      <td>72.000000</td>\n",
       "      <td>28.000000</td>\n",
       "      <td>8.010000</td>\n",
       "    </tr>\n",
       "  </tbody>\n",
       "</table>\n",
       "</div>"
      ],
      "text/plain": [
       "              MEOH        ACET        BU1       MEPR       ACAL     LNPRO1\n",
       "count    77.000000   77.000000  77.000000  77.000000  77.000000  77.000000\n",
       "mean    845.629870  211.666234  14.741558  35.755844  12.505195   5.300519\n",
       "std     329.673058  114.766325   8.831513  14.535460   5.326594   1.108275\n",
       "min       3.000000   13.000000   0.200000   9.000000   2.000000   3.300000\n",
       "25%     620.000000  127.000000   9.300000  26.000000   8.600000   4.280000\n",
       "50%     910.000000  181.000000  17.000000  33.000000  11.000000   5.260000\n",
       "75%    1087.000000  287.000000  20.000000  46.000000  15.000000   6.220000\n",
       "max    1548.000000  495.000000  30.000000  72.000000  28.000000   8.010000"
      ]
     },
     "execution_count": 10,
     "metadata": {},
     "output_type": "execute_result"
    }
   ],
   "source": [
    "# 기술통계량 구하기\n",
    "alcohol.describe()"
   ]
  },
  {
   "cell_type": "code",
   "execution_count": 11,
   "id": "8207d2a3",
   "metadata": {},
   "outputs": [
    {
     "data": {
      "text/plain": [
       "MEOH      845.629870\n",
       "ACET      211.666234\n",
       "BU1        14.741558\n",
       "MEPR       35.755844\n",
       "ACAL       12.505195\n",
       "LNPRO1      5.300519\n",
       "Name: mean, dtype: float64"
      ]
     },
     "execution_count": 11,
     "metadata": {},
     "output_type": "execute_result"
    }
   ],
   "source": [
    "als_stat = alcohol.describe()\n",
    "als_stat.loc['mean']"
   ]
  },
  {
   "cell_type": "code",
   "execution_count": 12,
   "id": "b79b9268",
   "metadata": {},
   "outputs": [
    {
     "data": {
      "text/plain": [
       "845.6298701298701"
      ]
     },
     "execution_count": 12,
     "metadata": {},
     "output_type": "execute_result"
    }
   ],
   "source": [
    "# meoh만 가져오기\n",
    "als_stat.loc['mean'][0]"
   ]
  },
  {
   "cell_type": "code",
   "execution_count": 13,
   "id": "a167d7e2",
   "metadata": {},
   "outputs": [],
   "source": [
    "# 선형판별분석 실행\n",
    "from sklearn.discriminant_analysis import LinearDiscriminantAnalysis"
   ]
  },
  {
   "cell_type": "code",
   "execution_count": 14,
   "id": "2e3577a2",
   "metadata": {},
   "outputs": [],
   "source": [
    "clf = LinearDiscriminantAnalysis()"
   ]
  },
  {
   "cell_type": "code",
   "execution_count": 18,
   "id": "f0cfbfcf",
   "metadata": {},
   "outputs": [
    {
     "data": {
      "text/plain": [
       "array([[-4.09190076, -0.24970717],\n",
       "       [-3.88757496, -0.12779945],\n",
       "       [-3.5035432 , -1.11993421],\n",
       "       [-3.47556483,  0.71295911],\n",
       "       [-3.10767491, -0.78646124],\n",
       "       [-3.60282328, -0.97108118],\n",
       "       [-3.59257412,  0.10214452],\n",
       "       [-3.34626891, -0.04694853],\n",
       "       [-2.90618365,  0.39378014],\n",
       "       [-3.28450569,  0.27969289],\n",
       "       [-4.06206385,  0.99175582],\n",
       "       [-3.06398639,  0.0828347 ],\n",
       "       [-3.21832937,  0.54793828],\n",
       "       [-3.69059108,  0.21786452],\n",
       "       [-3.05268088, -1.03064339],\n",
       "       [-3.8286465 ,  0.37787759],\n",
       "       [-3.06736928,  0.92193106],\n",
       "       [-3.13291875,  0.27772659],\n",
       "       [-0.28576496, -2.22617283],\n",
       "       [-0.55694298, -1.28117336],\n",
       "       [ 0.02431382, -0.22448826],\n",
       "       [-0.63079919, -1.3024169 ],\n",
       "       [ 0.35451733, -0.45502483],\n",
       "       [ 0.40488949, -0.20107235],\n",
       "       [ 1.34119591, -1.70699069],\n",
       "       [-0.34023702, -0.49960154],\n",
       "       [ 0.49045398, -0.14130306],\n",
       "       [ 1.05865309,  0.60403929],\n",
       "       [-0.85277438, -0.98959313],\n",
       "       [ 2.22798664, -1.98225185],\n",
       "       [ 2.25715808, -0.33305143],\n",
       "       [ 0.448439  ,  1.75101522],\n",
       "       [ 0.81771591,  0.39279458],\n",
       "       [ 1.80305552, -1.92666275],\n",
       "       [ 2.18417573, -0.64158724],\n",
       "       [-0.85613908,  2.88784545],\n",
       "       [ 2.04018508, -0.74687694],\n",
       "       [ 1.6648729 , -2.0926383 ],\n",
       "       [ 1.5922703 , -1.46341916],\n",
       "       [ 1.82417207, -1.2822125 ],\n",
       "       [ 1.82092297, -0.40916748],\n",
       "       [ 1.49546014, -1.9736802 ],\n",
       "       [ 1.32330247,  0.27946632],\n",
       "       [ 1.8598746 , -2.37424   ],\n",
       "       [ 0.88370489,  0.49642037],\n",
       "       [ 1.90098378, -1.53154925],\n",
       "       [ 2.16736673, -0.19483051],\n",
       "       [-0.40756478, -0.85462999],\n",
       "       [-0.30975094,  0.40048509],\n",
       "       [-0.63898047, -0.88110765],\n",
       "       [ 0.04492845, -0.67135434],\n",
       "       [-1.15263804,  1.42738042],\n",
       "       [-0.14513582,  0.84549932],\n",
       "       [-0.38538727, -0.25335781],\n",
       "       [ 1.37896948, -0.08422919],\n",
       "       [ 0.7042905 ,  1.26027923],\n",
       "       [ 0.30355401, -0.49688222],\n",
       "       [ 0.24351714,  1.84505722],\n",
       "       [ 2.13755222,  0.76442727],\n",
       "       [ 0.53044405, -1.02925355],\n",
       "       [ 0.65628576,  1.39286507],\n",
       "       [ 1.34099714,  0.27388262],\n",
       "       [ 0.9503995 , -0.27515652],\n",
       "       [ 2.25717536,  1.97619249],\n",
       "       [ 0.25913887,  2.7326606 ],\n",
       "       [ 1.40159521, -0.26710314],\n",
       "       [ 1.22057596,  0.17634886],\n",
       "       [ 2.68677182,  1.1968416 ],\n",
       "       [ 0.88649798,  0.81283743],\n",
       "       [ 2.78605719,  1.35139046],\n",
       "       [ 2.72265793,  1.52989423],\n",
       "       [ 2.86073536,  1.50922058],\n",
       "       [ 1.32874687,  1.27388795],\n",
       "       [ 3.29420143,  0.97417287],\n",
       "       [ 2.37837754,  0.29353258],\n",
       "       [ 2.28371059,  0.92094845],\n",
       "       [ 1.83446456,  0.84976334]])"
      ]
     },
     "execution_count": 18,
     "metadata": {},
     "output_type": "execute_result"
    }
   ],
   "source": [
    "X = alcohol.iloc[:,1:]\n",
    "y = alcohol['TYPE']\n",
    "clf.fit(X, y)\n",
    "clf.fit_transform(X, y)"
   ]
  },
  {
   "cell_type": "code",
   "execution_count": 19,
   "id": "55c658e9",
   "metadata": {},
   "outputs": [
    {
     "data": {
      "text/plain": [
       "array(['typeA', 'typeA', 'typeA', 'typeA', 'typeA'], dtype='<U5')"
      ]
     },
     "execution_count": 19,
     "metadata": {},
     "output_type": "execute_result"
    }
   ],
   "source": [
    "# 분류하기\n",
    "pred_class = clf.predict(X)\n",
    "pred_class[0:5]"
   ]
  },
  {
   "cell_type": "code",
   "execution_count": 23,
   "id": "34559b25",
   "metadata": {},
   "outputs": [
    {
     "data": {
      "text/plain": [
       "array([[9.99993239e-01, 4.87823329e-06, 1.88255897e-06],\n",
       "       [9.99983817e-01, 1.10451922e-05, 5.13759904e-06],\n",
       "       [9.99862118e-01, 1.21615116e-04, 1.62666780e-05],\n",
       "       [9.99906685e-01, 3.76892586e-05, 5.56261564e-05],\n",
       "       [9.99326691e-01, 5.52743277e-04, 1.20565359e-04]])"
      ]
     },
     "execution_count": 23,
     "metadata": {},
     "output_type": "execute_result"
    }
   ],
   "source": [
    "# 사후확률(posterior prob) 구하기\n",
    "pred_posterior = clf.predict_proba(X)\n",
    "pred_posterior[0:5, :]"
   ]
  },
  {
   "cell_type": "code",
   "execution_count": 24,
   "id": "bce44b97",
   "metadata": {},
   "outputs": [
    {
     "data": {
      "text/plain": [
       "array([[18,  0,  0],\n",
       "       [ 0, 23,  6],\n",
       "       [ 0,  9, 21]])"
      ]
     },
     "execution_count": 24,
     "metadata": {},
     "output_type": "execute_result"
    }
   ],
   "source": [
    "# 분류표 구하기\n",
    "from sklearn.metrics import confusion_matrix\n",
    "confusion_matrix(y, pred_class)"
   ]
  },
  {
   "cell_type": "code",
   "execution_count": 25,
   "id": "70feee51",
   "metadata": {},
   "outputs": [
    {
     "data": {
      "text/plain": [
       "'Accuracy = 0.8051948051948052'"
      ]
     },
     "execution_count": 25,
     "metadata": {},
     "output_type": "execute_result"
    }
   ],
   "source": [
    "# 오분류율 구하기\n",
    "from sklearn.metrics import accuracy_score\n",
    "'Accuracy = ' + str(accuracy_score(y, pred_class))"
   ]
  },
  {
   "cell_type": "code",
   "execution_count": 26,
   "id": "7e566f35",
   "metadata": {},
   "outputs": [
    {
     "data": {
      "text/plain": [
       "'Error rate = 0.19480519480519476'"
      ]
     },
     "execution_count": 26,
     "metadata": {},
     "output_type": "execute_result"
    }
   ],
   "source": [
    "'Error rate = ' + str(1-accuracy_score(y, pred_class))"
   ]
  },
  {
   "cell_type": "code",
   "execution_count": null,
   "id": "ab676b3e",
   "metadata": {},
   "outputs": [],
   "source": []
  }
 ],
 "metadata": {
  "kernelspec": {
   "display_name": "Python 3 (ipykernel)",
   "language": "python",
   "name": "python3"
  },
  "language_info": {
   "codemirror_mode": {
    "name": "ipython",
    "version": 3
   },
   "file_extension": ".py",
   "mimetype": "text/x-python",
   "name": "python",
   "nbconvert_exporter": "python",
   "pygments_lexer": "ipython3",
   "version": "3.9.6"
  }
 },
 "nbformat": 4,
 "nbformat_minor": 5
}
