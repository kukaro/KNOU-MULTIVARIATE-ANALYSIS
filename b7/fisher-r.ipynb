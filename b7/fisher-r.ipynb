{
 "cells": [
  {
   "cell_type": "code",
   "execution_count": 4,
   "id": "f08bf851",
   "metadata": {},
   "outputs": [
    {
     "data": {
      "text/html": [
       "<table class=\"dataframe\">\n",
       "<caption>A matrix: 4 × 13 of type chr</caption>\n",
       "<tbody>\n",
       "\t<tr><th scope=row>group</th><td>g1 </td><td>g1 </td><td>g1 </td><td>g1 </td><td>g1 </td><td>g1 </td><td>g1 </td><td>g2 </td><td>g2 </td><td>g2 </td><td>g2 </td><td>g2 </td><td>g2 </td></tr>\n",
       "\t<tr><th scope=row>x1</th><td> 98</td><td>103</td><td>103</td><td>105</td><td>109</td><td>123</td><td>133</td><td> 93</td><td> 94</td><td> 96</td><td>101</td><td>102</td><td>104</td></tr>\n",
       "\t<tr><th scope=row>x2</th><td>81 </td><td>84 </td><td>86 </td><td>86 </td><td>88 </td><td>92 </td><td>99 </td><td>74 </td><td>78 </td><td>80 </td><td>84 </td><td>85 </td><td>83 </td></tr>\n",
       "\t<tr><th scope=row>x3</th><td>38 </td><td>38 </td><td>42 </td><td>42 </td><td>44 </td><td>50 </td><td>51 </td><td>37 </td><td>35 </td><td>35 </td><td>39 </td><td>38 </td><td>39 </td></tr>\n",
       "</tbody>\n",
       "</table>\n"
      ],
      "text/latex": [
       "A matrix: 4 × 13 of type chr\n",
       "\\begin{tabular}{r|lllllllllllll}\n",
       "\tgroup & g1  & g1  & g1  & g1  & g1  & g1  & g1  & g2  & g2  & g2  & g2  & g2  & g2 \\\\\n",
       "\tx1 &  98 & 103 & 103 & 105 & 109 & 123 & 133 &  93 &  94 &  96 & 101 & 102 & 104\\\\\n",
       "\tx2 & 81  & 84  & 86  & 86  & 88  & 92  & 99  & 74  & 78  & 80  & 84  & 85  & 83 \\\\\n",
       "\tx3 & 38  & 38  & 42  & 42  & 44  & 50  & 51  & 37  & 35  & 35  & 39  & 38  & 39 \\\\\n",
       "\\end{tabular}\n"
      ],
      "text/markdown": [
       "\n",
       "A matrix: 4 × 13 of type chr\n",
       "\n",
       "| group | g1  | g1  | g1  | g1  | g1  | g1  | g1  | g2  | g2  | g2  | g2  | g2  | g2  |\n",
       "| x1 |  98 | 103 | 103 | 105 | 109 | 123 | 133 |  93 |  94 |  96 | 101 | 102 | 104 |\n",
       "| x2 | 81  | 84  | 86  | 86  | 88  | 92  | 99  | 74  | 78  | 80  | 84  | 85  | 83  |\n",
       "| x3 | 38  | 38  | 42  | 42  | 44  | 50  | 51  | 37  | 35  | 35  | 39  | 38  | 39  |\n",
       "\n"
      ],
      "text/plain": [
       "      [,1] [,2] [,3] [,4] [,5] [,6] [,7] [,8] [,9] [,10] [,11] [,12] [,13]\n",
       "group g1   g1   g1   g1   g1   g1   g1   g2   g2   g2    g2    g2    g2   \n",
       "x1     98  103  103  105  109  123  133   93   94   96   101   102   104  \n",
       "x2    81   84   86   86   88   92   99   74   78   80    84    85    83   \n",
       "x3    38   38   42   42   44   50   51   37   35   35    39    38    39   "
      ]
     },
     "metadata": {},
     "output_type": "display_data"
    }
   ],
   "source": [
    "data7 <- read.table('../mvadata/data7-1.txt', header=T)\n",
    "t(data7)"
   ]
  },
  {
   "cell_type": "code",
   "execution_count": 6,
   "id": "e2523020",
   "metadata": {},
   "outputs": [
    {
     "data": {
      "text/html": [
       "<table class=\"dataframe\">\n",
       "<caption>A matrix: 3 × 7 of type int</caption>\n",
       "<thead>\n",
       "\t<tr><th></th><th scope=col>1</th><th scope=col>2</th><th scope=col>3</th><th scope=col>4</th><th scope=col>5</th><th scope=col>6</th><th scope=col>7</th></tr>\n",
       "</thead>\n",
       "<tbody>\n",
       "\t<tr><th scope=row>x1</th><td>98</td><td>103</td><td>103</td><td>105</td><td>109</td><td>123</td><td>133</td></tr>\n",
       "\t<tr><th scope=row>x2</th><td>81</td><td> 84</td><td> 86</td><td> 86</td><td> 88</td><td> 92</td><td> 99</td></tr>\n",
       "\t<tr><th scope=row>x3</th><td>38</td><td> 38</td><td> 42</td><td> 42</td><td> 44</td><td> 50</td><td> 51</td></tr>\n",
       "</tbody>\n",
       "</table>\n"
      ],
      "text/latex": [
       "A matrix: 3 × 7 of type int\n",
       "\\begin{tabular}{r|lllllll}\n",
       "  & 1 & 2 & 3 & 4 & 5 & 6 & 7\\\\\n",
       "\\hline\n",
       "\tx1 & 98 & 103 & 103 & 105 & 109 & 123 & 133\\\\\n",
       "\tx2 & 81 &  84 &  86 &  86 &  88 &  92 &  99\\\\\n",
       "\tx3 & 38 &  38 &  42 &  42 &  44 &  50 &  51\\\\\n",
       "\\end{tabular}\n"
      ],
      "text/markdown": [
       "\n",
       "A matrix: 3 × 7 of type int\n",
       "\n",
       "| <!--/--> | 1 | 2 | 3 | 4 | 5 | 6 | 7 |\n",
       "|---|---|---|---|---|---|---|---|\n",
       "| x1 | 98 | 103 | 103 | 105 | 109 | 123 | 133 |\n",
       "| x2 | 81 |  84 |  86 |  86 |  88 |  92 |  99 |\n",
       "| x3 | 38 |  38 |  42 |  42 |  44 |  50 |  51 |\n",
       "\n"
      ],
      "text/plain": [
       "   1  2   3   4   5   6   7  \n",
       "x1 98 103 103 105 109 123 133\n",
       "x2 81  84  86  86  88  92  99\n",
       "x3 38  38  42  42  44  50  51"
      ]
     },
     "metadata": {},
     "output_type": "display_data"
    },
    {
     "data": {
      "text/html": [
       "<table class=\"dataframe\">\n",
       "<caption>A matrix: 3 × 6 of type int</caption>\n",
       "<thead>\n",
       "\t<tr><th></th><th scope=col>8</th><th scope=col>9</th><th scope=col>10</th><th scope=col>11</th><th scope=col>12</th><th scope=col>13</th></tr>\n",
       "</thead>\n",
       "<tbody>\n",
       "\t<tr><th scope=row>x1</th><td>93</td><td>94</td><td>96</td><td>101</td><td>102</td><td>104</td></tr>\n",
       "\t<tr><th scope=row>x2</th><td>74</td><td>78</td><td>80</td><td> 84</td><td> 85</td><td> 83</td></tr>\n",
       "\t<tr><th scope=row>x3</th><td>37</td><td>35</td><td>35</td><td> 39</td><td> 38</td><td> 39</td></tr>\n",
       "</tbody>\n",
       "</table>\n"
      ],
      "text/latex": [
       "A matrix: 3 × 6 of type int\n",
       "\\begin{tabular}{r|llllll}\n",
       "  & 8 & 9 & 10 & 11 & 12 & 13\\\\\n",
       "\\hline\n",
       "\tx1 & 93 & 94 & 96 & 101 & 102 & 104\\\\\n",
       "\tx2 & 74 & 78 & 80 &  84 &  85 &  83\\\\\n",
       "\tx3 & 37 & 35 & 35 &  39 &  38 &  39\\\\\n",
       "\\end{tabular}\n"
      ],
      "text/markdown": [
       "\n",
       "A matrix: 3 × 6 of type int\n",
       "\n",
       "| <!--/--> | 8 | 9 | 10 | 11 | 12 | 13 |\n",
       "|---|---|---|---|---|---|---|\n",
       "| x1 | 93 | 94 | 96 | 101 | 102 | 104 |\n",
       "| x2 | 74 | 78 | 80 |  84 |  85 |  83 |\n",
       "| x3 | 37 | 35 | 35 |  39 |  38 |  39 |\n",
       "\n"
      ],
      "text/plain": [
       "   8  9  10 11  12  13 \n",
       "x1 93 94 96 101 102 104\n",
       "x2 74 78 80  84  85  83\n",
       "x3 37 35 35  39  38  39"
      ]
     },
     "metadata": {},
     "output_type": "display_data"
    }
   ],
   "source": [
    "data7.g1 <- data7[data7$group=='g1', -1]\n",
    "data7.g2 <- data7[data7$group=='g2', -1]\n",
    "t(data7.g1)\n",
    "t(data7.g2)"
   ]
  },
  {
   "cell_type": "code",
   "execution_count": 8,
   "id": "e5950551",
   "metadata": {},
   "outputs": [
    {
     "data": {
      "text/html": [
       "<table class=\"dataframe\">\n",
       "<caption>A matrix: 1 × 3 of type dbl</caption>\n",
       "<thead>\n",
       "\t<tr><th scope=col>x1</th><th scope=col>x2</th><th scope=col>x3</th></tr>\n",
       "</thead>\n",
       "<tbody>\n",
       "\t<tr><td>110.5714</td><td>88</td><td>43.57143</td></tr>\n",
       "</tbody>\n",
       "</table>\n"
      ],
      "text/latex": [
       "A matrix: 1 × 3 of type dbl\n",
       "\\begin{tabular}{lll}\n",
       " x1 & x2 & x3\\\\\n",
       "\\hline\n",
       "\t 110.5714 & 88 & 43.57143\\\\\n",
       "\\end{tabular}\n"
      ],
      "text/markdown": [
       "\n",
       "A matrix: 1 × 3 of type dbl\n",
       "\n",
       "| x1 | x2 | x3 |\n",
       "|---|---|---|\n",
       "| 110.5714 | 88 | 43.57143 |\n",
       "\n"
      ],
      "text/plain": [
       "     x1       x2 x3      \n",
       "[1,] 110.5714 88 43.57143"
      ]
     },
     "metadata": {},
     "output_type": "display_data"
    },
    {
     "data": {
      "text/html": [
       "<table class=\"dataframe\">\n",
       "<caption>A matrix: 1 × 3 of type dbl</caption>\n",
       "<thead>\n",
       "\t<tr><th scope=col>x1</th><th scope=col>x2</th><th scope=col>x3</th></tr>\n",
       "</thead>\n",
       "<tbody>\n",
       "\t<tr><td>98.33333</td><td>80.66667</td><td>37.16667</td></tr>\n",
       "</tbody>\n",
       "</table>\n"
      ],
      "text/latex": [
       "A matrix: 1 × 3 of type dbl\n",
       "\\begin{tabular}{lll}\n",
       " x1 & x2 & x3\\\\\n",
       "\\hline\n",
       "\t 98.33333 & 80.66667 & 37.16667\\\\\n",
       "\\end{tabular}\n"
      ],
      "text/markdown": [
       "\n",
       "A matrix: 1 × 3 of type dbl\n",
       "\n",
       "| x1 | x2 | x3 |\n",
       "|---|---|---|\n",
       "| 98.33333 | 80.66667 | 37.16667 |\n",
       "\n"
      ],
      "text/plain": [
       "     x1       x2       x3      \n",
       "[1,] 98.33333 80.66667 37.16667"
      ]
     },
     "metadata": {},
     "output_type": "display_data"
    }
   ],
   "source": [
    "g1.mean <- sapply(data7.g1, mean)\n",
    "g2.mean <- sapply(data7.g2, mean)\n",
    "t(g1.mean)\n",
    "t(g2.mean)"
   ]
  },
  {
   "cell_type": "code",
   "execution_count": 11,
   "id": "e73e68a9",
   "metadata": {},
   "outputs": [
    {
     "data": {
      "text/html": [
       "<table class=\"dataframe\">\n",
       "<caption>A matrix: 3 × 3 of type dbl</caption>\n",
       "<thead>\n",
       "\t<tr><th></th><th scope=col>x1</th><th scope=col>x2</th><th scope=col>x3</th></tr>\n",
       "</thead>\n",
       "<tbody>\n",
       "\t<tr><th scope=row>x1</th><td>97.18615</td><td>47.96970</td><td>37.48918</td></tr>\n",
       "\t<tr><th scope=row>x2</th><td>47.96970</td><td>27.03030</td><td>17.93939</td></tr>\n",
       "\t<tr><th scope=row>x3</th><td>37.48918</td><td>17.93939</td><td>16.41342</td></tr>\n",
       "</tbody>\n",
       "</table>\n"
      ],
      "text/latex": [
       "A matrix: 3 × 3 of type dbl\n",
       "\\begin{tabular}{r|lll}\n",
       "  & x1 & x2 & x3\\\\\n",
       "\\hline\n",
       "\tx1 & 97.18615 & 47.96970 & 37.48918\\\\\n",
       "\tx2 & 47.96970 & 27.03030 & 17.93939\\\\\n",
       "\tx3 & 37.48918 & 17.93939 & 16.41342\\\\\n",
       "\\end{tabular}\n"
      ],
      "text/markdown": [
       "\n",
       "A matrix: 3 × 3 of type dbl\n",
       "\n",
       "| <!--/--> | x1 | x2 | x3 |\n",
       "|---|---|---|---|\n",
       "| x1 | 97.18615 | 47.96970 | 37.48918 |\n",
       "| x2 | 47.96970 | 27.03030 | 17.93939 |\n",
       "| x3 | 37.48918 | 17.93939 | 16.41342 |\n",
       "\n"
      ],
      "text/plain": [
       "   x1       x2       x3      \n",
       "x1 97.18615 47.96970 37.48918\n",
       "x2 47.96970 27.03030 17.93939\n",
       "x3 37.48918 17.93939 16.41342"
      ]
     },
     "metadata": {},
     "output_type": "display_data"
    }
   ],
   "source": [
    "# 분산-공분산 행렬을 구한다\n",
    "n1 <- nrow(data7.g1)\n",
    "n2 <- nrow(data7.g2)\n",
    "cov.g1 <- cov(data7.g1)\n",
    "cov.g2 <- cov(data7.g2)\n",
    "cov.g <- ((n1 - 1) * cov.g1 + (n2 - 1) * cov.g2) / (n1 + n2 - 2)\n",
    "cov.g"
   ]
  },
  {
   "cell_type": "code",
   "execution_count": 13,
   "id": "f678ac49",
   "metadata": {},
   "outputs": [
    {
     "data": {
      "text/html": [
       "<table class=\"dataframe\">\n",
       "<caption>A matrix: 3 × 1 of type dbl</caption>\n",
       "<tbody>\n",
       "\t<tr><th scope=row>x1</th><td> 0.545</td></tr>\n",
       "\t<tr><th scope=row>x2</th><td>-0.558</td></tr>\n",
       "\t<tr><th scope=row>x3</th><td>-1.024</td></tr>\n",
       "</tbody>\n",
       "</table>\n"
      ],
      "text/latex": [
       "A matrix: 3 × 1 of type dbl\n",
       "\\begin{tabular}{r|l}\n",
       "\tx1 &  0.545\\\\\n",
       "\tx2 & -0.558\\\\\n",
       "\tx3 & -1.024\\\\\n",
       "\\end{tabular}\n"
      ],
      "text/markdown": [
       "\n",
       "A matrix: 3 × 1 of type dbl\n",
       "\n",
       "| x1 |  0.545 |\n",
       "| x2 | -0.558 |\n",
       "| x3 | -1.024 |\n",
       "\n"
      ],
      "text/plain": [
       "   [,1]  \n",
       "x1  0.545\n",
       "x2 -0.558\n",
       "x3 -1.024"
      ]
     },
     "metadata": {},
     "output_type": "display_data"
    }
   ],
   "source": [
    "b <- solve(cov.g) %*% (g2.mean - g1.mean)\n",
    "round(b, 3)"
   ]
  },
  {
   "cell_type": "code",
   "execution_count": 15,
   "id": "a2bce729",
   "metadata": {},
   "outputs": [
    {
     "data": {
      "text/html": [
       "<table class=\"dataframe\">\n",
       "<caption>A matrix: 1 × 1 of type dbl</caption>\n",
       "<tbody>\n",
       "\t<tr><td>-33.51548</td></tr>\n",
       "</tbody>\n",
       "</table>\n"
      ],
      "text/latex": [
       "A matrix: 1 × 1 of type dbl\n",
       "\\begin{tabular}{l}\n",
       "\t -33.51548\\\\\n",
       "\\end{tabular}\n"
      ],
      "text/markdown": [
       "\n",
       "A matrix: 1 × 1 of type dbl\n",
       "\n",
       "| -33.51548 |\n",
       "\n"
      ],
      "text/plain": [
       "     [,1]     \n",
       "[1,] -33.51548"
      ]
     },
     "metadata": {},
     "output_type": "display_data"
    },
    {
     "data": {
      "text/html": [
       "<table class=\"dataframe\">\n",
       "<caption>A matrix: 1 × 1 of type dbl</caption>\n",
       "<tbody>\n",
       "\t<tr><td>-29.52853</td></tr>\n",
       "</tbody>\n",
       "</table>\n"
      ],
      "text/latex": [
       "A matrix: 1 × 1 of type dbl\n",
       "\\begin{tabular}{l}\n",
       "\t -29.52853\\\\\n",
       "\\end{tabular}\n"
      ],
      "text/markdown": [
       "\n",
       "A matrix: 1 × 1 of type dbl\n",
       "\n",
       "| -29.52853 |\n",
       "\n"
      ],
      "text/plain": [
       "     [,1]     \n",
       "[1,] -29.52853"
      ]
     },
     "metadata": {},
     "output_type": "display_data"
    }
   ],
   "source": [
    "# 첫번째 케이스의 분류\n",
    "y1.mean <- g1.mean %*% b\n",
    "y2.mean <- g2.mean %*% b\n",
    "y1.mean\n",
    "y2.mean"
   ]
  },
  {
   "cell_type": "code",
   "execution_count": 20,
   "id": "56d8e81a",
   "metadata": {},
   "outputs": [
    {
     "data": {
      "text/html": [
       "<table class=\"dataframe\">\n",
       "<caption>A matrix: 1 × 1 of type dbl</caption>\n",
       "<tbody>\n",
       "\t<tr><td>-31.52201</td></tr>\n",
       "</tbody>\n",
       "</table>\n"
      ],
      "text/latex": [
       "A matrix: 1 × 1 of type dbl\n",
       "\\begin{tabular}{l}\n",
       "\t -31.52201\\\\\n",
       "\\end{tabular}\n"
      ],
      "text/markdown": [
       "\n",
       "A matrix: 1 × 1 of type dbl\n",
       "\n",
       "| -31.52201 |\n",
       "\n"
      ],
      "text/plain": [
       "     [,1]     \n",
       "[1,] -31.52201"
      ]
     },
     "metadata": {},
     "output_type": "display_data"
    }
   ],
   "source": [
    "# ȳ₁과 ȳ₂의 중앙 위치\n",
    "yc <- (y1.mean + y2.mean) / 2\n",
    "yc"
   ]
  },
  {
   "cell_type": "code",
   "execution_count": 21,
   "id": "5063629c",
   "metadata": {},
   "outputs": [
    {
     "data": {
      "text/html": [
       "<table class=\"dataframe\">\n",
       "<caption>A data.frame: 1 × 3</caption>\n",
       "<thead>\n",
       "\t<tr><th></th><th scope=col>x1</th><th scope=col>x2</th><th scope=col>x3</th></tr>\n",
       "\t<tr><th></th><th scope=col>&lt;int&gt;</th><th scope=col>&lt;int&gt;</th><th scope=col>&lt;int&gt;</th></tr>\n",
       "</thead>\n",
       "<tbody>\n",
       "\t<tr><th scope=row>1</th><td>98</td><td>81</td><td>38</td></tr>\n",
       "</tbody>\n",
       "</table>\n"
      ],
      "text/latex": [
       "A data.frame: 1 × 3\n",
       "\\begin{tabular}{r|lll}\n",
       "  & x1 & x2 & x3\\\\\n",
       "  & <int> & <int> & <int>\\\\\n",
       "\\hline\n",
       "\t1 & 98 & 81 & 38\\\\\n",
       "\\end{tabular}\n"
      ],
      "text/markdown": [
       "\n",
       "A data.frame: 1 × 3\n",
       "\n",
       "| <!--/--> | x1 &lt;int&gt; | x2 &lt;int&gt; | x3 &lt;int&gt; |\n",
       "|---|---|---|---|\n",
       "| 1 | 98 | 81 | 38 |\n",
       "\n"
      ],
      "text/plain": [
       "  x1 x2 x3\n",
       "1 98 81 38"
      ]
     },
     "metadata": {},
     "output_type": "display_data"
    },
    {
     "data": {
      "text/html": [
       "<table class=\"dataframe\">\n",
       "<caption>A matrix: 1 × 3 of type int</caption>\n",
       "<thead>\n",
       "\t<tr><th></th><th scope=col>x1</th><th scope=col>x2</th><th scope=col>x3</th></tr>\n",
       "</thead>\n",
       "<tbody>\n",
       "\t<tr><th scope=row>1</th><td>98</td><td>81</td><td>38</td></tr>\n",
       "</tbody>\n",
       "</table>\n"
      ],
      "text/latex": [
       "A matrix: 1 × 3 of type int\n",
       "\\begin{tabular}{r|lll}\n",
       "  & x1 & x2 & x3\\\\\n",
       "\\hline\n",
       "\t1 & 98 & 81 & 38\\\\\n",
       "\\end{tabular}\n"
      ],
      "text/markdown": [
       "\n",
       "A matrix: 1 × 3 of type int\n",
       "\n",
       "| <!--/--> | x1 | x2 | x3 |\n",
       "|---|---|---|---|\n",
       "| 1 | 98 | 81 | 38 |\n",
       "\n"
      ],
      "text/plain": [
       "  x1 x2 x3\n",
       "1 98 81 38"
      ]
     },
     "metadata": {},
     "output_type": "display_data"
    }
   ],
   "source": [
    "# 첫번째 케이스\n",
    "data7.g1[1,]\n",
    "case1 <- as.matrix(data7.g1[1,])\n",
    "case1"
   ]
  },
  {
   "cell_type": "code",
   "execution_count": 23,
   "id": "278ebb39",
   "metadata": {},
   "outputs": [
    {
     "data": {
      "text/html": [
       "<table class=\"dataframe\">\n",
       "<caption>A matrix: 1 × 1 of type dbl</caption>\n",
       "<tbody>\n",
       "\t<tr><th scope=row>1</th><td>-30.74943</td></tr>\n",
       "</tbody>\n",
       "</table>\n"
      ],
      "text/latex": [
       "A matrix: 1 × 1 of type dbl\n",
       "\\begin{tabular}{r|l}\n",
       "\t1 & -30.74943\\\\\n",
       "\\end{tabular}\n"
      ],
      "text/markdown": [
       "\n",
       "A matrix: 1 × 1 of type dbl\n",
       "\n",
       "| 1 | -30.74943 |\n",
       "\n"
      ],
      "text/plain": [
       "  [,1]     \n",
       "1 -30.74943"
      ]
     },
     "metadata": {},
     "output_type": "display_data"
    }
   ],
   "source": [
    "y1 <- case1 %*% b\n",
    "y1\n",
    "# yc < y1이므로 그룹 2로 분류됨"
   ]
  },
  {
   "cell_type": "code",
   "execution_count": null,
   "id": "f610247d",
   "metadata": {},
   "outputs": [],
   "source": []
  }
 ],
 "metadata": {
  "kernelspec": {
   "display_name": "R",
   "language": "R",
   "name": "ir"
  },
  "language_info": {
   "codemirror_mode": "r",
   "file_extension": ".r",
   "mimetype": "text/x-r-source",
   "name": "R",
   "pygments_lexer": "r",
   "version": "4.0.3"
  }
 },
 "nbformat": 4,
 "nbformat_minor": 5
}
