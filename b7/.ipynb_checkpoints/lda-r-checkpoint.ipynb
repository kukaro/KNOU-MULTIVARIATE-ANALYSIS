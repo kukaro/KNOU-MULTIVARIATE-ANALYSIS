{
 "cells": [
  {
   "cell_type": "code",
   "execution_count": 1,
   "id": "369788d3",
   "metadata": {},
   "outputs": [
    {
     "data": {
      "text/plain": [
       "Call:\n",
       "lda(group ~ ., data = data7)\n",
       "\n",
       "Prior probabilities of groups:\n",
       "       g1        g2 \n",
       "0.5384615 0.4615385 \n",
       "\n",
       "Group means:\n",
       "          x1       x2       x3\n",
       "g1 110.57143 88.00000 43.57143\n",
       "g2  98.33333 80.66667 37.16667\n",
       "\n",
       "Coefficients of linear discriminants:\n",
       "          LD1\n",
       "x1  0.2727114\n",
       "x2 -0.2794634\n",
       "x3 -0.5128692"
      ]
     },
     "metadata": {},
     "output_type": "display_data"
    }
   ],
   "source": [
    "library(MASS)\n",
    "data7 <- read.table('../mvadata/data7-1.txt', header=T)\n",
    "data7.lda <- lda(group ~ ., data=data7)\n",
    "data7.lda"
   ]
  },
  {
   "cell_type": "code",
   "execution_count": 5,
   "id": "a95ee3ba",
   "metadata": {},
   "outputs": [
    {
     "data": {
      "text/html": [
       "<table class=\"dataframe\">\n",
       "<caption>A matrix: 1 × 2 of type dbl</caption>\n",
       "<thead>\n",
       "\t<tr><th scope=col>g1</th><th scope=col>g2</th></tr>\n",
       "</thead>\n",
       "<tbody>\n",
       "\t<tr><td>0.5384615</td><td>0.4615385</td></tr>\n",
       "</tbody>\n",
       "</table>\n"
      ],
      "text/latex": [
       "A matrix: 1 × 2 of type dbl\n",
       "\\begin{tabular}{ll}\n",
       " g1 & g2\\\\\n",
       "\\hline\n",
       "\t 0.5384615 & 0.4615385\\\\\n",
       "\\end{tabular}\n"
      ],
      "text/markdown": [
       "\n",
       "A matrix: 1 × 2 of type dbl\n",
       "\n",
       "| g1 | g2 |\n",
       "|---|---|\n",
       "| 0.5384615 | 0.4615385 |\n",
       "\n"
      ],
      "text/plain": [
       "     g1        g2       \n",
       "[1,] 0.5384615 0.4615385"
      ]
     },
     "metadata": {},
     "output_type": "display_data"
    },
    {
     "data": {
      "text/html": [
       "<table class=\"dataframe\">\n",
       "<caption>A matrix: 2 × 3 of type dbl</caption>\n",
       "<thead>\n",
       "\t<tr><th></th><th scope=col>x1</th><th scope=col>x2</th><th scope=col>x3</th></tr>\n",
       "</thead>\n",
       "<tbody>\n",
       "\t<tr><th scope=row>g1</th><td>110.57143</td><td>88.00000</td><td>43.57143</td></tr>\n",
       "\t<tr><th scope=row>g2</th><td> 98.33333</td><td>80.66667</td><td>37.16667</td></tr>\n",
       "</tbody>\n",
       "</table>\n"
      ],
      "text/latex": [
       "A matrix: 2 × 3 of type dbl\n",
       "\\begin{tabular}{r|lll}\n",
       "  & x1 & x2 & x3\\\\\n",
       "\\hline\n",
       "\tg1 & 110.57143 & 88.00000 & 43.57143\\\\\n",
       "\tg2 &  98.33333 & 80.66667 & 37.16667\\\\\n",
       "\\end{tabular}\n"
      ],
      "text/markdown": [
       "\n",
       "A matrix: 2 × 3 of type dbl\n",
       "\n",
       "| <!--/--> | x1 | x2 | x3 |\n",
       "|---|---|---|---|\n",
       "| g1 | 110.57143 | 88.00000 | 43.57143 |\n",
       "| g2 |  98.33333 | 80.66667 | 37.16667 |\n",
       "\n"
      ],
      "text/plain": [
       "   x1        x2       x3      \n",
       "g1 110.57143 88.00000 43.57143\n",
       "g2  98.33333 80.66667 37.16667"
      ]
     },
     "metadata": {},
     "output_type": "display_data"
    },
    {
     "data": {
      "text/html": [
       "<table class=\"dataframe\">\n",
       "<caption>A matrix: 3 × 1 of type dbl</caption>\n",
       "<thead>\n",
       "\t<tr><th></th><th scope=col>LD1</th></tr>\n",
       "</thead>\n",
       "<tbody>\n",
       "\t<tr><th scope=row>x1</th><td> 0.2727114</td></tr>\n",
       "\t<tr><th scope=row>x2</th><td>-0.2794634</td></tr>\n",
       "\t<tr><th scope=row>x3</th><td>-0.5128692</td></tr>\n",
       "</tbody>\n",
       "</table>\n"
      ],
      "text/latex": [
       "A matrix: 3 × 1 of type dbl\n",
       "\\begin{tabular}{r|l}\n",
       "  & LD1\\\\\n",
       "\\hline\n",
       "\tx1 &  0.2727114\\\\\n",
       "\tx2 & -0.2794634\\\\\n",
       "\tx3 & -0.5128692\\\\\n",
       "\\end{tabular}\n"
      ],
      "text/markdown": [
       "\n",
       "A matrix: 3 × 1 of type dbl\n",
       "\n",
       "| <!--/--> | LD1 |\n",
       "|---|---|\n",
       "| x1 |  0.2727114 |\n",
       "| x2 | -0.2794634 |\n",
       "| x3 | -0.5128692 |\n",
       "\n"
      ],
      "text/plain": [
       "   LD1       \n",
       "x1  0.2727114\n",
       "x2 -0.2794634\n",
       "x3 -0.5128692"
      ]
     },
     "metadata": {},
     "output_type": "display_data"
    }
   ],
   "source": [
    "t(data7.lda$prior)\n",
    "data7.lda$means\n",
    "data7.lda$scaling"
   ]
  },
  {
   "cell_type": "code",
   "execution_count": 11,
   "id": "8386bc07",
   "metadata": {},
   "outputs": [
    {
     "data": {
      "text/html": [
       "<table class=\"dataframe\">\n",
       "<caption>A matrix: 1 × 3</caption>\n",
       "<thead>\n",
       "\t<tr><th scope=col>class</th><th scope=col>posterior</th><th scope=col>x</th></tr>\n",
       "\t<tr><th scope=col>&lt;fct&gt;</th><th scope=col>&lt;dbl[,2]&gt;</th><th scope=col>&lt;dbl[,1]&gt;</th></tr>\n",
       "</thead>\n",
       "<tbody>\n",
       "\t<tr><td>2, 2, 1, 1, 1, 1, 1, 2, 2, 2, 1, 2, 2</td><td>0.35014011, 0.15881893, 0.97194803, 0.92101209, 0.96899785, 0.98515585, 0.97539841, 0.05593911, 0.03967580, 0.04071603, 0.60970846, 0.36250801, 0.14861250, 0.64985989, 0.84118107, 0.02805197, 0.07898791, 0.03100215, 0.01484415, 0.02460159, 0.94406089, 0.96032420, 0.95928397, 0.39029154, 0.63749199, 0.85138750</td><td>0.46371609, 0.98888267, -1.62152084, -1.07609809, -1.56991779, -1.94702728, -1.68902670, 1.56927236, 1.74986837, 1.73636427, -0.06940923, 0.43670788, 1.02818830</td></tr>\n",
       "</tbody>\n",
       "</table>\n"
      ],
      "text/latex": [
       "A matrix: 1 × 3\n",
       "\\begin{tabular}{lll}\n",
       " class & posterior & x\\\\\n",
       " <fct> & <dbl{[},2{]}> & <dbl{[},1{]}>\\\\\n",
       "\\hline\n",
       "\t 2, 2, 1, 1, 1, 1, 1, 2, 2, 2, 1, 2, 2 & 0.35014011, 0.15881893, 0.97194803, 0.92101209, 0.96899785, 0.98515585, 0.97539841, 0.05593911, 0.03967580, 0.04071603, 0.60970846, 0.36250801, 0.14861250, 0.64985989, 0.84118107, 0.02805197, 0.07898791, 0.03100215, 0.01484415, 0.02460159, 0.94406089, 0.96032420, 0.95928397, 0.39029154, 0.63749199, 0.85138750 & 0.46371609, 0.98888267, -1.62152084, -1.07609809, -1.56991779, -1.94702728, -1.68902670, 1.56927236, 1.74986837, 1.73636427, -0.06940923, 0.43670788, 1.02818830\\\\\n",
       "\\end{tabular}\n"
      ],
      "text/markdown": [
       "\n",
       "A matrix: 1 × 3\n",
       "\n",
       "| class &lt;fct&gt; | posterior &lt;dbl[,2]&gt; | x &lt;dbl[,1]&gt; |\n",
       "|---|---|---|\n",
       "| 2, 2, 1, 1, 1, 1, 1, 2, 2, 2, 1, 2, 2 | 0.35014011, 0.15881893, 0.97194803, 0.92101209, 0.96899785, 0.98515585, 0.97539841, 0.05593911, 0.03967580, 0.04071603, 0.60970846, 0.36250801, 0.14861250, 0.64985989, 0.84118107, 0.02805197, 0.07898791, 0.03100215, 0.01484415, 0.02460159, 0.94406089, 0.96032420, 0.95928397, 0.39029154, 0.63749199, 0.85138750 | 0.46371609, 0.98888267, -1.62152084, -1.07609809, -1.56991779, -1.94702728, -1.68902670, 1.56927236, 1.74986837, 1.73636427, -0.06940923, 0.43670788, 1.02818830 |\n",
       "\n"
      ],
      "text/plain": [
       "     class                                \n",
       "[1,] 2, 2, 1, 1, 1, 1, 1, 2, 2, 2, 1, 2, 2\n",
       "     posterior                                                                                                                                                                                                                                                                                                             \n",
       "[1,] 0.35014011, 0.15881893, 0.97194803, 0.92101209, 0.96899785, 0.98515585, 0.97539841, 0.05593911, 0.03967580, 0.04071603, 0.60970846, 0.36250801, 0.14861250, 0.64985989, 0.84118107, 0.02805197, 0.07898791, 0.03100215, 0.01484415, 0.02460159, 0.94406089, 0.96032420, 0.95928397, 0.39029154, 0.63749199, 0.85138750\n",
       "     x                                                                                                                                                               \n",
       "[1,] 0.46371609, 0.98888267, -1.62152084, -1.07609809, -1.56991779, -1.94702728, -1.68902670, 1.56927236, 1.74986837, 1.73636427, -0.06940923, 0.43670788, 1.02818830"
      ]
     },
     "metadata": {},
     "output_type": "display_data"
    }
   ],
   "source": [
    "# 적합\n",
    "pred.lda <- predict(data7.lda, newdata=data7)\n",
    "t(pred.lda)\n",
    "# psterior=사후확률 ,x=ld=선형 판별 함수의 계수"
   ]
  },
  {
   "cell_type": "code",
   "execution_count": 12,
   "id": "82df3dbf",
   "metadata": {},
   "outputs": [
    {
     "data": {
      "text/html": [
       "<style>\n",
       ".list-inline {list-style: none; margin:0; padding: 0}\n",
       ".list-inline>li {display: inline-block}\n",
       ".list-inline>li:not(:last-child)::after {content: \"\\00b7\"; padding: 0 .5ex}\n",
       "</style>\n",
       "<ol class=list-inline><li>g2</li><li>g2</li><li>g1</li><li>g1</li><li>g1</li><li>g1</li><li>g1</li><li>g2</li><li>g2</li><li>g2</li><li>g1</li><li>g2</li><li>g2</li></ol>\n",
       "\n",
       "<details>\n",
       "\t<summary style=display:list-item;cursor:pointer>\n",
       "\t\t<strong>Levels</strong>:\n",
       "\t</summary>\n",
       "\t<style>\n",
       "\t.list-inline {list-style: none; margin:0; padding: 0}\n",
       "\t.list-inline>li {display: inline-block}\n",
       "\t.list-inline>li:not(:last-child)::after {content: \"\\00b7\"; padding: 0 .5ex}\n",
       "\t</style>\n",
       "\t<ol class=list-inline><li>'g1'</li><li>'g2'</li></ol>\n",
       "</details>"
      ],
      "text/latex": [
       "\\begin{enumerate*}\n",
       "\\item g2\n",
       "\\item g2\n",
       "\\item g1\n",
       "\\item g1\n",
       "\\item g1\n",
       "\\item g1\n",
       "\\item g1\n",
       "\\item g2\n",
       "\\item g2\n",
       "\\item g2\n",
       "\\item g1\n",
       "\\item g2\n",
       "\\item g2\n",
       "\\end{enumerate*}\n",
       "\n",
       "\\emph{Levels}: \\begin{enumerate*}\n",
       "\\item 'g1'\n",
       "\\item 'g2'\n",
       "\\end{enumerate*}\n"
      ],
      "text/markdown": [
       "1. g2\n",
       "2. g2\n",
       "3. g1\n",
       "4. g1\n",
       "5. g1\n",
       "6. g1\n",
       "7. g1\n",
       "8. g2\n",
       "9. g2\n",
       "10. g2\n",
       "11. g1\n",
       "12. g2\n",
       "13. g2\n",
       "\n",
       "\n",
       "\n",
       "**Levels**: 1. 'g1'\n",
       "2. 'g2'\n",
       "\n",
       "\n"
      ],
      "text/plain": [
       " [1] g2 g2 g1 g1 g1 g1 g1 g2 g2 g2 g1 g2 g2\n",
       "Levels: g1 g2"
      ]
     },
     "metadata": {},
     "output_type": "display_data"
    }
   ],
   "source": [
    "pred.lda$class"
   ]
  },
  {
   "cell_type": "code",
   "execution_count": 13,
   "id": "cbe5ac30",
   "metadata": {},
   "outputs": [
    {
     "data": {
      "text/html": [
       "<table class=\"dataframe\">\n",
       "<caption>A matrix: 2 × 13 of type dbl</caption>\n",
       "<thead>\n",
       "\t<tr><th></th><th scope=col>1</th><th scope=col>2</th><th scope=col>3</th><th scope=col>4</th><th scope=col>5</th><th scope=col>6</th><th scope=col>7</th><th scope=col>8</th><th scope=col>9</th><th scope=col>10</th><th scope=col>11</th><th scope=col>12</th><th scope=col>13</th></tr>\n",
       "</thead>\n",
       "<tbody>\n",
       "\t<tr><th scope=row>g1</th><td>0.3501401</td><td>0.1588189</td><td>0.97194803</td><td>0.92101209</td><td>0.96899785</td><td>0.98515585</td><td>0.97539841</td><td>0.05593911</td><td>0.0396758</td><td>0.04071603</td><td>0.6097085</td><td>0.362508</td><td>0.1486125</td></tr>\n",
       "\t<tr><th scope=row>g2</th><td>0.6498599</td><td>0.8411811</td><td>0.02805197</td><td>0.07898791</td><td>0.03100215</td><td>0.01484415</td><td>0.02460159</td><td>0.94406089</td><td>0.9603242</td><td>0.95928397</td><td>0.3902915</td><td>0.637492</td><td>0.8513875</td></tr>\n",
       "</tbody>\n",
       "</table>\n"
      ],
      "text/latex": [
       "A matrix: 2 × 13 of type dbl\n",
       "\\begin{tabular}{r|lllllllllllll}\n",
       "  & 1 & 2 & 3 & 4 & 5 & 6 & 7 & 8 & 9 & 10 & 11 & 12 & 13\\\\\n",
       "\\hline\n",
       "\tg1 & 0.3501401 & 0.1588189 & 0.97194803 & 0.92101209 & 0.96899785 & 0.98515585 & 0.97539841 & 0.05593911 & 0.0396758 & 0.04071603 & 0.6097085 & 0.362508 & 0.1486125\\\\\n",
       "\tg2 & 0.6498599 & 0.8411811 & 0.02805197 & 0.07898791 & 0.03100215 & 0.01484415 & 0.02460159 & 0.94406089 & 0.9603242 & 0.95928397 & 0.3902915 & 0.637492 & 0.8513875\\\\\n",
       "\\end{tabular}\n"
      ],
      "text/markdown": [
       "\n",
       "A matrix: 2 × 13 of type dbl\n",
       "\n",
       "| <!--/--> | 1 | 2 | 3 | 4 | 5 | 6 | 7 | 8 | 9 | 10 | 11 | 12 | 13 |\n",
       "|---|---|---|---|---|---|---|---|---|---|---|---|---|---|\n",
       "| g1 | 0.3501401 | 0.1588189 | 0.97194803 | 0.92101209 | 0.96899785 | 0.98515585 | 0.97539841 | 0.05593911 | 0.0396758 | 0.04071603 | 0.6097085 | 0.362508 | 0.1486125 |\n",
       "| g2 | 0.6498599 | 0.8411811 | 0.02805197 | 0.07898791 | 0.03100215 | 0.01484415 | 0.02460159 | 0.94406089 | 0.9603242 | 0.95928397 | 0.3902915 | 0.637492 | 0.8513875 |\n",
       "\n"
      ],
      "text/plain": [
       "   1         2         3          4          5          6          7         \n",
       "g1 0.3501401 0.1588189 0.97194803 0.92101209 0.96899785 0.98515585 0.97539841\n",
       "g2 0.6498599 0.8411811 0.02805197 0.07898791 0.03100215 0.01484415 0.02460159\n",
       "   8          9         10         11        12       13       \n",
       "g1 0.05593911 0.0396758 0.04071603 0.6097085 0.362508 0.1486125\n",
       "g2 0.94406089 0.9603242 0.95928397 0.3902915 0.637492 0.8513875"
      ]
     },
     "metadata": {},
     "output_type": "display_data"
    }
   ],
   "source": [
    "t(pred.lda$posterior)"
   ]
  },
  {
   "cell_type": "code",
   "execution_count": 14,
   "id": "ae56b82d",
   "metadata": {},
   "outputs": [
    {
     "data": {
      "text/html": [
       "<table class=\"dataframe\">\n",
       "<caption>A matrix: 1 × 13 of type dbl</caption>\n",
       "<thead>\n",
       "\t<tr><th></th><th scope=col>1</th><th scope=col>2</th><th scope=col>3</th><th scope=col>4</th><th scope=col>5</th><th scope=col>6</th><th scope=col>7</th><th scope=col>8</th><th scope=col>9</th><th scope=col>10</th><th scope=col>11</th><th scope=col>12</th><th scope=col>13</th></tr>\n",
       "</thead>\n",
       "<tbody>\n",
       "\t<tr><th scope=row>LD1</th><td>0.4637161</td><td>0.9888827</td><td>-1.621521</td><td>-1.076098</td><td>-1.569918</td><td>-1.947027</td><td>-1.689027</td><td>1.569272</td><td>1.749868</td><td>1.736364</td><td>-0.06940923</td><td>0.4367079</td><td>1.028188</td></tr>\n",
       "</tbody>\n",
       "</table>\n"
      ],
      "text/latex": [
       "A matrix: 1 × 13 of type dbl\n",
       "\\begin{tabular}{r|lllllllllllll}\n",
       "  & 1 & 2 & 3 & 4 & 5 & 6 & 7 & 8 & 9 & 10 & 11 & 12 & 13\\\\\n",
       "\\hline\n",
       "\tLD1 & 0.4637161 & 0.9888827 & -1.621521 & -1.076098 & -1.569918 & -1.947027 & -1.689027 & 1.569272 & 1.749868 & 1.736364 & -0.06940923 & 0.4367079 & 1.028188\\\\\n",
       "\\end{tabular}\n"
      ],
      "text/markdown": [
       "\n",
       "A matrix: 1 × 13 of type dbl\n",
       "\n",
       "| <!--/--> | 1 | 2 | 3 | 4 | 5 | 6 | 7 | 8 | 9 | 10 | 11 | 12 | 13 |\n",
       "|---|---|---|---|---|---|---|---|---|---|---|---|---|---|\n",
       "| LD1 | 0.4637161 | 0.9888827 | -1.621521 | -1.076098 | -1.569918 | -1.947027 | -1.689027 | 1.569272 | 1.749868 | 1.736364 | -0.06940923 | 0.4367079 | 1.028188 |\n",
       "\n"
      ],
      "text/plain": [
       "    1         2         3         4         5         6         7        \n",
       "LD1 0.4637161 0.9888827 -1.621521 -1.076098 -1.569918 -1.947027 -1.689027\n",
       "    8        9        10       11          12        13      \n",
       "LD1 1.569272 1.749868 1.736364 -0.06940923 0.4367079 1.028188"
      ]
     },
     "metadata": {},
     "output_type": "display_data"
    }
   ],
   "source": [
    "t(pred.lda$x)"
   ]
  },
  {
   "cell_type": "code",
   "execution_count": 15,
   "id": "c1f04eab",
   "metadata": {},
   "outputs": [
    {
     "data": {
      "text/html": [
       "<table class=\"dataframe\">\n",
       "<caption>A matrix: 3 × 1 of type dbl</caption>\n",
       "<thead>\n",
       "\t<tr><th></th><th scope=col>LD1</th></tr>\n",
       "</thead>\n",
       "<tbody>\n",
       "\t<tr><th scope=row>x1</th><td> 0.2727114</td></tr>\n",
       "\t<tr><th scope=row>x2</th><td>-0.2794634</td></tr>\n",
       "\t<tr><th scope=row>x3</th><td>-0.5128692</td></tr>\n",
       "</tbody>\n",
       "</table>\n"
      ],
      "text/latex": [
       "A matrix: 3 × 1 of type dbl\n",
       "\\begin{tabular}{r|l}\n",
       "  & LD1\\\\\n",
       "\\hline\n",
       "\tx1 &  0.2727114\\\\\n",
       "\tx2 & -0.2794634\\\\\n",
       "\tx3 & -0.5128692\\\\\n",
       "\\end{tabular}\n"
      ],
      "text/markdown": [
       "\n",
       "A matrix: 3 × 1 of type dbl\n",
       "\n",
       "| <!--/--> | LD1 |\n",
       "|---|---|\n",
       "| x1 |  0.2727114 |\n",
       "| x2 | -0.2794634 |\n",
       "| x3 | -0.5128692 |\n",
       "\n"
      ],
      "text/plain": [
       "   LD1       \n",
       "x1  0.2727114\n",
       "x2 -0.2794634\n",
       "x3 -0.5128692"
      ]
     },
     "metadata": {},
     "output_type": "display_data"
    }
   ],
   "source": [
    "#분류점수 구하기\n",
    "prior <- data7.lda$prior\n",
    "scaling <- data7.lda$scaling\n",
    "scaling"
   ]
  },
  {
   "cell_type": "code",
   "execution_count": 16,
   "id": "ddea0fe3",
   "metadata": {},
   "outputs": [
    {
     "data": {
      "text/html": [
       "<table class=\"dataframe\">\n",
       "<caption>A matrix: 2 × 3 of type dbl</caption>\n",
       "<thead>\n",
       "\t<tr><th></th><th scope=col>x1</th><th scope=col>x2</th><th scope=col>x3</th></tr>\n",
       "</thead>\n",
       "<tbody>\n",
       "\t<tr><th scope=row>g1</th><td>110.57143</td><td>88.00000</td><td>43.57143</td></tr>\n",
       "\t<tr><th scope=row>g2</th><td> 98.33333</td><td>80.66667</td><td>37.16667</td></tr>\n",
       "</tbody>\n",
       "</table>\n"
      ],
      "text/latex": [
       "A matrix: 2 × 3 of type dbl\n",
       "\\begin{tabular}{r|lll}\n",
       "  & x1 & x2 & x3\\\\\n",
       "\\hline\n",
       "\tg1 & 110.57143 & 88.00000 & 43.57143\\\\\n",
       "\tg2 &  98.33333 & 80.66667 & 37.16667\\\\\n",
       "\\end{tabular}\n"
      ],
      "text/markdown": [
       "\n",
       "A matrix: 2 × 3 of type dbl\n",
       "\n",
       "| <!--/--> | x1 | x2 | x3 |\n",
       "|---|---|---|---|\n",
       "| g1 | 110.57143 | 88.00000 | 43.57143 |\n",
       "| g2 |  98.33333 | 80.66667 | 37.16667 |\n",
       "\n"
      ],
      "text/plain": [
       "   x1        x2       x3      \n",
       "g1 110.57143 88.00000 43.57143\n",
       "g2  98.33333 80.66667 37.16667"
      ]
     },
     "metadata": {},
     "output_type": "display_data"
    }
   ],
   "source": [
    "d.means <- data7.lda$means\n",
    "d.means"
   ]
  },
  {
   "cell_type": "code",
   "execution_count": 20,
   "id": "97759a3d",
   "metadata": {},
   "outputs": [
    {
     "data": {
      "text/html": [
       "<table class=\"dataframe\">\n",
       "<caption>A matrix: 2 × 3 of type dbl</caption>\n",
       "<thead>\n",
       "\t<tr><th></th><th scope=col>x1</th><th scope=col>x2</th><th scope=col>x3</th></tr>\n",
       "</thead>\n",
       "<tbody>\n",
       "\t<tr><th scope=row>g1</th><td>59.53846</td><td>47.38462</td><td>23.46154</td></tr>\n",
       "\t<tr><th scope=row>g2</th><td>45.38462</td><td>37.23077</td><td>17.15385</td></tr>\n",
       "</tbody>\n",
       "</table>\n"
      ],
      "text/latex": [
       "A matrix: 2 × 3 of type dbl\n",
       "\\begin{tabular}{r|lll}\n",
       "  & x1 & x2 & x3\\\\\n",
       "\\hline\n",
       "\tg1 & 59.53846 & 47.38462 & 23.46154\\\\\n",
       "\tg2 & 45.38462 & 37.23077 & 17.15385\\\\\n",
       "\\end{tabular}\n"
      ],
      "text/markdown": [
       "\n",
       "A matrix: 2 × 3 of type dbl\n",
       "\n",
       "| <!--/--> | x1 | x2 | x3 |\n",
       "|---|---|---|---|\n",
       "| g1 | 59.53846 | 47.38462 | 23.46154 |\n",
       "| g2 | 45.38462 | 37.23077 | 17.15385 |\n",
       "\n"
      ],
      "text/plain": [
       "   x1       x2       x3      \n",
       "g1 59.53846 47.38462 23.46154\n",
       "g2 45.38462 37.23077 17.15385"
      ]
     },
     "metadata": {},
     "output_type": "display_data"
    },
    {
     "data": {
      "text/html": [
       "<style>\n",
       ".dl-inline {width: auto; margin:0; padding: 0}\n",
       ".dl-inline>dt, .dl-inline>dd {float: none; width: auto; display: inline-block}\n",
       ".dl-inline>dt::after {content: \":\\0020\"; padding-right: .5ex}\n",
       ".dl-inline>dt:not(:first-of-type) {padding-left: .5ex}\n",
       "</style><dl class=dl-inline><dt>x1</dt><dd>104.923076923077</dd><dt>x2</dt><dd>84.6153846153846</dd><dt>x3</dt><dd>40.6153846153846</dd></dl>\n"
      ],
      "text/latex": [
       "\\begin{description*}\n",
       "\\item[x1] 104.923076923077\n",
       "\\item[x2] 84.6153846153846\n",
       "\\item[x3] 40.6153846153846\n",
       "\\end{description*}\n"
      ],
      "text/markdown": [
       "x1\n",
       ":   104.923076923077x2\n",
       ":   84.6153846153846x3\n",
       ":   40.6153846153846\n",
       "\n"
      ],
      "text/plain": [
       "       x1        x2        x3 \n",
       "104.92308  84.61538  40.61538 "
      ]
     },
     "metadata": {},
     "output_type": "display_data"
    }
   ],
   "source": [
    "prior * d.means\n",
    "means <- colSums(prior * d.means)\n",
    "means"
   ]
  },
  {
   "cell_type": "code",
   "execution_count": 27,
   "id": "a2dced61",
   "metadata": {},
   "outputs": [
    {
     "data": {
      "text/html": [
       "<table class=\"dataframe\">\n",
       "<caption>A matrix: 3 × 13 of type int</caption>\n",
       "<tbody>\n",
       "\t<tr><th scope=row>x1</th><td>98</td><td>103</td><td>103</td><td>105</td><td>109</td><td>123</td><td>133</td><td>93</td><td>94</td><td>96</td><td>101</td><td>102</td><td>104</td></tr>\n",
       "\t<tr><th scope=row>x2</th><td>81</td><td> 84</td><td> 86</td><td> 86</td><td> 88</td><td> 92</td><td> 99</td><td>74</td><td>78</td><td>80</td><td> 84</td><td> 85</td><td> 83</td></tr>\n",
       "\t<tr><th scope=row>x3</th><td>38</td><td> 38</td><td> 42</td><td> 42</td><td> 44</td><td> 50</td><td> 51</td><td>37</td><td>35</td><td>35</td><td> 39</td><td> 38</td><td> 39</td></tr>\n",
       "</tbody>\n",
       "</table>\n"
      ],
      "text/latex": [
       "A matrix: 3 × 13 of type int\n",
       "\\begin{tabular}{r|lllllllllllll}\n",
       "\tx1 & 98 & 103 & 103 & 105 & 109 & 123 & 133 & 93 & 94 & 96 & 101 & 102 & 104\\\\\n",
       "\tx2 & 81 &  84 &  86 &  86 &  88 &  92 &  99 & 74 & 78 & 80 &  84 &  85 &  83\\\\\n",
       "\tx3 & 38 &  38 &  42 &  42 &  44 &  50 &  51 & 37 & 35 & 35 &  39 &  38 &  39\\\\\n",
       "\\end{tabular}\n"
      ],
      "text/markdown": [
       "\n",
       "A matrix: 3 × 13 of type int\n",
       "\n",
       "| x1 | 98 | 103 | 103 | 105 | 109 | 123 | 133 | 93 | 94 | 96 | 101 | 102 | 104 |\n",
       "| x2 | 81 |  84 |  86 |  86 |  88 |  92 |  99 | 74 | 78 | 80 |  84 |  85 |  83 |\n",
       "| x3 | 38 |  38 |  42 |  42 |  44 |  50 |  51 | 37 | 35 | 35 |  39 |  38 |  39 |\n",
       "\n"
      ],
      "text/plain": [
       "   [,1] [,2] [,3] [,4] [,5] [,6] [,7] [,8] [,9] [,10] [,11] [,12] [,13]\n",
       "x1 98   103  103  105  109  123  133  93   94   96    101   102   104  \n",
       "x2 81    84   86   86   88   92   99  74   78   80     84    85    83  \n",
       "x3 38    38   42   42   44   50   51  37   35   35     39    38    39  "
      ]
     },
     "metadata": {},
     "output_type": "display_data"
    },
    {
     "data": {
      "text/html": [
       "<table class=\"dataframe\">\n",
       "<caption>A matrix: 3 × 13 of type dbl</caption>\n",
       "<tbody>\n",
       "\t<tr><th scope=row>x1</th><td>-6.923077</td><td> 18.38462</td><td> 62.38462</td><td>0.07692308</td><td> 24.38462</td><td> 82.38462</td><td>28.07692</td><td>  8.384615</td><td> 53.38462</td><td>-8.923077</td><td> 16.38462</td><td> 61.38462</td><td>-0.9230769</td></tr>\n",
       "\t<tr><th scope=row>x2</th><td>-3.615385</td><td> 43.38462</td><td>-18.92308</td><td>1.38461538</td><td> 47.38462</td><td>-12.92308</td><td>14.38462</td><td> 33.384615</td><td>-26.92308</td><td>-4.615385</td><td> 43.38462</td><td>-19.92308</td><td>-1.6153846</td></tr>\n",
       "\t<tr><th scope=row>x3</th><td>-2.615385</td><td>-66.92308</td><td>-42.61538</td><td>1.38461538</td><td>-60.92308</td><td>-34.61538</td><td>10.38462</td><td>-67.923077</td><td>-49.61538</td><td>-5.615385</td><td>-65.92308</td><td>-46.61538</td><td>-1.6153846</td></tr>\n",
       "</tbody>\n",
       "</table>\n"
      ],
      "text/latex": [
       "A matrix: 3 × 13 of type dbl\n",
       "\\begin{tabular}{r|lllllllllllll}\n",
       "\tx1 & -6.923077 &  18.38462 &  62.38462 & 0.07692308 &  24.38462 &  82.38462 & 28.07692 &   8.384615 &  53.38462 & -8.923077 &  16.38462 &  61.38462 & -0.9230769\\\\\n",
       "\tx2 & -3.615385 &  43.38462 & -18.92308 & 1.38461538 &  47.38462 & -12.92308 & 14.38462 &  33.384615 & -26.92308 & -4.615385 &  43.38462 & -19.92308 & -1.6153846\\\\\n",
       "\tx3 & -2.615385 & -66.92308 & -42.61538 & 1.38461538 & -60.92308 & -34.61538 & 10.38462 & -67.923077 & -49.61538 & -5.615385 & -65.92308 & -46.61538 & -1.6153846\\\\\n",
       "\\end{tabular}\n"
      ],
      "text/markdown": [
       "\n",
       "A matrix: 3 × 13 of type dbl\n",
       "\n",
       "| x1 | -6.923077 |  18.38462 |  62.38462 | 0.07692308 |  24.38462 |  82.38462 | 28.07692 |   8.384615 |  53.38462 | -8.923077 |  16.38462 |  61.38462 | -0.9230769 |\n",
       "| x2 | -3.615385 |  43.38462 | -18.92308 | 1.38461538 |  47.38462 | -12.92308 | 14.38462 |  33.384615 | -26.92308 | -4.615385 |  43.38462 | -19.92308 | -1.6153846 |\n",
       "| x3 | -2.615385 | -66.92308 | -42.61538 | 1.38461538 | -60.92308 | -34.61538 | 10.38462 | -67.923077 | -49.61538 | -5.615385 | -65.92308 | -46.61538 | -1.6153846 |\n",
       "\n"
      ],
      "text/plain": [
       "   [,1]      [,2]      [,3]      [,4]       [,5]      [,6]      [,7]    \n",
       "x1 -6.923077  18.38462  62.38462 0.07692308  24.38462  82.38462 28.07692\n",
       "x2 -3.615385  43.38462 -18.92308 1.38461538  47.38462 -12.92308 14.38462\n",
       "x3 -2.615385 -66.92308 -42.61538 1.38461538 -60.92308 -34.61538 10.38462\n",
       "   [,8]       [,9]      [,10]     [,11]     [,12]     [,13]     \n",
       "x1   8.384615  53.38462 -8.923077  16.38462  61.38462 -0.9230769\n",
       "x2  33.384615 -26.92308 -4.615385  43.38462 -19.92308 -1.6153846\n",
       "x3 -67.923077 -49.61538 -5.615385 -65.92308 -46.61538 -1.6153846"
      ]
     },
     "metadata": {},
     "output_type": "display_data"
    }
   ],
   "source": [
    "x <- data7[,-1]\n",
    "t(x)"
   ]
  },
  {
   "cell_type": "code",
   "execution_count": 48,
   "id": "884d1e75",
   "metadata": {},
   "outputs": [
    {
     "data": {
      "text/html": [
       "<table class=\"dataframe\">\n",
       "<caption>A matrix: 3 × 13 of type dbl</caption>\n",
       "<tbody>\n",
       "\t<tr><th scope=row>x1</th><td>-6.923077</td><td>-1.9230769</td><td>-1.923077</td><td>0.07692308</td><td>4.076923</td><td>18.076923</td><td>28.07692</td><td>-11.923077</td><td>-10.923077</td><td>-8.923077</td><td>-3.9230769</td><td>-2.9230769</td><td>-0.9230769</td></tr>\n",
       "\t<tr><th scope=row>x2</th><td>-3.615385</td><td>-0.6153846</td><td> 1.384615</td><td>1.38461538</td><td>3.384615</td><td> 7.384615</td><td>14.38462</td><td>-10.615385</td><td> -6.615385</td><td>-4.615385</td><td>-0.6153846</td><td> 0.3846154</td><td>-1.6153846</td></tr>\n",
       "\t<tr><th scope=row>x3</th><td>-2.615385</td><td>-2.6153846</td><td> 1.384615</td><td>1.38461538</td><td>3.384615</td><td> 9.384615</td><td>10.38462</td><td> -3.615385</td><td> -5.615385</td><td>-5.615385</td><td>-1.6153846</td><td>-2.6153846</td><td>-1.6153846</td></tr>\n",
       "</tbody>\n",
       "</table>\n"
      ],
      "text/latex": [
       "A matrix: 3 × 13 of type dbl\n",
       "\\begin{tabular}{r|lllllllllllll}\n",
       "\tx1 & -6.923077 & -1.9230769 & -1.923077 & 0.07692308 & 4.076923 & 18.076923 & 28.07692 & -11.923077 & -10.923077 & -8.923077 & -3.9230769 & -2.9230769 & -0.9230769\\\\\n",
       "\tx2 & -3.615385 & -0.6153846 &  1.384615 & 1.38461538 & 3.384615 &  7.384615 & 14.38462 & -10.615385 &  -6.615385 & -4.615385 & -0.6153846 &  0.3846154 & -1.6153846\\\\\n",
       "\tx3 & -2.615385 & -2.6153846 &  1.384615 & 1.38461538 & 3.384615 &  9.384615 & 10.38462 &  -3.615385 &  -5.615385 & -5.615385 & -1.6153846 & -2.6153846 & -1.6153846\\\\\n",
       "\\end{tabular}\n"
      ],
      "text/markdown": [
       "\n",
       "A matrix: 3 × 13 of type dbl\n",
       "\n",
       "| x1 | -6.923077 | -1.9230769 | -1.923077 | 0.07692308 | 4.076923 | 18.076923 | 28.07692 | -11.923077 | -10.923077 | -8.923077 | -3.9230769 | -2.9230769 | -0.9230769 |\n",
       "| x2 | -3.615385 | -0.6153846 |  1.384615 | 1.38461538 | 3.384615 |  7.384615 | 14.38462 | -10.615385 |  -6.615385 | -4.615385 | -0.6153846 |  0.3846154 | -1.6153846 |\n",
       "| x3 | -2.615385 | -2.6153846 |  1.384615 | 1.38461538 | 3.384615 |  9.384615 | 10.38462 |  -3.615385 |  -5.615385 | -5.615385 | -1.6153846 | -2.6153846 | -1.6153846 |\n",
       "\n"
      ],
      "text/plain": [
       "   [,1]      [,2]       [,3]      [,4]       [,5]     [,6]      [,7]    \n",
       "x1 -6.923077 -1.9230769 -1.923077 0.07692308 4.076923 18.076923 28.07692\n",
       "x2 -3.615385 -0.6153846  1.384615 1.38461538 3.384615  7.384615 14.38462\n",
       "x3 -2.615385 -2.6153846  1.384615 1.38461538 3.384615  9.384615 10.38462\n",
       "   [,8]       [,9]       [,10]     [,11]      [,12]      [,13]     \n",
       "x1 -11.923077 -10.923077 -8.923077 -3.9230769 -2.9230769 -0.9230769\n",
       "x2 -10.615385  -6.615385 -4.615385 -0.6153846  0.3846154 -1.6153846\n",
       "x3  -3.615385  -5.615385 -5.615385 -1.6153846 -2.6153846 -1.6153846"
      ]
     },
     "metadata": {},
     "output_type": "display_data"
    },
    {
     "data": {
      "text/html": [
       "<table class=\"dataframe\">\n",
       "<caption>A matrix: 3 × 13 of type dbl</caption>\n",
       "<tbody>\n",
       "\t<tr><th scope=row>x1</th><td>-6.923077</td><td>-1.9230769</td><td>-1.923077</td><td>0.07692308</td><td>4.076923</td><td>18.076923</td><td>28.07692</td><td>-11.923077</td><td>-10.923077</td><td>-8.923077</td><td>-3.9230769</td><td>-2.9230769</td><td>-0.9230769</td></tr>\n",
       "\t<tr><th scope=row>x2</th><td>-3.615385</td><td>-0.6153846</td><td> 1.384615</td><td>1.38461538</td><td>3.384615</td><td> 7.384615</td><td>14.38462</td><td>-10.615385</td><td> -6.615385</td><td>-4.615385</td><td>-0.6153846</td><td> 0.3846154</td><td>-1.6153846</td></tr>\n",
       "\t<tr><th scope=row>x3</th><td>-2.615385</td><td>-2.6153846</td><td> 1.384615</td><td>1.38461538</td><td>3.384615</td><td> 9.384615</td><td>10.38462</td><td> -3.615385</td><td> -5.615385</td><td>-5.615385</td><td>-1.6153846</td><td>-2.6153846</td><td>-1.6153846</td></tr>\n",
       "</tbody>\n",
       "</table>\n"
      ],
      "text/latex": [
       "A matrix: 3 × 13 of type dbl\n",
       "\\begin{tabular}{r|lllllllllllll}\n",
       "\tx1 & -6.923077 & -1.9230769 & -1.923077 & 0.07692308 & 4.076923 & 18.076923 & 28.07692 & -11.923077 & -10.923077 & -8.923077 & -3.9230769 & -2.9230769 & -0.9230769\\\\\n",
       "\tx2 & -3.615385 & -0.6153846 &  1.384615 & 1.38461538 & 3.384615 &  7.384615 & 14.38462 & -10.615385 &  -6.615385 & -4.615385 & -0.6153846 &  0.3846154 & -1.6153846\\\\\n",
       "\tx3 & -2.615385 & -2.6153846 &  1.384615 & 1.38461538 & 3.384615 &  9.384615 & 10.38462 &  -3.615385 &  -5.615385 & -5.615385 & -1.6153846 & -2.6153846 & -1.6153846\\\\\n",
       "\\end{tabular}\n"
      ],
      "text/markdown": [
       "\n",
       "A matrix: 3 × 13 of type dbl\n",
       "\n",
       "| x1 | -6.923077 | -1.9230769 | -1.923077 | 0.07692308 | 4.076923 | 18.076923 | 28.07692 | -11.923077 | -10.923077 | -8.923077 | -3.9230769 | -2.9230769 | -0.9230769 |\n",
       "| x2 | -3.615385 | -0.6153846 |  1.384615 | 1.38461538 | 3.384615 |  7.384615 | 14.38462 | -10.615385 |  -6.615385 | -4.615385 | -0.6153846 |  0.3846154 | -1.6153846 |\n",
       "| x3 | -2.615385 | -2.6153846 |  1.384615 | 1.38461538 | 3.384615 |  9.384615 | 10.38462 |  -3.615385 |  -5.615385 | -5.615385 | -1.6153846 | -2.6153846 | -1.6153846 |\n",
       "\n"
      ],
      "text/plain": [
       "   [,1]      [,2]       [,3]      [,4]       [,5]     [,6]      [,7]    \n",
       "x1 -6.923077 -1.9230769 -1.923077 0.07692308 4.076923 18.076923 28.07692\n",
       "x2 -3.615385 -0.6153846  1.384615 1.38461538 3.384615  7.384615 14.38462\n",
       "x3 -2.615385 -2.6153846  1.384615 1.38461538 3.384615  9.384615 10.38462\n",
       "   [,8]       [,9]       [,10]     [,11]      [,12]      [,13]     \n",
       "x1 -11.923077 -10.923077 -8.923077 -3.9230769 -2.9230769 -0.9230769\n",
       "x2 -10.615385  -6.615385 -4.615385 -0.6153846  0.3846154 -1.6153846\n",
       "x3  -3.615385  -5.615385 -5.615385 -1.6153846 -2.6153846 -1.6153846"
      ]
     },
     "metadata": {},
     "output_type": "display_data"
    }
   ],
   "source": [
    "# scale은 평균을 뺀다. \n",
    "dscore <- scale(x, center=means, scale=F)\n",
    "t(dscore) #1\n",
    "t(x) - means #2"
   ]
  },
  {
   "cell_type": "code",
   "execution_count": 49,
   "id": "6ffe8323",
   "metadata": {},
   "outputs": [
    {
     "data": {
      "text/html": [
       "<table class=\"dataframe\">\n",
       "<caption>A matrix: 1 × 13 of type dbl</caption>\n",
       "<tbody>\n",
       "\t<tr><th scope=row>LD1</th><td>0.4637161</td><td>0.9888827</td><td>-1.621521</td><td>-1.076098</td><td>-1.569918</td><td>-1.947027</td><td>-1.689027</td><td>1.569272</td><td>1.749868</td><td>1.736364</td><td>-0.06940923</td><td>0.4367079</td><td>1.028188</td></tr>\n",
       "</tbody>\n",
       "</table>\n"
      ],
      "text/latex": [
       "A matrix: 1 × 13 of type dbl\n",
       "\\begin{tabular}{r|lllllllllllll}\n",
       "\tLD1 & 0.4637161 & 0.9888827 & -1.621521 & -1.076098 & -1.569918 & -1.947027 & -1.689027 & 1.569272 & 1.749868 & 1.736364 & -0.06940923 & 0.4367079 & 1.028188\\\\\n",
       "\\end{tabular}\n"
      ],
      "text/markdown": [
       "\n",
       "A matrix: 1 × 13 of type dbl\n",
       "\n",
       "| LD1 | 0.4637161 | 0.9888827 | -1.621521 | -1.076098 | -1.569918 | -1.947027 | -1.689027 | 1.569272 | 1.749868 | 1.736364 | -0.06940923 | 0.4367079 | 1.028188 |\n",
       "\n"
      ],
      "text/plain": [
       "    [,1]      [,2]      [,3]      [,4]      [,5]      [,6]      [,7]     \n",
       "LD1 0.4637161 0.9888827 -1.621521 -1.076098 -1.569918 -1.947027 -1.689027\n",
       "    [,8]     [,9]     [,10]    [,11]       [,12]     [,13]   \n",
       "LD1 1.569272 1.749868 1.736364 -0.06940923 0.4367079 1.028188"
      ]
     },
     "metadata": {},
     "output_type": "display_data"
    },
    {
     "data": {
      "text/html": [
       "<table class=\"dataframe\">\n",
       "<caption>A matrix: 1 × 13 of type dbl</caption>\n",
       "<thead>\n",
       "\t<tr><th></th><th scope=col>1</th><th scope=col>2</th><th scope=col>3</th><th scope=col>4</th><th scope=col>5</th><th scope=col>6</th><th scope=col>7</th><th scope=col>8</th><th scope=col>9</th><th scope=col>10</th><th scope=col>11</th><th scope=col>12</th><th scope=col>13</th></tr>\n",
       "</thead>\n",
       "<tbody>\n",
       "\t<tr><th scope=row>LD1</th><td>0.4637161</td><td>0.9888827</td><td>-1.621521</td><td>-1.076098</td><td>-1.569918</td><td>-1.947027</td><td>-1.689027</td><td>1.569272</td><td>1.749868</td><td>1.736364</td><td>-0.06940923</td><td>0.4367079</td><td>1.028188</td></tr>\n",
       "</tbody>\n",
       "</table>\n"
      ],
      "text/latex": [
       "A matrix: 1 × 13 of type dbl\n",
       "\\begin{tabular}{r|lllllllllllll}\n",
       "  & 1 & 2 & 3 & 4 & 5 & 6 & 7 & 8 & 9 & 10 & 11 & 12 & 13\\\\\n",
       "\\hline\n",
       "\tLD1 & 0.4637161 & 0.9888827 & -1.621521 & -1.076098 & -1.569918 & -1.947027 & -1.689027 & 1.569272 & 1.749868 & 1.736364 & -0.06940923 & 0.4367079 & 1.028188\\\\\n",
       "\\end{tabular}\n"
      ],
      "text/markdown": [
       "\n",
       "A matrix: 1 × 13 of type dbl\n",
       "\n",
       "| <!--/--> | 1 | 2 | 3 | 4 | 5 | 6 | 7 | 8 | 9 | 10 | 11 | 12 | 13 |\n",
       "|---|---|---|---|---|---|---|---|---|---|---|---|---|---|\n",
       "| LD1 | 0.4637161 | 0.9888827 | -1.621521 | -1.076098 | -1.569918 | -1.947027 | -1.689027 | 1.569272 | 1.749868 | 1.736364 | -0.06940923 | 0.4367079 | 1.028188 |\n",
       "\n"
      ],
      "text/plain": [
       "    1         2         3         4         5         6         7        \n",
       "LD1 0.4637161 0.9888827 -1.621521 -1.076098 -1.569918 -1.947027 -1.689027\n",
       "    8        9        10       11          12        13      \n",
       "LD1 1.569272 1.749868 1.736364 -0.06940923 0.4367079 1.028188"
      ]
     },
     "metadata": {},
     "output_type": "display_data"
    }
   ],
   "source": [
    "# 비교\n",
    "dscore <- dscore %*% scaling\n",
    "t(dscore) #1\n",
    "t(pred.lda$x) #2"
   ]
  },
  {
   "cell_type": "code",
   "execution_count": 52,
   "id": "7262296b",
   "metadata": {},
   "outputs": [
    {
     "name": "stderr",
     "output_type": "stream",
     "text": [
      "Warning message:\n",
      "“package ‘klaR’ was built under R version 4.0.5”\n"
     ]
    }
   ],
   "source": [
    "#LDA를 이용한 분류\n",
    "library(klaR)"
   ]
  },
  {
   "cell_type": "code",
   "execution_count": 53,
   "id": "c9151af9",
   "metadata": {},
   "outputs": [
    {
     "data": {
      "image/png": "[encoded data removed]",
      "text/plain": [
       "plot without title"
      ]
     },
     "metadata": {
      "image/png": {
       "height": 420,
       "width": 420
      }
     },
     "output_type": "display_data"
    }
   ],
   "source": [
    "ldahist(pred.lda$x, g=data7$group)"
   ]
  },
  {
   "cell_type": "code",
   "execution_count": 56,
   "id": "a07b0ec6",
   "metadata": {},
   "outputs": [
    {
     "data": {
      "text/html": [],
      "text/latex": [],
      "text/markdown": [],
      "text/plain": [
       "integer(0)"
      ]
     },
     "metadata": {},
     "output_type": "display_data"
    },
    {
     "data": {
      "image/png": "[encoded data removed]",
      "text/plain": [
       "plot without title"
      ]
     },
     "metadata": {
      "image/png": {
       "height": 420,
       "width": 420
      }
     },
     "output_type": "display_data"
    }
   ],
   "source": [
    "plot(pred.lda$x, pch=19)\n",
    "text(pred.lda$x, data7$group, cex=0.7, pos=4)\n",
    "abline(h=0, lty=2)\n",
    "identify(pred.lda$x)\n",
    "# 1,211"
   ]
  },
  {
   "cell_type": "code",
   "execution_count": 57,
   "id": "61369c77",
   "metadata": {},
   "outputs": [
    {
     "data": {
      "text/html": [
       "<table class=\"dataframe\">\n",
       "<caption>A matrix: 3 × 13 of type int</caption>\n",
       "<tbody>\n",
       "\t<tr><th scope=row>x1</th><td>98</td><td>103</td><td>103</td><td>105</td><td>109</td><td>123</td><td>133</td><td>93</td><td>94</td><td>96</td><td>101</td><td>102</td><td>104</td></tr>\n",
       "\t<tr><th scope=row>x2</th><td>81</td><td> 84</td><td> 86</td><td> 86</td><td> 88</td><td> 92</td><td> 99</td><td>74</td><td>78</td><td>80</td><td> 84</td><td> 85</td><td> 83</td></tr>\n",
       "\t<tr><th scope=row>x3</th><td>38</td><td> 38</td><td> 42</td><td> 42</td><td> 44</td><td> 50</td><td> 51</td><td>37</td><td>35</td><td>35</td><td> 39</td><td> 38</td><td> 39</td></tr>\n",
       "</tbody>\n",
       "</table>\n"
      ],
      "text/latex": [
       "A matrix: 3 × 13 of type int\n",
       "\\begin{tabular}{r|lllllllllllll}\n",
       "\tx1 & 98 & 103 & 103 & 105 & 109 & 123 & 133 & 93 & 94 & 96 & 101 & 102 & 104\\\\\n",
       "\tx2 & 81 &  84 &  86 &  86 &  88 &  92 &  99 & 74 & 78 & 80 &  84 &  85 &  83\\\\\n",
       "\tx3 & 38 &  38 &  42 &  42 &  44 &  50 &  51 & 37 & 35 & 35 &  39 &  38 &  39\\\\\n",
       "\\end{tabular}\n"
      ],
      "text/markdown": [
       "\n",
       "A matrix: 3 × 13 of type int\n",
       "\n",
       "| x1 | 98 | 103 | 103 | 105 | 109 | 123 | 133 | 93 | 94 | 96 | 101 | 102 | 104 |\n",
       "| x2 | 81 |  84 |  86 |  86 |  88 |  92 |  99 | 74 | 78 | 80 |  84 |  85 |  83 |\n",
       "| x3 | 38 |  38 |  42 |  42 |  44 |  50 |  51 | 37 | 35 | 35 |  39 |  38 |  39 |\n",
       "\n"
      ],
      "text/plain": [
       "   [,1] [,2] [,3] [,4] [,5] [,6] [,7] [,8] [,9] [,10] [,11] [,12] [,13]\n",
       "x1 98   103  103  105  109  123  133  93   94   96    101   102   104  \n",
       "x2 81    84   86   86   88   92   99  74   78   80     84    85    83  \n",
       "x3 38    38   42   42   44   50   51  37   35   35     39    38    39  "
      ]
     },
     "metadata": {},
     "output_type": "display_data"
    }
   ],
   "source": [
    "# 판별 모형의 평가\n",
    "x <- data7[, -1]\n",
    "t(x)"
   ]
  },
  {
   "cell_type": "code",
   "execution_count": 61,
   "id": "a6197409",
   "metadata": {},
   "outputs": [
    {
     "data": {
      "text/plain": [
       "Call:\n",
       "   manova(as.matrix(x) ~ pred.lda$class)\n",
       "\n",
       "Terms:\n",
       "                pred.lda$class Residuals\n",
       "x1                    611.8755  941.0476\n",
       "x2                    230.8150  240.2619\n",
       "x3                    182.8864  130.1905\n",
       "Deg. of Freedom              1        11\n",
       "\n",
       "Residual standard errors: 9.249313 4.673542 3.440276\n",
       "Estimated effects may be unbalanced"
      ]
     },
     "metadata": {},
     "output_type": "display_data"
    }
   ],
   "source": [
    "# 1.람다 통계량\n",
    "data7.man <- manova(as.matrix(x) ~ pred.lda$class)\n",
    "data7.man"
   ]
  },
  {
   "cell_type": "code",
   "execution_count": 62,
   "id": "66e067a0",
   "metadata": {},
   "outputs": [
    {
     "data": {
      "text/plain": [
       "               Df   Wilks approx F num Df den Df    Pr(>F)    \n",
       "pred.lda$class  1 0.16683   14.983      3      9 0.0007604 ***\n",
       "Residuals      11                                             \n",
       "---\n",
       "Signif. codes:  0 ‘***’ 0.001 ‘**’ 0.01 ‘*’ 0.05 ‘.’ 0.1 ‘ ’ 1"
      ]
     },
     "metadata": {},
     "output_type": "display_data"
    }
   ],
   "source": [
    "wilks.test <- summary(data7.man, test='Wilks')\n",
    "wilks.test\n",
    "#wilks점수가 0.16683으로 0에 가깝다"
   ]
  },
  {
   "cell_type": "code",
   "execution_count": 63,
   "id": "8cd01b04",
   "metadata": {},
   "outputs": [
    {
     "data": {
      "text/plain": [
       "    \n",
       "     g1 g2\n",
       "  g1  5  2\n",
       "  g2  1  5"
      ]
     },
     "metadata": {},
     "output_type": "display_data"
    }
   ],
   "source": [
    "# 2.분류표\n",
    "confm.lda <- table(data7$group, pred_lda$class)\n",
    "confm.lda\n",
    "# g1은 7개 중에 2개 잘못 분류, g2는 6개 중에 1개 잘못 분류"
   ]
  },
  {
   "cell_type": "code",
   "execution_count": 64,
   "id": "61cdc5b1",
   "metadata": {},
   "outputs": [
    {
     "data": {
      "text/plain": [
       "    \n",
       "            g1        g2\n",
       "  g1 0.7142857 0.2857143\n",
       "  g2 0.1666667 0.8333333"
      ]
     },
     "metadata": {},
     "output_type": "display_data"
    }
   ],
   "source": [
    "prop.table(confm.lda,1 )"
   ]
  },
  {
   "cell_type": "code",
   "execution_count": 66,
   "id": "b7a7945e",
   "metadata": {},
   "outputs": [
    {
     "data": {
      "text/html": [
       "0.230769230769231"
      ],
      "text/latex": [
       "0.230769230769231"
      ],
      "text/markdown": [
       "0.230769230769231"
      ],
      "text/plain": [
       "[1] 0.2307692"
      ]
     },
     "metadata": {},
     "output_type": "display_data"
    }
   ],
   "source": [
    "error <- 1 - sum(diag(prop.table(confm.lda)))\n",
    "error"
   ]
  },
  {
   "cell_type": "code",
   "execution_count": null,
   "id": "bbe4d2d0",
   "metadata": {},
   "outputs": [],
   "source": [
    "# 판별 변수 선택"
   ]
  }
 ],
 "metadata": {
  "kernelspec": {
   "display_name": "R",
   "language": "R",
   "name": "ir"
  },
  "language_info": {
   "codemirror_mode": "r",
   "file_extension": ".r",
   "mimetype": "text/x-r-source",
   "name": "R",
   "pygments_lexer": "r",
   "version": "4.0.3"
  }
 },
 "nbformat": 4,
 "nbformat_minor": 5
}
