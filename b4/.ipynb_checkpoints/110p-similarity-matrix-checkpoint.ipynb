{
 "cells": [
  {
   "cell_type": "code",
   "execution_count": 4,
   "id": "aed271a4",
   "metadata": {},
   "outputs": [
    {
     "data": {
      "text/html": [
       "<style>\n",
       ".list-inline {list-style: none; margin:0; padding: 0}\n",
       ".list-inline>li {display: inline-block}\n",
       ".list-inline>li:not(:last-child)::after {content: \"\\00b7\"; padding: 0 .5ex}\n",
       "</style>\n",
       "<ol class=list-inline><li>'BUDWEISER'</li><li>'SCHLITZ'</li><li>'LOWENBRAU'</li><li>'KRONENBOURG'</li><li>'HEINEKEN'</li><li>'OLD MILWAUKEE'</li><li>'AUGSBERGER'</li><li>'STROHS BOHEMIAN STYLE'</li><li>'MILLER LITE'</li><li>'BUDWEISER LIGHT'</li><li>'COORS'</li><li>'COORS LIGHT'</li><li>'MICHELOB LIGHT'</li><li>'BECKS'</li><li>'KIRIN'</li><li>'PABST EXTRA LIGHT'</li><li>'HAMMS'</li><li>'HEILEMANS OLD STYLE'</li><li>'OLYMPIA GOLD LIGHT'</li><li>'SCHLITZ LIGHT'</li></ol>\n"
      ],
      "text/latex": [
       "\\begin{enumerate*}\n",
       "\\item 'BUDWEISER'\n",
       "\\item 'SCHLITZ'\n",
       "\\item 'LOWENBRAU'\n",
       "\\item 'KRONENBOURG'\n",
       "\\item 'HEINEKEN'\n",
       "\\item 'OLD MILWAUKEE'\n",
       "\\item 'AUGSBERGER'\n",
       "\\item 'STROHS BOHEMIAN STYLE'\n",
       "\\item 'MILLER LITE'\n",
       "\\item 'BUDWEISER LIGHT'\n",
       "\\item 'COORS'\n",
       "\\item 'COORS LIGHT'\n",
       "\\item 'MICHELOB LIGHT'\n",
       "\\item 'BECKS'\n",
       "\\item 'KIRIN'\n",
       "\\item 'PABST EXTRA LIGHT'\n",
       "\\item 'HAMMS'\n",
       "\\item 'HEILEMANS OLD STYLE'\n",
       "\\item 'OLYMPIA GOLD LIGHT'\n",
       "\\item 'SCHLITZ LIGHT'\n",
       "\\end{enumerate*}\n"
      ],
      "text/markdown": [
       "1. 'BUDWEISER'\n",
       "2. 'SCHLITZ'\n",
       "3. 'LOWENBRAU'\n",
       "4. 'KRONENBOURG'\n",
       "5. 'HEINEKEN'\n",
       "6. 'OLD MILWAUKEE'\n",
       "7. 'AUGSBERGER'\n",
       "8. 'STROHS BOHEMIAN STYLE'\n",
       "9. 'MILLER LITE'\n",
       "10. 'BUDWEISER LIGHT'\n",
       "11. 'COORS'\n",
       "12. 'COORS LIGHT'\n",
       "13. 'MICHELOB LIGHT'\n",
       "14. 'BECKS'\n",
       "15. 'KIRIN'\n",
       "16. 'PABST EXTRA LIGHT'\n",
       "17. 'HAMMS'\n",
       "18. 'HEILEMANS OLD STYLE'\n",
       "19. 'OLYMPIA GOLD LIGHT'\n",
       "20. 'SCHLITZ LIGHT'\n",
       "\n",
       "\n"
      ],
      "text/plain": [
       " [1] \"BUDWEISER\"             \"SCHLITZ\"               \"LOWENBRAU\"            \n",
       " [4] \"KRONENBOURG\"           \"HEINEKEN\"              \"OLD MILWAUKEE\"        \n",
       " [7] \"AUGSBERGER\"            \"STROHS BOHEMIAN STYLE\" \"MILLER LITE\"          \n",
       "[10] \"BUDWEISER LIGHT\"       \"COORS\"                 \"COORS LIGHT\"          \n",
       "[13] \"MICHELOB LIGHT\"        \"BECKS\"                 \"KIRIN\"                \n",
       "[16] \"PABST EXTRA LIGHT\"     \"HAMMS\"                 \"HEILEMANS OLD STYLE\"  \n",
       "[19] \"OLYMPIA GOLD LIGHT\"    \"SCHLITZ LIGHT\"        "
      ]
     },
     "metadata": {},
     "output_type": "display_data"
    },
    {
     "data": {
      "text/html": [
       "20"
      ],
      "text/latex": [
       "20"
      ],
      "text/markdown": [
       "20"
      ],
      "text/plain": [
       "[1] 20"
      ]
     },
     "metadata": {},
     "output_type": "display_data"
    }
   ],
   "source": [
    "beer <- c('BUDWEISER','SCHLITZ','LOWENBRAU','KRONENBOURG','HEINEKEN','OLD MILWAUKEE','AUGSBERGER','STROHS BOHEMIAN STYLE','MILLER LITE','BUDWEISER LIGHT',\n",
    "          'COORS','COORS LIGHT','MICHELOB LIGHT','BECKS','KIRIN','PABST EXTRA LIGHT','HAMMS','HEILEMANS OLD STYLE','OLYMPIA GOLD LIGHT','SCHLITZ LIGHT')\n",
    "beer\n",
    "length(beer)"
   ]
  },
  {
   "cell_type": "code",
   "execution_count": 5,
   "id": "480c81e6",
   "metadata": {},
   "outputs": [
    {
     "data": {
      "text/html": [
       "<style>\n",
       ".list-inline {list-style: none; margin:0; padding: 0}\n",
       ".list-inline>li {display: inline-block}\n",
       ".list-inline>li:not(:last-child)::after {content: \"\\00b7\"; padding: 0 .5ex}\n",
       "</style>\n",
       "<ol class=list-inline><li>144</li><li>151</li><li>157</li><li>170</li><li>152</li><li>145</li><li>175</li><li>149</li><li>99</li><li>113</li><li>140</li><li>102</li><li>135</li><li>150</li><li>149</li><li>68</li><li>136</li><li>144</li><li>72</li><li>97</li></ol>\n"
      ],
      "text/latex": [
       "\\begin{enumerate*}\n",
       "\\item 144\n",
       "\\item 151\n",
       "\\item 157\n",
       "\\item 170\n",
       "\\item 152\n",
       "\\item 145\n",
       "\\item 175\n",
       "\\item 149\n",
       "\\item 99\n",
       "\\item 113\n",
       "\\item 140\n",
       "\\item 102\n",
       "\\item 135\n",
       "\\item 150\n",
       "\\item 149\n",
       "\\item 68\n",
       "\\item 136\n",
       "\\item 144\n",
       "\\item 72\n",
       "\\item 97\n",
       "\\end{enumerate*}\n"
      ],
      "text/markdown": [
       "1. 144\n",
       "2. 151\n",
       "3. 157\n",
       "4. 170\n",
       "5. 152\n",
       "6. 145\n",
       "7. 175\n",
       "8. 149\n",
       "9. 99\n",
       "10. 113\n",
       "11. 140\n",
       "12. 102\n",
       "13. 135\n",
       "14. 150\n",
       "15. 149\n",
       "16. 68\n",
       "17. 136\n",
       "18. 144\n",
       "19. 72\n",
       "20. 97\n",
       "\n",
       "\n"
      ],
      "text/plain": [
       " [1] 144 151 157 170 152 145 175 149  99 113 140 102 135 150 149  68 136 144  72\n",
       "[20]  97"
      ]
     },
     "metadata": {},
     "output_type": "display_data"
    },
    {
     "data": {
      "text/html": [
       "20"
      ],
      "text/latex": [
       "20"
      ],
      "text/markdown": [
       "20"
      ],
      "text/plain": [
       "[1] 20"
      ]
     },
     "metadata": {},
     "output_type": "display_data"
    }
   ],
   "source": [
    "calories <- c(144, 151, 157, 170, 152, 145, 175, 149, 99, 113,\n",
    "             140, 102, 135, 150, 149, 68, 136, 144, 72, 97)\n",
    "calories\n",
    "length(calories)"
   ]
  },
  {
   "cell_type": "code",
   "execution_count": 6,
   "id": "ddcb2d43",
   "metadata": {},
   "outputs": [
    {
     "data": {
      "text/html": [
       "<style>\n",
       ".list-inline {list-style: none; margin:0; padding: 0}\n",
       ".list-inline>li {display: inline-block}\n",
       ".list-inline>li:not(:last-child)::after {content: \"\\00b7\"; padding: 0 .5ex}\n",
       "</style>\n",
       "<ol class=list-inline><li>15</li><li>19</li><li>15</li><li>7</li><li>11</li><li>23</li><li>24</li><li>27</li><li>10</li><li>8</li><li>18</li><li>15</li><li>11</li><li>19</li><li>6</li><li>15</li><li>19</li><li>24</li><li>6</li><li>7</li></ol>\n"
      ],
      "text/latex": [
       "\\begin{enumerate*}\n",
       "\\item 15\n",
       "\\item 19\n",
       "\\item 15\n",
       "\\item 7\n",
       "\\item 11\n",
       "\\item 23\n",
       "\\item 24\n",
       "\\item 27\n",
       "\\item 10\n",
       "\\item 8\n",
       "\\item 18\n",
       "\\item 15\n",
       "\\item 11\n",
       "\\item 19\n",
       "\\item 6\n",
       "\\item 15\n",
       "\\item 19\n",
       "\\item 24\n",
       "\\item 6\n",
       "\\item 7\n",
       "\\end{enumerate*}\n"
      ],
      "text/markdown": [
       "1. 15\n",
       "2. 19\n",
       "3. 15\n",
       "4. 7\n",
       "5. 11\n",
       "6. 23\n",
       "7. 24\n",
       "8. 27\n",
       "9. 10\n",
       "10. 8\n",
       "11. 18\n",
       "12. 15\n",
       "13. 11\n",
       "14. 19\n",
       "15. 6\n",
       "16. 15\n",
       "17. 19\n",
       "18. 24\n",
       "19. 6\n",
       "20. 7\n",
       "\n",
       "\n"
      ],
      "text/plain": [
       " [1] 15 19 15  7 11 23 24 27 10  8 18 15 11 19  6 15 19 24  6  7"
      ]
     },
     "metadata": {},
     "output_type": "display_data"
    },
    {
     "data": {
      "text/html": [
       "20"
      ],
      "text/latex": [
       "20"
      ],
      "text/markdown": [
       "20"
      ],
      "text/plain": [
       "[1] 20"
      ]
     },
     "metadata": {},
     "output_type": "display_data"
    }
   ],
   "source": [
    "sodium <- c(15, 19, 15, 7, 11, 23, 24, 27, 10, 8,\n",
    "           18, 15, 11, 19, 6, 15, 19, 24, 6, 7)\n",
    "sodium\n",
    "length(sodium)"
   ]
  },
  {
   "cell_type": "code",
   "execution_count": 8,
   "id": "c01c0a5a",
   "metadata": {},
   "outputs": [
    {
     "data": {
      "text/html": [
       "<style>\n",
       ".list-inline {list-style: none; margin:0; padding: 0}\n",
       ".list-inline>li {display: inline-block}\n",
       ".list-inline>li:not(:last-child)::after {content: \"\\00b7\"; padding: 0 .5ex}\n",
       "</style>\n",
       "<ol class=list-inline><li>4.7</li><li>4.9</li><li>4.9</li><li>5.2</li><li>5</li><li>4.6</li><li>5.5</li><li>4.7</li><li>4.3</li><li>3.7</li><li>4.6</li><li>4.1</li><li>4.2</li><li>4.7</li><li>5</li><li>2.3</li><li>4.4</li><li>4.9</li><li>2.9</li><li>4.2</li></ol>\n"
      ],
      "text/latex": [
       "\\begin{enumerate*}\n",
       "\\item 4.7\n",
       "\\item 4.9\n",
       "\\item 4.9\n",
       "\\item 5.2\n",
       "\\item 5\n",
       "\\item 4.6\n",
       "\\item 5.5\n",
       "\\item 4.7\n",
       "\\item 4.3\n",
       "\\item 3.7\n",
       "\\item 4.6\n",
       "\\item 4.1\n",
       "\\item 4.2\n",
       "\\item 4.7\n",
       "\\item 5\n",
       "\\item 2.3\n",
       "\\item 4.4\n",
       "\\item 4.9\n",
       "\\item 2.9\n",
       "\\item 4.2\n",
       "\\end{enumerate*}\n"
      ],
      "text/markdown": [
       "1. 4.7\n",
       "2. 4.9\n",
       "3. 4.9\n",
       "4. 5.2\n",
       "5. 5\n",
       "6. 4.6\n",
       "7. 5.5\n",
       "8. 4.7\n",
       "9. 4.3\n",
       "10. 3.7\n",
       "11. 4.6\n",
       "12. 4.1\n",
       "13. 4.2\n",
       "14. 4.7\n",
       "15. 5\n",
       "16. 2.3\n",
       "17. 4.4\n",
       "18. 4.9\n",
       "19. 2.9\n",
       "20. 4.2\n",
       "\n",
       "\n"
      ],
      "text/plain": [
       " [1] 4.7 4.9 4.9 5.2 5.0 4.6 5.5 4.7 4.3 3.7 4.6 4.1 4.2 4.7 5.0 2.3 4.4 4.9 2.9\n",
       "[20] 4.2"
      ]
     },
     "metadata": {},
     "output_type": "display_data"
    },
    {
     "data": {
      "text/html": [
       "20"
      ],
      "text/latex": [
       "20"
      ],
      "text/markdown": [
       "20"
      ],
      "text/plain": [
       "[1] 20"
      ]
     },
     "metadata": {},
     "output_type": "display_data"
    }
   ],
   "source": [
    "alcohol <- c(4.7, 4.9, 4.9, 5.2, 5.0, 4.6, 5.5, 4.7, 4.3, 3.7,\n",
    "            4.6, 4.1, 4.2, 4.7, 5.0, 2.3, 4.4, 4.9, 2.9, 4.2)\n",
    "alcohol\n",
    "length(alcohol)"
   ]
  },
  {
   "cell_type": "code",
   "execution_count": 9,
   "id": "6cbac547",
   "metadata": {},
   "outputs": [
    {
     "data": {
      "text/html": [
       "<style>\n",
       ".list-inline {list-style: none; margin:0; padding: 0}\n",
       ".list-inline>li {display: inline-block}\n",
       ".list-inline>li:not(:last-child)::after {content: \"\\00b7\"; padding: 0 .5ex}\n",
       "</style>\n",
       "<ol class=list-inline><li>0.43</li><li>0.43</li><li>0.48</li><li>0.73</li><li>0.77</li><li>0.28</li><li>0.4</li><li>0.42</li><li>0.43</li><li>0.44</li><li>0.44</li><li>0.46</li><li>0.5</li><li>0.76</li><li>0.79</li><li>0.38</li><li>0.43</li><li>0.43</li><li>0.46</li><li>0.47</li></ol>\n"
      ],
      "text/latex": [
       "\\begin{enumerate*}\n",
       "\\item 0.43\n",
       "\\item 0.43\n",
       "\\item 0.48\n",
       "\\item 0.73\n",
       "\\item 0.77\n",
       "\\item 0.28\n",
       "\\item 0.4\n",
       "\\item 0.42\n",
       "\\item 0.43\n",
       "\\item 0.44\n",
       "\\item 0.44\n",
       "\\item 0.46\n",
       "\\item 0.5\n",
       "\\item 0.76\n",
       "\\item 0.79\n",
       "\\item 0.38\n",
       "\\item 0.43\n",
       "\\item 0.43\n",
       "\\item 0.46\n",
       "\\item 0.47\n",
       "\\end{enumerate*}\n"
      ],
      "text/markdown": [
       "1. 0.43\n",
       "2. 0.43\n",
       "3. 0.48\n",
       "4. 0.73\n",
       "5. 0.77\n",
       "6. 0.28\n",
       "7. 0.4\n",
       "8. 0.42\n",
       "9. 0.43\n",
       "10. 0.44\n",
       "11. 0.44\n",
       "12. 0.46\n",
       "13. 0.5\n",
       "14. 0.76\n",
       "15. 0.79\n",
       "16. 0.38\n",
       "17. 0.43\n",
       "18. 0.43\n",
       "19. 0.46\n",
       "20. 0.47\n",
       "\n",
       "\n"
      ],
      "text/plain": [
       " [1] 0.43 0.43 0.48 0.73 0.77 0.28 0.40 0.42 0.43 0.44 0.44 0.46 0.50 0.76 0.79\n",
       "[16] 0.38 0.43 0.43 0.46 0.47"
      ]
     },
     "metadata": {},
     "output_type": "display_data"
    },
    {
     "data": {
      "text/html": [
       "20"
      ],
      "text/latex": [
       "20"
      ],
      "text/markdown": [
       "20"
      ],
      "text/plain": [
       "[1] 20"
      ]
     },
     "metadata": {},
     "output_type": "display_data"
    }
   ],
   "source": [
    "cost <- c(0.43, 0.43, 0.48, 0.73, 0.77, 0.28, 0.40, 0.42, 0.43, 0.44,\n",
    "         0.44, 0.46, 0.50, 0.76, 0.79, 0.38, 0.43, 0.43, 0.46, 0.47)\n",
    "cost\n",
    "length(cost)"
   ]
  },
  {
   "cell_type": "code",
   "execution_count": 29,
   "id": "439927f0",
   "metadata": {},
   "outputs": [
    {
     "data": {
      "text/html": [
       "<table class=\"dataframe\">\n",
       "<caption>A data.frame: 20 × 5</caption>\n",
       "<thead>\n",
       "\t<tr><th scope=col>beer</th><th scope=col>calories</th><th scope=col>sodium</th><th scope=col>alcohol</th><th scope=col>cost</th></tr>\n",
       "\t<tr><th scope=col>&lt;chr&gt;</th><th scope=col>&lt;dbl&gt;</th><th scope=col>&lt;dbl&gt;</th><th scope=col>&lt;dbl&gt;</th><th scope=col>&lt;dbl&gt;</th></tr>\n",
       "</thead>\n",
       "<tbody>\n",
       "\t<tr><td>BUDWEISER            </td><td>144</td><td>15</td><td>4.7</td><td>0.43</td></tr>\n",
       "\t<tr><td>SCHLITZ              </td><td>151</td><td>19</td><td>4.9</td><td>0.43</td></tr>\n",
       "\t<tr><td>LOWENBRAU            </td><td>157</td><td>15</td><td>4.9</td><td>0.48</td></tr>\n",
       "\t<tr><td>KRONENBOURG          </td><td>170</td><td> 7</td><td>5.2</td><td>0.73</td></tr>\n",
       "\t<tr><td>HEINEKEN             </td><td>152</td><td>11</td><td>5.0</td><td>0.77</td></tr>\n",
       "\t<tr><td>OLD MILWAUKEE        </td><td>145</td><td>23</td><td>4.6</td><td>0.28</td></tr>\n",
       "\t<tr><td>AUGSBERGER           </td><td>175</td><td>24</td><td>5.5</td><td>0.40</td></tr>\n",
       "\t<tr><td>STROHS BOHEMIAN STYLE</td><td>149</td><td>27</td><td>4.7</td><td>0.42</td></tr>\n",
       "\t<tr><td>MILLER LITE          </td><td> 99</td><td>10</td><td>4.3</td><td>0.43</td></tr>\n",
       "\t<tr><td>BUDWEISER LIGHT      </td><td>113</td><td> 8</td><td>3.7</td><td>0.44</td></tr>\n",
       "\t<tr><td>COORS                </td><td>140</td><td>18</td><td>4.6</td><td>0.44</td></tr>\n",
       "\t<tr><td>COORS LIGHT          </td><td>102</td><td>15</td><td>4.1</td><td>0.46</td></tr>\n",
       "\t<tr><td>MICHELOB LIGHT       </td><td>135</td><td>11</td><td>4.2</td><td>0.50</td></tr>\n",
       "\t<tr><td>BECKS                </td><td>150</td><td>19</td><td>4.7</td><td>0.76</td></tr>\n",
       "\t<tr><td>KIRIN                </td><td>149</td><td> 6</td><td>5.0</td><td>0.79</td></tr>\n",
       "\t<tr><td>PABST EXTRA LIGHT    </td><td> 68</td><td>15</td><td>2.3</td><td>0.38</td></tr>\n",
       "\t<tr><td>HAMMS                </td><td>136</td><td>19</td><td>4.4</td><td>0.43</td></tr>\n",
       "\t<tr><td>HEILEMANS OLD STYLE  </td><td>144</td><td>24</td><td>4.9</td><td>0.43</td></tr>\n",
       "\t<tr><td>OLYMPIA GOLD LIGHT   </td><td> 72</td><td> 6</td><td>2.9</td><td>0.46</td></tr>\n",
       "\t<tr><td>SCHLITZ LIGHT        </td><td> 97</td><td> 7</td><td>4.2</td><td>0.47</td></tr>\n",
       "</tbody>\n",
       "</table>\n"
      ],
      "text/latex": [
       "A data.frame: 20 × 5\n",
       "\\begin{tabular}{lllll}\n",
       " beer & calories & sodium & alcohol & cost\\\\\n",
       " <chr> & <dbl> & <dbl> & <dbl> & <dbl>\\\\\n",
       "\\hline\n",
       "\t BUDWEISER             & 144 & 15 & 4.7 & 0.43\\\\\n",
       "\t SCHLITZ               & 151 & 19 & 4.9 & 0.43\\\\\n",
       "\t LOWENBRAU             & 157 & 15 & 4.9 & 0.48\\\\\n",
       "\t KRONENBOURG           & 170 &  7 & 5.2 & 0.73\\\\\n",
       "\t HEINEKEN              & 152 & 11 & 5.0 & 0.77\\\\\n",
       "\t OLD MILWAUKEE         & 145 & 23 & 4.6 & 0.28\\\\\n",
       "\t AUGSBERGER            & 175 & 24 & 5.5 & 0.40\\\\\n",
       "\t STROHS BOHEMIAN STYLE & 149 & 27 & 4.7 & 0.42\\\\\n",
       "\t MILLER LITE           &  99 & 10 & 4.3 & 0.43\\\\\n",
       "\t BUDWEISER LIGHT       & 113 &  8 & 3.7 & 0.44\\\\\n",
       "\t COORS                 & 140 & 18 & 4.6 & 0.44\\\\\n",
       "\t COORS LIGHT           & 102 & 15 & 4.1 & 0.46\\\\\n",
       "\t MICHELOB LIGHT        & 135 & 11 & 4.2 & 0.50\\\\\n",
       "\t BECKS                 & 150 & 19 & 4.7 & 0.76\\\\\n",
       "\t KIRIN                 & 149 &  6 & 5.0 & 0.79\\\\\n",
       "\t PABST EXTRA LIGHT     &  68 & 15 & 2.3 & 0.38\\\\\n",
       "\t HAMMS                 & 136 & 19 & 4.4 & 0.43\\\\\n",
       "\t HEILEMANS OLD STYLE   & 144 & 24 & 4.9 & 0.43\\\\\n",
       "\t OLYMPIA GOLD LIGHT    &  72 &  6 & 2.9 & 0.46\\\\\n",
       "\t SCHLITZ LIGHT         &  97 &  7 & 4.2 & 0.47\\\\\n",
       "\\end{tabular}\n"
      ],
      "text/markdown": [
       "\n",
       "A data.frame: 20 × 5\n",
       "\n",
       "| beer &lt;chr&gt; | calories &lt;dbl&gt; | sodium &lt;dbl&gt; | alcohol &lt;dbl&gt; | cost &lt;dbl&gt; |\n",
       "|---|---|---|---|---|\n",
       "| BUDWEISER             | 144 | 15 | 4.7 | 0.43 |\n",
       "| SCHLITZ               | 151 | 19 | 4.9 | 0.43 |\n",
       "| LOWENBRAU             | 157 | 15 | 4.9 | 0.48 |\n",
       "| KRONENBOURG           | 170 |  7 | 5.2 | 0.73 |\n",
       "| HEINEKEN              | 152 | 11 | 5.0 | 0.77 |\n",
       "| OLD MILWAUKEE         | 145 | 23 | 4.6 | 0.28 |\n",
       "| AUGSBERGER            | 175 | 24 | 5.5 | 0.40 |\n",
       "| STROHS BOHEMIAN STYLE | 149 | 27 | 4.7 | 0.42 |\n",
       "| MILLER LITE           |  99 | 10 | 4.3 | 0.43 |\n",
       "| BUDWEISER LIGHT       | 113 |  8 | 3.7 | 0.44 |\n",
       "| COORS                 | 140 | 18 | 4.6 | 0.44 |\n",
       "| COORS LIGHT           | 102 | 15 | 4.1 | 0.46 |\n",
       "| MICHELOB LIGHT        | 135 | 11 | 4.2 | 0.50 |\n",
       "| BECKS                 | 150 | 19 | 4.7 | 0.76 |\n",
       "| KIRIN                 | 149 |  6 | 5.0 | 0.79 |\n",
       "| PABST EXTRA LIGHT     |  68 | 15 | 2.3 | 0.38 |\n",
       "| HAMMS                 | 136 | 19 | 4.4 | 0.43 |\n",
       "| HEILEMANS OLD STYLE   | 144 | 24 | 4.9 | 0.43 |\n",
       "| OLYMPIA GOLD LIGHT    |  72 |  6 | 2.9 | 0.46 |\n",
       "| SCHLITZ LIGHT         |  97 |  7 | 4.2 | 0.47 |\n",
       "\n"
      ],
      "text/plain": [
       "   beer                  calories sodium alcohol cost\n",
       "1  BUDWEISER             144      15     4.7     0.43\n",
       "2  SCHLITZ               151      19     4.9     0.43\n",
       "3  LOWENBRAU             157      15     4.9     0.48\n",
       "4  KRONENBOURG           170       7     5.2     0.73\n",
       "5  HEINEKEN              152      11     5.0     0.77\n",
       "6  OLD MILWAUKEE         145      23     4.6     0.28\n",
       "7  AUGSBERGER            175      24     5.5     0.40\n",
       "8  STROHS BOHEMIAN STYLE 149      27     4.7     0.42\n",
       "9  MILLER LITE            99      10     4.3     0.43\n",
       "10 BUDWEISER LIGHT       113       8     3.7     0.44\n",
       "11 COORS                 140      18     4.6     0.44\n",
       "12 COORS LIGHT           102      15     4.1     0.46\n",
       "13 MICHELOB LIGHT        135      11     4.2     0.50\n",
       "14 BECKS                 150      19     4.7     0.76\n",
       "15 KIRIN                 149       6     5.0     0.79\n",
       "16 PABST EXTRA LIGHT      68      15     2.3     0.38\n",
       "17 HAMMS                 136      19     4.4     0.43\n",
       "18 HEILEMANS OLD STYLE   144      24     4.9     0.43\n",
       "19 OLYMPIA GOLD LIGHT     72       6     2.9     0.46\n",
       "20 SCHLITZ LIGHT          97       7     4.2     0.47"
      ]
     },
     "metadata": {},
     "output_type": "display_data"
    }
   ],
   "source": [
    "df <- data.frame(beer,calories,sodium,alcohol,cost)\n",
    "df"
   ]
  },
  {
   "cell_type": "code",
   "execution_count": 30,
   "id": "f47389ed",
   "metadata": {},
   "outputs": [],
   "source": [
    "calories.mean <- mean(unlist(df[2]))\n",
    "sodium.mean <- mean(unlist(df[3]))\n",
    "alcohol.mean <- mean(unlist(df[4]))\n",
    "cost.mean <- mean(unlist(df[5]))\n",
    "\n",
    "calories.sd <- sd(unlist(df[2]))\n",
    "sodium.sd <- sd(unlist(df[3]))\n",
    "alcohol.sd <- sd(unlist(df[4]))\n",
    "cost.sd <- sd(unlist(df[5]))\n",
    "df[2] <- (df[2] - calories.mean) / calories.sd\n",
    "df[3] <- (df[3] - sodium.mean) / sodium.sd\n",
    "df[4] <- (df[4] - alcohol.mean) / alcohol.sd\n",
    "df[5] <- (df[5] - cost.mean) / cost.sd"
   ]
  },
  {
   "cell_type": "code",
   "execution_count": 31,
   "id": "620d54e6",
   "metadata": {},
   "outputs": [
    {
     "data": {
      "text/html": [
       "'mean'"
      ],
      "text/latex": [
       "'mean'"
      ],
      "text/markdown": [
       "'mean'"
      ],
      "text/plain": [
       "[1] \"mean\""
      ]
     },
     "metadata": {},
     "output_type": "display_data"
    },
    {
     "data": {
      "text/html": [
       "132.4"
      ],
      "text/latex": [
       "132.4"
      ],
      "text/markdown": [
       "132.4"
      ],
      "text/plain": [
       "[1] 132.4"
      ]
     },
     "metadata": {},
     "output_type": "display_data"
    },
    {
     "data": {
      "text/html": [
       "14.95"
      ],
      "text/latex": [
       "14.95"
      ],
      "text/markdown": [
       "14.95"
      ],
      "text/plain": [
       "[1] 14.95"
      ]
     },
     "metadata": {},
     "output_type": "display_data"
    },
    {
     "data": {
      "text/html": [
       "4.44"
      ],
      "text/latex": [
       "4.44"
      ],
      "text/markdown": [
       "4.44"
      ],
      "text/plain": [
       "[1] 4.44"
      ]
     },
     "metadata": {},
     "output_type": "display_data"
    },
    {
     "data": {
      "text/html": [
       "0.4965"
      ],
      "text/latex": [
       "0.4965"
      ],
      "text/markdown": [
       "0.4965"
      ],
      "text/plain": [
       "[1] 0.4965"
      ]
     },
     "metadata": {},
     "output_type": "display_data"
    },
    {
     "data": {
      "text/html": [
       "'sd'"
      ],
      "text/latex": [
       "'sd'"
      ],
      "text/markdown": [
       "'sd'"
      ],
      "text/plain": [
       "[1] \"sd\""
      ]
     },
     "metadata": {},
     "output_type": "display_data"
    },
    {
     "data": {
      "text/html": [
       "30.2574914603588"
      ],
      "text/latex": [
       "30.2574914603588"
      ],
      "text/markdown": [
       "30.2574914603588"
      ],
      "text/plain": [
       "[1] 30.25749"
      ]
     },
     "metadata": {},
     "output_type": "display_data"
    },
    {
     "data": {
      "text/html": [
       "6.58127327306326"
      ],
      "text/latex": [
       "6.58127327306326"
      ],
      "text/markdown": [
       "6.58127327306326"
      ],
      "text/plain": [
       "[1] 6.581273"
      ]
     },
     "metadata": {},
     "output_type": "display_data"
    },
    {
     "data": {
      "text/html": [
       "0.75977836103349"
      ],
      "text/latex": [
       "0.75977836103349"
      ],
      "text/markdown": [
       "0.75977836103349"
      ],
      "text/plain": [
       "[1] 0.7597784"
      ]
     },
     "metadata": {},
     "output_type": "display_data"
    },
    {
     "data": {
      "text/html": [
       "0.143756922030137"
      ],
      "text/latex": [
       "0.143756922030137"
      ],
      "text/markdown": [
       "0.143756922030137"
      ],
      "text/plain": [
       "[1] 0.1437569"
      ]
     },
     "metadata": {},
     "output_type": "display_data"
    }
   ],
   "source": [
    "'mean'\n",
    "calories.mean\n",
    "sodium.mean\n",
    "alcohol.mean\n",
    "cost.mean\n",
    "'sd'\n",
    "calories.sd\n",
    "sodium.sd\n",
    "alcohol.sd\n",
    "cost.sd"
   ]
  },
  {
   "cell_type": "code",
   "execution_count": 32,
   "id": "8d617c35",
   "metadata": {},
   "outputs": [
    {
     "data": {
      "text/html": [
       "<table class=\"dataframe\">\n",
       "<caption>A data.frame: 20 × 5</caption>\n",
       "<thead>\n",
       "\t<tr><th scope=col>beer</th><th scope=col>calories</th><th scope=col>sodium</th><th scope=col>alcohol</th><th scope=col>cost</th></tr>\n",
       "\t<tr><th scope=col>&lt;chr&gt;</th><th scope=col>&lt;dbl&gt;</th><th scope=col>&lt;dbl&gt;</th><th scope=col>&lt;dbl&gt;</th><th scope=col>&lt;dbl&gt;</th></tr>\n",
       "</thead>\n",
       "<tbody>\n",
       "\t<tr><td>BUDWEISER            </td><td> 0.38337613</td><td> 0.007597314</td><td> 0.34220506</td><td>-0.46258642</td></tr>\n",
       "\t<tr><td>SCHLITZ              </td><td> 0.61472380</td><td> 0.615382439</td><td> 0.60543972</td><td>-0.46258642</td></tr>\n",
       "\t<tr><td>LOWENBRAU            </td><td> 0.81302179</td><td> 0.007597314</td><td> 0.60543972</td><td>-0.11477708</td></tr>\n",
       "\t<tr><td>KRONENBOURG          </td><td> 1.24266746</td><td>-1.207972936</td><td> 1.00029172</td><td> 1.62426961</td></tr>\n",
       "\t<tr><td>HEINEKEN             </td><td> 0.64777346</td><td>-0.600187811</td><td> 0.73705705</td><td> 1.90251708</td></tr>\n",
       "\t<tr><td>OLD MILWAUKEE        </td><td> 0.41642580</td><td> 1.223167564</td><td> 0.21058773</td><td>-1.50601444</td></tr>\n",
       "\t<tr><td>AUGSBERGER           </td><td> 1.40791579</td><td> 1.375113846</td><td> 1.39514371</td><td>-0.67127202</td></tr>\n",
       "\t<tr><td>STROHS BOHEMIAN STYLE</td><td> 0.54862446</td><td> 1.830952690</td><td> 0.34220506</td><td>-0.53214829</td></tr>\n",
       "\t<tr><td>MILLER LITE          </td><td>-1.10385886</td><td>-0.752134092</td><td>-0.18426426</td><td>-0.46258642</td></tr>\n",
       "\t<tr><td>BUDWEISER LIGHT      </td><td>-0.64116353</td><td>-1.056026655</td><td>-0.97396825</td><td>-0.39302455</td></tr>\n",
       "\t<tr><td>COORS                </td><td> 0.25117746</td><td> 0.463436158</td><td> 0.21058773</td><td>-0.39302455</td></tr>\n",
       "\t<tr><td>COORS LIGHT          </td><td>-1.00470986</td><td> 0.007597314</td><td>-0.44749893</td><td>-0.25390082</td></tr>\n",
       "\t<tr><td>MICHELOB LIGHT       </td><td> 0.08592913</td><td>-0.600187811</td><td>-0.31588159</td><td> 0.02434665</td></tr>\n",
       "\t<tr><td>BECKS                </td><td> 0.58167413</td><td> 0.615382439</td><td> 0.34220506</td><td> 1.83295522</td></tr>\n",
       "\t<tr><td>KIRIN                </td><td> 0.54862446</td><td>-1.359919218</td><td> 0.73705705</td><td> 2.04164082</td></tr>\n",
       "\t<tr><td>PABST EXTRA LIGHT    </td><td>-2.12839852</td><td> 0.007597314</td><td>-2.81661088</td><td>-0.81039576</td></tr>\n",
       "\t<tr><td>HAMMS                </td><td> 0.11897880</td><td> 0.615382439</td><td>-0.05264693</td><td>-0.46258642</td></tr>\n",
       "\t<tr><td>HEILEMANS OLD STYLE  </td><td> 0.38337613</td><td> 1.375113846</td><td> 0.60543972</td><td>-0.46258642</td></tr>\n",
       "\t<tr><td>OLYMPIA GOLD LIGHT   </td><td>-1.99619985</td><td>-1.359919218</td><td>-2.02690690</td><td>-0.25390082</td></tr>\n",
       "\t<tr><td>SCHLITZ LIGHT        </td><td>-1.16995819</td><td>-1.207972936</td><td>-0.31588159</td><td>-0.18433895</td></tr>\n",
       "</tbody>\n",
       "</table>\n"
      ],
      "text/latex": [
       "A data.frame: 20 × 5\n",
       "\\begin{tabular}{lllll}\n",
       " beer & calories & sodium & alcohol & cost\\\\\n",
       " <chr> & <dbl> & <dbl> & <dbl> & <dbl>\\\\\n",
       "\\hline\n",
       "\t BUDWEISER             &  0.38337613 &  0.007597314 &  0.34220506 & -0.46258642\\\\\n",
       "\t SCHLITZ               &  0.61472380 &  0.615382439 &  0.60543972 & -0.46258642\\\\\n",
       "\t LOWENBRAU             &  0.81302179 &  0.007597314 &  0.60543972 & -0.11477708\\\\\n",
       "\t KRONENBOURG           &  1.24266746 & -1.207972936 &  1.00029172 &  1.62426961\\\\\n",
       "\t HEINEKEN              &  0.64777346 & -0.600187811 &  0.73705705 &  1.90251708\\\\\n",
       "\t OLD MILWAUKEE         &  0.41642580 &  1.223167564 &  0.21058773 & -1.50601444\\\\\n",
       "\t AUGSBERGER            &  1.40791579 &  1.375113846 &  1.39514371 & -0.67127202\\\\\n",
       "\t STROHS BOHEMIAN STYLE &  0.54862446 &  1.830952690 &  0.34220506 & -0.53214829\\\\\n",
       "\t MILLER LITE           & -1.10385886 & -0.752134092 & -0.18426426 & -0.46258642\\\\\n",
       "\t BUDWEISER LIGHT       & -0.64116353 & -1.056026655 & -0.97396825 & -0.39302455\\\\\n",
       "\t COORS                 &  0.25117746 &  0.463436158 &  0.21058773 & -0.39302455\\\\\n",
       "\t COORS LIGHT           & -1.00470986 &  0.007597314 & -0.44749893 & -0.25390082\\\\\n",
       "\t MICHELOB LIGHT        &  0.08592913 & -0.600187811 & -0.31588159 &  0.02434665\\\\\n",
       "\t BECKS                 &  0.58167413 &  0.615382439 &  0.34220506 &  1.83295522\\\\\n",
       "\t KIRIN                 &  0.54862446 & -1.359919218 &  0.73705705 &  2.04164082\\\\\n",
       "\t PABST EXTRA LIGHT     & -2.12839852 &  0.007597314 & -2.81661088 & -0.81039576\\\\\n",
       "\t HAMMS                 &  0.11897880 &  0.615382439 & -0.05264693 & -0.46258642\\\\\n",
       "\t HEILEMANS OLD STYLE   &  0.38337613 &  1.375113846 &  0.60543972 & -0.46258642\\\\\n",
       "\t OLYMPIA GOLD LIGHT    & -1.99619985 & -1.359919218 & -2.02690690 & -0.25390082\\\\\n",
       "\t SCHLITZ LIGHT         & -1.16995819 & -1.207972936 & -0.31588159 & -0.18433895\\\\\n",
       "\\end{tabular}\n"
      ],
      "text/markdown": [
       "\n",
       "A data.frame: 20 × 5\n",
       "\n",
       "| beer &lt;chr&gt; | calories &lt;dbl&gt; | sodium &lt;dbl&gt; | alcohol &lt;dbl&gt; | cost &lt;dbl&gt; |\n",
       "|---|---|---|---|---|\n",
       "| BUDWEISER             |  0.38337613 |  0.007597314 |  0.34220506 | -0.46258642 |\n",
       "| SCHLITZ               |  0.61472380 |  0.615382439 |  0.60543972 | -0.46258642 |\n",
       "| LOWENBRAU             |  0.81302179 |  0.007597314 |  0.60543972 | -0.11477708 |\n",
       "| KRONENBOURG           |  1.24266746 | -1.207972936 |  1.00029172 |  1.62426961 |\n",
       "| HEINEKEN              |  0.64777346 | -0.600187811 |  0.73705705 |  1.90251708 |\n",
       "| OLD MILWAUKEE         |  0.41642580 |  1.223167564 |  0.21058773 | -1.50601444 |\n",
       "| AUGSBERGER            |  1.40791579 |  1.375113846 |  1.39514371 | -0.67127202 |\n",
       "| STROHS BOHEMIAN STYLE |  0.54862446 |  1.830952690 |  0.34220506 | -0.53214829 |\n",
       "| MILLER LITE           | -1.10385886 | -0.752134092 | -0.18426426 | -0.46258642 |\n",
       "| BUDWEISER LIGHT       | -0.64116353 | -1.056026655 | -0.97396825 | -0.39302455 |\n",
       "| COORS                 |  0.25117746 |  0.463436158 |  0.21058773 | -0.39302455 |\n",
       "| COORS LIGHT           | -1.00470986 |  0.007597314 | -0.44749893 | -0.25390082 |\n",
       "| MICHELOB LIGHT        |  0.08592913 | -0.600187811 | -0.31588159 |  0.02434665 |\n",
       "| BECKS                 |  0.58167413 |  0.615382439 |  0.34220506 |  1.83295522 |\n",
       "| KIRIN                 |  0.54862446 | -1.359919218 |  0.73705705 |  2.04164082 |\n",
       "| PABST EXTRA LIGHT     | -2.12839852 |  0.007597314 | -2.81661088 | -0.81039576 |\n",
       "| HAMMS                 |  0.11897880 |  0.615382439 | -0.05264693 | -0.46258642 |\n",
       "| HEILEMANS OLD STYLE   |  0.38337613 |  1.375113846 |  0.60543972 | -0.46258642 |\n",
       "| OLYMPIA GOLD LIGHT    | -1.99619985 | -1.359919218 | -2.02690690 | -0.25390082 |\n",
       "| SCHLITZ LIGHT         | -1.16995819 | -1.207972936 | -0.31588159 | -0.18433895 |\n",
       "\n"
      ],
      "text/plain": [
       "   beer                  calories    sodium       alcohol     cost       \n",
       "1  BUDWEISER              0.38337613  0.007597314  0.34220506 -0.46258642\n",
       "2  SCHLITZ                0.61472380  0.615382439  0.60543972 -0.46258642\n",
       "3  LOWENBRAU              0.81302179  0.007597314  0.60543972 -0.11477708\n",
       "4  KRONENBOURG            1.24266746 -1.207972936  1.00029172  1.62426961\n",
       "5  HEINEKEN               0.64777346 -0.600187811  0.73705705  1.90251708\n",
       "6  OLD MILWAUKEE          0.41642580  1.223167564  0.21058773 -1.50601444\n",
       "7  AUGSBERGER             1.40791579  1.375113846  1.39514371 -0.67127202\n",
       "8  STROHS BOHEMIAN STYLE  0.54862446  1.830952690  0.34220506 -0.53214829\n",
       "9  MILLER LITE           -1.10385886 -0.752134092 -0.18426426 -0.46258642\n",
       "10 BUDWEISER LIGHT       -0.64116353 -1.056026655 -0.97396825 -0.39302455\n",
       "11 COORS                  0.25117746  0.463436158  0.21058773 -0.39302455\n",
       "12 COORS LIGHT           -1.00470986  0.007597314 -0.44749893 -0.25390082\n",
       "13 MICHELOB LIGHT         0.08592913 -0.600187811 -0.31588159  0.02434665\n",
       "14 BECKS                  0.58167413  0.615382439  0.34220506  1.83295522\n",
       "15 KIRIN                  0.54862446 -1.359919218  0.73705705  2.04164082\n",
       "16 PABST EXTRA LIGHT     -2.12839852  0.007597314 -2.81661088 -0.81039576\n",
       "17 HAMMS                  0.11897880  0.615382439 -0.05264693 -0.46258642\n",
       "18 HEILEMANS OLD STYLE    0.38337613  1.375113846  0.60543972 -0.46258642\n",
       "19 OLYMPIA GOLD LIGHT    -1.99619985 -1.359919218 -2.02690690 -0.25390082\n",
       "20 SCHLITZ LIGHT         -1.16995819 -1.207972936 -0.31588159 -0.18433895"
      ]
     },
     "metadata": {},
     "output_type": "display_data"
    }
   ],
   "source": [
    "df"
   ]
  },
  {
   "cell_type": "code",
   "execution_count": 33,
   "id": "ee7dc609",
   "metadata": {},
   "outputs": [
    {
     "data": {
      "text/html": [
       "<table class=\"dataframe\">\n",
       "<caption>A data.frame: 2 × 5</caption>\n",
       "<thead>\n",
       "\t<tr><th></th><th scope=col>beer</th><th scope=col>calories</th><th scope=col>sodium</th><th scope=col>alcohol</th><th scope=col>cost</th></tr>\n",
       "\t<tr><th></th><th scope=col>&lt;chr&gt;</th><th scope=col>&lt;dbl&gt;</th><th scope=col>&lt;dbl&gt;</th><th scope=col>&lt;dbl&gt;</th><th scope=col>&lt;dbl&gt;</th></tr>\n",
       "</thead>\n",
       "<tbody>\n",
       "\t<tr><th scope=row>1</th><td>BUDWEISER</td><td>0.3833761</td><td>0.007597314</td><td>0.3422051</td><td>-0.4625864</td></tr>\n",
       "\t<tr><th scope=row>2</th><td>SCHLITZ  </td><td>0.6147238</td><td>0.615382439</td><td>0.6054397</td><td>-0.4625864</td></tr>\n",
       "</tbody>\n",
       "</table>\n"
      ],
      "text/latex": [
       "A data.frame: 2 × 5\n",
       "\\begin{tabular}{r|lllll}\n",
       "  & beer & calories & sodium & alcohol & cost\\\\\n",
       "  & <chr> & <dbl> & <dbl> & <dbl> & <dbl>\\\\\n",
       "\\hline\n",
       "\t1 & BUDWEISER & 0.3833761 & 0.007597314 & 0.3422051 & -0.4625864\\\\\n",
       "\t2 & SCHLITZ   & 0.6147238 & 0.615382439 & 0.6054397 & -0.4625864\\\\\n",
       "\\end{tabular}\n"
      ],
      "text/markdown": [
       "\n",
       "A data.frame: 2 × 5\n",
       "\n",
       "| <!--/--> | beer &lt;chr&gt; | calories &lt;dbl&gt; | sodium &lt;dbl&gt; | alcohol &lt;dbl&gt; | cost &lt;dbl&gt; |\n",
       "|---|---|---|---|---|---|\n",
       "| 1 | BUDWEISER | 0.3833761 | 0.007597314 | 0.3422051 | -0.4625864 |\n",
       "| 2 | SCHLITZ   | 0.6147238 | 0.615382439 | 0.6054397 | -0.4625864 |\n",
       "\n"
      ],
      "text/plain": [
       "  beer      calories  sodium      alcohol   cost      \n",
       "1 BUDWEISER 0.3833761 0.007597314 0.3422051 -0.4625864\n",
       "2 SCHLITZ   0.6147238 0.615382439 0.6054397 -0.4625864"
      ]
     },
     "metadata": {},
     "output_type": "display_data"
    }
   ],
   "source": [
    "head(df,2)"
   ]
  },
  {
   "cell_type": "code",
   "execution_count": null,
   "id": "550119b8",
   "metadata": {},
   "outputs": [],
   "source": []
  }
 ],
 "metadata": {
  "kernelspec": {
   "display_name": "R",
   "language": "R",
   "name": "ir"
  },
  "language_info": {
   "codemirror_mode": "r",
   "file_extension": ".r",
   "mimetype": "text/x-r-source",
   "name": "R",
   "pygments_lexer": "r",
   "version": "4.0.3"
  }
 },
 "nbformat": 4,
 "nbformat_minor": 5
}
