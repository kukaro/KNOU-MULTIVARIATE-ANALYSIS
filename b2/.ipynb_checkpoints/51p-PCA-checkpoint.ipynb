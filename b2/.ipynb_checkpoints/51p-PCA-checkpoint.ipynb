{
 "cells": [
  {
   "cell_type": "code",
   "execution_count": 1,
   "id": "9093269a",
   "metadata": {},
   "outputs": [
    {
     "name": "stderr",
     "output_type": "stream",
     "text": [
      "필요한 패키지를 로딩중입니다: tools\n",
      "\n"
     ]
    }
   ],
   "source": [
    "# install.packages('HSAUR')\n",
    "library(HSAUR)"
   ]
  },
  {
   "cell_type": "code",
   "execution_count": 7,
   "id": "c476d7aa",
   "metadata": {},
   "outputs": [],
   "source": [
    "data(heptathlon)"
   ]
  },
  {
   "cell_type": "code",
   "execution_count": 8,
   "id": "712e6955",
   "metadata": {},
   "outputs": [
    {
     "data": {
      "text/html": [
       "<table class=\"dataframe\">\n",
       "<caption>A data.frame: 6 × 8</caption>\n",
       "<thead>\n",
       "\t<tr><th></th><th scope=col>hurdles</th><th scope=col>highjump</th><th scope=col>shot</th><th scope=col>run200m</th><th scope=col>longjump</th><th scope=col>javelin</th><th scope=col>run800m</th><th scope=col>score</th></tr>\n",
       "\t<tr><th></th><th scope=col>&lt;dbl&gt;</th><th scope=col>&lt;dbl&gt;</th><th scope=col>&lt;dbl&gt;</th><th scope=col>&lt;dbl&gt;</th><th scope=col>&lt;dbl&gt;</th><th scope=col>&lt;dbl&gt;</th><th scope=col>&lt;dbl&gt;</th><th scope=col>&lt;int&gt;</th></tr>\n",
       "</thead>\n",
       "<tbody>\n",
       "\t<tr><th scope=row>Joyner-Kersee (USA)</th><td>12.69</td><td>1.86</td><td>15.80</td><td>22.56</td><td>7.27</td><td>45.66</td><td>128.51</td><td>7291</td></tr>\n",
       "\t<tr><th scope=row>John (GDR)</th><td>12.85</td><td>1.80</td><td>16.23</td><td>23.65</td><td>6.71</td><td>42.56</td><td>126.12</td><td>6897</td></tr>\n",
       "\t<tr><th scope=row>Behmer (GDR)</th><td>13.20</td><td>1.83</td><td>14.20</td><td>23.10</td><td>6.68</td><td>44.54</td><td>124.20</td><td>6858</td></tr>\n",
       "\t<tr><th scope=row>Sablovskaite (URS)</th><td>13.61</td><td>1.80</td><td>15.23</td><td>23.92</td><td>6.25</td><td>42.78</td><td>132.24</td><td>6540</td></tr>\n",
       "\t<tr><th scope=row>Choubenkova (URS)</th><td>13.51</td><td>1.74</td><td>14.76</td><td>23.93</td><td>6.32</td><td>47.46</td><td>127.90</td><td>6540</td></tr>\n",
       "\t<tr><th scope=row>Schulz (GDR)</th><td>13.75</td><td>1.83</td><td>13.50</td><td>24.65</td><td>6.33</td><td>42.82</td><td>125.79</td><td>6411</td></tr>\n",
       "</tbody>\n",
       "</table>\n"
      ],
      "text/latex": [
       "A data.frame: 6 × 8\n",
       "\\begin{tabular}{r|llllllll}\n",
       "  & hurdles & highjump & shot & run200m & longjump & javelin & run800m & score\\\\\n",
       "  & <dbl> & <dbl> & <dbl> & <dbl> & <dbl> & <dbl> & <dbl> & <int>\\\\\n",
       "\\hline\n",
       "\tJoyner-Kersee (USA) & 12.69 & 1.86 & 15.80 & 22.56 & 7.27 & 45.66 & 128.51 & 7291\\\\\n",
       "\tJohn (GDR) & 12.85 & 1.80 & 16.23 & 23.65 & 6.71 & 42.56 & 126.12 & 6897\\\\\n",
       "\tBehmer (GDR) & 13.20 & 1.83 & 14.20 & 23.10 & 6.68 & 44.54 & 124.20 & 6858\\\\\n",
       "\tSablovskaite (URS) & 13.61 & 1.80 & 15.23 & 23.92 & 6.25 & 42.78 & 132.24 & 6540\\\\\n",
       "\tChoubenkova (URS) & 13.51 & 1.74 & 14.76 & 23.93 & 6.32 & 47.46 & 127.90 & 6540\\\\\n",
       "\tSchulz (GDR) & 13.75 & 1.83 & 13.50 & 24.65 & 6.33 & 42.82 & 125.79 & 6411\\\\\n",
       "\\end{tabular}\n"
      ],
      "text/markdown": [
       "\n",
       "A data.frame: 6 × 8\n",
       "\n",
       "| <!--/--> | hurdles &lt;dbl&gt; | highjump &lt;dbl&gt; | shot &lt;dbl&gt; | run200m &lt;dbl&gt; | longjump &lt;dbl&gt; | javelin &lt;dbl&gt; | run800m &lt;dbl&gt; | score &lt;int&gt; |\n",
       "|---|---|---|---|---|---|---|---|---|\n",
       "| Joyner-Kersee (USA) | 12.69 | 1.86 | 15.80 | 22.56 | 7.27 | 45.66 | 128.51 | 7291 |\n",
       "| John (GDR) | 12.85 | 1.80 | 16.23 | 23.65 | 6.71 | 42.56 | 126.12 | 6897 |\n",
       "| Behmer (GDR) | 13.20 | 1.83 | 14.20 | 23.10 | 6.68 | 44.54 | 124.20 | 6858 |\n",
       "| Sablovskaite (URS) | 13.61 | 1.80 | 15.23 | 23.92 | 6.25 | 42.78 | 132.24 | 6540 |\n",
       "| Choubenkova (URS) | 13.51 | 1.74 | 14.76 | 23.93 | 6.32 | 47.46 | 127.90 | 6540 |\n",
       "| Schulz (GDR) | 13.75 | 1.83 | 13.50 | 24.65 | 6.33 | 42.82 | 125.79 | 6411 |\n",
       "\n"
      ],
      "text/plain": [
       "                    hurdles highjump shot  run200m longjump javelin run800m\n",
       "Joyner-Kersee (USA) 12.69   1.86     15.80 22.56   7.27     45.66   128.51 \n",
       "John (GDR)          12.85   1.80     16.23 23.65   6.71     42.56   126.12 \n",
       "Behmer (GDR)        13.20   1.83     14.20 23.10   6.68     44.54   124.20 \n",
       "Sablovskaite (URS)  13.61   1.80     15.23 23.92   6.25     42.78   132.24 \n",
       "Choubenkova (URS)   13.51   1.74     14.76 23.93   6.32     47.46   127.90 \n",
       "Schulz (GDR)        13.75   1.83     13.50 24.65   6.33     42.82   125.79 \n",
       "                    score\n",
       "Joyner-Kersee (USA) 7291 \n",
       "John (GDR)          6897 \n",
       "Behmer (GDR)        6858 \n",
       "Sablovskaite (URS)  6540 \n",
       "Choubenkova (URS)   6540 \n",
       "Schulz (GDR)        6411 "
      ]
     },
     "metadata": {},
     "output_type": "display_data"
    }
   ],
   "source": [
    "head()"
   ]
  },
  {
   "cell_type": "code",
   "execution_count": 12,
   "id": "f7bd4bf1",
   "metadata": {},
   "outputs": [
    {
     "data": {
      "text/html": [
       "<style>\n",
       ".list-inline {list-style: none; margin:0; padding: 0}\n",
       ".list-inline>li {display: inline-block}\n",
       ".list-inline>li:not(:last-child)::after {content: \"\\00b7\"; padding: 0 .5ex}\n",
       "</style>\n",
       "<ol class=list-inline><li>0</li><li>0.16</li><li>0.51</li><li>0.92</li><li>0.82</li><li>1.06</li><li>0.690000000000001</li><li>0.860000000000001</li><li>0.940000000000001</li><li>0.56</li><li>1.06</li><li>0.550000000000001</li><li>1.16</li><li>1.02</li><li>1.1</li><li>1.24</li><li>0.780000000000001</li><li>1.38</li><li>1.7</li><li>1.35</li><li>1.62</li><li>1.54</li><li>2.16</li><li>1.84</li><li>3.73</li></ol>\n"
      ],
      "text/latex": [
       "\\begin{enumerate*}\n",
       "\\item 0\n",
       "\\item 0.16\n",
       "\\item 0.51\n",
       "\\item 0.92\n",
       "\\item 0.82\n",
       "\\item 1.06\n",
       "\\item 0.690000000000001\n",
       "\\item 0.860000000000001\n",
       "\\item 0.940000000000001\n",
       "\\item 0.56\n",
       "\\item 1.06\n",
       "\\item 0.550000000000001\n",
       "\\item 1.16\n",
       "\\item 1.02\n",
       "\\item 1.1\n",
       "\\item 1.24\n",
       "\\item 0.780000000000001\n",
       "\\item 1.38\n",
       "\\item 1.7\n",
       "\\item 1.35\n",
       "\\item 1.62\n",
       "\\item 1.54\n",
       "\\item 2.16\n",
       "\\item 1.84\n",
       "\\item 3.73\n",
       "\\end{enumerate*}\n"
      ],
      "text/markdown": [
       "1. 0\n",
       "2. 0.16\n",
       "3. 0.51\n",
       "4. 0.92\n",
       "5. 0.82\n",
       "6. 1.06\n",
       "7. 0.690000000000001\n",
       "8. 0.860000000000001\n",
       "9. 0.940000000000001\n",
       "10. 0.56\n",
       "11. 1.06\n",
       "12. 0.550000000000001\n",
       "13. 1.16\n",
       "14. 1.02\n",
       "15. 1.1\n",
       "16. 1.24\n",
       "17. 0.780000000000001\n",
       "18. 1.38\n",
       "19. 1.7\n",
       "20. 1.35\n",
       "21. 1.62\n",
       "22. 1.54\n",
       "23. 2.16\n",
       "24. 1.84\n",
       "25. 3.73\n",
       "\n",
       "\n"
      ],
      "text/plain": [
       " [1] 0.00 0.16 0.51 0.92 0.82 1.06 0.69 0.86 0.94 0.56 1.06 0.55 1.16 1.02 1.10\n",
       "[16] 1.24 0.78 1.38 1.70 1.35 1.62 1.54 2.16 1.84 3.73"
      ]
     },
     "metadata": {},
     "output_type": "display_data"
    }
   ],
   "source": [
    "# heptathlon$hurdles의 차이 구하기\n",
    "heptathlon$hurdles = max(heptathlon$hurdles) - heptathlon$hurdles\n",
    "heptathlon$hurdles"
   ]
  },
  {
   "cell_type": "code",
   "execution_count": 13,
   "id": "993fa174",
   "metadata": {},
   "outputs": [
    {
     "data": {
      "text/html": [
       "<style>\n",
       ".list-inline {list-style: none; margin:0; padding: 0}\n",
       ".list-inline>li {display: inline-block}\n",
       ".list-inline>li:not(:last-child)::after {content: \"\\00b7\"; padding: 0 .5ex}\n",
       "</style>\n",
       "<ol class=list-inline><li>4.05</li><li>2.96</li><li>3.51</li><li>2.69</li><li>2.68</li><li>1.96</li><li>3.02</li><li>2.13</li><li>1.75</li><li>3.02</li><li>1.58</li><li>3.02</li><li>1.74</li><li>1.83</li><li>2</li><li>1.61</li><li>1.14</li><li>1.78</li><li>1.69</li><li>1</li><li>0.919999999999998</li><li>1.11</li><li>1.38</li><li>0</li><li>0.449999999999999</li></ol>\n"
      ],
      "text/latex": [
       "\\begin{enumerate*}\n",
       "\\item 4.05\n",
       "\\item 2.96\n",
       "\\item 3.51\n",
       "\\item 2.69\n",
       "\\item 2.68\n",
       "\\item 1.96\n",
       "\\item 3.02\n",
       "\\item 2.13\n",
       "\\item 1.75\n",
       "\\item 3.02\n",
       "\\item 1.58\n",
       "\\item 3.02\n",
       "\\item 1.74\n",
       "\\item 1.83\n",
       "\\item 2\n",
       "\\item 1.61\n",
       "\\item 1.14\n",
       "\\item 1.78\n",
       "\\item 1.69\n",
       "\\item 1\n",
       "\\item 0.919999999999998\n",
       "\\item 1.11\n",
       "\\item 1.38\n",
       "\\item 0\n",
       "\\item 0.449999999999999\n",
       "\\end{enumerate*}\n"
      ],
      "text/markdown": [
       "1. 4.05\n",
       "2. 2.96\n",
       "3. 3.51\n",
       "4. 2.69\n",
       "5. 2.68\n",
       "6. 1.96\n",
       "7. 3.02\n",
       "8. 2.13\n",
       "9. 1.75\n",
       "10. 3.02\n",
       "11. 1.58\n",
       "12. 3.02\n",
       "13. 1.74\n",
       "14. 1.83\n",
       "15. 2\n",
       "16. 1.61\n",
       "17. 1.14\n",
       "18. 1.78\n",
       "19. 1.69\n",
       "20. 1\n",
       "21. 0.919999999999998\n",
       "22. 1.11\n",
       "23. 1.38\n",
       "24. 0\n",
       "25. 0.449999999999999\n",
       "\n",
       "\n"
      ],
      "text/plain": [
       " [1] 4.05 2.96 3.51 2.69 2.68 1.96 3.02 2.13 1.75 3.02 1.58 3.02 1.74 1.83 2.00\n",
       "[16] 1.61 1.14 1.78 1.69 1.00 0.92 1.11 1.38 0.00 0.45"
      ]
     },
     "metadata": {},
     "output_type": "display_data"
    }
   ],
   "source": [
    "# heptathlon$run200m의 차이 구하기\n",
    "heptathlon$run200m = max(heptathlon$run200m) - heptathlon$run200m\n",
    "heptathlon$run200m"
   ]
  },
  {
   "cell_type": "code",
   "execution_count": 15,
   "id": "7dbd32c7",
   "metadata": {},
   "outputs": [
    {
     "data": {
      "text/html": [
       "<style>\n",
       ".list-inline {list-style: none; margin:0; padding: 0}\n",
       ".list-inline>li {display: inline-block}\n",
       ".list-inline>li:not(:last-child)::after {content: \"\\00b7\"; padding: 0 .5ex}\n",
       "</style>\n",
       "<ol class=list-inline><li>34.92</li><li>37.31</li><li>39.23</li><li>31.19</li><li>35.53</li><li>37.64</li><li>30.89</li><li>29.78</li><li>27.38</li><li>28.69</li><li>31.94</li><li>30.89</li><li>28.5</li><li>20.61</li><li>26.37</li><li>16.76</li><li>24.95</li><li>17</li><li>25.41</li><li>29.53</li><li>30.08</li><li>19.41</li><li>26.13</li><li>24.26</li><li>0</li></ol>\n"
      ],
      "text/latex": [
       "\\begin{enumerate*}\n",
       "\\item 34.92\n",
       "\\item 37.31\n",
       "\\item 39.23\n",
       "\\item 31.19\n",
       "\\item 35.53\n",
       "\\item 37.64\n",
       "\\item 30.89\n",
       "\\item 29.78\n",
       "\\item 27.38\n",
       "\\item 28.69\n",
       "\\item 31.94\n",
       "\\item 30.89\n",
       "\\item 28.5\n",
       "\\item 20.61\n",
       "\\item 26.37\n",
       "\\item 16.76\n",
       "\\item 24.95\n",
       "\\item 17\n",
       "\\item 25.41\n",
       "\\item 29.53\n",
       "\\item 30.08\n",
       "\\item 19.41\n",
       "\\item 26.13\n",
       "\\item 24.26\n",
       "\\item 0\n",
       "\\end{enumerate*}\n"
      ],
      "text/markdown": [
       "1. 34.92\n",
       "2. 37.31\n",
       "3. 39.23\n",
       "4. 31.19\n",
       "5. 35.53\n",
       "6. 37.64\n",
       "7. 30.89\n",
       "8. 29.78\n",
       "9. 27.38\n",
       "10. 28.69\n",
       "11. 31.94\n",
       "12. 30.89\n",
       "13. 28.5\n",
       "14. 20.61\n",
       "15. 26.37\n",
       "16. 16.76\n",
       "17. 24.95\n",
       "18. 17\n",
       "19. 25.41\n",
       "20. 29.53\n",
       "21. 30.08\n",
       "22. 19.41\n",
       "23. 26.13\n",
       "24. 24.26\n",
       "25. 0\n",
       "\n",
       "\n"
      ],
      "text/plain": [
       " [1] 34.92 37.31 39.23 31.19 35.53 37.64 30.89 29.78 27.38 28.69 31.94 30.89\n",
       "[13] 28.50 20.61 26.37 16.76 24.95 17.00 25.41 29.53 30.08 19.41 26.13 24.26\n",
       "[25]  0.00"
      ]
     },
     "metadata": {},
     "output_type": "display_data"
    }
   ],
   "source": [
    "heptathlon$run800m = max(heptathlon$run800m) - heptathlon$run800m\n",
    "heptathlon$run800m"
   ]
  },
  {
   "cell_type": "code",
   "execution_count": 16,
   "id": "6cc238cd",
   "metadata": {},
   "outputs": [
    {
     "data": {
      "text/html": [
       "<table class=\"dataframe\">\n",
       "<caption>A data.frame: 25 × 8</caption>\n",
       "<thead>\n",
       "\t<tr><th></th><th scope=col>hurdles</th><th scope=col>highjump</th><th scope=col>shot</th><th scope=col>run200m</th><th scope=col>longjump</th><th scope=col>javelin</th><th scope=col>run800m</th><th scope=col>score</th></tr>\n",
       "\t<tr><th></th><th scope=col>&lt;dbl&gt;</th><th scope=col>&lt;dbl&gt;</th><th scope=col>&lt;dbl&gt;</th><th scope=col>&lt;dbl&gt;</th><th scope=col>&lt;dbl&gt;</th><th scope=col>&lt;dbl&gt;</th><th scope=col>&lt;dbl&gt;</th><th scope=col>&lt;int&gt;</th></tr>\n",
       "</thead>\n",
       "<tbody>\n",
       "\t<tr><th scope=row>Joyner-Kersee (USA)</th><td>0.00</td><td>1.86</td><td>15.80</td><td>4.05</td><td>7.27</td><td>45.66</td><td>34.92</td><td>7291</td></tr>\n",
       "\t<tr><th scope=row>John (GDR)</th><td>0.16</td><td>1.80</td><td>16.23</td><td>2.96</td><td>6.71</td><td>42.56</td><td>37.31</td><td>6897</td></tr>\n",
       "\t<tr><th scope=row>Behmer (GDR)</th><td>0.51</td><td>1.83</td><td>14.20</td><td>3.51</td><td>6.68</td><td>44.54</td><td>39.23</td><td>6858</td></tr>\n",
       "\t<tr><th scope=row>Sablovskaite (URS)</th><td>0.92</td><td>1.80</td><td>15.23</td><td>2.69</td><td>6.25</td><td>42.78</td><td>31.19</td><td>6540</td></tr>\n",
       "\t<tr><th scope=row>Choubenkova (URS)</th><td>0.82</td><td>1.74</td><td>14.76</td><td>2.68</td><td>6.32</td><td>47.46</td><td>35.53</td><td>6540</td></tr>\n",
       "\t<tr><th scope=row>Schulz (GDR)</th><td>1.06</td><td>1.83</td><td>13.50</td><td>1.96</td><td>6.33</td><td>42.82</td><td>37.64</td><td>6411</td></tr>\n",
       "\t<tr><th scope=row>Fleming (AUS)</th><td>0.69</td><td>1.80</td><td>12.88</td><td>3.02</td><td>6.37</td><td>40.28</td><td>30.89</td><td>6351</td></tr>\n",
       "\t<tr><th scope=row>Greiner (USA)</th><td>0.86</td><td>1.80</td><td>14.13</td><td>2.13</td><td>6.47</td><td>38.00</td><td>29.78</td><td>6297</td></tr>\n",
       "\t<tr><th scope=row>Lajbnerova (CZE)</th><td>0.94</td><td>1.83</td><td>14.28</td><td>1.75</td><td>6.11</td><td>42.20</td><td>27.38</td><td>6252</td></tr>\n",
       "\t<tr><th scope=row>Bouraga (URS)</th><td>0.56</td><td>1.77</td><td>12.62</td><td>3.02</td><td>6.28</td><td>39.06</td><td>28.69</td><td>6252</td></tr>\n",
       "\t<tr><th scope=row>Wijnsma (HOL)</th><td>1.06</td><td>1.86</td><td>13.01</td><td>1.58</td><td>6.34</td><td>37.86</td><td>31.94</td><td>6205</td></tr>\n",
       "\t<tr><th scope=row>Dimitrova (BUL)</th><td>0.55</td><td>1.80</td><td>12.88</td><td>3.02</td><td>6.37</td><td>40.28</td><td>30.89</td><td>6171</td></tr>\n",
       "\t<tr><th scope=row>Scheider (SWI)</th><td>1.16</td><td>1.86</td><td>11.58</td><td>1.74</td><td>6.05</td><td>47.50</td><td>28.50</td><td>6137</td></tr>\n",
       "\t<tr><th scope=row>Braun (FRG)</th><td>1.02</td><td>1.83</td><td>13.16</td><td>1.83</td><td>6.12</td><td>44.58</td><td>20.61</td><td>6109</td></tr>\n",
       "\t<tr><th scope=row>Ruotsalainen (FIN)</th><td>1.10</td><td>1.80</td><td>12.32</td><td>2.00</td><td>6.08</td><td>45.44</td><td>26.37</td><td>6101</td></tr>\n",
       "\t<tr><th scope=row>Yuping (CHN)</th><td>1.24</td><td>1.86</td><td>14.21</td><td>1.61</td><td>6.40</td><td>38.60</td><td>16.76</td><td>6087</td></tr>\n",
       "\t<tr><th scope=row>Hagger (GB)</th><td>0.78</td><td>1.80</td><td>12.75</td><td>1.14</td><td>6.34</td><td>35.76</td><td>24.95</td><td>5975</td></tr>\n",
       "\t<tr><th scope=row>Brown (USA)</th><td>1.38</td><td>1.83</td><td>12.69</td><td>1.78</td><td>6.13</td><td>44.34</td><td>17.00</td><td>5972</td></tr>\n",
       "\t<tr><th scope=row>Mulliner (GB)</th><td>1.70</td><td>1.71</td><td>12.68</td><td>1.69</td><td>6.10</td><td>37.76</td><td>25.41</td><td>5746</td></tr>\n",
       "\t<tr><th scope=row>Hautenauve (BEL)</th><td>1.35</td><td>1.77</td><td>11.81</td><td>1.00</td><td>5.99</td><td>35.68</td><td>29.53</td><td>5734</td></tr>\n",
       "\t<tr><th scope=row>Kytola (FIN)</th><td>1.62</td><td>1.77</td><td>11.66</td><td>0.92</td><td>5.75</td><td>39.48</td><td>30.08</td><td>5686</td></tr>\n",
       "\t<tr><th scope=row>Geremias (BRA)</th><td>1.54</td><td>1.71</td><td>12.95</td><td>1.11</td><td>5.50</td><td>39.64</td><td>19.41</td><td>5508</td></tr>\n",
       "\t<tr><th scope=row>Hui-Ing (TAI)</th><td>2.16</td><td>1.68</td><td>10.00</td><td>1.38</td><td>5.47</td><td>39.14</td><td>26.13</td><td>5290</td></tr>\n",
       "\t<tr><th scope=row>Jeong-Mi (KOR)</th><td>1.84</td><td>1.71</td><td>10.83</td><td>0.00</td><td>5.50</td><td>39.26</td><td>24.26</td><td>5289</td></tr>\n",
       "\t<tr><th scope=row>Launa (PNG)</th><td>3.73</td><td>1.50</td><td>11.78</td><td>0.45</td><td>4.88</td><td>46.38</td><td> 0.00</td><td>4566</td></tr>\n",
       "</tbody>\n",
       "</table>\n"
      ],
      "text/latex": [
       "A data.frame: 25 × 8\n",
       "\\begin{tabular}{r|llllllll}\n",
       "  & hurdles & highjump & shot & run200m & longjump & javelin & run800m & score\\\\\n",
       "  & <dbl> & <dbl> & <dbl> & <dbl> & <dbl> & <dbl> & <dbl> & <int>\\\\\n",
       "\\hline\n",
       "\tJoyner-Kersee (USA) & 0.00 & 1.86 & 15.80 & 4.05 & 7.27 & 45.66 & 34.92 & 7291\\\\\n",
       "\tJohn (GDR) & 0.16 & 1.80 & 16.23 & 2.96 & 6.71 & 42.56 & 37.31 & 6897\\\\\n",
       "\tBehmer (GDR) & 0.51 & 1.83 & 14.20 & 3.51 & 6.68 & 44.54 & 39.23 & 6858\\\\\n",
       "\tSablovskaite (URS) & 0.92 & 1.80 & 15.23 & 2.69 & 6.25 & 42.78 & 31.19 & 6540\\\\\n",
       "\tChoubenkova (URS) & 0.82 & 1.74 & 14.76 & 2.68 & 6.32 & 47.46 & 35.53 & 6540\\\\\n",
       "\tSchulz (GDR) & 1.06 & 1.83 & 13.50 & 1.96 & 6.33 & 42.82 & 37.64 & 6411\\\\\n",
       "\tFleming (AUS) & 0.69 & 1.80 & 12.88 & 3.02 & 6.37 & 40.28 & 30.89 & 6351\\\\\n",
       "\tGreiner (USA) & 0.86 & 1.80 & 14.13 & 2.13 & 6.47 & 38.00 & 29.78 & 6297\\\\\n",
       "\tLajbnerova (CZE) & 0.94 & 1.83 & 14.28 & 1.75 & 6.11 & 42.20 & 27.38 & 6252\\\\\n",
       "\tBouraga (URS) & 0.56 & 1.77 & 12.62 & 3.02 & 6.28 & 39.06 & 28.69 & 6252\\\\\n",
       "\tWijnsma (HOL) & 1.06 & 1.86 & 13.01 & 1.58 & 6.34 & 37.86 & 31.94 & 6205\\\\\n",
       "\tDimitrova (BUL) & 0.55 & 1.80 & 12.88 & 3.02 & 6.37 & 40.28 & 30.89 & 6171\\\\\n",
       "\tScheider (SWI) & 1.16 & 1.86 & 11.58 & 1.74 & 6.05 & 47.50 & 28.50 & 6137\\\\\n",
       "\tBraun (FRG) & 1.02 & 1.83 & 13.16 & 1.83 & 6.12 & 44.58 & 20.61 & 6109\\\\\n",
       "\tRuotsalainen (FIN) & 1.10 & 1.80 & 12.32 & 2.00 & 6.08 & 45.44 & 26.37 & 6101\\\\\n",
       "\tYuping (CHN) & 1.24 & 1.86 & 14.21 & 1.61 & 6.40 & 38.60 & 16.76 & 6087\\\\\n",
       "\tHagger (GB) & 0.78 & 1.80 & 12.75 & 1.14 & 6.34 & 35.76 & 24.95 & 5975\\\\\n",
       "\tBrown (USA) & 1.38 & 1.83 & 12.69 & 1.78 & 6.13 & 44.34 & 17.00 & 5972\\\\\n",
       "\tMulliner (GB) & 1.70 & 1.71 & 12.68 & 1.69 & 6.10 & 37.76 & 25.41 & 5746\\\\\n",
       "\tHautenauve (BEL) & 1.35 & 1.77 & 11.81 & 1.00 & 5.99 & 35.68 & 29.53 & 5734\\\\\n",
       "\tKytola (FIN) & 1.62 & 1.77 & 11.66 & 0.92 & 5.75 & 39.48 & 30.08 & 5686\\\\\n",
       "\tGeremias (BRA) & 1.54 & 1.71 & 12.95 & 1.11 & 5.50 & 39.64 & 19.41 & 5508\\\\\n",
       "\tHui-Ing (TAI) & 2.16 & 1.68 & 10.00 & 1.38 & 5.47 & 39.14 & 26.13 & 5290\\\\\n",
       "\tJeong-Mi (KOR) & 1.84 & 1.71 & 10.83 & 0.00 & 5.50 & 39.26 & 24.26 & 5289\\\\\n",
       "\tLauna (PNG) & 3.73 & 1.50 & 11.78 & 0.45 & 4.88 & 46.38 &  0.00 & 4566\\\\\n",
       "\\end{tabular}\n"
      ],
      "text/markdown": [
       "\n",
       "A data.frame: 25 × 8\n",
       "\n",
       "| <!--/--> | hurdles &lt;dbl&gt; | highjump &lt;dbl&gt; | shot &lt;dbl&gt; | run200m &lt;dbl&gt; | longjump &lt;dbl&gt; | javelin &lt;dbl&gt; | run800m &lt;dbl&gt; | score &lt;int&gt; |\n",
       "|---|---|---|---|---|---|---|---|---|\n",
       "| Joyner-Kersee (USA) | 0.00 | 1.86 | 15.80 | 4.05 | 7.27 | 45.66 | 34.92 | 7291 |\n",
       "| John (GDR) | 0.16 | 1.80 | 16.23 | 2.96 | 6.71 | 42.56 | 37.31 | 6897 |\n",
       "| Behmer (GDR) | 0.51 | 1.83 | 14.20 | 3.51 | 6.68 | 44.54 | 39.23 | 6858 |\n",
       "| Sablovskaite (URS) | 0.92 | 1.80 | 15.23 | 2.69 | 6.25 | 42.78 | 31.19 | 6540 |\n",
       "| Choubenkova (URS) | 0.82 | 1.74 | 14.76 | 2.68 | 6.32 | 47.46 | 35.53 | 6540 |\n",
       "| Schulz (GDR) | 1.06 | 1.83 | 13.50 | 1.96 | 6.33 | 42.82 | 37.64 | 6411 |\n",
       "| Fleming (AUS) | 0.69 | 1.80 | 12.88 | 3.02 | 6.37 | 40.28 | 30.89 | 6351 |\n",
       "| Greiner (USA) | 0.86 | 1.80 | 14.13 | 2.13 | 6.47 | 38.00 | 29.78 | 6297 |\n",
       "| Lajbnerova (CZE) | 0.94 | 1.83 | 14.28 | 1.75 | 6.11 | 42.20 | 27.38 | 6252 |\n",
       "| Bouraga (URS) | 0.56 | 1.77 | 12.62 | 3.02 | 6.28 | 39.06 | 28.69 | 6252 |\n",
       "| Wijnsma (HOL) | 1.06 | 1.86 | 13.01 | 1.58 | 6.34 | 37.86 | 31.94 | 6205 |\n",
       "| Dimitrova (BUL) | 0.55 | 1.80 | 12.88 | 3.02 | 6.37 | 40.28 | 30.89 | 6171 |\n",
       "| Scheider (SWI) | 1.16 | 1.86 | 11.58 | 1.74 | 6.05 | 47.50 | 28.50 | 6137 |\n",
       "| Braun (FRG) | 1.02 | 1.83 | 13.16 | 1.83 | 6.12 | 44.58 | 20.61 | 6109 |\n",
       "| Ruotsalainen (FIN) | 1.10 | 1.80 | 12.32 | 2.00 | 6.08 | 45.44 | 26.37 | 6101 |\n",
       "| Yuping (CHN) | 1.24 | 1.86 | 14.21 | 1.61 | 6.40 | 38.60 | 16.76 | 6087 |\n",
       "| Hagger (GB) | 0.78 | 1.80 | 12.75 | 1.14 | 6.34 | 35.76 | 24.95 | 5975 |\n",
       "| Brown (USA) | 1.38 | 1.83 | 12.69 | 1.78 | 6.13 | 44.34 | 17.00 | 5972 |\n",
       "| Mulliner (GB) | 1.70 | 1.71 | 12.68 | 1.69 | 6.10 | 37.76 | 25.41 | 5746 |\n",
       "| Hautenauve (BEL) | 1.35 | 1.77 | 11.81 | 1.00 | 5.99 | 35.68 | 29.53 | 5734 |\n",
       "| Kytola (FIN) | 1.62 | 1.77 | 11.66 | 0.92 | 5.75 | 39.48 | 30.08 | 5686 |\n",
       "| Geremias (BRA) | 1.54 | 1.71 | 12.95 | 1.11 | 5.50 | 39.64 | 19.41 | 5508 |\n",
       "| Hui-Ing (TAI) | 2.16 | 1.68 | 10.00 | 1.38 | 5.47 | 39.14 | 26.13 | 5290 |\n",
       "| Jeong-Mi (KOR) | 1.84 | 1.71 | 10.83 | 0.00 | 5.50 | 39.26 | 24.26 | 5289 |\n",
       "| Launa (PNG) | 3.73 | 1.50 | 11.78 | 0.45 | 4.88 | 46.38 |  0.00 | 4566 |\n",
       "\n"
      ],
      "text/plain": [
       "                    hurdles highjump shot  run200m longjump javelin run800m\n",
       "Joyner-Kersee (USA) 0.00    1.86     15.80 4.05    7.27     45.66   34.92  \n",
       "John (GDR)          0.16    1.80     16.23 2.96    6.71     42.56   37.31  \n",
       "Behmer (GDR)        0.51    1.83     14.20 3.51    6.68     44.54   39.23  \n",
       "Sablovskaite (URS)  0.92    1.80     15.23 2.69    6.25     42.78   31.19  \n",
       "Choubenkova (URS)   0.82    1.74     14.76 2.68    6.32     47.46   35.53  \n",
       "Schulz (GDR)        1.06    1.83     13.50 1.96    6.33     42.82   37.64  \n",
       "Fleming (AUS)       0.69    1.80     12.88 3.02    6.37     40.28   30.89  \n",
       "Greiner (USA)       0.86    1.80     14.13 2.13    6.47     38.00   29.78  \n",
       "Lajbnerova (CZE)    0.94    1.83     14.28 1.75    6.11     42.20   27.38  \n",
       "Bouraga (URS)       0.56    1.77     12.62 3.02    6.28     39.06   28.69  \n",
       "Wijnsma (HOL)       1.06    1.86     13.01 1.58    6.34     37.86   31.94  \n",
       "Dimitrova (BUL)     0.55    1.80     12.88 3.02    6.37     40.28   30.89  \n",
       "Scheider (SWI)      1.16    1.86     11.58 1.74    6.05     47.50   28.50  \n",
       "Braun (FRG)         1.02    1.83     13.16 1.83    6.12     44.58   20.61  \n",
       "Ruotsalainen (FIN)  1.10    1.80     12.32 2.00    6.08     45.44   26.37  \n",
       "Yuping (CHN)        1.24    1.86     14.21 1.61    6.40     38.60   16.76  \n",
       "Hagger (GB)         0.78    1.80     12.75 1.14    6.34     35.76   24.95  \n",
       "Brown (USA)         1.38    1.83     12.69 1.78    6.13     44.34   17.00  \n",
       "Mulliner (GB)       1.70    1.71     12.68 1.69    6.10     37.76   25.41  \n",
       "Hautenauve (BEL)    1.35    1.77     11.81 1.00    5.99     35.68   29.53  \n",
       "Kytola (FIN)        1.62    1.77     11.66 0.92    5.75     39.48   30.08  \n",
       "Geremias (BRA)      1.54    1.71     12.95 1.11    5.50     39.64   19.41  \n",
       "Hui-Ing (TAI)       2.16    1.68     10.00 1.38    5.47     39.14   26.13  \n",
       "Jeong-Mi (KOR)      1.84    1.71     10.83 0.00    5.50     39.26   24.26  \n",
       "Launa (PNG)         3.73    1.50     11.78 0.45    4.88     46.38    0.00  \n",
       "                    score\n",
       "Joyner-Kersee (USA) 7291 \n",
       "John (GDR)          6897 \n",
       "Behmer (GDR)        6858 \n",
       "Sablovskaite (URS)  6540 \n",
       "Choubenkova (URS)   6540 \n",
       "Schulz (GDR)        6411 \n",
       "Fleming (AUS)       6351 \n",
       "Greiner (USA)       6297 \n",
       "Lajbnerova (CZE)    6252 \n",
       "Bouraga (URS)       6252 \n",
       "Wijnsma (HOL)       6205 \n",
       "Dimitrova (BUL)     6171 \n",
       "Scheider (SWI)      6137 \n",
       "Braun (FRG)         6109 \n",
       "Ruotsalainen (FIN)  6101 \n",
       "Yuping (CHN)        6087 \n",
       "Hagger (GB)         5975 \n",
       "Brown (USA)         5972 \n",
       "Mulliner (GB)       5746 \n",
       "Hautenauve (BEL)    5734 \n",
       "Kytola (FIN)        5686 \n",
       "Geremias (BRA)      5508 \n",
       "Hui-Ing (TAI)       5290 \n",
       "Jeong-Mi (KOR)      5289 \n",
       "Launa (PNG)         4566 "
      ]
     },
     "metadata": {},
     "output_type": "display_data"
    }
   ],
   "source": [
    "heptathlon"
   ]
  },
  {
   "cell_type": "code",
   "execution_count": 17,
   "id": "94c5be95",
   "metadata": {},
   "outputs": [],
   "source": [
    "# 52p\n",
    "library(stats)"
   ]
  },
  {
   "cell_type": "code",
   "execution_count": 18,
   "id": "a6c39400",
   "metadata": {},
   "outputs": [],
   "source": [
    "hep.data = heptathlon[,-8]"
   ]
  },
  {
   "cell_type": "code",
   "execution_count": 19,
   "id": "cbeb2687",
   "metadata": {},
   "outputs": [],
   "source": [
    "# princomp함수는 주성분 분석이다\n",
    "heptathlon.pca = princomp(hep.data, cor=T, scores=T)"
   ]
  },
  {
   "cell_type": "code",
   "execution_count": 20,
   "id": "83ce035b",
   "metadata": {},
   "outputs": [
    {
     "data": {
      "text/html": [
       "<style>\n",
       ".list-inline {list-style: none; margin:0; padding: 0}\n",
       ".list-inline>li {display: inline-block}\n",
       ".list-inline>li:not(:last-child)::after {content: \"\\00b7\"; padding: 0 .5ex}\n",
       "</style>\n",
       "<ol class=list-inline><li>'sdev'</li><li>'loadings'</li><li>'center'</li><li>'scale'</li><li>'n.obs'</li><li>'scores'</li><li>'call'</li></ol>\n"
      ],
      "text/latex": [
       "\\begin{enumerate*}\n",
       "\\item 'sdev'\n",
       "\\item 'loadings'\n",
       "\\item 'center'\n",
       "\\item 'scale'\n",
       "\\item 'n.obs'\n",
       "\\item 'scores'\n",
       "\\item 'call'\n",
       "\\end{enumerate*}\n"
      ],
      "text/markdown": [
       "1. 'sdev'\n",
       "2. 'loadings'\n",
       "3. 'center'\n",
       "4. 'scale'\n",
       "5. 'n.obs'\n",
       "6. 'scores'\n",
       "7. 'call'\n",
       "\n",
       "\n"
      ],
      "text/plain": [
       "[1] \"sdev\"     \"loadings\" \"center\"   \"scale\"    \"n.obs\"    \"scores\"   \"call\"    "
      ]
     },
     "metadata": {},
     "output_type": "display_data"
    }
   ],
   "source": [
    "names(heptathlon.pca)"
   ]
  },
  {
   "cell_type": "code",
   "execution_count": 21,
   "id": "506a4d52",
   "metadata": {},
   "outputs": [
    {
     "data": {
      "text/plain": [
       "Call:\n",
       "princomp(x = hep.data, cor = T, scores = T)\n",
       "\n",
       "Standard deviations:\n",
       "   Comp.1    Comp.2    Comp.3    Comp.4    Comp.5    Comp.6    Comp.7 \n",
       "2.1119364 1.0928497 0.7218131 0.6761411 0.4952441 0.2701029 0.2213617 \n",
       "\n",
       " 7  variables and  25 observations."
      ]
     },
     "metadata": {},
     "output_type": "display_data"
    }
   ],
   "source": [
    "heptathlon.pca"
   ]
  },
  {
   "cell_type": "code",
   "execution_count": null,
   "id": "93d9c347",
   "metadata": {},
   "outputs": [],
   "source": []
  }
 ],
 "metadata": {
  "kernelspec": {
   "display_name": "R",
   "language": "R",
   "name": "ir"
  },
  "language_info": {
   "codemirror_mode": "r",
   "file_extension": ".r",
   "mimetype": "text/x-r-source",
   "name": "R",
   "pygments_lexer": "r",
   "version": "4.1.2"
  }
 },
 "nbformat": 4,
 "nbformat_minor": 5
}
