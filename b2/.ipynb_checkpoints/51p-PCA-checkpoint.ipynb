{
 "cells": [
  {
   "cell_type": "code",
   "execution_count": 1,
   "id": "0ca51c7d",
   "metadata": {},
   "outputs": [
    {
     "name": "stderr",
     "output_type": "stream",
     "text": [
      "필요한 패키지를 로딩중입니다: tools\n",
      "\n"
     ]
    }
   ],
   "source": [
    "# install.packages('HSAUR')\n",
    "library(HSAUR)"
   ]
  },
  {
   "cell_type": "code",
   "execution_count": 44,
   "id": "b476e4bd",
   "metadata": {},
   "outputs": [],
   "source": [
    "data(heptathlon)"
   ]
  },
  {
   "cell_type": "code",
   "execution_count": 46,
   "id": "9a8cddec",
   "metadata": {},
   "outputs": [
    {
     "data": {
      "text/html": [
       "<table class=\"dataframe\">\n",
       "<caption>A data.frame: 6 × 8</caption>\n",
       "<thead>\n",
       "\t<tr><th></th><th scope=col>hurdles</th><th scope=col>highjump</th><th scope=col>shot</th><th scope=col>run200m</th><th scope=col>longjump</th><th scope=col>javelin</th><th scope=col>run800m</th><th scope=col>score</th></tr>\n",
       "\t<tr><th></th><th scope=col>&lt;dbl&gt;</th><th scope=col>&lt;dbl&gt;</th><th scope=col>&lt;dbl&gt;</th><th scope=col>&lt;dbl&gt;</th><th scope=col>&lt;dbl&gt;</th><th scope=col>&lt;dbl&gt;</th><th scope=col>&lt;dbl&gt;</th><th scope=col>&lt;int&gt;</th></tr>\n",
       "</thead>\n",
       "<tbody>\n",
       "\t<tr><th scope=row>Joyner-Kersee (USA)</th><td>12.69</td><td>1.86</td><td>15.80</td><td>22.56</td><td>7.27</td><td>45.66</td><td>128.51</td><td>7291</td></tr>\n",
       "\t<tr><th scope=row>John (GDR)</th><td>12.85</td><td>1.80</td><td>16.23</td><td>23.65</td><td>6.71</td><td>42.56</td><td>126.12</td><td>6897</td></tr>\n",
       "\t<tr><th scope=row>Behmer (GDR)</th><td>13.20</td><td>1.83</td><td>14.20</td><td>23.10</td><td>6.68</td><td>44.54</td><td>124.20</td><td>6858</td></tr>\n",
       "\t<tr><th scope=row>Sablovskaite (URS)</th><td>13.61</td><td>1.80</td><td>15.23</td><td>23.92</td><td>6.25</td><td>42.78</td><td>132.24</td><td>6540</td></tr>\n",
       "\t<tr><th scope=row>Choubenkova (URS)</th><td>13.51</td><td>1.74</td><td>14.76</td><td>23.93</td><td>6.32</td><td>47.46</td><td>127.90</td><td>6540</td></tr>\n",
       "\t<tr><th scope=row>Schulz (GDR)</th><td>13.75</td><td>1.83</td><td>13.50</td><td>24.65</td><td>6.33</td><td>42.82</td><td>125.79</td><td>6411</td></tr>\n",
       "</tbody>\n",
       "</table>\n"
      ],
      "text/latex": [
       "A data.frame: 6 × 8\n",
       "\\begin{tabular}{r|llllllll}\n",
       "  & hurdles & highjump & shot & run200m & longjump & javelin & run800m & score\\\\\n",
       "  & <dbl> & <dbl> & <dbl> & <dbl> & <dbl> & <dbl> & <dbl> & <int>\\\\\n",
       "\\hline\n",
       "\tJoyner-Kersee (USA) & 12.69 & 1.86 & 15.80 & 22.56 & 7.27 & 45.66 & 128.51 & 7291\\\\\n",
       "\tJohn (GDR) & 12.85 & 1.80 & 16.23 & 23.65 & 6.71 & 42.56 & 126.12 & 6897\\\\\n",
       "\tBehmer (GDR) & 13.20 & 1.83 & 14.20 & 23.10 & 6.68 & 44.54 & 124.20 & 6858\\\\\n",
       "\tSablovskaite (URS) & 13.61 & 1.80 & 15.23 & 23.92 & 6.25 & 42.78 & 132.24 & 6540\\\\\n",
       "\tChoubenkova (URS) & 13.51 & 1.74 & 14.76 & 23.93 & 6.32 & 47.46 & 127.90 & 6540\\\\\n",
       "\tSchulz (GDR) & 13.75 & 1.83 & 13.50 & 24.65 & 6.33 & 42.82 & 125.79 & 6411\\\\\n",
       "\\end{tabular}\n"
      ],
      "text/markdown": [
       "\n",
       "A data.frame: 6 × 8\n",
       "\n",
       "| <!--/--> | hurdles &lt;dbl&gt; | highjump &lt;dbl&gt; | shot &lt;dbl&gt; | run200m &lt;dbl&gt; | longjump &lt;dbl&gt; | javelin &lt;dbl&gt; | run800m &lt;dbl&gt; | score &lt;int&gt; |\n",
       "|---|---|---|---|---|---|---|---|---|\n",
       "| Joyner-Kersee (USA) | 12.69 | 1.86 | 15.80 | 22.56 | 7.27 | 45.66 | 128.51 | 7291 |\n",
       "| John (GDR) | 12.85 | 1.80 | 16.23 | 23.65 | 6.71 | 42.56 | 126.12 | 6897 |\n",
       "| Behmer (GDR) | 13.20 | 1.83 | 14.20 | 23.10 | 6.68 | 44.54 | 124.20 | 6858 |\n",
       "| Sablovskaite (URS) | 13.61 | 1.80 | 15.23 | 23.92 | 6.25 | 42.78 | 132.24 | 6540 |\n",
       "| Choubenkova (URS) | 13.51 | 1.74 | 14.76 | 23.93 | 6.32 | 47.46 | 127.90 | 6540 |\n",
       "| Schulz (GDR) | 13.75 | 1.83 | 13.50 | 24.65 | 6.33 | 42.82 | 125.79 | 6411 |\n",
       "\n"
      ],
      "text/plain": [
       "                    hurdles highjump shot  run200m longjump javelin run800m\n",
       "Joyner-Kersee (USA) 12.69   1.86     15.80 22.56   7.27     45.66   128.51 \n",
       "John (GDR)          12.85   1.80     16.23 23.65   6.71     42.56   126.12 \n",
       "Behmer (GDR)        13.20   1.83     14.20 23.10   6.68     44.54   124.20 \n",
       "Sablovskaite (URS)  13.61   1.80     15.23 23.92   6.25     42.78   132.24 \n",
       "Choubenkova (URS)   13.51   1.74     14.76 23.93   6.32     47.46   127.90 \n",
       "Schulz (GDR)        13.75   1.83     13.50 24.65   6.33     42.82   125.79 \n",
       "                    score\n",
       "Joyner-Kersee (USA) 7291 \n",
       "John (GDR)          6897 \n",
       "Behmer (GDR)        6858 \n",
       "Sablovskaite (URS)  6540 \n",
       "Choubenkova (URS)   6540 \n",
       "Schulz (GDR)        6411 "
      ]
     },
     "metadata": {},
     "output_type": "display_data"
    }
   ],
   "source": [
    "head(heptathlon)"
   ]
  },
  {
   "cell_type": "code",
   "execution_count": 47,
   "id": "177f9615",
   "metadata": {},
   "outputs": [
    {
     "data": {
      "text/html": [
       "<style>\n",
       ".list-inline {list-style: none; margin:0; padding: 0}\n",
       ".list-inline>li {display: inline-block}\n",
       ".list-inline>li:not(:last-child)::after {content: \"\\00b7\"; padding: 0 .5ex}\n",
       "</style>\n",
       "<ol class=list-inline><li>3.73</li><li>3.57</li><li>3.22</li><li>2.81</li><li>2.91</li><li>2.67</li><li>3.04</li><li>2.87</li><li>2.79</li><li>3.17</li><li>2.67</li><li>3.18</li><li>2.57</li><li>2.71</li><li>2.63</li><li>2.49</li><li>2.95</li><li>2.35</li><li>2.03</li><li>2.38</li><li>2.11</li><li>2.19</li><li>1.57</li><li>1.89</li><li>0</li></ol>\n"
      ],
      "text/latex": [
       "\\begin{enumerate*}\n",
       "\\item 3.73\n",
       "\\item 3.57\n",
       "\\item 3.22\n",
       "\\item 2.81\n",
       "\\item 2.91\n",
       "\\item 2.67\n",
       "\\item 3.04\n",
       "\\item 2.87\n",
       "\\item 2.79\n",
       "\\item 3.17\n",
       "\\item 2.67\n",
       "\\item 3.18\n",
       "\\item 2.57\n",
       "\\item 2.71\n",
       "\\item 2.63\n",
       "\\item 2.49\n",
       "\\item 2.95\n",
       "\\item 2.35\n",
       "\\item 2.03\n",
       "\\item 2.38\n",
       "\\item 2.11\n",
       "\\item 2.19\n",
       "\\item 1.57\n",
       "\\item 1.89\n",
       "\\item 0\n",
       "\\end{enumerate*}\n"
      ],
      "text/markdown": [
       "1. 3.73\n",
       "2. 3.57\n",
       "3. 3.22\n",
       "4. 2.81\n",
       "5. 2.91\n",
       "6. 2.67\n",
       "7. 3.04\n",
       "8. 2.87\n",
       "9. 2.79\n",
       "10. 3.17\n",
       "11. 2.67\n",
       "12. 3.18\n",
       "13. 2.57\n",
       "14. 2.71\n",
       "15. 2.63\n",
       "16. 2.49\n",
       "17. 2.95\n",
       "18. 2.35\n",
       "19. 2.03\n",
       "20. 2.38\n",
       "21. 2.11\n",
       "22. 2.19\n",
       "23. 1.57\n",
       "24. 1.89\n",
       "25. 0\n",
       "\n",
       "\n"
      ],
      "text/plain": [
       " [1] 3.73 3.57 3.22 2.81 2.91 2.67 3.04 2.87 2.79 3.17 2.67 3.18 2.57 2.71 2.63\n",
       "[16] 2.49 2.95 2.35 2.03 2.38 2.11 2.19 1.57 1.89 0.00"
      ]
     },
     "metadata": {},
     "output_type": "display_data"
    }
   ],
   "source": [
    "# heptathlon$hurdles의 차이 구하기\n",
    "heptathlon$hurdles = max(heptathlon$hurdles) - heptathlon$hurdles\n",
    "heptathlon$hurdles"
   ]
  },
  {
   "cell_type": "code",
   "execution_count": 48,
   "id": "12729df3",
   "metadata": {},
   "outputs": [
    {
     "data": {
      "text/html": [
       "<style>\n",
       ".list-inline {list-style: none; margin:0; padding: 0}\n",
       ".list-inline>li {display: inline-block}\n",
       ".list-inline>li:not(:last-child)::after {content: \"\\00b7\"; padding: 0 .5ex}\n",
       "</style>\n",
       "<ol class=list-inline><li>4.05</li><li>2.96</li><li>3.51</li><li>2.69</li><li>2.68</li><li>1.96</li><li>3.02</li><li>2.13</li><li>1.75</li><li>3.02</li><li>1.58</li><li>3.02</li><li>1.74</li><li>1.83</li><li>2</li><li>1.61</li><li>1.14</li><li>1.78</li><li>1.69</li><li>1</li><li>0.919999999999998</li><li>1.11</li><li>1.38</li><li>0</li><li>0.449999999999999</li></ol>\n"
      ],
      "text/latex": [
       "\\begin{enumerate*}\n",
       "\\item 4.05\n",
       "\\item 2.96\n",
       "\\item 3.51\n",
       "\\item 2.69\n",
       "\\item 2.68\n",
       "\\item 1.96\n",
       "\\item 3.02\n",
       "\\item 2.13\n",
       "\\item 1.75\n",
       "\\item 3.02\n",
       "\\item 1.58\n",
       "\\item 3.02\n",
       "\\item 1.74\n",
       "\\item 1.83\n",
       "\\item 2\n",
       "\\item 1.61\n",
       "\\item 1.14\n",
       "\\item 1.78\n",
       "\\item 1.69\n",
       "\\item 1\n",
       "\\item 0.919999999999998\n",
       "\\item 1.11\n",
       "\\item 1.38\n",
       "\\item 0\n",
       "\\item 0.449999999999999\n",
       "\\end{enumerate*}\n"
      ],
      "text/markdown": [
       "1. 4.05\n",
       "2. 2.96\n",
       "3. 3.51\n",
       "4. 2.69\n",
       "5. 2.68\n",
       "6. 1.96\n",
       "7. 3.02\n",
       "8. 2.13\n",
       "9. 1.75\n",
       "10. 3.02\n",
       "11. 1.58\n",
       "12. 3.02\n",
       "13. 1.74\n",
       "14. 1.83\n",
       "15. 2\n",
       "16. 1.61\n",
       "17. 1.14\n",
       "18. 1.78\n",
       "19. 1.69\n",
       "20. 1\n",
       "21. 0.919999999999998\n",
       "22. 1.11\n",
       "23. 1.38\n",
       "24. 0\n",
       "25. 0.449999999999999\n",
       "\n",
       "\n"
      ],
      "text/plain": [
       " [1] 4.05 2.96 3.51 2.69 2.68 1.96 3.02 2.13 1.75 3.02 1.58 3.02 1.74 1.83 2.00\n",
       "[16] 1.61 1.14 1.78 1.69 1.00 0.92 1.11 1.38 0.00 0.45"
      ]
     },
     "metadata": {},
     "output_type": "display_data"
    }
   ],
   "source": [
    "# heptathlon$run200m의 차이 구하기\n",
    "heptathlon$run200m = max(heptathlon$run200m) - heptathlon$run200m\n",
    "heptathlon$run200m"
   ]
  },
  {
   "cell_type": "code",
   "execution_count": 49,
   "id": "de073005",
   "metadata": {},
   "outputs": [
    {
     "data": {
      "text/html": [
       "<style>\n",
       ".list-inline {list-style: none; margin:0; padding: 0}\n",
       ".list-inline>li {display: inline-block}\n",
       ".list-inline>li:not(:last-child)::after {content: \"\\00b7\"; padding: 0 .5ex}\n",
       "</style>\n",
       "<ol class=list-inline><li>34.92</li><li>37.31</li><li>39.23</li><li>31.19</li><li>35.53</li><li>37.64</li><li>30.89</li><li>29.78</li><li>27.38</li><li>28.69</li><li>31.94</li><li>30.89</li><li>28.5</li><li>20.61</li><li>26.37</li><li>16.76</li><li>24.95</li><li>17</li><li>25.41</li><li>29.53</li><li>30.08</li><li>19.41</li><li>26.13</li><li>24.26</li><li>0</li></ol>\n"
      ],
      "text/latex": [
       "\\begin{enumerate*}\n",
       "\\item 34.92\n",
       "\\item 37.31\n",
       "\\item 39.23\n",
       "\\item 31.19\n",
       "\\item 35.53\n",
       "\\item 37.64\n",
       "\\item 30.89\n",
       "\\item 29.78\n",
       "\\item 27.38\n",
       "\\item 28.69\n",
       "\\item 31.94\n",
       "\\item 30.89\n",
       "\\item 28.5\n",
       "\\item 20.61\n",
       "\\item 26.37\n",
       "\\item 16.76\n",
       "\\item 24.95\n",
       "\\item 17\n",
       "\\item 25.41\n",
       "\\item 29.53\n",
       "\\item 30.08\n",
       "\\item 19.41\n",
       "\\item 26.13\n",
       "\\item 24.26\n",
       "\\item 0\n",
       "\\end{enumerate*}\n"
      ],
      "text/markdown": [
       "1. 34.92\n",
       "2. 37.31\n",
       "3. 39.23\n",
       "4. 31.19\n",
       "5. 35.53\n",
       "6. 37.64\n",
       "7. 30.89\n",
       "8. 29.78\n",
       "9. 27.38\n",
       "10. 28.69\n",
       "11. 31.94\n",
       "12. 30.89\n",
       "13. 28.5\n",
       "14. 20.61\n",
       "15. 26.37\n",
       "16. 16.76\n",
       "17. 24.95\n",
       "18. 17\n",
       "19. 25.41\n",
       "20. 29.53\n",
       "21. 30.08\n",
       "22. 19.41\n",
       "23. 26.13\n",
       "24. 24.26\n",
       "25. 0\n",
       "\n",
       "\n"
      ],
      "text/plain": [
       " [1] 34.92 37.31 39.23 31.19 35.53 37.64 30.89 29.78 27.38 28.69 31.94 30.89\n",
       "[13] 28.50 20.61 26.37 16.76 24.95 17.00 25.41 29.53 30.08 19.41 26.13 24.26\n",
       "[25]  0.00"
      ]
     },
     "metadata": {},
     "output_type": "display_data"
    }
   ],
   "source": [
    "heptathlon$run800m = max(heptathlon$run800m) - heptathlon$run800m\n",
    "heptathlon$run800m"
   ]
  },
  {
   "cell_type": "code",
   "execution_count": 50,
   "id": "e7d75f83",
   "metadata": {},
   "outputs": [
    {
     "data": {
      "text/html": [
       "<table class=\"dataframe\">\n",
       "<caption>A data.frame: 25 × 8</caption>\n",
       "<thead>\n",
       "\t<tr><th></th><th scope=col>hurdles</th><th scope=col>highjump</th><th scope=col>shot</th><th scope=col>run200m</th><th scope=col>longjump</th><th scope=col>javelin</th><th scope=col>run800m</th><th scope=col>score</th></tr>\n",
       "\t<tr><th></th><th scope=col>&lt;dbl&gt;</th><th scope=col>&lt;dbl&gt;</th><th scope=col>&lt;dbl&gt;</th><th scope=col>&lt;dbl&gt;</th><th scope=col>&lt;dbl&gt;</th><th scope=col>&lt;dbl&gt;</th><th scope=col>&lt;dbl&gt;</th><th scope=col>&lt;int&gt;</th></tr>\n",
       "</thead>\n",
       "<tbody>\n",
       "\t<tr><th scope=row>Joyner-Kersee (USA)</th><td>3.73</td><td>1.86</td><td>15.80</td><td>4.05</td><td>7.27</td><td>45.66</td><td>34.92</td><td>7291</td></tr>\n",
       "\t<tr><th scope=row>John (GDR)</th><td>3.57</td><td>1.80</td><td>16.23</td><td>2.96</td><td>6.71</td><td>42.56</td><td>37.31</td><td>6897</td></tr>\n",
       "\t<tr><th scope=row>Behmer (GDR)</th><td>3.22</td><td>1.83</td><td>14.20</td><td>3.51</td><td>6.68</td><td>44.54</td><td>39.23</td><td>6858</td></tr>\n",
       "\t<tr><th scope=row>Sablovskaite (URS)</th><td>2.81</td><td>1.80</td><td>15.23</td><td>2.69</td><td>6.25</td><td>42.78</td><td>31.19</td><td>6540</td></tr>\n",
       "\t<tr><th scope=row>Choubenkova (URS)</th><td>2.91</td><td>1.74</td><td>14.76</td><td>2.68</td><td>6.32</td><td>47.46</td><td>35.53</td><td>6540</td></tr>\n",
       "\t<tr><th scope=row>Schulz (GDR)</th><td>2.67</td><td>1.83</td><td>13.50</td><td>1.96</td><td>6.33</td><td>42.82</td><td>37.64</td><td>6411</td></tr>\n",
       "\t<tr><th scope=row>Fleming (AUS)</th><td>3.04</td><td>1.80</td><td>12.88</td><td>3.02</td><td>6.37</td><td>40.28</td><td>30.89</td><td>6351</td></tr>\n",
       "\t<tr><th scope=row>Greiner (USA)</th><td>2.87</td><td>1.80</td><td>14.13</td><td>2.13</td><td>6.47</td><td>38.00</td><td>29.78</td><td>6297</td></tr>\n",
       "\t<tr><th scope=row>Lajbnerova (CZE)</th><td>2.79</td><td>1.83</td><td>14.28</td><td>1.75</td><td>6.11</td><td>42.20</td><td>27.38</td><td>6252</td></tr>\n",
       "\t<tr><th scope=row>Bouraga (URS)</th><td>3.17</td><td>1.77</td><td>12.62</td><td>3.02</td><td>6.28</td><td>39.06</td><td>28.69</td><td>6252</td></tr>\n",
       "\t<tr><th scope=row>Wijnsma (HOL)</th><td>2.67</td><td>1.86</td><td>13.01</td><td>1.58</td><td>6.34</td><td>37.86</td><td>31.94</td><td>6205</td></tr>\n",
       "\t<tr><th scope=row>Dimitrova (BUL)</th><td>3.18</td><td>1.80</td><td>12.88</td><td>3.02</td><td>6.37</td><td>40.28</td><td>30.89</td><td>6171</td></tr>\n",
       "\t<tr><th scope=row>Scheider (SWI)</th><td>2.57</td><td>1.86</td><td>11.58</td><td>1.74</td><td>6.05</td><td>47.50</td><td>28.50</td><td>6137</td></tr>\n",
       "\t<tr><th scope=row>Braun (FRG)</th><td>2.71</td><td>1.83</td><td>13.16</td><td>1.83</td><td>6.12</td><td>44.58</td><td>20.61</td><td>6109</td></tr>\n",
       "\t<tr><th scope=row>Ruotsalainen (FIN)</th><td>2.63</td><td>1.80</td><td>12.32</td><td>2.00</td><td>6.08</td><td>45.44</td><td>26.37</td><td>6101</td></tr>\n",
       "\t<tr><th scope=row>Yuping (CHN)</th><td>2.49</td><td>1.86</td><td>14.21</td><td>1.61</td><td>6.40</td><td>38.60</td><td>16.76</td><td>6087</td></tr>\n",
       "\t<tr><th scope=row>Hagger (GB)</th><td>2.95</td><td>1.80</td><td>12.75</td><td>1.14</td><td>6.34</td><td>35.76</td><td>24.95</td><td>5975</td></tr>\n",
       "\t<tr><th scope=row>Brown (USA)</th><td>2.35</td><td>1.83</td><td>12.69</td><td>1.78</td><td>6.13</td><td>44.34</td><td>17.00</td><td>5972</td></tr>\n",
       "\t<tr><th scope=row>Mulliner (GB)</th><td>2.03</td><td>1.71</td><td>12.68</td><td>1.69</td><td>6.10</td><td>37.76</td><td>25.41</td><td>5746</td></tr>\n",
       "\t<tr><th scope=row>Hautenauve (BEL)</th><td>2.38</td><td>1.77</td><td>11.81</td><td>1.00</td><td>5.99</td><td>35.68</td><td>29.53</td><td>5734</td></tr>\n",
       "\t<tr><th scope=row>Kytola (FIN)</th><td>2.11</td><td>1.77</td><td>11.66</td><td>0.92</td><td>5.75</td><td>39.48</td><td>30.08</td><td>5686</td></tr>\n",
       "\t<tr><th scope=row>Geremias (BRA)</th><td>2.19</td><td>1.71</td><td>12.95</td><td>1.11</td><td>5.50</td><td>39.64</td><td>19.41</td><td>5508</td></tr>\n",
       "\t<tr><th scope=row>Hui-Ing (TAI)</th><td>1.57</td><td>1.68</td><td>10.00</td><td>1.38</td><td>5.47</td><td>39.14</td><td>26.13</td><td>5290</td></tr>\n",
       "\t<tr><th scope=row>Jeong-Mi (KOR)</th><td>1.89</td><td>1.71</td><td>10.83</td><td>0.00</td><td>5.50</td><td>39.26</td><td>24.26</td><td>5289</td></tr>\n",
       "\t<tr><th scope=row>Launa (PNG)</th><td>0.00</td><td>1.50</td><td>11.78</td><td>0.45</td><td>4.88</td><td>46.38</td><td> 0.00</td><td>4566</td></tr>\n",
       "</tbody>\n",
       "</table>\n"
      ],
      "text/latex": [
       "A data.frame: 25 × 8\n",
       "\\begin{tabular}{r|llllllll}\n",
       "  & hurdles & highjump & shot & run200m & longjump & javelin & run800m & score\\\\\n",
       "  & <dbl> & <dbl> & <dbl> & <dbl> & <dbl> & <dbl> & <dbl> & <int>\\\\\n",
       "\\hline\n",
       "\tJoyner-Kersee (USA) & 3.73 & 1.86 & 15.80 & 4.05 & 7.27 & 45.66 & 34.92 & 7291\\\\\n",
       "\tJohn (GDR) & 3.57 & 1.80 & 16.23 & 2.96 & 6.71 & 42.56 & 37.31 & 6897\\\\\n",
       "\tBehmer (GDR) & 3.22 & 1.83 & 14.20 & 3.51 & 6.68 & 44.54 & 39.23 & 6858\\\\\n",
       "\tSablovskaite (URS) & 2.81 & 1.80 & 15.23 & 2.69 & 6.25 & 42.78 & 31.19 & 6540\\\\\n",
       "\tChoubenkova (URS) & 2.91 & 1.74 & 14.76 & 2.68 & 6.32 & 47.46 & 35.53 & 6540\\\\\n",
       "\tSchulz (GDR) & 2.67 & 1.83 & 13.50 & 1.96 & 6.33 & 42.82 & 37.64 & 6411\\\\\n",
       "\tFleming (AUS) & 3.04 & 1.80 & 12.88 & 3.02 & 6.37 & 40.28 & 30.89 & 6351\\\\\n",
       "\tGreiner (USA) & 2.87 & 1.80 & 14.13 & 2.13 & 6.47 & 38.00 & 29.78 & 6297\\\\\n",
       "\tLajbnerova (CZE) & 2.79 & 1.83 & 14.28 & 1.75 & 6.11 & 42.20 & 27.38 & 6252\\\\\n",
       "\tBouraga (URS) & 3.17 & 1.77 & 12.62 & 3.02 & 6.28 & 39.06 & 28.69 & 6252\\\\\n",
       "\tWijnsma (HOL) & 2.67 & 1.86 & 13.01 & 1.58 & 6.34 & 37.86 & 31.94 & 6205\\\\\n",
       "\tDimitrova (BUL) & 3.18 & 1.80 & 12.88 & 3.02 & 6.37 & 40.28 & 30.89 & 6171\\\\\n",
       "\tScheider (SWI) & 2.57 & 1.86 & 11.58 & 1.74 & 6.05 & 47.50 & 28.50 & 6137\\\\\n",
       "\tBraun (FRG) & 2.71 & 1.83 & 13.16 & 1.83 & 6.12 & 44.58 & 20.61 & 6109\\\\\n",
       "\tRuotsalainen (FIN) & 2.63 & 1.80 & 12.32 & 2.00 & 6.08 & 45.44 & 26.37 & 6101\\\\\n",
       "\tYuping (CHN) & 2.49 & 1.86 & 14.21 & 1.61 & 6.40 & 38.60 & 16.76 & 6087\\\\\n",
       "\tHagger (GB) & 2.95 & 1.80 & 12.75 & 1.14 & 6.34 & 35.76 & 24.95 & 5975\\\\\n",
       "\tBrown (USA) & 2.35 & 1.83 & 12.69 & 1.78 & 6.13 & 44.34 & 17.00 & 5972\\\\\n",
       "\tMulliner (GB) & 2.03 & 1.71 & 12.68 & 1.69 & 6.10 & 37.76 & 25.41 & 5746\\\\\n",
       "\tHautenauve (BEL) & 2.38 & 1.77 & 11.81 & 1.00 & 5.99 & 35.68 & 29.53 & 5734\\\\\n",
       "\tKytola (FIN) & 2.11 & 1.77 & 11.66 & 0.92 & 5.75 & 39.48 & 30.08 & 5686\\\\\n",
       "\tGeremias (BRA) & 2.19 & 1.71 & 12.95 & 1.11 & 5.50 & 39.64 & 19.41 & 5508\\\\\n",
       "\tHui-Ing (TAI) & 1.57 & 1.68 & 10.00 & 1.38 & 5.47 & 39.14 & 26.13 & 5290\\\\\n",
       "\tJeong-Mi (KOR) & 1.89 & 1.71 & 10.83 & 0.00 & 5.50 & 39.26 & 24.26 & 5289\\\\\n",
       "\tLauna (PNG) & 0.00 & 1.50 & 11.78 & 0.45 & 4.88 & 46.38 &  0.00 & 4566\\\\\n",
       "\\end{tabular}\n"
      ],
      "text/markdown": [
       "\n",
       "A data.frame: 25 × 8\n",
       "\n",
       "| <!--/--> | hurdles &lt;dbl&gt; | highjump &lt;dbl&gt; | shot &lt;dbl&gt; | run200m &lt;dbl&gt; | longjump &lt;dbl&gt; | javelin &lt;dbl&gt; | run800m &lt;dbl&gt; | score &lt;int&gt; |\n",
       "|---|---|---|---|---|---|---|---|---|\n",
       "| Joyner-Kersee (USA) | 3.73 | 1.86 | 15.80 | 4.05 | 7.27 | 45.66 | 34.92 | 7291 |\n",
       "| John (GDR) | 3.57 | 1.80 | 16.23 | 2.96 | 6.71 | 42.56 | 37.31 | 6897 |\n",
       "| Behmer (GDR) | 3.22 | 1.83 | 14.20 | 3.51 | 6.68 | 44.54 | 39.23 | 6858 |\n",
       "| Sablovskaite (URS) | 2.81 | 1.80 | 15.23 | 2.69 | 6.25 | 42.78 | 31.19 | 6540 |\n",
       "| Choubenkova (URS) | 2.91 | 1.74 | 14.76 | 2.68 | 6.32 | 47.46 | 35.53 | 6540 |\n",
       "| Schulz (GDR) | 2.67 | 1.83 | 13.50 | 1.96 | 6.33 | 42.82 | 37.64 | 6411 |\n",
       "| Fleming (AUS) | 3.04 | 1.80 | 12.88 | 3.02 | 6.37 | 40.28 | 30.89 | 6351 |\n",
       "| Greiner (USA) | 2.87 | 1.80 | 14.13 | 2.13 | 6.47 | 38.00 | 29.78 | 6297 |\n",
       "| Lajbnerova (CZE) | 2.79 | 1.83 | 14.28 | 1.75 | 6.11 | 42.20 | 27.38 | 6252 |\n",
       "| Bouraga (URS) | 3.17 | 1.77 | 12.62 | 3.02 | 6.28 | 39.06 | 28.69 | 6252 |\n",
       "| Wijnsma (HOL) | 2.67 | 1.86 | 13.01 | 1.58 | 6.34 | 37.86 | 31.94 | 6205 |\n",
       "| Dimitrova (BUL) | 3.18 | 1.80 | 12.88 | 3.02 | 6.37 | 40.28 | 30.89 | 6171 |\n",
       "| Scheider (SWI) | 2.57 | 1.86 | 11.58 | 1.74 | 6.05 | 47.50 | 28.50 | 6137 |\n",
       "| Braun (FRG) | 2.71 | 1.83 | 13.16 | 1.83 | 6.12 | 44.58 | 20.61 | 6109 |\n",
       "| Ruotsalainen (FIN) | 2.63 | 1.80 | 12.32 | 2.00 | 6.08 | 45.44 | 26.37 | 6101 |\n",
       "| Yuping (CHN) | 2.49 | 1.86 | 14.21 | 1.61 | 6.40 | 38.60 | 16.76 | 6087 |\n",
       "| Hagger (GB) | 2.95 | 1.80 | 12.75 | 1.14 | 6.34 | 35.76 | 24.95 | 5975 |\n",
       "| Brown (USA) | 2.35 | 1.83 | 12.69 | 1.78 | 6.13 | 44.34 | 17.00 | 5972 |\n",
       "| Mulliner (GB) | 2.03 | 1.71 | 12.68 | 1.69 | 6.10 | 37.76 | 25.41 | 5746 |\n",
       "| Hautenauve (BEL) | 2.38 | 1.77 | 11.81 | 1.00 | 5.99 | 35.68 | 29.53 | 5734 |\n",
       "| Kytola (FIN) | 2.11 | 1.77 | 11.66 | 0.92 | 5.75 | 39.48 | 30.08 | 5686 |\n",
       "| Geremias (BRA) | 2.19 | 1.71 | 12.95 | 1.11 | 5.50 | 39.64 | 19.41 | 5508 |\n",
       "| Hui-Ing (TAI) | 1.57 | 1.68 | 10.00 | 1.38 | 5.47 | 39.14 | 26.13 | 5290 |\n",
       "| Jeong-Mi (KOR) | 1.89 | 1.71 | 10.83 | 0.00 | 5.50 | 39.26 | 24.26 | 5289 |\n",
       "| Launa (PNG) | 0.00 | 1.50 | 11.78 | 0.45 | 4.88 | 46.38 |  0.00 | 4566 |\n",
       "\n"
      ],
      "text/plain": [
       "                    hurdles highjump shot  run200m longjump javelin run800m\n",
       "Joyner-Kersee (USA) 3.73    1.86     15.80 4.05    7.27     45.66   34.92  \n",
       "John (GDR)          3.57    1.80     16.23 2.96    6.71     42.56   37.31  \n",
       "Behmer (GDR)        3.22    1.83     14.20 3.51    6.68     44.54   39.23  \n",
       "Sablovskaite (URS)  2.81    1.80     15.23 2.69    6.25     42.78   31.19  \n",
       "Choubenkova (URS)   2.91    1.74     14.76 2.68    6.32     47.46   35.53  \n",
       "Schulz (GDR)        2.67    1.83     13.50 1.96    6.33     42.82   37.64  \n",
       "Fleming (AUS)       3.04    1.80     12.88 3.02    6.37     40.28   30.89  \n",
       "Greiner (USA)       2.87    1.80     14.13 2.13    6.47     38.00   29.78  \n",
       "Lajbnerova (CZE)    2.79    1.83     14.28 1.75    6.11     42.20   27.38  \n",
       "Bouraga (URS)       3.17    1.77     12.62 3.02    6.28     39.06   28.69  \n",
       "Wijnsma (HOL)       2.67    1.86     13.01 1.58    6.34     37.86   31.94  \n",
       "Dimitrova (BUL)     3.18    1.80     12.88 3.02    6.37     40.28   30.89  \n",
       "Scheider (SWI)      2.57    1.86     11.58 1.74    6.05     47.50   28.50  \n",
       "Braun (FRG)         2.71    1.83     13.16 1.83    6.12     44.58   20.61  \n",
       "Ruotsalainen (FIN)  2.63    1.80     12.32 2.00    6.08     45.44   26.37  \n",
       "Yuping (CHN)        2.49    1.86     14.21 1.61    6.40     38.60   16.76  \n",
       "Hagger (GB)         2.95    1.80     12.75 1.14    6.34     35.76   24.95  \n",
       "Brown (USA)         2.35    1.83     12.69 1.78    6.13     44.34   17.00  \n",
       "Mulliner (GB)       2.03    1.71     12.68 1.69    6.10     37.76   25.41  \n",
       "Hautenauve (BEL)    2.38    1.77     11.81 1.00    5.99     35.68   29.53  \n",
       "Kytola (FIN)        2.11    1.77     11.66 0.92    5.75     39.48   30.08  \n",
       "Geremias (BRA)      2.19    1.71     12.95 1.11    5.50     39.64   19.41  \n",
       "Hui-Ing (TAI)       1.57    1.68     10.00 1.38    5.47     39.14   26.13  \n",
       "Jeong-Mi (KOR)      1.89    1.71     10.83 0.00    5.50     39.26   24.26  \n",
       "Launa (PNG)         0.00    1.50     11.78 0.45    4.88     46.38    0.00  \n",
       "                    score\n",
       "Joyner-Kersee (USA) 7291 \n",
       "John (GDR)          6897 \n",
       "Behmer (GDR)        6858 \n",
       "Sablovskaite (URS)  6540 \n",
       "Choubenkova (URS)   6540 \n",
       "Schulz (GDR)        6411 \n",
       "Fleming (AUS)       6351 \n",
       "Greiner (USA)       6297 \n",
       "Lajbnerova (CZE)    6252 \n",
       "Bouraga (URS)       6252 \n",
       "Wijnsma (HOL)       6205 \n",
       "Dimitrova (BUL)     6171 \n",
       "Scheider (SWI)      6137 \n",
       "Braun (FRG)         6109 \n",
       "Ruotsalainen (FIN)  6101 \n",
       "Yuping (CHN)        6087 \n",
       "Hagger (GB)         5975 \n",
       "Brown (USA)         5972 \n",
       "Mulliner (GB)       5746 \n",
       "Hautenauve (BEL)    5734 \n",
       "Kytola (FIN)        5686 \n",
       "Geremias (BRA)      5508 \n",
       "Hui-Ing (TAI)       5290 \n",
       "Jeong-Mi (KOR)      5289 \n",
       "Launa (PNG)         4566 "
      ]
     },
     "metadata": {},
     "output_type": "display_data"
    }
   ],
   "source": [
    "heptathlon"
   ]
  },
  {
   "cell_type": "code",
   "execution_count": 51,
   "id": "267cf02c",
   "metadata": {},
   "outputs": [],
   "source": [
    "# 52p\n",
    "library(stats)"
   ]
  },
  {
   "cell_type": "code",
   "execution_count": 52,
   "id": "355bfe99",
   "metadata": {},
   "outputs": [],
   "source": [
    "hep.data = heptathlon[,-8]"
   ]
  },
  {
   "cell_type": "code",
   "execution_count": 53,
   "id": "aa9b4ba7",
   "metadata": {},
   "outputs": [],
   "source": [
    "# princomp함수는 주성분 분석이다\n",
    "heptathlon.pca = princomp(hep.data, cor=T, scores=T)"
   ]
  },
  {
   "cell_type": "code",
   "execution_count": 54,
   "id": "951da8fa",
   "metadata": {},
   "outputs": [
    {
     "data": {
      "text/html": [
       "<style>\n",
       ".list-inline {list-style: none; margin:0; padding: 0}\n",
       ".list-inline>li {display: inline-block}\n",
       ".list-inline>li:not(:last-child)::after {content: \"\\00b7\"; padding: 0 .5ex}\n",
       "</style>\n",
       "<ol class=list-inline><li>'sdev'</li><li>'loadings'</li><li>'center'</li><li>'scale'</li><li>'n.obs'</li><li>'scores'</li><li>'call'</li></ol>\n"
      ],
      "text/latex": [
       "\\begin{enumerate*}\n",
       "\\item 'sdev'\n",
       "\\item 'loadings'\n",
       "\\item 'center'\n",
       "\\item 'scale'\n",
       "\\item 'n.obs'\n",
       "\\item 'scores'\n",
       "\\item 'call'\n",
       "\\end{enumerate*}\n"
      ],
      "text/markdown": [
       "1. 'sdev'\n",
       "2. 'loadings'\n",
       "3. 'center'\n",
       "4. 'scale'\n",
       "5. 'n.obs'\n",
       "6. 'scores'\n",
       "7. 'call'\n",
       "\n",
       "\n"
      ],
      "text/plain": [
       "[1] \"sdev\"     \"loadings\" \"center\"   \"scale\"    \"n.obs\"    \"scores\"   \"call\"    "
      ]
     },
     "metadata": {},
     "output_type": "display_data"
    }
   ],
   "source": [
    "names(heptathlon.pca)"
   ]
  },
  {
   "cell_type": "code",
   "execution_count": 55,
   "id": "6051ef8e",
   "metadata": {},
   "outputs": [
    {
     "data": {
      "text/plain": [
       "Call:\n",
       "princomp(x = hep.data, cor = T, scores = T)\n",
       "\n",
       "Standard deviations:\n",
       "   Comp.1    Comp.2    Comp.3    Comp.4    Comp.5    Comp.6    Comp.7 \n",
       "2.1119364 1.0928497 0.7218131 0.6761411 0.4952441 0.2701029 0.2213617 \n",
       "\n",
       " 7  variables and  25 observations."
      ]
     },
     "metadata": {},
     "output_type": "display_data"
    }
   ],
   "source": [
    "heptathlon.pca"
   ]
  },
  {
   "cell_type": "code",
   "execution_count": 56,
   "id": "3c84c388",
   "metadata": {},
   "outputs": [
    {
     "data": {
      "text/plain": [
       "Importance of components:\n",
       "                          Comp.1    Comp.2     Comp.3     Comp.4     Comp.5\n",
       "Standard deviation     2.1119364 1.0928497 0.72181309 0.67614113 0.49524412\n",
       "Proportion of Variance 0.6371822 0.1706172 0.07443059 0.06530955 0.03503811\n",
       "Cumulative Proportion  0.6371822 0.8077994 0.88222998 0.94753952 0.98257763\n",
       "                           Comp.6      Comp.7\n",
       "Standard deviation     0.27010291 0.221361710\n",
       "Proportion of Variance 0.01042223 0.007000144\n",
       "Cumulative Proportion  0.99299986 1.000000000"
      ]
     },
     "metadata": {},
     "output_type": "display_data"
    }
   ],
   "source": [
    "summary(heptathlon.pca)"
   ]
  },
  {
   "cell_type": "code",
   "execution_count": 57,
   "id": "559d5c13",
   "metadata": {},
   "outputs": [
    {
     "data": {
      "text/html": [
       "<style>\n",
       ".dl-inline {width: auto; margin:0; padding: 0}\n",
       ".dl-inline>dt, .dl-inline>dd {float: none; width: auto; display: inline-block}\n",
       ".dl-inline>dt::after {content: \":\\0020\"; padding-right: .5ex}\n",
       ".dl-inline>dt:not(:first-of-type) {padding-left: .5ex}\n",
       "</style><dl class=dl-inline><dt>Comp.1</dt><dd>4.4602751573973</dd><dt>Comp.2</dt><dd>1.19432055727345</dd><dt>Comp.3</dt><dd>0.521014132544656</dd><dt>Comp.4</dt><dd>0.457166825251726</dd><dt>Comp.5</dt><dd>0.245266738672822</dd><dt>Comp.6</dt><dd>0.0729555823371052</dd><dt>Comp.7</dt><dd>0.0490010065229298</dd></dl>\n"
      ],
      "text/latex": [
       "\\begin{description*}\n",
       "\\item[Comp.1] 4.4602751573973\n",
       "\\item[Comp.2] 1.19432055727345\n",
       "\\item[Comp.3] 0.521014132544656\n",
       "\\item[Comp.4] 0.457166825251726\n",
       "\\item[Comp.5] 0.245266738672822\n",
       "\\item[Comp.6] 0.0729555823371052\n",
       "\\item[Comp.7] 0.0490010065229298\n",
       "\\end{description*}\n"
      ],
      "text/markdown": [
       "Comp.1\n",
       ":   4.4602751573973Comp.2\n",
       ":   1.19432055727345Comp.3\n",
       ":   0.521014132544656Comp.4\n",
       ":   0.457166825251726Comp.5\n",
       ":   0.245266738672822Comp.6\n",
       ":   0.0729555823371052Comp.7\n",
       ":   0.0490010065229298\n",
       "\n"
      ],
      "text/plain": [
       "    Comp.1     Comp.2     Comp.3     Comp.4     Comp.5     Comp.6     Comp.7 \n",
       "4.46027516 1.19432056 0.52101413 0.45716683 0.24526674 0.07295558 0.04900101 "
      ]
     },
     "metadata": {},
     "output_type": "display_data"
    }
   ],
   "source": [
    "# 표준편차의 제곱 = 분산 = 고유값\n",
    "eig.val = heptathlon.pca$sdev^2\n",
    "eig.val"
   ]
  },
  {
   "cell_type": "code",
   "execution_count": 58,
   "id": "79a52edc",
   "metadata": {},
   "outputs": [
    {
     "data": {
      "text/html": [
       "<table class=\"dataframe\">\n",
       "<caption>A matrix: 7 × 2 of type dbl</caption>\n",
       "<thead>\n",
       "\t<tr><th></th><th scope=col>Comp.1</th><th scope=col>Comp.2</th></tr>\n",
       "</thead>\n",
       "<tbody>\n",
       "\t<tr><th scope=row>hurdles</th><td>0.4528710</td><td> 0.15792058</td></tr>\n",
       "\t<tr><th scope=row>highjump</th><td>0.3771992</td><td> 0.24807386</td></tr>\n",
       "\t<tr><th scope=row>shot</th><td>0.3630725</td><td>-0.28940743</td></tr>\n",
       "\t<tr><th scope=row>run200m</th><td>0.4078950</td><td>-0.26038545</td></tr>\n",
       "\t<tr><th scope=row>longjump</th><td>0.4562318</td><td> 0.05587394</td></tr>\n",
       "\t<tr><th scope=row>javelin</th><td>0.0754090</td><td>-0.84169212</td></tr>\n",
       "\t<tr><th scope=row>run800m</th><td>0.3749594</td><td> 0.22448984</td></tr>\n",
       "</tbody>\n",
       "</table>\n"
      ],
      "text/latex": [
       "A matrix: 7 × 2 of type dbl\n",
       "\\begin{tabular}{r|ll}\n",
       "  & Comp.1 & Comp.2\\\\\n",
       "\\hline\n",
       "\thurdles & 0.4528710 &  0.15792058\\\\\n",
       "\thighjump & 0.3771992 &  0.24807386\\\\\n",
       "\tshot & 0.3630725 & -0.28940743\\\\\n",
       "\trun200m & 0.4078950 & -0.26038545\\\\\n",
       "\tlongjump & 0.4562318 &  0.05587394\\\\\n",
       "\tjavelin & 0.0754090 & -0.84169212\\\\\n",
       "\trun800m & 0.3749594 &  0.22448984\\\\\n",
       "\\end{tabular}\n"
      ],
      "text/markdown": [
       "\n",
       "A matrix: 7 × 2 of type dbl\n",
       "\n",
       "| <!--/--> | Comp.1 | Comp.2 |\n",
       "|---|---|---|\n",
       "| hurdles | 0.4528710 |  0.15792058 |\n",
       "| highjump | 0.3771992 |  0.24807386 |\n",
       "| shot | 0.3630725 | -0.28940743 |\n",
       "| run200m | 0.4078950 | -0.26038545 |\n",
       "| longjump | 0.4562318 |  0.05587394 |\n",
       "| javelin | 0.0754090 | -0.84169212 |\n",
       "| run800m | 0.3749594 |  0.22448984 |\n",
       "\n"
      ],
      "text/plain": [
       "         Comp.1    Comp.2     \n",
       "hurdles  0.4528710  0.15792058\n",
       "highjump 0.3771992  0.24807386\n",
       "shot     0.3630725 -0.28940743\n",
       "run200m  0.4078950 -0.26038545\n",
       "longjump 0.4562318  0.05587394\n",
       "javelin  0.0754090 -0.84169212\n",
       "run800m  0.3749594  0.22448984"
      ]
     },
     "metadata": {},
     "output_type": "display_data"
    },
    {
     "data": {
      "image/png": "[encoded data removed]",
      "text/plain": [
       "Plot with title \"Scree Plot\""
      ]
     },
     "metadata": {
      "image/png": {
       "height": 420,
       "width": 420
      }
     },
     "output_type": "display_data"
    }
   ],
   "source": [
    "screeplot(heptathlon.pca, type='lines',pch=19, main='Scree Plot')\n",
    "heptathlon.pca$loadings[,1:2]"
   ]
  },
  {
   "cell_type": "code",
   "execution_count": 59,
   "id": "1a33121a",
   "metadata": {},
   "outputs": [
    {
     "data": {
      "text/html": [
       "<table class=\"dataframe\">\n",
       "<caption>A matrix: 25 × 2 of type dbl</caption>\n",
       "<thead>\n",
       "\t<tr><th></th><th scope=col>Comp.1</th><th scope=col>Comp.2</th></tr>\n",
       "</thead>\n",
       "<tbody>\n",
       "\t<tr><th scope=row>Joyner-Kersee (USA)</th><td> 4.20643487</td><td>-1.26802363</td></tr>\n",
       "\t<tr><th scope=row>John (GDR)</th><td> 2.94161870</td><td>-0.53452561</td></tr>\n",
       "\t<tr><th scope=row>Behmer (GDR)</th><td> 2.70427114</td><td>-0.69275901</td></tr>\n",
       "\t<tr><th scope=row>Sablovskaite (URS)</th><td> 1.37105209</td><td>-0.70655862</td></tr>\n",
       "\t<tr><th scope=row>Choubenkova (URS)</th><td> 1.38704979</td><td>-1.78931718</td></tr>\n",
       "\t<tr><th scope=row>Schulz (GDR)</th><td> 1.06537236</td><td> 0.08104469</td></tr>\n",
       "\t<tr><th scope=row>Fleming (AUS)</th><td> 1.12307639</td><td> 0.33042906</td></tr>\n",
       "\t<tr><th scope=row>Greiner (USA)</th><td> 0.94221015</td><td> 0.82345074</td></tr>\n",
       "\t<tr><th scope=row>Lajbnerova (CZE)</th><td> 0.54118484</td><td>-0.14933917</td></tr>\n",
       "\t<tr><th scope=row>Bouraga (URS)</th><td> 0.77548704</td><td> 0.53686251</td></tr>\n",
       "\t<tr><th scope=row>Wijnsma (HOL)</th><td> 0.56773896</td><td> 1.42507414</td></tr>\n",
       "\t<tr><th scope=row>Dimitrova (BUL)</th><td> 1.21091937</td><td> 0.36106077</td></tr>\n",
       "\t<tr><th scope=row>Scheider (SWI)</th><td>-0.01578005</td><td>-0.82307249</td></tr>\n",
       "\t<tr><th scope=row>Braun (FRG)</th><td>-0.00385205</td><td>-0.72953750</td></tr>\n",
       "\t<tr><th scope=row>Ruotsalainen (FIN)</th><td>-0.09261899</td><td>-0.77877955</td></tr>\n",
       "\t<tr><th scope=row>Yuping (CHN)</th><td> 0.14005513</td><td> 0.54831883</td></tr>\n",
       "\t<tr><th scope=row>Hagger (GB)</th><td>-0.17465745</td><td> 1.77914066</td></tr>\n",
       "\t<tr><th scope=row>Brown (USA)</th><td>-0.52996001</td><td>-0.74195530</td></tr>\n",
       "\t<tr><th scope=row>Mulliner (GB)</th><td>-1.14869009</td><td> 0.64788023</td></tr>\n",
       "\t<tr><th scope=row>Hautenauve (BEL)</th><td>-1.10808552</td><td> 1.88531477</td></tr>\n",
       "\t<tr><th scope=row>Kytola (FIN)</th><td>-1.47689483</td><td> 0.94353198</td></tr>\n",
       "\t<tr><th scope=row>Geremias (BRA)</th><td>-2.05556037</td><td> 0.09495979</td></tr>\n",
       "\t<tr><th scope=row>Hui-Ing (TAI)</th><td>-2.93969248</td><td> 0.67514662</td></tr>\n",
       "\t<tr><th scope=row>Jeong-Mi (KOR)</th><td>-3.03136461</td><td> 0.97939889</td></tr>\n",
       "\t<tr><th scope=row>Launa (PNG)</th><td>-6.39931438</td><td>-2.89774561</td></tr>\n",
       "</tbody>\n",
       "</table>\n"
      ],
      "text/latex": [
       "A matrix: 25 × 2 of type dbl\n",
       "\\begin{tabular}{r|ll}\n",
       "  & Comp.1 & Comp.2\\\\\n",
       "\\hline\n",
       "\tJoyner-Kersee (USA) &  4.20643487 & -1.26802363\\\\\n",
       "\tJohn (GDR) &  2.94161870 & -0.53452561\\\\\n",
       "\tBehmer (GDR) &  2.70427114 & -0.69275901\\\\\n",
       "\tSablovskaite (URS) &  1.37105209 & -0.70655862\\\\\n",
       "\tChoubenkova (URS) &  1.38704979 & -1.78931718\\\\\n",
       "\tSchulz (GDR) &  1.06537236 &  0.08104469\\\\\n",
       "\tFleming (AUS) &  1.12307639 &  0.33042906\\\\\n",
       "\tGreiner (USA) &  0.94221015 &  0.82345074\\\\\n",
       "\tLajbnerova (CZE) &  0.54118484 & -0.14933917\\\\\n",
       "\tBouraga (URS) &  0.77548704 &  0.53686251\\\\\n",
       "\tWijnsma (HOL) &  0.56773896 &  1.42507414\\\\\n",
       "\tDimitrova (BUL) &  1.21091937 &  0.36106077\\\\\n",
       "\tScheider (SWI) & -0.01578005 & -0.82307249\\\\\n",
       "\tBraun (FRG) & -0.00385205 & -0.72953750\\\\\n",
       "\tRuotsalainen (FIN) & -0.09261899 & -0.77877955\\\\\n",
       "\tYuping (CHN) &  0.14005513 &  0.54831883\\\\\n",
       "\tHagger (GB) & -0.17465745 &  1.77914066\\\\\n",
       "\tBrown (USA) & -0.52996001 & -0.74195530\\\\\n",
       "\tMulliner (GB) & -1.14869009 &  0.64788023\\\\\n",
       "\tHautenauve (BEL) & -1.10808552 &  1.88531477\\\\\n",
       "\tKytola (FIN) & -1.47689483 &  0.94353198\\\\\n",
       "\tGeremias (BRA) & -2.05556037 &  0.09495979\\\\\n",
       "\tHui-Ing (TAI) & -2.93969248 &  0.67514662\\\\\n",
       "\tJeong-Mi (KOR) & -3.03136461 &  0.97939889\\\\\n",
       "\tLauna (PNG) & -6.39931438 & -2.89774561\\\\\n",
       "\\end{tabular}\n"
      ],
      "text/markdown": [
       "\n",
       "A matrix: 25 × 2 of type dbl\n",
       "\n",
       "| <!--/--> | Comp.1 | Comp.2 |\n",
       "|---|---|---|\n",
       "| Joyner-Kersee (USA) |  4.20643487 | -1.26802363 |\n",
       "| John (GDR) |  2.94161870 | -0.53452561 |\n",
       "| Behmer (GDR) |  2.70427114 | -0.69275901 |\n",
       "| Sablovskaite (URS) |  1.37105209 | -0.70655862 |\n",
       "| Choubenkova (URS) |  1.38704979 | -1.78931718 |\n",
       "| Schulz (GDR) |  1.06537236 |  0.08104469 |\n",
       "| Fleming (AUS) |  1.12307639 |  0.33042906 |\n",
       "| Greiner (USA) |  0.94221015 |  0.82345074 |\n",
       "| Lajbnerova (CZE) |  0.54118484 | -0.14933917 |\n",
       "| Bouraga (URS) |  0.77548704 |  0.53686251 |\n",
       "| Wijnsma (HOL) |  0.56773896 |  1.42507414 |\n",
       "| Dimitrova (BUL) |  1.21091937 |  0.36106077 |\n",
       "| Scheider (SWI) | -0.01578005 | -0.82307249 |\n",
       "| Braun (FRG) | -0.00385205 | -0.72953750 |\n",
       "| Ruotsalainen (FIN) | -0.09261899 | -0.77877955 |\n",
       "| Yuping (CHN) |  0.14005513 |  0.54831883 |\n",
       "| Hagger (GB) | -0.17465745 |  1.77914066 |\n",
       "| Brown (USA) | -0.52996001 | -0.74195530 |\n",
       "| Mulliner (GB) | -1.14869009 |  0.64788023 |\n",
       "| Hautenauve (BEL) | -1.10808552 |  1.88531477 |\n",
       "| Kytola (FIN) | -1.47689483 |  0.94353198 |\n",
       "| Geremias (BRA) | -2.05556037 |  0.09495979 |\n",
       "| Hui-Ing (TAI) | -2.93969248 |  0.67514662 |\n",
       "| Jeong-Mi (KOR) | -3.03136461 |  0.97939889 |\n",
       "| Launa (PNG) | -6.39931438 | -2.89774561 |\n",
       "\n"
      ],
      "text/plain": [
       "                    Comp.1      Comp.2     \n",
       "Joyner-Kersee (USA)  4.20643487 -1.26802363\n",
       "John (GDR)           2.94161870 -0.53452561\n",
       "Behmer (GDR)         2.70427114 -0.69275901\n",
       "Sablovskaite (URS)   1.37105209 -0.70655862\n",
       "Choubenkova (URS)    1.38704979 -1.78931718\n",
       "Schulz (GDR)         1.06537236  0.08104469\n",
       "Fleming (AUS)        1.12307639  0.33042906\n",
       "Greiner (USA)        0.94221015  0.82345074\n",
       "Lajbnerova (CZE)     0.54118484 -0.14933917\n",
       "Bouraga (URS)        0.77548704  0.53686251\n",
       "Wijnsma (HOL)        0.56773896  1.42507414\n",
       "Dimitrova (BUL)      1.21091937  0.36106077\n",
       "Scheider (SWI)      -0.01578005 -0.82307249\n",
       "Braun (FRG)         -0.00385205 -0.72953750\n",
       "Ruotsalainen (FIN)  -0.09261899 -0.77877955\n",
       "Yuping (CHN)         0.14005513  0.54831883\n",
       "Hagger (GB)         -0.17465745  1.77914066\n",
       "Brown (USA)         -0.52996001 -0.74195530\n",
       "Mulliner (GB)       -1.14869009  0.64788023\n",
       "Hautenauve (BEL)    -1.10808552  1.88531477\n",
       "Kytola (FIN)        -1.47689483  0.94353198\n",
       "Geremias (BRA)      -2.05556037  0.09495979\n",
       "Hui-Ing (TAI)       -2.93969248  0.67514662\n",
       "Jeong-Mi (KOR)      -3.03136461  0.97939889\n",
       "Launa (PNG)         -6.39931438 -2.89774561"
      ]
     },
     "metadata": {},
     "output_type": "display_data"
    }
   ],
   "source": [
    "heptathlon.pca$scores[,1:2]"
   ]
  },
  {
   "cell_type": "code",
   "execution_count": 60,
   "id": "6af87d2c",
   "metadata": {},
   "outputs": [
    {
     "data": {
      "image/png": "[encoded data removed]",
      "text/plain": [
       "Plot with title \"Biplot\""
      ]
     },
     "metadata": {
      "image/png": {
       "height": 420,
       "width": 420
      }
     },
     "output_type": "display_data"
    }
   ],
   "source": [
    "biplot(heptathlon.pca, cex=0.7, col=c('red','blue'), main='Biplot')"
   ]
  },
  {
   "cell_type": "code",
   "execution_count": null,
   "id": "86f0e9b7",
   "metadata": {},
   "outputs": [],
   "source": []
  }
 ],
 "metadata": {
  "kernelspec": {
   "display_name": "R",
   "language": "R",
   "name": "ir"
  },
  "language_info": {
   "codemirror_mode": "r",
   "file_extension": ".r",
   "mimetype": "text/x-r-source",
   "name": "R",
   "pygments_lexer": "r",
   "version": "4.1.2"
  }
 },
 "nbformat": 4,
 "nbformat_minor": 5
}
