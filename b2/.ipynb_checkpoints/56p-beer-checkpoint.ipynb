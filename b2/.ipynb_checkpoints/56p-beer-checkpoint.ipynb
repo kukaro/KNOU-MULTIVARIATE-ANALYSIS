{
 "cells": [
  {
   "cell_type": "code",
   "execution_count": 2,
   "id": "90e2919d",
   "metadata": {},
   "outputs": [],
   "source": [
    "library(xlsx)"
   ]
  },
  {
   "cell_type": "code",
   "execution_count": 5,
   "id": "d47c4b16",
   "metadata": {},
   "outputs": [],
   "source": [
    "beer = read.xlsx('../mvadata/beer.xlsx', 1)"
   ]
  },
  {
   "cell_type": "code",
   "execution_count": 7,
   "id": "d423c8e5",
   "metadata": {},
   "outputs": [
    {
     "data": {
      "text/html": [
       "<table class=\"dataframe\">\n",
       "<caption>A data.frame: 6 × 7</caption>\n",
       "<thead>\n",
       "\t<tr><th></th><th scope=col>cost</th><th scope=col>size</th><th scope=col>alcohol</th><th scope=col>reputat</th><th scope=col>color</th><th scope=col>aroma</th><th scope=col>taste</th></tr>\n",
       "\t<tr><th></th><th scope=col>&lt;dbl&gt;</th><th scope=col>&lt;dbl&gt;</th><th scope=col>&lt;dbl&gt;</th><th scope=col>&lt;dbl&gt;</th><th scope=col>&lt;dbl&gt;</th><th scope=col>&lt;dbl&gt;</th><th scope=col>&lt;dbl&gt;</th></tr>\n",
       "</thead>\n",
       "<tbody>\n",
       "\t<tr><th scope=row>1</th><td> 10</td><td>15</td><td>20</td><td> 85</td><td>40</td><td>30</td><td> 50</td></tr>\n",
       "\t<tr><th scope=row>2</th><td>100</td><td>70</td><td>50</td><td> 30</td><td>75</td><td>60</td><td> 80</td></tr>\n",
       "\t<tr><th scope=row>3</th><td> 65</td><td>30</td><td>35</td><td> 80</td><td>80</td><td>60</td><td> 90</td></tr>\n",
       "\t<tr><th scope=row>4</th><td>  0</td><td> 0</td><td>20</td><td> 30</td><td>80</td><td>90</td><td>100</td></tr>\n",
       "\t<tr><th scope=row>5</th><td> 10</td><td>25</td><td>10</td><td>100</td><td>50</td><td>40</td><td> 60</td></tr>\n",
       "\t<tr><th scope=row>6</th><td> 25</td><td>35</td><td>30</td><td> 40</td><td>45</td><td>30</td><td> 65</td></tr>\n",
       "</tbody>\n",
       "</table>\n"
      ],
      "text/latex": [
       "A data.frame: 6 × 7\n",
       "\\begin{tabular}{r|lllllll}\n",
       "  & cost & size & alcohol & reputat & color & aroma & taste\\\\\n",
       "  & <dbl> & <dbl> & <dbl> & <dbl> & <dbl> & <dbl> & <dbl>\\\\\n",
       "\\hline\n",
       "\t1 &  10 & 15 & 20 &  85 & 40 & 30 &  50\\\\\n",
       "\t2 & 100 & 70 & 50 &  30 & 75 & 60 &  80\\\\\n",
       "\t3 &  65 & 30 & 35 &  80 & 80 & 60 &  90\\\\\n",
       "\t4 &   0 &  0 & 20 &  30 & 80 & 90 & 100\\\\\n",
       "\t5 &  10 & 25 & 10 & 100 & 50 & 40 &  60\\\\\n",
       "\t6 &  25 & 35 & 30 &  40 & 45 & 30 &  65\\\\\n",
       "\\end{tabular}\n"
      ],
      "text/markdown": [
       "\n",
       "A data.frame: 6 × 7\n",
       "\n",
       "| <!--/--> | cost &lt;dbl&gt; | size &lt;dbl&gt; | alcohol &lt;dbl&gt; | reputat &lt;dbl&gt; | color &lt;dbl&gt; | aroma &lt;dbl&gt; | taste &lt;dbl&gt; |\n",
       "|---|---|---|---|---|---|---|---|\n",
       "| 1 |  10 | 15 | 20 |  85 | 40 | 30 |  50 |\n",
       "| 2 | 100 | 70 | 50 |  30 | 75 | 60 |  80 |\n",
       "| 3 |  65 | 30 | 35 |  80 | 80 | 60 |  90 |\n",
       "| 4 |   0 |  0 | 20 |  30 | 80 | 90 | 100 |\n",
       "| 5 |  10 | 25 | 10 | 100 | 50 | 40 |  60 |\n",
       "| 6 |  25 | 35 | 30 |  40 | 45 | 30 |  65 |\n",
       "\n"
      ],
      "text/plain": [
       "  cost size alcohol reputat color aroma taste\n",
       "1  10  15   20       85     40    30     50  \n",
       "2 100  70   50       30     75    60     80  \n",
       "3  65  30   35       80     80    60     90  \n",
       "4   0   0   20       30     80    90    100  \n",
       "5  10  25   10      100     50    40     60  \n",
       "6  25  35   30       40     45    30     65  "
      ]
     },
     "metadata": {},
     "output_type": "display_data"
    }
   ],
   "source": [
    "head(beer)"
   ]
  },
  {
   "cell_type": "code",
   "execution_count": 8,
   "id": "873e1778",
   "metadata": {},
   "outputs": [
    {
     "data": {
      "text/plain": [
       "      cost             size          alcohol         reputat      \n",
       " Min.   :  0.00   Min.   : 0.00   Min.   :10.00   Min.   : 30.00  \n",
       " 1st Qu.: 10.00   1st Qu.:10.00   1st Qu.:15.00   1st Qu.: 30.00  \n",
       " Median : 15.00   Median :15.00   Median :20.00   Median : 40.00  \n",
       " Mean   : 27.78   Mean   :22.22   Mean   :23.89   Mean   : 55.56  \n",
       " 3rd Qu.: 25.00   3rd Qu.:30.00   3rd Qu.:30.00   3rd Qu.: 80.00  \n",
       " Max.   :100.00   Max.   :70.00   Max.   :50.00   Max.   :100.00  \n",
       "     color           aroma           taste       \n",
       " Min.   :40.00   Min.   :30.00   Min.   : 50.00  \n",
       " 1st Qu.:50.00   1st Qu.:40.00   1st Qu.: 65.00  \n",
       " Median :60.00   Median :60.00   Median : 85.00  \n",
       " Mean   :63.89   Mean   :56.11   Mean   : 80.56  \n",
       " 3rd Qu.:80.00   3rd Qu.:65.00   3rd Qu.: 95.00  \n",
       " Max.   :95.00   Max.   :90.00   Max.   :100.00  "
      ]
     },
     "metadata": {},
     "output_type": "display_data"
    }
   ],
   "source": [
    "summary(beer)"
   ]
  },
  {
   "cell_type": "code",
   "execution_count": 9,
   "id": "c73344f5",
   "metadata": {},
   "outputs": [],
   "source": [
    "# 상관계수행렬 및 산점도행렬 보기"
   ]
  },
  {
   "cell_type": "code",
   "execution_count": 10,
   "id": "37246c2c",
   "metadata": {},
   "outputs": [
    {
     "data": {
      "text/html": [
       "<table class=\"dataframe\">\n",
       "<caption>A matrix: 7 × 7 of type dbl</caption>\n",
       "<thead>\n",
       "\t<tr><th></th><th scope=col>cost</th><th scope=col>size</th><th scope=col>alcohol</th><th scope=col>reputat</th><th scope=col>color</th><th scope=col>aroma</th><th scope=col>taste</th></tr>\n",
       "</thead>\n",
       "<tbody>\n",
       "\t<tr><th scope=row>cost</th><td> 1.00</td><td> 0.88</td><td> 0.88</td><td>-0.17</td><td> 0.32</td><td>-0.03</td><td> 0.05</td></tr>\n",
       "\t<tr><th scope=row>size</th><td> 0.88</td><td> 1.00</td><td> 0.82</td><td>-0.06</td><td> 0.01</td><td>-0.29</td><td>-0.31</td></tr>\n",
       "\t<tr><th scope=row>alcohol</th><td> 0.88</td><td> 0.82</td><td> 1.00</td><td>-0.36</td><td> 0.40</td><td> 0.10</td><td> 0.06</td></tr>\n",
       "\t<tr><th scope=row>reputat</th><td>-0.17</td><td>-0.06</td><td>-0.36</td><td> 1.00</td><td>-0.52</td><td>-0.52</td><td>-0.63</td></tr>\n",
       "\t<tr><th scope=row>color</th><td> 0.32</td><td> 0.01</td><td> 0.40</td><td>-0.52</td><td> 1.00</td><td> 0.82</td><td> 0.80</td></tr>\n",
       "\t<tr><th scope=row>aroma</th><td>-0.03</td><td>-0.29</td><td> 0.10</td><td>-0.52</td><td> 0.82</td><td> 1.00</td><td> 0.87</td></tr>\n",
       "\t<tr><th scope=row>taste</th><td> 0.05</td><td>-0.31</td><td> 0.06</td><td>-0.63</td><td> 0.80</td><td> 0.87</td><td> 1.00</td></tr>\n",
       "</tbody>\n",
       "</table>\n"
      ],
      "text/latex": [
       "A matrix: 7 × 7 of type dbl\n",
       "\\begin{tabular}{r|lllllll}\n",
       "  & cost & size & alcohol & reputat & color & aroma & taste\\\\\n",
       "\\hline\n",
       "\tcost &  1.00 &  0.88 &  0.88 & -0.17 &  0.32 & -0.03 &  0.05\\\\\n",
       "\tsize &  0.88 &  1.00 &  0.82 & -0.06 &  0.01 & -0.29 & -0.31\\\\\n",
       "\talcohol &  0.88 &  0.82 &  1.00 & -0.36 &  0.40 &  0.10 &  0.06\\\\\n",
       "\treputat & -0.17 & -0.06 & -0.36 &  1.00 & -0.52 & -0.52 & -0.63\\\\\n",
       "\tcolor &  0.32 &  0.01 &  0.40 & -0.52 &  1.00 &  0.82 &  0.80\\\\\n",
       "\taroma & -0.03 & -0.29 &  0.10 & -0.52 &  0.82 &  1.00 &  0.87\\\\\n",
       "\ttaste &  0.05 & -0.31 &  0.06 & -0.63 &  0.80 &  0.87 &  1.00\\\\\n",
       "\\end{tabular}\n"
      ],
      "text/markdown": [
       "\n",
       "A matrix: 7 × 7 of type dbl\n",
       "\n",
       "| <!--/--> | cost | size | alcohol | reputat | color | aroma | taste |\n",
       "|---|---|---|---|---|---|---|---|\n",
       "| cost |  1.00 |  0.88 |  0.88 | -0.17 |  0.32 | -0.03 |  0.05 |\n",
       "| size |  0.88 |  1.00 |  0.82 | -0.06 |  0.01 | -0.29 | -0.31 |\n",
       "| alcohol |  0.88 |  0.82 |  1.00 | -0.36 |  0.40 |  0.10 |  0.06 |\n",
       "| reputat | -0.17 | -0.06 | -0.36 |  1.00 | -0.52 | -0.52 | -0.63 |\n",
       "| color |  0.32 |  0.01 |  0.40 | -0.52 |  1.00 |  0.82 |  0.80 |\n",
       "| aroma | -0.03 | -0.29 |  0.10 | -0.52 |  0.82 |  1.00 |  0.87 |\n",
       "| taste |  0.05 | -0.31 |  0.06 | -0.63 |  0.80 |  0.87 |  1.00 |\n",
       "\n"
      ],
      "text/plain": [
       "        cost  size  alcohol reputat color aroma taste\n",
       "cost     1.00  0.88  0.88   -0.17    0.32 -0.03  0.05\n",
       "size     0.88  1.00  0.82   -0.06    0.01 -0.29 -0.31\n",
       "alcohol  0.88  0.82  1.00   -0.36    0.40  0.10  0.06\n",
       "reputat -0.17 -0.06 -0.36    1.00   -0.52 -0.52 -0.63\n",
       "color    0.32  0.01  0.40   -0.52    1.00  0.82  0.80\n",
       "aroma   -0.03 -0.29  0.10   -0.52    0.82  1.00  0.87\n",
       "taste    0.05 -0.31  0.06   -0.63    0.80  0.87  1.00"
      ]
     },
     "metadata": {},
     "output_type": "display_data"
    }
   ],
   "source": [
    "round(cor(beer), 2)"
   ]
  },
  {
   "cell_type": "code",
   "execution_count": 12,
   "id": "e2050260",
   "metadata": {},
   "outputs": [
    {
     "data": {
      "image/png": "[encoded data removed]",
      "text/plain": [
       "plot without title"
      ]
     },
     "metadata": {
      "image/png": {
       "height": 420,
       "width": 420
      }
     },
     "output_type": "display_data"
    }
   ],
   "source": [
    "plot(beer, pch=19)"
   ]
  },
  {
   "cell_type": "code",
   "execution_count": 13,
   "id": "8e5d4d2d",
   "metadata": {},
   "outputs": [],
   "source": [
    "library(stats)"
   ]
  },
  {
   "cell_type": "code",
   "execution_count": 14,
   "id": "6c7908ef",
   "metadata": {},
   "outputs": [
    {
     "data": {
      "text/plain": [
       "Call:\n",
       "princomp(x = beer, cor = F, scores = T)\n",
       "\n",
       "Standard deviations:\n",
       "   Comp.1    Comp.2    Comp.3    Comp.4    Comp.5    Comp.6    Comp.7 \n",
       "39.117489 34.783073 17.974805  8.456192  6.479111  4.381410  2.579257 \n",
       "\n",
       " 7  variables and  99 observations."
      ]
     },
     "metadata": {},
     "output_type": "display_data"
    }
   ],
   "source": [
    "beer.pca = princomp(beer, cor=F, scores=T)\n",
    "beer.pca"
   ]
  },
  {
   "cell_type": "code",
   "execution_count": 15,
   "id": "f9ee0062",
   "metadata": {},
   "outputs": [
    {
     "data": {
      "text/plain": [
       "Importance of components:\n",
       "                           Comp.1     Comp.2     Comp.3     Comp.4     Comp.5\n",
       "Standard deviation     39.1174891 34.7830731 17.9748054 8.45619163 6.47911123\n",
       "Proportion of Variance  0.4778119  0.3777904  0.1008889 0.02232876 0.01310829\n",
       "Cumulative Proportion   0.4778119  0.8556024  0.9564913 0.97882003 0.99192831\n",
       "                           Comp.6      Comp.7\n",
       "Standard deviation     4.38141009 2.579257268\n",
       "Proportion of Variance 0.00599436 0.002077325\n",
       "Cumulative Proportion  0.99792268 1.000000000"
      ]
     },
     "metadata": {},
     "output_type": "display_data"
    }
   ],
   "source": [
    "summary(beer.pca)"
   ]
  },
  {
   "cell_type": "code",
   "execution_count": 16,
   "id": "5e2deaec",
   "metadata": {},
   "outputs": [
    {
     "data": {
      "image/png": "[encoded data removed]",
      "text/plain": [
       "Plot with title \"beer.pca\""
      ]
     },
     "metadata": {
      "image/png": {
       "height": 420,
       "width": 420
      }
     },
     "output_type": "display_data"
    }
   ],
   "source": [
    "screeplot(beer.pca, type='lines', pch=19)"
   ]
  },
  {
   "cell_type": "code",
   "execution_count": 18,
   "id": "e4f33a18",
   "metadata": {},
   "outputs": [
    {
     "data": {
      "text/html": [
       "<table class=\"dataframe\">\n",
       "<caption>A matrix: 7 × 3 of type dbl</caption>\n",
       "<thead>\n",
       "\t<tr><th></th><th scope=col>Comp.1</th><th scope=col>Comp.2</th><th scope=col>Comp.3</th></tr>\n",
       "</thead>\n",
       "<tbody>\n",
       "\t<tr><th scope=row>cost</th><td> 0.7344197</td><td> 0.31868378</td><td> 0.1902272</td></tr>\n",
       "\t<tr><th scope=row>size</th><td> 0.3942553</td><td> 0.34017182</td><td>-0.1274959</td></tr>\n",
       "\t<tr><th scope=row>alcohol</th><td> 0.2831873</td><td> 0.06888179</td><td>-0.0370581</td></tr>\n",
       "\t<tr><th scope=row>reputat</th><td>-0.3356901</td><td> 0.49057105</td><td> 0.7861697</td></tr>\n",
       "\t<tr><th scope=row>color</th><td> 0.2657171</td><td>-0.34379889</td><td> 0.3862210</td></tr>\n",
       "\t<tr><th scope=row>aroma</th><td> 0.1398211</td><td>-0.48510439</td><td> 0.3693624</td></tr>\n",
       "\t<tr><th scope=row>taste</th><td> 0.1488354</td><td>-0.42871339</td><td> 0.2062207</td></tr>\n",
       "</tbody>\n",
       "</table>\n"
      ],
      "text/latex": [
       "A matrix: 7 × 3 of type dbl\n",
       "\\begin{tabular}{r|lll}\n",
       "  & Comp.1 & Comp.2 & Comp.3\\\\\n",
       "\\hline\n",
       "\tcost &  0.7344197 &  0.31868378 &  0.1902272\\\\\n",
       "\tsize &  0.3942553 &  0.34017182 & -0.1274959\\\\\n",
       "\talcohol &  0.2831873 &  0.06888179 & -0.0370581\\\\\n",
       "\treputat & -0.3356901 &  0.49057105 &  0.7861697\\\\\n",
       "\tcolor &  0.2657171 & -0.34379889 &  0.3862210\\\\\n",
       "\taroma &  0.1398211 & -0.48510439 &  0.3693624\\\\\n",
       "\ttaste &  0.1488354 & -0.42871339 &  0.2062207\\\\\n",
       "\\end{tabular}\n"
      ],
      "text/markdown": [
       "\n",
       "A matrix: 7 × 3 of type dbl\n",
       "\n",
       "| <!--/--> | Comp.1 | Comp.2 | Comp.3 |\n",
       "|---|---|---|---|\n",
       "| cost |  0.7344197 |  0.31868378 |  0.1902272 |\n",
       "| size |  0.3942553 |  0.34017182 | -0.1274959 |\n",
       "| alcohol |  0.2831873 |  0.06888179 | -0.0370581 |\n",
       "| reputat | -0.3356901 |  0.49057105 |  0.7861697 |\n",
       "| color |  0.2657171 | -0.34379889 |  0.3862210 |\n",
       "| aroma |  0.1398211 | -0.48510439 |  0.3693624 |\n",
       "| taste |  0.1488354 | -0.42871339 |  0.2062207 |\n",
       "\n"
      ],
      "text/plain": [
       "        Comp.1     Comp.2      Comp.3    \n",
       "cost     0.7344197  0.31868378  0.1902272\n",
       "size     0.3942553  0.34017182 -0.1274959\n",
       "alcohol  0.2831873  0.06888179 -0.0370581\n",
       "reputat -0.3356901  0.49057105  0.7861697\n",
       "color    0.2657171 -0.34379889  0.3862210\n",
       "aroma    0.1398211 -0.48510439  0.3693624\n",
       "taste    0.1488354 -0.42871339  0.2062207"
      ]
     },
     "metadata": {},
     "output_type": "display_data"
    }
   ],
   "source": [
    "beer.pca$loadings[,1:3]"
   ]
  },
  {
   "cell_type": "code",
   "execution_count": 19,
   "id": "6612bf46",
   "metadata": {},
   "outputs": [
    {
     "data": {
      "text/plain": [
       "\n",
       "Loadings:\n",
       "        Comp.1 Comp.2 Comp.3 Comp.4 Comp.5 Comp.6 Comp.7\n",
       "cost     0.734  0.319  0.190  0.396         0.173  0.359\n",
       "size     0.394  0.340 -0.127 -0.429  0.213 -0.618 -0.319\n",
       "alcohol  0.283               -0.329 -0.152  0.689 -0.554\n",
       "reputat -0.336  0.491  0.786                      -0.161\n",
       "color    0.266 -0.344  0.386 -0.199 -0.743 -0.254       \n",
       "aroma    0.140 -0.485  0.369 -0.452  0.570  0.125  0.254\n",
       "taste    0.149 -0.429  0.206  0.554  0.213 -0.183 -0.605\n",
       "\n",
       "               Comp.1 Comp.2 Comp.3 Comp.4 Comp.5 Comp.6 Comp.7\n",
       "SS loadings     1.000  1.000  1.000  1.000  1.000  1.000  1.000\n",
       "Proportion Var  0.143  0.143  0.143  0.143  0.143  0.143  0.143\n",
       "Cumulative Var  0.143  0.286  0.429  0.571  0.714  0.857  1.000"
      ]
     },
     "metadata": {},
     "output_type": "display_data"
    }
   ],
   "source": [
    "beer.pca$loadings"
   ]
  },
  {
   "cell_type": "code",
   "execution_count": 25,
   "id": "8515d1d9",
   "metadata": {},
   "outputs": [
    {
     "data": {
      "image/png": "[encoded data removed]",
      "text/plain": [
       "Plot with title \"Biplot\""
      ]
     },
     "metadata": {
      "image/png": {
       "height": 420,
       "width": 420
      }
     },
     "output_type": "display_data"
    }
   ],
   "source": [
    "biplot(beer.pca, cex=0.7, col=2:3, main='Biplot')"
   ]
  },
  {
   "cell_type": "code",
   "execution_count": 35,
   "id": "883b90c1",
   "metadata": {},
   "outputs": [
    {
     "data": {
      "image/png": "[encoded data removed]",
      "text/plain": [
       "plot without title"
      ]
     },
     "metadata": {
      "image/png": {
       "height": 420,
       "width": 420
      }
     },
     "output_type": "display_data"
    }
   ],
   "source": [
    "plot(beer[,c(1,2)])"
   ]
  },
  {
   "cell_type": "code",
   "execution_count": 111,
   "id": "b54efa41",
   "metadata": {},
   "outputs": [
    {
     "data": {
      "text/html": [
       "<table class=\"dataframe\">\n",
       "<caption>A matrix: 2 × 2 of type dbl</caption>\n",
       "<thead>\n",
       "\t<tr><th></th><th scope=col>cost</th><th scope=col>size</th></tr>\n",
       "</thead>\n",
       "<tbody>\n",
       "\t<tr><th scope=row>cost</th><td>1.00</td><td>0.88</td></tr>\n",
       "\t<tr><th scope=row>size</th><td>0.88</td><td>1.00</td></tr>\n",
       "</tbody>\n",
       "</table>\n"
      ],
      "text/latex": [
       "A matrix: 2 × 2 of type dbl\n",
       "\\begin{tabular}{r|ll}\n",
       "  & cost & size\\\\\n",
       "\\hline\n",
       "\tcost & 1.00 & 0.88\\\\\n",
       "\tsize & 0.88 & 1.00\\\\\n",
       "\\end{tabular}\n"
      ],
      "text/markdown": [
       "\n",
       "A matrix: 2 × 2 of type dbl\n",
       "\n",
       "| <!--/--> | cost | size |\n",
       "|---|---|---|\n",
       "| cost | 1.00 | 0.88 |\n",
       "| size | 0.88 | 1.00 |\n",
       "\n"
      ],
      "text/plain": [
       "     cost size\n",
       "cost 1.00 0.88\n",
       "size 0.88 1.00"
      ]
     },
     "metadata": {},
     "output_type": "display_data"
    }
   ],
   "source": [
    "round(cor(beer[,c(1,2)]), 2)"
   ]
  },
  {
   "cell_type": "code",
   "execution_count": 63,
   "id": "94dc8f96",
   "metadata": {},
   "outputs": [],
   "source": [
    "S <- round(cor(beer[,c(1,2)]), 2)\n",
    "a <- beer[,c(1,2)]"
   ]
  },
  {
   "cell_type": "code",
   "execution_count": 64,
   "id": "1028f117",
   "metadata": {},
   "outputs": [],
   "source": [
    "scat <- S %*% as.matrix(t(a)) "
   ]
  },
  {
   "cell_type": "code",
   "execution_count": 68,
   "id": "2ab203ba",
   "metadata": {},
   "outputs": [
    {
     "data": {
      "text/html": [
       "<table class=\"dataframe\">\n",
       "<caption>A matrix: 2 × 99 of type dbl</caption>\n",
       "<tbody>\n",
       "\t<tr><th scope=row>cost</th><td>23.2</td><td>161.6</td><td>91.4</td><td>0</td><td>32.0</td><td>55.8</td><td>13.8</td><td>24.4</td><td>23.8</td><td>23.2</td><td>...</td><td>23.8</td><td>23.2</td><td>161.6</td><td>91.4</td><td>0</td><td>32.0</td><td>55.8</td><td>13.8</td><td>24.4</td><td>23.8</td></tr>\n",
       "\t<tr><th scope=row>size</th><td>23.8</td><td>158.0</td><td>87.2</td><td>0</td><td>33.8</td><td>57.0</td><td>14.4</td><td>22.6</td><td>23.2</td><td>23.8</td><td>...</td><td>23.2</td><td>23.8</td><td>158.0</td><td>87.2</td><td>0</td><td>33.8</td><td>57.0</td><td>14.4</td><td>22.6</td><td>23.2</td></tr>\n",
       "</tbody>\n",
       "</table>\n"
      ],
      "text/latex": [
       "A matrix: 2 × 99 of type dbl\n",
       "\\begin{tabular}{r|lllllllllllllllllllll}\n",
       "\tcost & 23.2 & 161.6 & 91.4 & 0 & 32.0 & 55.8 & 13.8 & 24.4 & 23.8 & 23.2 & ... & 23.8 & 23.2 & 161.6 & 91.4 & 0 & 32.0 & 55.8 & 13.8 & 24.4 & 23.8\\\\\n",
       "\tsize & 23.8 & 158.0 & 87.2 & 0 & 33.8 & 57.0 & 14.4 & 22.6 & 23.2 & 23.8 & ... & 23.2 & 23.8 & 158.0 & 87.2 & 0 & 33.8 & 57.0 & 14.4 & 22.6 & 23.2\\\\\n",
       "\\end{tabular}\n"
      ],
      "text/markdown": [
       "\n",
       "A matrix: 2 × 99 of type dbl\n",
       "\n",
       "| cost | 23.2 | 161.6 | 91.4 | 0 | 32.0 | 55.8 | 13.8 | 24.4 | 23.8 | 23.2 | ... | 23.8 | 23.2 | 161.6 | 91.4 | 0 | 32.0 | 55.8 | 13.8 | 24.4 | 23.8 |\n",
       "| size | 23.8 | 158.0 | 87.2 | 0 | 33.8 | 57.0 | 14.4 | 22.6 | 23.2 | 23.8 | ... | 23.2 | 23.8 | 158.0 | 87.2 | 0 | 33.8 | 57.0 | 14.4 | 22.6 | 23.2 |\n",
       "\n"
      ],
      "text/plain": [
       "     [,1] [,2]  [,3] [,4] [,5] [,6] [,7] [,8] [,9] [,10] [,11] [,12] [,13]\n",
       "cost 23.2 161.6 91.4 0    32.0 55.8 13.8 24.4 23.8 23.2  ...   23.8  23.2 \n",
       "size 23.8 158.0 87.2 0    33.8 57.0 14.4 22.6 23.2 23.8  ...   23.2  23.8 \n",
       "     [,14] [,15] [,16] [,17] [,18] [,19] [,20] [,21]\n",
       "cost 161.6 91.4  0     32.0  55.8  13.8  24.4  23.8 \n",
       "size 158.0 87.2  0     33.8  57.0  14.4  22.6  23.2 "
      ]
     },
     "metadata": {},
     "output_type": "display_data"
    }
   ],
   "source": [
    "scat"
   ]
  },
  {
   "cell_type": "code",
   "execution_count": 69,
   "id": "1f281ba8",
   "metadata": {},
   "outputs": [
    {
     "data": {
      "text/html": [
       "<table class=\"dataframe\">\n",
       "<caption>A matrix: 2 × 99 of type dbl</caption>\n",
       "<tbody>\n",
       "\t<tr><th scope=row>cost</th><td>10</td><td>100</td><td>65</td><td>0</td><td>10</td><td>25</td><td> 5</td><td>20</td><td>15</td><td>10</td><td>...</td><td>15</td><td>10</td><td>100</td><td>65</td><td>0</td><td>10</td><td>25</td><td> 5</td><td>20</td><td>15</td></tr>\n",
       "\t<tr><th scope=row>size</th><td>15</td><td> 70</td><td>30</td><td>0</td><td>25</td><td>35</td><td>10</td><td> 5</td><td>10</td><td>15</td><td>...</td><td>10</td><td>15</td><td> 70</td><td>30</td><td>0</td><td>25</td><td>35</td><td>10</td><td> 5</td><td>10</td></tr>\n",
       "</tbody>\n",
       "</table>\n"
      ],
      "text/latex": [
       "A matrix: 2 × 99 of type dbl\n",
       "\\begin{tabular}{r|lllllllllllllllllllll}\n",
       "\tcost & 10 & 100 & 65 & 0 & 10 & 25 &  5 & 20 & 15 & 10 & ... & 15 & 10 & 100 & 65 & 0 & 10 & 25 &  5 & 20 & 15\\\\\n",
       "\tsize & 15 &  70 & 30 & 0 & 25 & 35 & 10 &  5 & 10 & 15 & ... & 10 & 15 &  70 & 30 & 0 & 25 & 35 & 10 &  5 & 10\\\\\n",
       "\\end{tabular}\n"
      ],
      "text/markdown": [
       "\n",
       "A matrix: 2 × 99 of type dbl\n",
       "\n",
       "| cost | 10 | 100 | 65 | 0 | 10 | 25 |  5 | 20 | 15 | 10 | ... | 15 | 10 | 100 | 65 | 0 | 10 | 25 |  5 | 20 | 15 |\n",
       "| size | 15 |  70 | 30 | 0 | 25 | 35 | 10 |  5 | 10 | 15 | ... | 10 | 15 |  70 | 30 | 0 | 25 | 35 | 10 |  5 | 10 |\n",
       "\n"
      ],
      "text/plain": [
       "     [,1] [,2] [,3] [,4] [,5] [,6] [,7] [,8] [,9] [,10] [,11] [,12] [,13] [,14]\n",
       "cost 10   100  65   0    10   25    5   20   15   10    ...   15    10    100  \n",
       "size 15    70  30   0    25   35   10    5   10   15    ...   10    15     70  \n",
       "     [,15] [,16] [,17] [,18] [,19] [,20] [,21]\n",
       "cost 65    0     10    25     5    20    15   \n",
       "size 30    0     25    35    10     5    10   "
      ]
     },
     "metadata": {},
     "output_type": "display_data"
    }
   ],
   "source": [
    "t(a)"
   ]
  },
  {
   "cell_type": "code",
   "execution_count": 131,
   "id": "4da71e33",
   "metadata": {
    "scrolled": true
   },
   "outputs": [
    {
     "data": {
      "image/png": "[encoded data removed]",
      "text/plain": [
       "plot without title"
      ]
     },
     "metadata": {
      "image/png": {
       "height": 420,
       "width": 420
      }
     },
     "output_type": "display_data"
    }
   ],
   "source": [
    "plot(scat[1:99], \n",
    "    xlim=c(min(scat[1,]-1),max(scat[1,]+1)),\n",
    "    ylim=c(min(scat[2,]-1),max(scat[2,]+1))\n",
    ")"
   ]
  },
  {
   "cell_type": "code",
   "execution_count": 132,
   "id": "25dae933",
   "metadata": {
    "scrolled": false
   },
   "outputs": [
    {
     "data": {
      "text/html": [
       "<table class=\"dataframe\">\n",
       "<caption>A matrix: 2 × 99 of type dbl</caption>\n",
       "<tbody>\n",
       "\t<tr><th scope=row>cost</th><td>23.2</td><td>161.6</td><td>91.4</td><td>0</td><td>32.0</td><td>55.8</td><td>13.8</td><td>24.4</td><td>23.8</td><td>23.2</td><td>...</td><td>23.8</td><td>23.2</td><td>161.6</td><td>91.4</td><td>0</td><td>32.0</td><td>55.8</td><td>13.8</td><td>24.4</td><td>23.8</td></tr>\n",
       "\t<tr><th scope=row>size</th><td>23.8</td><td>158.0</td><td>87.2</td><td>0</td><td>33.8</td><td>57.0</td><td>14.4</td><td>22.6</td><td>23.2</td><td>23.8</td><td>...</td><td>23.2</td><td>23.8</td><td>158.0</td><td>87.2</td><td>0</td><td>33.8</td><td>57.0</td><td>14.4</td><td>22.6</td><td>23.2</td></tr>\n",
       "</tbody>\n",
       "</table>\n"
      ],
      "text/latex": [
       "A matrix: 2 × 99 of type dbl\n",
       "\\begin{tabular}{r|lllllllllllllllllllll}\n",
       "\tcost & 23.2 & 161.6 & 91.4 & 0 & 32.0 & 55.8 & 13.8 & 24.4 & 23.8 & 23.2 & ... & 23.8 & 23.2 & 161.6 & 91.4 & 0 & 32.0 & 55.8 & 13.8 & 24.4 & 23.8\\\\\n",
       "\tsize & 23.8 & 158.0 & 87.2 & 0 & 33.8 & 57.0 & 14.4 & 22.6 & 23.2 & 23.8 & ... & 23.2 & 23.8 & 158.0 & 87.2 & 0 & 33.8 & 57.0 & 14.4 & 22.6 & 23.2\\\\\n",
       "\\end{tabular}\n"
      ],
      "text/markdown": [
       "\n",
       "A matrix: 2 × 99 of type dbl\n",
       "\n",
       "| cost | 23.2 | 161.6 | 91.4 | 0 | 32.0 | 55.8 | 13.8 | 24.4 | 23.8 | 23.2 | ... | 23.8 | 23.2 | 161.6 | 91.4 | 0 | 32.0 | 55.8 | 13.8 | 24.4 | 23.8 |\n",
       "| size | 23.8 | 158.0 | 87.2 | 0 | 33.8 | 57.0 | 14.4 | 22.6 | 23.2 | 23.8 | ... | 23.2 | 23.8 | 158.0 | 87.2 | 0 | 33.8 | 57.0 | 14.4 | 22.6 | 23.2 |\n",
       "\n"
      ],
      "text/plain": [
       "     [,1] [,2]  [,3] [,4] [,5] [,6] [,7] [,8] [,9] [,10] [,11] [,12] [,13]\n",
       "cost 23.2 161.6 91.4 0    32.0 55.8 13.8 24.4 23.8 23.2  ...   23.8  23.2 \n",
       "size 23.8 158.0 87.2 0    33.8 57.0 14.4 22.6 23.2 23.8  ...   23.2  23.8 \n",
       "     [,14] [,15] [,16] [,17] [,18] [,19] [,20] [,21]\n",
       "cost 161.6 91.4  0     32.0  55.8  13.8  24.4  23.8 \n",
       "size 158.0 87.2  0     33.8  57.0  14.4  22.6  23.2 "
      ]
     },
     "metadata": {},
     "output_type": "display_data"
    }
   ],
   "source": [
    "scat[,1:99]"
   ]
  },
  {
   "cell_type": "code",
   "execution_count": 133,
   "id": "246ffa93",
   "metadata": {},
   "outputs": [
    {
     "data": {
      "text/html": [
       "<table class=\"dataframe\">\n",
       "<caption>A matrix: 2 × 99 of type dbl</caption>\n",
       "<tbody>\n",
       "\t<tr><th scope=row>cost</th><td>10</td><td>100</td><td>65</td><td>0</td><td>10</td><td>25</td><td> 5</td><td>20</td><td>15</td><td>10</td><td>...</td><td>15</td><td>10</td><td>100</td><td>65</td><td>0</td><td>10</td><td>25</td><td> 5</td><td>20</td><td>15</td></tr>\n",
       "\t<tr><th scope=row>size</th><td>15</td><td> 70</td><td>30</td><td>0</td><td>25</td><td>35</td><td>10</td><td> 5</td><td>10</td><td>15</td><td>...</td><td>10</td><td>15</td><td> 70</td><td>30</td><td>0</td><td>25</td><td>35</td><td>10</td><td> 5</td><td>10</td></tr>\n",
       "</tbody>\n",
       "</table>\n"
      ],
      "text/latex": [
       "A matrix: 2 × 99 of type dbl\n",
       "\\begin{tabular}{r|lllllllllllllllllllll}\n",
       "\tcost & 10 & 100 & 65 & 0 & 10 & 25 &  5 & 20 & 15 & 10 & ... & 15 & 10 & 100 & 65 & 0 & 10 & 25 &  5 & 20 & 15\\\\\n",
       "\tsize & 15 &  70 & 30 & 0 & 25 & 35 & 10 &  5 & 10 & 15 & ... & 10 & 15 &  70 & 30 & 0 & 25 & 35 & 10 &  5 & 10\\\\\n",
       "\\end{tabular}\n"
      ],
      "text/markdown": [
       "\n",
       "A matrix: 2 × 99 of type dbl\n",
       "\n",
       "| cost | 10 | 100 | 65 | 0 | 10 | 25 |  5 | 20 | 15 | 10 | ... | 15 | 10 | 100 | 65 | 0 | 10 | 25 |  5 | 20 | 15 |\n",
       "| size | 15 |  70 | 30 | 0 | 25 | 35 | 10 |  5 | 10 | 15 | ... | 10 | 15 |  70 | 30 | 0 | 25 | 35 | 10 |  5 | 10 |\n",
       "\n"
      ],
      "text/plain": [
       "     [,1] [,2] [,3] [,4] [,5] [,6] [,7] [,8] [,9] [,10] [,11] [,12] [,13] [,14]\n",
       "cost 10   100  65   0    10   25    5   20   15   10    ...   15    10    100  \n",
       "size 15    70  30   0    25   35   10    5   10   15    ...   10    15     70  \n",
       "     [,15] [,16] [,17] [,18] [,19] [,20] [,21]\n",
       "cost 65    0     10    25     5    20    15   \n",
       "size 30    0     25    35    10     5    10   "
      ]
     },
     "metadata": {},
     "output_type": "display_data"
    }
   ],
   "source": [
    "t(a)"
   ]
  },
  {
   "cell_type": "code",
   "execution_count": 136,
   "id": "2ef39f9f",
   "metadata": {},
   "outputs": [
    {
     "data": {
      "image/png": "[encoded data removed]",
      "text/plain": [
       "plot without title"
      ]
     },
     "metadata": {
      "image/png": {
       "height": 420,
       "width": 420
      }
     },
     "output_type": "display_data"
    }
   ],
   "source": [
    "plot(beer[1:99,c(1,2)])"
   ]
  },
  {
   "cell_type": "code",
   "execution_count": null,
   "id": "b7effc2f",
   "metadata": {},
   "outputs": [],
   "source": []
  }
 ],
 "metadata": {
  "kernelspec": {
   "display_name": "R",
   "language": "R",
   "name": "ir"
  },
  "language_info": {
   "codemirror_mode": "r",
   "file_extension": ".r",
   "mimetype": "text/x-r-source",
   "name": "R",
   "pygments_lexer": "r",
   "version": "4.1.2"
  }
 },
 "nbformat": 4,
 "nbformat_minor": 5
}
