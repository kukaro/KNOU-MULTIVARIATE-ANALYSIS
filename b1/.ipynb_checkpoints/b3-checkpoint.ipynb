{
 "cells": [
  {
   "cell_type": "code",
   "execution_count": 2,
   "id": "d9eb61bd",
   "metadata": {},
   "outputs": [],
   "source": [
    "hald.data <- read.table('../data2020/hald.txt', header = T)"
   ]
  },
  {
   "cell_type": "code",
   "execution_count": 3,
   "id": "15a85828",
   "metadata": {},
   "outputs": [
    {
     "data": {
      "text/html": [
       "<table class=\"dataframe\">\n",
       "<caption>A data.frame: 6 × 5</caption>\n",
       "<thead>\n",
       "\t<tr><th></th><th scope=col>X1</th><th scope=col>X2</th><th scope=col>X3</th><th scope=col>X4</th><th scope=col>Y</th></tr>\n",
       "\t<tr><th></th><th scope=col>&lt;int&gt;</th><th scope=col>&lt;int&gt;</th><th scope=col>&lt;int&gt;</th><th scope=col>&lt;int&gt;</th><th scope=col>&lt;dbl&gt;</th></tr>\n",
       "</thead>\n",
       "<tbody>\n",
       "\t<tr><th scope=row>1</th><td> 7</td><td>26</td><td> 6</td><td>60</td><td> 78.5</td></tr>\n",
       "\t<tr><th scope=row>2</th><td> 1</td><td>29</td><td>15</td><td>52</td><td> 74.3</td></tr>\n",
       "\t<tr><th scope=row>3</th><td>11</td><td>56</td><td> 8</td><td>20</td><td>104.3</td></tr>\n",
       "\t<tr><th scope=row>4</th><td>11</td><td>31</td><td> 8</td><td>47</td><td> 87.6</td></tr>\n",
       "\t<tr><th scope=row>5</th><td> 7</td><td>52</td><td> 6</td><td>33</td><td> 95.9</td></tr>\n",
       "\t<tr><th scope=row>6</th><td>11</td><td>55</td><td> 9</td><td>22</td><td>109.2</td></tr>\n",
       "</tbody>\n",
       "</table>\n"
      ],
      "text/latex": [
       "A data.frame: 6 × 5\n",
       "\\begin{tabular}{r|lllll}\n",
       "  & X1 & X2 & X3 & X4 & Y\\\\\n",
       "  & <int> & <int> & <int> & <int> & <dbl>\\\\\n",
       "\\hline\n",
       "\t1 &  7 & 26 &  6 & 60 &  78.5\\\\\n",
       "\t2 &  1 & 29 & 15 & 52 &  74.3\\\\\n",
       "\t3 & 11 & 56 &  8 & 20 & 104.3\\\\\n",
       "\t4 & 11 & 31 &  8 & 47 &  87.6\\\\\n",
       "\t5 &  7 & 52 &  6 & 33 &  95.9\\\\\n",
       "\t6 & 11 & 55 &  9 & 22 & 109.2\\\\\n",
       "\\end{tabular}\n"
      ],
      "text/markdown": [
       "\n",
       "A data.frame: 6 × 5\n",
       "\n",
       "| <!--/--> | X1 &lt;int&gt; | X2 &lt;int&gt; | X3 &lt;int&gt; | X4 &lt;int&gt; | Y &lt;dbl&gt; |\n",
       "|---|---|---|---|---|---|\n",
       "| 1 |  7 | 26 |  6 | 60 |  78.5 |\n",
       "| 2 |  1 | 29 | 15 | 52 |  74.3 |\n",
       "| 3 | 11 | 56 |  8 | 20 | 104.3 |\n",
       "| 4 | 11 | 31 |  8 | 47 |  87.6 |\n",
       "| 5 |  7 | 52 |  6 | 33 |  95.9 |\n",
       "| 6 | 11 | 55 |  9 | 22 | 109.2 |\n",
       "\n"
      ],
      "text/plain": [
       "  X1 X2 X3 X4 Y    \n",
       "1  7 26  6 60  78.5\n",
       "2  1 29 15 52  74.3\n",
       "3 11 56  8 20 104.3\n",
       "4 11 31  8 47  87.6\n",
       "5  7 52  6 33  95.9\n",
       "6 11 55  9 22 109.2"
      ]
     },
     "metadata": {},
     "output_type": "display_data"
    }
   ],
   "source": [
    "head(hald.data)"
   ]
  },
  {
   "cell_type": "code",
   "execution_count": 11,
   "id": "ffddedb9",
   "metadata": {},
   "outputs": [],
   "source": [
    "# lm = 회귀분석\n",
    "hald.ls <- lm(formula = Y ~ X1 + X2 + X3 + X4, data = hald.data)"
   ]
  },
  {
   "cell_type": "code",
   "execution_count": 12,
   "id": "00cac9e0",
   "metadata": {},
   "outputs": [
    {
     "data": {
      "text/plain": [
       "\n",
       "Call:\n",
       "lm(formula = Y ~ X1 + X2 + X3 + X4, data = hald.data)\n",
       "\n",
       "Coefficients:\n",
       "(Intercept)           X1           X2           X3           X4  \n",
       "    62.4054       1.5511       0.5102       0.1019      -0.1441  \n"
      ]
     },
     "metadata": {},
     "output_type": "display_data"
    }
   ],
   "source": [
    "hald.ls"
   ]
  },
  {
   "cell_type": "code",
   "execution_count": 13,
   "id": "24b801cc",
   "metadata": {},
   "outputs": [
    {
     "data": {
      "text/plain": [
       "\n",
       "Call:\n",
       "lm(formula = Y ~ X1 + X2 + X3 + X4, data = hald.data)\n",
       "\n",
       "Residuals:\n",
       "    Min      1Q  Median      3Q     Max \n",
       "-3.1750 -1.6709  0.2508  1.3783  3.9254 \n",
       "\n",
       "Coefficients:\n",
       "            Estimate Std. Error t value Pr(>|t|)  \n",
       "(Intercept)  62.4054    70.0710   0.891   0.3991  \n",
       "X1            1.5511     0.7448   2.083   0.0708 .\n",
       "X2            0.5102     0.7238   0.705   0.5009  \n",
       "X3            0.1019     0.7547   0.135   0.8959  \n",
       "X4           -0.1441     0.7091  -0.203   0.8441  \n",
       "---\n",
       "Signif. codes:  0 ‘***’ 0.001 ‘**’ 0.01 ‘*’ 0.05 ‘.’ 0.1 ‘ ’ 1\n",
       "\n",
       "Residual standard error: 2.446 on 8 degrees of freedom\n",
       "Multiple R-squared:  0.9824,\tAdjusted R-squared:  0.9736 \n",
       "F-statistic: 111.5 on 4 and 8 DF,  p-value: 4.756e-07\n"
      ]
     },
     "metadata": {},
     "output_type": "display_data"
    }
   ],
   "source": [
    "summary(hald.ls)"
   ]
  },
  {
   "cell_type": "code",
   "execution_count": 14,
   "id": "56ba9e16",
   "metadata": {},
   "outputs": [
    {
     "data": {
      "text/html": [
       "<table class=\"dataframe\">\n",
       "<caption>A anova: 5 × 5</caption>\n",
       "<thead>\n",
       "\t<tr><th></th><th scope=col>Df</th><th scope=col>Sum Sq</th><th scope=col>Mean Sq</th><th scope=col>F value</th><th scope=col>Pr(&gt;F)</th></tr>\n",
       "\t<tr><th></th><th scope=col>&lt;int&gt;</th><th scope=col>&lt;dbl&gt;</th><th scope=col>&lt;dbl&gt;</th><th scope=col>&lt;dbl&gt;</th><th scope=col>&lt;dbl&gt;</th></tr>\n",
       "</thead>\n",
       "<tbody>\n",
       "\t<tr><th scope=row>X1</th><td>1</td><td>1450.0763281</td><td>1450.0763281</td><td>242.36791816</td><td>2.887559e-07</td></tr>\n",
       "\t<tr><th scope=row>X2</th><td>1</td><td>1207.7822656</td><td>1207.7822656</td><td>201.87052753</td><td>5.863323e-07</td></tr>\n",
       "\t<tr><th scope=row>X3</th><td>1</td><td>   9.7938691</td><td>   9.7938691</td><td>  1.63696188</td><td>2.366003e-01</td></tr>\n",
       "\t<tr><th scope=row>X4</th><td>1</td><td>   0.2469747</td><td>   0.2469747</td><td>  0.04127972</td><td>8.440715e-01</td></tr>\n",
       "\t<tr><th scope=row>Residuals</th><td>8</td><td>  47.8636394</td><td>   5.9829549</td><td>          NA</td><td>          NA</td></tr>\n",
       "</tbody>\n",
       "</table>\n"
      ],
      "text/latex": [
       "A anova: 5 × 5\n",
       "\\begin{tabular}{r|lllll}\n",
       "  & Df & Sum Sq & Mean Sq & F value & Pr(>F)\\\\\n",
       "  & <int> & <dbl> & <dbl> & <dbl> & <dbl>\\\\\n",
       "\\hline\n",
       "\tX1 & 1 & 1450.0763281 & 1450.0763281 & 242.36791816 & 2.887559e-07\\\\\n",
       "\tX2 & 1 & 1207.7822656 & 1207.7822656 & 201.87052753 & 5.863323e-07\\\\\n",
       "\tX3 & 1 &    9.7938691 &    9.7938691 &   1.63696188 & 2.366003e-01\\\\\n",
       "\tX4 & 1 &    0.2469747 &    0.2469747 &   0.04127972 & 8.440715e-01\\\\\n",
       "\tResiduals & 8 &   47.8636394 &    5.9829549 &           NA &           NA\\\\\n",
       "\\end{tabular}\n"
      ],
      "text/markdown": [
       "\n",
       "A anova: 5 × 5\n",
       "\n",
       "| <!--/--> | Df &lt;int&gt; | Sum Sq &lt;dbl&gt; | Mean Sq &lt;dbl&gt; | F value &lt;dbl&gt; | Pr(&gt;F) &lt;dbl&gt; |\n",
       "|---|---|---|---|---|---|\n",
       "| X1 | 1 | 1450.0763281 | 1450.0763281 | 242.36791816 | 2.887559e-07 |\n",
       "| X2 | 1 | 1207.7822656 | 1207.7822656 | 201.87052753 | 5.863323e-07 |\n",
       "| X3 | 1 |    9.7938691 |    9.7938691 |   1.63696188 | 2.366003e-01 |\n",
       "| X4 | 1 |    0.2469747 |    0.2469747 |   0.04127972 | 8.440715e-01 |\n",
       "| Residuals | 8 |   47.8636394 |    5.9829549 |           NA |           NA |\n",
       "\n"
      ],
      "text/plain": [
       "          Df Sum Sq       Mean Sq      F value      Pr(>F)      \n",
       "X1        1  1450.0763281 1450.0763281 242.36791816 2.887559e-07\n",
       "X2        1  1207.7822656 1207.7822656 201.87052753 5.863323e-07\n",
       "X3        1     9.7938691    9.7938691   1.63696188 2.366003e-01\n",
       "X4        1     0.2469747    0.2469747   0.04127972 8.440715e-01\n",
       "Residuals 8    47.8636394    5.9829549           NA           NA"
      ]
     },
     "metadata": {},
     "output_type": "display_data"
    }
   ],
   "source": [
    "# anova = 분산분석\n",
    "anova(hald.ls)"
   ]
  },
  {
   "cell_type": "code",
   "execution_count": 16,
   "id": "648f45ab",
   "metadata": {},
   "outputs": [
    {
     "data": {
      "text/html": [
       "<style>\n",
       ".list-inline {list-style: none; margin:0; padding: 0}\n",
       ".list-inline>li {display: inline-block}\n",
       ".list-inline>li:not(:last-child)::after {content: \"\\00b7\"; padding: 0 .5ex}\n",
       "</style>\n",
       "<ol class=list-inline><li>1</li><li>2</li><li>3</li><li>4</li><li>5</li><li>6</li><li>7</li><li>8</li><li>9</li><li>10</li></ol>\n"
      ],
      "text/latex": [
       "\\begin{enumerate*}\n",
       "\\item 1\n",
       "\\item 2\n",
       "\\item 3\n",
       "\\item 4\n",
       "\\item 5\n",
       "\\item 6\n",
       "\\item 7\n",
       "\\item 8\n",
       "\\item 9\n",
       "\\item 10\n",
       "\\end{enumerate*}\n"
      ],
      "text/markdown": [
       "1. 1\n",
       "2. 2\n",
       "3. 3\n",
       "4. 4\n",
       "5. 5\n",
       "6. 6\n",
       "7. 7\n",
       "8. 8\n",
       "9. 9\n",
       "10. 10\n",
       "\n",
       "\n"
      ],
      "text/plain": [
       " [1]  1  2  3  4  5  6  7  8  9 10"
      ]
     },
     "metadata": {},
     "output_type": "display_data"
    }
   ],
   "source": [
    "a <- 1:10\n",
    "a"
   ]
  },
  {
   "cell_type": "code",
   "execution_count": 18,
   "id": "3938405c",
   "metadata": {},
   "outputs": [
    {
     "data": {
      "text/html": [
       "<style>\n",
       ".list-inline {list-style: none; margin:0; padding: 0}\n",
       ".list-inline>li {display: inline-block}\n",
       ".list-inline>li:not(:last-child)::after {content: \"\\00b7\"; padding: 0 .5ex}\n",
       "</style>\n",
       "<ol class=list-inline><li>20</li><li>19</li><li>18</li><li>17</li><li>16</li><li>15</li><li>14</li><li>13</li><li>12</li><li>11</li><li>10</li></ol>\n"
      ],
      "text/latex": [
       "\\begin{enumerate*}\n",
       "\\item 20\n",
       "\\item 19\n",
       "\\item 18\n",
       "\\item 17\n",
       "\\item 16\n",
       "\\item 15\n",
       "\\item 14\n",
       "\\item 13\n",
       "\\item 12\n",
       "\\item 11\n",
       "\\item 10\n",
       "\\end{enumerate*}\n"
      ],
      "text/markdown": [
       "1. 20\n",
       "2. 19\n",
       "3. 18\n",
       "4. 17\n",
       "5. 16\n",
       "6. 15\n",
       "7. 14\n",
       "8. 13\n",
       "9. 12\n",
       "10. 11\n",
       "11. 10\n",
       "\n",
       "\n"
      ],
      "text/plain": [
       " [1] 20 19 18 17 16 15 14 13 12 11 10"
      ]
     },
     "metadata": {},
     "output_type": "display_data"
    }
   ],
   "source": [
    "a <- 20:10\n",
    "a"
   ]
  },
  {
   "cell_type": "code",
   "execution_count": 19,
   "id": "de2745ab",
   "metadata": {},
   "outputs": [
    {
     "data": {
      "text/html": [
       "<style>\n",
       ".list-inline {list-style: none; margin:0; padding: 0}\n",
       ".list-inline>li {display: inline-block}\n",
       ".list-inline>li:not(:last-child)::after {content: \"\\00b7\"; padding: 0 .5ex}\n",
       "</style>\n",
       "<ol class=list-inline><li>6</li><li>6</li><li>6</li><li>5</li><li>5</li><li>5</li><li>4</li><li>4</li><li>4</li><li>3</li><li>3</li></ol>\n"
      ],
      "text/latex": [
       "\\begin{enumerate*}\n",
       "\\item 6\n",
       "\\item 6\n",
       "\\item 6\n",
       "\\item 5\n",
       "\\item 5\n",
       "\\item 5\n",
       "\\item 4\n",
       "\\item 4\n",
       "\\item 4\n",
       "\\item 3\n",
       "\\item 3\n",
       "\\end{enumerate*}\n"
      ],
      "text/markdown": [
       "1. 6\n",
       "2. 6\n",
       "3. 6\n",
       "4. 5\n",
       "5. 5\n",
       "6. 5\n",
       "7. 4\n",
       "8. 4\n",
       "9. 4\n",
       "10. 3\n",
       "11. 3\n",
       "\n",
       "\n"
      ],
      "text/plain": [
       " [1] 6 6 6 5 5 5 4 4 4 3 3"
      ]
     },
     "metadata": {},
     "output_type": "display_data"
    }
   ],
   "source": [
    "a %/% 3"
   ]
  },
  {
   "cell_type": "code",
   "execution_count": 20,
   "id": "9c67e4f1",
   "metadata": {},
   "outputs": [
    {
     "data": {
      "text/html": [
       "<style>\n",
       ".list-inline {list-style: none; margin:0; padding: 0}\n",
       ".list-inline>li {display: inline-block}\n",
       ".list-inline>li:not(:last-child)::after {content: \"\\00b7\"; padding: 0 .5ex}\n",
       "</style>\n",
       "<ol class=list-inline><li>2</li><li>1</li><li>0</li><li>2</li><li>1</li><li>0</li><li>2</li><li>1</li><li>0</li><li>2</li><li>1</li></ol>\n"
      ],
      "text/latex": [
       "\\begin{enumerate*}\n",
       "\\item 2\n",
       "\\item 1\n",
       "\\item 0\n",
       "\\item 2\n",
       "\\item 1\n",
       "\\item 0\n",
       "\\item 2\n",
       "\\item 1\n",
       "\\item 0\n",
       "\\item 2\n",
       "\\item 1\n",
       "\\end{enumerate*}\n"
      ],
      "text/markdown": [
       "1. 2\n",
       "2. 1\n",
       "3. 0\n",
       "4. 2\n",
       "5. 1\n",
       "6. 0\n",
       "7. 2\n",
       "8. 1\n",
       "9. 0\n",
       "10. 2\n",
       "11. 1\n",
       "\n",
       "\n"
      ],
      "text/plain": [
       " [1] 2 1 0 2 1 0 2 1 0 2 1"
      ]
     },
     "metadata": {},
     "output_type": "display_data"
    }
   ],
   "source": [
    "a %% 3"
   ]
  },
  {
   "cell_type": "code",
   "execution_count": 22,
   "id": "92faf1cc",
   "metadata": {},
   "outputs": [
    {
     "data": {
      "text/html": [
       "<style>\n",
       ".list-inline {list-style: none; margin:0; padding: 0}\n",
       ".list-inline>li {display: inline-block}\n",
       ".list-inline>li:not(:last-child)::after {content: \"\\00b7\"; padding: 0 .5ex}\n",
       "</style>\n",
       "<ol class=list-inline><li>FALSE</li><li>TRUE</li><li>FALSE</li></ol>\n"
      ],
      "text/latex": [
       "\\begin{enumerate*}\n",
       "\\item FALSE\n",
       "\\item TRUE\n",
       "\\item FALSE\n",
       "\\end{enumerate*}\n"
      ],
      "text/markdown": [
       "1. FALSE\n",
       "2. TRUE\n",
       "3. FALSE\n",
       "\n",
       "\n"
      ],
      "text/plain": [
       "[1] FALSE  TRUE FALSE"
      ]
     },
     "metadata": {},
     "output_type": "display_data"
    }
   ],
   "source": [
    "a <- 1:3 == 3:1\n",
    "a"
   ]
  },
  {
   "cell_type": "code",
   "execution_count": 23,
   "id": "d7e06f8b",
   "metadata": {},
   "outputs": [
    {
     "data": {
      "text/html": [
       "<style>\n",
       ".list-inline {list-style: none; margin:0; padding: 0}\n",
       ".list-inline>li {display: inline-block}\n",
       ".list-inline>li:not(:last-child)::after {content: \"\\00b7\"; padding: 0 .5ex}\n",
       "</style>\n",
       "<ol class=list-inline><li>-5</li><li>-4</li><li>-3</li><li>-2</li><li>-1</li><li>0</li><li>1</li><li>2</li><li>3</li><li>4</li><li>5</li></ol>\n"
      ],
      "text/latex": [
       "\\begin{enumerate*}\n",
       "\\item -5\n",
       "\\item -4\n",
       "\\item -3\n",
       "\\item -2\n",
       "\\item -1\n",
       "\\item 0\n",
       "\\item 1\n",
       "\\item 2\n",
       "\\item 3\n",
       "\\item 4\n",
       "\\item 5\n",
       "\\end{enumerate*}\n"
      ],
      "text/markdown": [
       "1. -5\n",
       "2. -4\n",
       "3. -3\n",
       "4. -2\n",
       "5. -1\n",
       "6. 0\n",
       "7. 1\n",
       "8. 2\n",
       "9. 3\n",
       "10. 4\n",
       "11. 5\n",
       "\n",
       "\n"
      ],
      "text/plain": [
       " [1] -5 -4 -3 -2 -1  0  1  2  3  4  5"
      ]
     },
     "metadata": {},
     "output_type": "display_data"
    },
    {
     "data": {
      "text/html": [
       "0"
      ],
      "text/latex": [
       "0"
      ],
      "text/markdown": [
       "0"
      ],
      "text/plain": [
       "[1] 0"
      ]
     },
     "metadata": {},
     "output_type": "display_data"
    }
   ],
   "source": [
    "x <- -5:5\n",
    "x\n",
    "mean(x)"
   ]
  },
  {
   "cell_type": "code",
   "execution_count": 24,
   "id": "41cc5fb7",
   "metadata": {},
   "outputs": [
    {
     "data": {
      "text/html": [
       "<style>\n",
       ".list-inline {list-style: none; margin:0; padding: 0}\n",
       ".list-inline>li {display: inline-block}\n",
       ".list-inline>li:not(:last-child)::after {content: \"\\00b7\"; padding: 0 .5ex}\n",
       "</style>\n",
       "<ol class=list-inline><li>-5</li><li>-4</li><li>-3</li><li>-2</li><li>-1</li></ol>\n"
      ],
      "text/latex": [
       "\\begin{enumerate*}\n",
       "\\item -5\n",
       "\\item -4\n",
       "\\item -3\n",
       "\\item -2\n",
       "\\item -1\n",
       "\\end{enumerate*}\n"
      ],
      "text/markdown": [
       "1. -5\n",
       "2. -4\n",
       "3. -3\n",
       "4. -2\n",
       "5. -1\n",
       "\n",
       "\n"
      ],
      "text/plain": [
       "[1] -5 -4 -3 -2 -1"
      ]
     },
     "metadata": {},
     "output_type": "display_data"
    }
   ],
   "source": [
    "x[x<0]"
   ]
  },
  {
   "cell_type": "code",
   "execution_count": 26,
   "id": "cbb7368c",
   "metadata": {},
   "outputs": [
    {
     "data": {
      "text/html": [
       "<style>\n",
       ".list-inline {list-style: none; margin:0; padding: 0}\n",
       ".list-inline>li {display: inline-block}\n",
       ".list-inline>li:not(:last-child)::after {content: \"\\00b7\"; padding: 0 .5ex}\n",
       "</style>\n",
       "<ol class=list-inline><li>0</li><li>0</li><li>0</li><li>0</li><li>0</li><li>0</li><li>1</li><li>2</li><li>3</li><li>4</li><li>5</li></ol>\n"
      ],
      "text/latex": [
       "\\begin{enumerate*}\n",
       "\\item 0\n",
       "\\item 0\n",
       "\\item 0\n",
       "\\item 0\n",
       "\\item 0\n",
       "\\item 0\n",
       "\\item 1\n",
       "\\item 2\n",
       "\\item 3\n",
       "\\item 4\n",
       "\\item 5\n",
       "\\end{enumerate*}\n"
      ],
      "text/markdown": [
       "1. 0\n",
       "2. 0\n",
       "3. 0\n",
       "4. 0\n",
       "5. 0\n",
       "6. 0\n",
       "7. 1\n",
       "8. 2\n",
       "9. 3\n",
       "10. 4\n",
       "11. 5\n",
       "\n",
       "\n"
      ],
      "text/plain": [
       " [1] 0 0 0 0 0 0 1 2 3 4 5"
      ]
     },
     "metadata": {},
     "output_type": "display_data"
    }
   ],
   "source": [
    "x[x<0] <- 0\n",
    "x"
   ]
  },
  {
   "cell_type": "code",
   "execution_count": 28,
   "id": "48eb4052",
   "metadata": {},
   "outputs": [
    {
     "data": {
      "text/html": [
       "<style>\n",
       ".list-inline {list-style: none; margin:0; padding: 0}\n",
       ".list-inline>li {display: inline-block}\n",
       ".list-inline>li:not(:last-child)::after {content: \"\\00b7\"; padding: 0 .5ex}\n",
       "</style>\n",
       "<ol class=list-inline><li>10</li><li>20</li><li>30</li><li>40</li><li>50</li><li>60</li><li>70</li><li>80</li><li>90</li><li>100</li></ol>\n"
      ],
      "text/latex": [
       "\\begin{enumerate*}\n",
       "\\item 10\n",
       "\\item 20\n",
       "\\item 30\n",
       "\\item 40\n",
       "\\item 50\n",
       "\\item 60\n",
       "\\item 70\n",
       "\\item 80\n",
       "\\item 90\n",
       "\\item 100\n",
       "\\end{enumerate*}\n"
      ],
      "text/markdown": [
       "1. 10\n",
       "2. 20\n",
       "3. 30\n",
       "4. 40\n",
       "5. 50\n",
       "6. 60\n",
       "7. 70\n",
       "8. 80\n",
       "9. 90\n",
       "10. 100\n",
       "\n",
       "\n"
      ],
      "text/plain": [
       " [1]  10  20  30  40  50  60  70  80  90 100"
      ]
     },
     "metadata": {},
     "output_type": "display_data"
    }
   ],
   "source": [
    "consec <- 1:10 * 10\n",
    "consec"
   ]
  },
  {
   "cell_type": "code",
   "execution_count": 29,
   "id": "00690ca8",
   "metadata": {},
   "outputs": [
    {
     "data": {
      "text/html": [
       "20"
      ],
      "text/latex": [
       "20"
      ],
      "text/markdown": [
       "20"
      ],
      "text/plain": [
       "[1] 20"
      ]
     },
     "metadata": {},
     "output_type": "display_data"
    }
   ],
   "source": [
    "consec[2]"
   ]
  },
  {
   "cell_type": "code",
   "execution_count": 30,
   "id": "656e6314",
   "metadata": {},
   "outputs": [
    {
     "data": {
      "text/html": [
       "<style>\n",
       ".list-inline {list-style: none; margin:0; padding: 0}\n",
       ".list-inline>li {display: inline-block}\n",
       ".list-inline>li:not(:last-child)::after {content: \"\\00b7\"; padding: 0 .5ex}\n",
       "</style>\n",
       "<ol class=list-inline><li>30</li><li>60</li><li>80</li><li>100</li></ol>\n"
      ],
      "text/latex": [
       "\\begin{enumerate*}\n",
       "\\item 30\n",
       "\\item 60\n",
       "\\item 80\n",
       "\\item 100\n",
       "\\end{enumerate*}\n"
      ],
      "text/markdown": [
       "1. 30\n",
       "2. 60\n",
       "3. 80\n",
       "4. 100\n",
       "\n",
       "\n"
      ],
      "text/plain": [
       "[1]  30  60  80 100"
      ]
     },
     "metadata": {},
     "output_type": "display_data"
    }
   ],
   "source": [
    "consec[c(3,6,8,10)]"
   ]
  },
  {
   "cell_type": "code",
   "execution_count": 31,
   "id": "bc9f6f9e",
   "metadata": {},
   "outputs": [
    {
     "data": {
      "text/html": [
       "<style>\n",
       ".list-inline {list-style: none; margin:0; padding: 0}\n",
       ".list-inline>li {display: inline-block}\n",
       ".list-inline>li:not(:last-child)::after {content: \"\\00b7\"; padding: 0 .5ex}\n",
       "</style>\n",
       "<ol class=list-inline><li>10</li><li>30</li><li>50</li><li>60</li><li>70</li><li>80</li><li>90</li><li>100</li></ol>\n"
      ],
      "text/latex": [
       "\\begin{enumerate*}\n",
       "\\item 10\n",
       "\\item 30\n",
       "\\item 50\n",
       "\\item 60\n",
       "\\item 70\n",
       "\\item 80\n",
       "\\item 90\n",
       "\\item 100\n",
       "\\end{enumerate*}\n"
      ],
      "text/markdown": [
       "1. 10\n",
       "2. 30\n",
       "3. 50\n",
       "4. 60\n",
       "5. 70\n",
       "6. 80\n",
       "7. 90\n",
       "8. 100\n",
       "\n",
       "\n"
      ],
      "text/plain": [
       "[1]  10  30  50  60  70  80  90 100"
      ]
     },
     "metadata": {},
     "output_type": "display_data"
    }
   ],
   "source": [
    "consec[c(-2,-4)]"
   ]
  },
  {
   "cell_type": "code",
   "execution_count": 33,
   "id": "268f79cf",
   "metadata": {},
   "outputs": [
    {
     "data": {
      "text/html": [
       "<style>\n",
       ".list-inline {list-style: none; margin:0; padding: 0}\n",
       ".list-inline>li {display: inline-block}\n",
       ".list-inline>li:not(:last-child)::after {content: \"\\00b7\"; padding: 0 .5ex}\n",
       "</style>\n",
       "<ol class=list-inline><li>10</li><li>9</li><li>8</li><li>7</li><li>6</li><li>5</li><li>4</li><li>3</li><li>2</li><li>1</li></ol>\n"
      ],
      "text/latex": [
       "\\begin{enumerate*}\n",
       "\\item 10\n",
       "\\item 9\n",
       "\\item 8\n",
       "\\item 7\n",
       "\\item 6\n",
       "\\item 5\n",
       "\\item 4\n",
       "\\item 3\n",
       "\\item 2\n",
       "\\item 1\n",
       "\\end{enumerate*}\n"
      ],
      "text/markdown": [
       "1. 10\n",
       "2. 9\n",
       "3. 8\n",
       "4. 7\n",
       "5. 6\n",
       "6. 5\n",
       "7. 4\n",
       "8. 3\n",
       "9. 2\n",
       "10. 1\n",
       "\n",
       "\n"
      ],
      "text/plain": [
       " [1] 10  9  8  7  6  5  4  3  2  1"
      ]
     },
     "metadata": {},
     "output_type": "display_data"
    }
   ],
   "source": [
    "x <- 10:1\n",
    "x"
   ]
  },
  {
   "cell_type": "code",
   "execution_count": 34,
   "id": "e59bc6dd",
   "metadata": {},
   "outputs": [
    {
     "data": {
      "text/html": [
       "<style>\n",
       ".list-inline {list-style: none; margin:0; padding: 0}\n",
       ".list-inline>li {display: inline-block}\n",
       ".list-inline>li:not(:last-child)::after {content: \"\\00b7\"; padding: 0 .5ex}\n",
       "</style>\n",
       "<ol class=list-inline><li>10</li><li>9</li><li>8</li><li>7</li><li>6</li></ol>\n"
      ],
      "text/latex": [
       "\\begin{enumerate*}\n",
       "\\item 10\n",
       "\\item 9\n",
       "\\item 8\n",
       "\\item 7\n",
       "\\item 6\n",
       "\\end{enumerate*}\n"
      ],
      "text/markdown": [
       "1. 10\n",
       "2. 9\n",
       "3. 8\n",
       "4. 7\n",
       "5. 6\n",
       "\n",
       "\n"
      ],
      "text/plain": [
       "[1] 10  9  8  7  6"
      ]
     },
     "metadata": {},
     "output_type": "display_data"
    }
   ],
   "source": [
    "x[consec<60]"
   ]
  },
  {
   "cell_type": "code",
   "execution_count": 35,
   "id": "4f8f8417",
   "metadata": {},
   "outputs": [
    {
     "data": {
      "text/html": [
       "<style>\n",
       ".list-inline {list-style: none; margin:0; padding: 0}\n",
       ".list-inline>li {display: inline-block}\n",
       ".list-inline>li:not(:last-child)::after {content: \"\\00b7\"; padding: 0 .5ex}\n",
       "</style>\n",
       "<ol class=list-inline><li>-3.14159265358979</li><li>-2.14159265358979</li><li>-1.14159265358979</li><li>-0.141592653589793</li><li>0.858407346410207</li><li>1.85840734641021</li><li>2.85840734641021</li></ol>\n"
      ],
      "text/latex": [
       "\\begin{enumerate*}\n",
       "\\item -3.14159265358979\n",
       "\\item -2.14159265358979\n",
       "\\item -1.14159265358979\n",
       "\\item -0.141592653589793\n",
       "\\item 0.858407346410207\n",
       "\\item 1.85840734641021\n",
       "\\item 2.85840734641021\n",
       "\\end{enumerate*}\n"
      ],
      "text/markdown": [
       "1. -3.14159265358979\n",
       "2. -2.14159265358979\n",
       "3. -1.14159265358979\n",
       "4. -0.141592653589793\n",
       "5. 0.858407346410207\n",
       "6. 1.85840734641021\n",
       "7. 2.85840734641021\n",
       "\n",
       "\n"
      ],
      "text/plain": [
       "[1] -3.1415927 -2.1415927 -1.1415927 -0.1415927  0.8584073  1.8584073  2.8584073"
      ]
     },
     "metadata": {},
     "output_type": "display_data"
    }
   ],
   "source": [
    "# seq\n",
    "seq(-pi,pi,1)\n",
    "# seq(-pi,pi)와 같다"
   ]
  },
  {
   "cell_type": "code",
   "execution_count": 37,
   "id": "01e41c43",
   "metadata": {},
   "outputs": [
    {
     "data": {
      "text/html": [
       "<style>\n",
       ".list-inline {list-style: none; margin:0; padding: 0}\n",
       ".list-inline>li {display: inline-block}\n",
       ".list-inline>li:not(:last-child)::after {content: \"\\00b7\"; padding: 0 .5ex}\n",
       "</style>\n",
       "<ol class=list-inline><li>-3.14159265358979</li><li>-2.44346095279206</li><li>-1.74532925199433</li><li>-1.0471975511966</li><li>-0.349065850398866</li><li>0.349065850398866</li><li>1.0471975511966</li><li>1.74532925199433</li><li>2.44346095279206</li><li>3.14159265358979</li></ol>\n"
      ],
      "text/latex": [
       "\\begin{enumerate*}\n",
       "\\item -3.14159265358979\n",
       "\\item -2.44346095279206\n",
       "\\item -1.74532925199433\n",
       "\\item -1.0471975511966\n",
       "\\item -0.349065850398866\n",
       "\\item 0.349065850398866\n",
       "\\item 1.0471975511966\n",
       "\\item 1.74532925199433\n",
       "\\item 2.44346095279206\n",
       "\\item 3.14159265358979\n",
       "\\end{enumerate*}\n"
      ],
      "text/markdown": [
       "1. -3.14159265358979\n",
       "2. -2.44346095279206\n",
       "3. -1.74532925199433\n",
       "4. -1.0471975511966\n",
       "5. -0.349065850398866\n",
       "6. 0.349065850398866\n",
       "7. 1.0471975511966\n",
       "8. 1.74532925199433\n",
       "9. 2.44346095279206\n",
       "10. 3.14159265358979\n",
       "\n",
       "\n"
      ],
      "text/plain": [
       " [1] -3.1415927 -2.4434610 -1.7453293 -1.0471976 -0.3490659  0.3490659\n",
       " [7]  1.0471976  1.7453293  2.4434610  3.1415927"
      ]
     },
     "metadata": {},
     "output_type": "display_data"
    }
   ],
   "source": [
    "seq(-pi,pi,length=10)"
   ]
  },
  {
   "cell_type": "code",
   "execution_count": 38,
   "id": "fac8a268",
   "metadata": {},
   "outputs": [
    {
     "data": {
      "text/html": [
       "<style>\n",
       ".list-inline {list-style: none; margin:0; padding: 0}\n",
       ".list-inline>li {display: inline-block}\n",
       ".list-inline>li:not(:last-child)::after {content: \"\\00b7\"; padding: 0 .5ex}\n",
       "</style>\n",
       "<ol class=list-inline><li>-6.66599952028243</li><li>-2.27085738549308</li><li>-5.91250230913148</li><li>-5.54019071913626</li><li>-2.5963906896813</li><li>-3.95772330580745</li><li>-2.85826960180879</li><li>-6.37445409510579</li><li>-1.13475720793564</li><li>-6.39374764447679</li></ol>\n"
      ],
      "text/latex": [
       "\\begin{enumerate*}\n",
       "\\item -6.66599952028243\n",
       "\\item -2.27085738549308\n",
       "\\item -5.91250230913148\n",
       "\\item -5.54019071913626\n",
       "\\item -2.5963906896813\n",
       "\\item -3.95772330580745\n",
       "\\item -2.85826960180879\n",
       "\\item -6.37445409510579\n",
       "\\item -1.13475720793564\n",
       "\\item -6.39374764447679\n",
       "\\end{enumerate*}\n"
      ],
      "text/markdown": [
       "1. -6.66599952028243\n",
       "2. -2.27085738549308\n",
       "3. -5.91250230913148\n",
       "4. -5.54019071913626\n",
       "5. -2.5963906896813\n",
       "6. -3.95772330580745\n",
       "7. -2.85826960180879\n",
       "8. -6.37445409510579\n",
       "9. -1.13475720793564\n",
       "10. -6.39374764447679\n",
       "\n",
       "\n"
      ],
      "text/plain": [
       " [1] -6.666000 -2.270857 -5.912502 -5.540191 -2.596391 -3.957723 -2.858270\n",
       " [8] -6.374454 -1.134757 -6.393748"
      ]
     },
     "metadata": {},
     "output_type": "display_data"
    }
   ],
   "source": [
    "rnorm(10,-5,2.5)"
   ]
  },
  {
   "cell_type": "code",
   "execution_count": 39,
   "id": "2d8cbfee",
   "metadata": {},
   "outputs": [
    {
     "data": {
      "text/html": [
       "<table class=\"dataframe\">\n",
       "<caption>A matrix: 3 × 4 of type int</caption>\n",
       "<tbody>\n",
       "\t<tr><td>1</td><td> 2</td><td> 3</td><td> 4</td></tr>\n",
       "\t<tr><td>5</td><td> 6</td><td> 7</td><td> 8</td></tr>\n",
       "\t<tr><td>9</td><td>10</td><td>11</td><td>12</td></tr>\n",
       "</tbody>\n",
       "</table>\n"
      ],
      "text/latex": [
       "A matrix: 3 × 4 of type int\n",
       "\\begin{tabular}{llll}\n",
       "\t 1 &  2 &  3 &  4\\\\\n",
       "\t 5 &  6 &  7 &  8\\\\\n",
       "\t 9 & 10 & 11 & 12\\\\\n",
       "\\end{tabular}\n"
      ],
      "text/markdown": [
       "\n",
       "A matrix: 3 × 4 of type int\n",
       "\n",
       "| 1 |  2 |  3 |  4 |\n",
       "| 5 |  6 |  7 |  8 |\n",
       "| 9 | 10 | 11 | 12 |\n",
       "\n"
      ],
      "text/plain": [
       "     [,1] [,2] [,3] [,4]\n",
       "[1,] 1     2    3    4  \n",
       "[2,] 5     6    7    8  \n",
       "[3,] 9    10   11   12  "
      ]
     },
     "metadata": {},
     "output_type": "display_data"
    }
   ],
   "source": [
    "x <- 1:12\n",
    "x <- matrix(x, ncol=4, byrow=T)\n",
    "x"
   ]
  },
  {
   "cell_type": "code",
   "execution_count": 40,
   "id": "b9f8a92a",
   "metadata": {},
   "outputs": [
    {
     "data": {
      "text/html": [
       "<table class=\"dataframe\">\n",
       "<caption>A matrix: 4 × 3 of type dbl</caption>\n",
       "<tbody>\n",
       "\t<tr><td>1</td><td>1</td><td>1</td></tr>\n",
       "\t<tr><td>1</td><td>1</td><td>1</td></tr>\n",
       "\t<tr><td>1</td><td>1</td><td>1</td></tr>\n",
       "\t<tr><td>1</td><td>1</td><td>1</td></tr>\n",
       "</tbody>\n",
       "</table>\n"
      ],
      "text/latex": [
       "A matrix: 4 × 3 of type dbl\n",
       "\\begin{tabular}{lll}\n",
       "\t 1 & 1 & 1\\\\\n",
       "\t 1 & 1 & 1\\\\\n",
       "\t 1 & 1 & 1\\\\\n",
       "\t 1 & 1 & 1\\\\\n",
       "\\end{tabular}\n"
      ],
      "text/markdown": [
       "\n",
       "A matrix: 4 × 3 of type dbl\n",
       "\n",
       "| 1 | 1 | 1 |\n",
       "| 1 | 1 | 1 |\n",
       "| 1 | 1 | 1 |\n",
       "| 1 | 1 | 1 |\n",
       "\n"
      ],
      "text/plain": [
       "     [,1] [,2] [,3]\n",
       "[1,] 1    1    1   \n",
       "[2,] 1    1    1   \n",
       "[3,] 1    1    1   \n",
       "[4,] 1    1    1   "
      ]
     },
     "metadata": {},
     "output_type": "display_data"
    }
   ],
   "source": [
    "x <- matrix(1, nrow=4, ncol=3)\n",
    "x"
   ]
  },
  {
   "cell_type": "code",
   "execution_count": 41,
   "id": "62413acb",
   "metadata": {},
   "outputs": [
    {
     "data": {
      "text/html": [
       "<table class=\"dataframe\">\n",
       "<caption>A matrix: 3 × 3 of type int</caption>\n",
       "<tbody>\n",
       "\t<tr><td>1</td><td> 2</td><td> 3</td></tr>\n",
       "\t<tr><td>5</td><td> 6</td><td> 7</td></tr>\n",
       "\t<tr><td>9</td><td>10</td><td>11</td></tr>\n",
       "</tbody>\n",
       "</table>\n"
      ],
      "text/latex": [
       "A matrix: 3 × 3 of type int\n",
       "\\begin{tabular}{lll}\n",
       "\t 1 &  2 &  3\\\\\n",
       "\t 5 &  6 &  7\\\\\n",
       "\t 9 & 10 & 11\\\\\n",
       "\\end{tabular}\n"
      ],
      "text/markdown": [
       "\n",
       "A matrix: 3 × 3 of type int\n",
       "\n",
       "| 1 |  2 |  3 |\n",
       "| 5 |  6 |  7 |\n",
       "| 9 | 10 | 11 |\n",
       "\n"
      ],
      "text/plain": [
       "     [,1] [,2] [,3]\n",
       "[1,] 1     2    3  \n",
       "[2,] 5     6    7  \n",
       "[3,] 9    10   11  "
      ]
     },
     "metadata": {},
     "output_type": "display_data"
    }
   ],
   "source": [
    "x <-1:12\n",
    "x <- matrix(x, nco=4, byrow=T)\n",
    "x[,1:3]"
   ]
  },
  {
   "cell_type": "code",
   "execution_count": 42,
   "id": "1d449a9b",
   "metadata": {},
   "outputs": [
    {
     "data": {
      "text/html": [
       "<table class=\"dataframe\">\n",
       "<caption>A matrix: 3 × 3 of type int</caption>\n",
       "<tbody>\n",
       "\t<tr><td>1</td><td> 3</td><td> 4</td></tr>\n",
       "\t<tr><td>5</td><td> 7</td><td> 8</td></tr>\n",
       "\t<tr><td>9</td><td>11</td><td>12</td></tr>\n",
       "</tbody>\n",
       "</table>\n"
      ],
      "text/latex": [
       "A matrix: 3 × 3 of type int\n",
       "\\begin{tabular}{lll}\n",
       "\t 1 &  3 &  4\\\\\n",
       "\t 5 &  7 &  8\\\\\n",
       "\t 9 & 11 & 12\\\\\n",
       "\\end{tabular}\n"
      ],
      "text/markdown": [
       "\n",
       "A matrix: 3 × 3 of type int\n",
       "\n",
       "| 1 |  3 |  4 |\n",
       "| 5 |  7 |  8 |\n",
       "| 9 | 11 | 12 |\n",
       "\n"
      ],
      "text/plain": [
       "     [,1] [,2] [,3]\n",
       "[1,] 1     3    4  \n",
       "[2,] 5     7    8  \n",
       "[3,] 9    11   12  "
      ]
     },
     "metadata": {},
     "output_type": "display_data"
    }
   ],
   "source": [
    "x[1:3,-2]"
   ]
  },
  {
   "cell_type": "code",
   "execution_count": 46,
   "id": "3560a6e3",
   "metadata": {},
   "outputs": [
    {
     "data": {
      "text/html": [
       "<table class=\"dataframe\">\n",
       "<caption>A matrix: 2 × 3 of type int</caption>\n",
       "<tbody>\n",
       "\t<tr><td>1</td><td>2</td><td>3</td></tr>\n",
       "\t<tr><td>5</td><td>6</td><td>7</td></tr>\n",
       "</tbody>\n",
       "</table>\n"
      ],
      "text/latex": [
       "A matrix: 2 × 3 of type int\n",
       "\\begin{tabular}{lll}\n",
       "\t 1 & 2 & 3\\\\\n",
       "\t 5 & 6 & 7\\\\\n",
       "\\end{tabular}\n"
      ],
      "text/markdown": [
       "\n",
       "A matrix: 2 × 3 of type int\n",
       "\n",
       "| 1 | 2 | 3 |\n",
       "| 5 | 6 | 7 |\n",
       "\n"
      ],
      "text/plain": [
       "     [,1] [,2] [,3]\n",
       "[1,] 1    2    3   \n",
       "[2,] 5    6    7   "
      ]
     },
     "metadata": {},
     "output_type": "display_data"
    }
   ],
   "source": [
    "x <- matrix(c(1:3,5:7),ncol=3,byrow=T)\n",
    "x"
   ]
  },
  {
   "cell_type": "code",
   "execution_count": 48,
   "id": "472aec5f",
   "metadata": {},
   "outputs": [
    {
     "data": {
      "text/html": [
       "<table class=\"dataframe\">\n",
       "<caption>A matrix: 2 × 2 of type int</caption>\n",
       "<tbody>\n",
       "\t<tr><td>1</td><td>3</td></tr>\n",
       "\t<tr><td>2</td><td>4</td></tr>\n",
       "</tbody>\n",
       "</table>\n"
      ],
      "text/latex": [
       "A matrix: 2 × 2 of type int\n",
       "\\begin{tabular}{ll}\n",
       "\t 1 & 3\\\\\n",
       "\t 2 & 4\\\\\n",
       "\\end{tabular}\n"
      ],
      "text/markdown": [
       "\n",
       "A matrix: 2 × 2 of type int\n",
       "\n",
       "| 1 | 3 |\n",
       "| 2 | 4 |\n",
       "\n"
      ],
      "text/plain": [
       "     [,1] [,2]\n",
       "[1,] 1    3   \n",
       "[2,] 2    4   "
      ]
     },
     "metadata": {},
     "output_type": "display_data"
    }
   ],
   "source": [
    "y <- matrix(1:4,ncol=2)\n",
    "y"
   ]
  },
  {
   "cell_type": "code",
   "execution_count": 49,
   "id": "470c0b7a",
   "metadata": {},
   "outputs": [
    {
     "data": {
      "text/html": [
       "<table class=\"dataframe\">\n",
       "<caption>A matrix: 3 × 2 of type int</caption>\n",
       "<tbody>\n",
       "\t<tr><td>1</td><td>5</td></tr>\n",
       "\t<tr><td>2</td><td>6</td></tr>\n",
       "\t<tr><td>3</td><td>7</td></tr>\n",
       "</tbody>\n",
       "</table>\n"
      ],
      "text/latex": [
       "A matrix: 3 × 2 of type int\n",
       "\\begin{tabular}{ll}\n",
       "\t 1 & 5\\\\\n",
       "\t 2 & 6\\\\\n",
       "\t 3 & 7\\\\\n",
       "\\end{tabular}\n"
      ],
      "text/markdown": [
       "\n",
       "A matrix: 3 × 2 of type int\n",
       "\n",
       "| 1 | 5 |\n",
       "| 2 | 6 |\n",
       "| 3 | 7 |\n",
       "\n"
      ],
      "text/plain": [
       "     [,1] [,2]\n",
       "[1,] 1    5   \n",
       "[2,] 2    6   \n",
       "[3,] 3    7   "
      ]
     },
     "metadata": {},
     "output_type": "display_data"
    }
   ],
   "source": [
    "t(x)"
   ]
  },
  {
   "cell_type": "code",
   "execution_count": 50,
   "id": "63957bde",
   "metadata": {},
   "outputs": [
    {
     "data": {
      "text/html": [
       "<table class=\"dataframe\">\n",
       "<caption>A matrix: 3 × 2 of type dbl</caption>\n",
       "<tbody>\n",
       "\t<tr><td>11</td><td>23</td></tr>\n",
       "\t<tr><td>14</td><td>30</td></tr>\n",
       "\t<tr><td>17</td><td>37</td></tr>\n",
       "</tbody>\n",
       "</table>\n"
      ],
      "text/latex": [
       "A matrix: 3 × 2 of type dbl\n",
       "\\begin{tabular}{ll}\n",
       "\t 11 & 23\\\\\n",
       "\t 14 & 30\\\\\n",
       "\t 17 & 37\\\\\n",
       "\\end{tabular}\n"
      ],
      "text/markdown": [
       "\n",
       "A matrix: 3 × 2 of type dbl\n",
       "\n",
       "| 11 | 23 |\n",
       "| 14 | 30 |\n",
       "| 17 | 37 |\n",
       "\n"
      ],
      "text/plain": [
       "     [,1] [,2]\n",
       "[1,] 11   23  \n",
       "[2,] 14   30  \n",
       "[3,] 17   37  "
      ]
     },
     "metadata": {},
     "output_type": "display_data"
    }
   ],
   "source": [
    "t(x) %*% y"
   ]
  },
  {
   "cell_type": "code",
   "execution_count": 51,
   "id": "e5ba6da3",
   "metadata": {},
   "outputs": [
    {
     "data": {
      "text/html": [
       "<style>\n",
       ".list-inline {list-style: none; margin:0; padding: 0}\n",
       ".list-inline>li {display: inline-block}\n",
       ".list-inline>li:not(:last-child)::after {content: \"\\00b7\"; padding: 0 .5ex}\n",
       "</style>\n",
       "<ol class=list-inline><li>2</li><li>6</li></ol>\n"
      ],
      "text/latex": [
       "\\begin{enumerate*}\n",
       "\\item 2\n",
       "\\item 6\n",
       "\\end{enumerate*}\n"
      ],
      "text/markdown": [
       "1. 2\n",
       "2. 6\n",
       "\n",
       "\n"
      ],
      "text/plain": [
       "[1] 2 6"
      ]
     },
     "metadata": {},
     "output_type": "display_data"
    }
   ],
   "source": [
    "apply(x, 1, mean)"
   ]
  },
  {
   "cell_type": "code",
   "execution_count": 53,
   "id": "49221dd2",
   "metadata": {},
   "outputs": [
    {
     "data": {
      "text/html": [
       "<style>\n",
       ".list-inline {list-style: none; margin:0; padding: 0}\n",
       ".list-inline>li {display: inline-block}\n",
       ".list-inline>li:not(:last-child)::after {content: \"\\00b7\"; padding: 0 .5ex}\n",
       "</style>\n",
       "<ol class=list-inline><li>3</li><li>4</li><li>5</li></ol>\n"
      ],
      "text/latex": [
       "\\begin{enumerate*}\n",
       "\\item 3\n",
       "\\item 4\n",
       "\\item 5\n",
       "\\end{enumerate*}\n"
      ],
      "text/markdown": [
       "1. 3\n",
       "2. 4\n",
       "3. 5\n",
       "\n",
       "\n"
      ],
      "text/plain": [
       "[1] 3 4 5"
      ]
     },
     "metadata": {},
     "output_type": "display_data"
    }
   ],
   "source": [
    "apply(x, 2, mean)"
   ]
  },
  {
   "cell_type": "code",
   "execution_count": 54,
   "id": "fa460d56",
   "metadata": {},
   "outputs": [],
   "source": [
    "squareF <- function(x){\n",
    "    x*x\n",
    "}"
   ]
  },
  {
   "cell_type": "code",
   "execution_count": 55,
   "id": "d01e35ca",
   "metadata": {},
   "outputs": [
    {
     "data": {
      "text/html": [
       "16"
      ],
      "text/latex": [
       "16"
      ],
      "text/markdown": [
       "16"
      ],
      "text/plain": [
       "[1] 16"
      ]
     },
     "metadata": {},
     "output_type": "display_data"
    }
   ],
   "source": [
    "squareF(4)"
   ]
  },
  {
   "cell_type": "code",
   "execution_count": 56,
   "id": "2794755f",
   "metadata": {},
   "outputs": [],
   "source": [
    "library(xlsx)"
   ]
  },
  {
   "cell_type": "code",
   "execution_count": 57,
   "id": "8d5d8391",
   "metadata": {},
   "outputs": [
    {
     "ename": "ERROR",
     "evalue": "Error in loadWorkbook(file, password = password): Cannot find ../data2020/survey.xlsx\n",
     "output_type": "error",
     "traceback": [
      "Error in loadWorkbook(file, password = password): Cannot find ../data2020/survey.xlsx\nTraceback:\n",
      "1. read.xlsx(\"../data2020/survey.xlsx\", 1)",
      "2. loadWorkbook(file, password = password)",
      "3. stop(\"Cannot find \", path.expand(file))"
     ]
    }
   ],
   "source": [
    "survey.data <- read.xlsx('../data2020/survey.xlsx', 1)\n",
    "head(survey.data)"
   ]
  },
  {
   "cell_type": "code",
   "execution_count": null,
   "id": "157ba6d7",
   "metadata": {},
   "outputs": [],
   "source": []
  }
 ],
 "metadata": {
  "kernelspec": {
   "display_name": "R",
   "language": "R",
   "name": "ir"
  },
  "language_info": {
   "codemirror_mode": "r",
   "file_extension": ".r",
   "mimetype": "text/x-r-source",
   "name": "R",
   "pygments_lexer": "r",
   "version": "4.0.3"
  }
 },
 "nbformat": 4,
 "nbformat_minor": 5
}
