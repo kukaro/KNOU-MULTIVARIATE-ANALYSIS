{
 "cells": [
  {
   "cell_type": "code",
   "execution_count": 1,
   "id": "b295da57",
   "metadata": {},
   "outputs": [],
   "source": [
    "import numpy as np\n",
    "import pandas as pd\n",
    "import matplotlib.pyplot as plt"
   ]
  },
  {
   "cell_type": "code",
   "execution_count": 26,
   "id": "58ba65c5",
   "metadata": {},
   "outputs": [],
   "source": [
    "X1 = [5.935, 1.523, 2.599, 4.009, 4.687, 8.044, 2.766, 6.538, 6.451, 3.314, 3.777, 1.530, 2.768, 6.585]\n",
    "X2 = [14.2, 13.1, 12.7, 15.2, 14.7, 15.6, 13.3, 17.0, 12.9, 12.2, 13.0, 13.8, 13.6, 14.9]\n",
    "X3 = [2.265, 0.597, 1.237, 1.649, 2.312, 3.641, 1.244, 2.618, 3.147, 1.606, 2.119, 0.798, 1.336, 2.763]\n",
    "X4 = [2.27, 0.75, 1.11, 0.81, 2.50, 4.51, 1.03, 2.39, 5.52, 2.18, 2.83, 0.84, 1.75, 1.91]\n",
    "X5 = [2.91, 2.62, 1.72, 3.02, 2.22, 2.36, 1.97, 1.85, 2.01, 1.82, 1.80, 4.25, 2.64, 3.17]\n",
    "data = {'X1': X1, 'X2': X2, 'X3': X3, 'X4': X4, 'X5': X5}"
   ]
  },
  {
   "cell_type": "code",
   "execution_count": 27,
   "id": "efa6a40c",
   "metadata": {},
   "outputs": [
    {
     "data": {
      "text/html": [
       "<div>\n",
       "<style scoped>\n",
       "    .dataframe tbody tr th:only-of-type {\n",
       "        vertical-align: middle;\n",
       "    }\n",
       "\n",
       "    .dataframe tbody tr th {\n",
       "        vertical-align: top;\n",
       "    }\n",
       "\n",
       "    .dataframe thead th {\n",
       "        text-align: right;\n",
       "    }\n",
       "</style>\n",
       "<table border=\"1\" class=\"dataframe\">\n",
       "  <thead>\n",
       "    <tr style=\"text-align: right;\">\n",
       "      <th></th>\n",
       "      <th>X1</th>\n",
       "      <th>X2</th>\n",
       "      <th>X3</th>\n",
       "      <th>X4</th>\n",
       "      <th>X5</th>\n",
       "    </tr>\n",
       "  </thead>\n",
       "  <tbody>\n",
       "    <tr>\n",
       "      <th>0</th>\n",
       "      <td>5.935</td>\n",
       "      <td>14.2</td>\n",
       "      <td>2.265</td>\n",
       "      <td>2.27</td>\n",
       "      <td>2.91</td>\n",
       "    </tr>\n",
       "    <tr>\n",
       "      <th>1</th>\n",
       "      <td>1.523</td>\n",
       "      <td>13.1</td>\n",
       "      <td>0.597</td>\n",
       "      <td>0.75</td>\n",
       "      <td>2.62</td>\n",
       "    </tr>\n",
       "    <tr>\n",
       "      <th>2</th>\n",
       "      <td>2.599</td>\n",
       "      <td>12.7</td>\n",
       "      <td>1.237</td>\n",
       "      <td>1.11</td>\n",
       "      <td>1.72</td>\n",
       "    </tr>\n",
       "    <tr>\n",
       "      <th>3</th>\n",
       "      <td>4.009</td>\n",
       "      <td>15.2</td>\n",
       "      <td>1.649</td>\n",
       "      <td>0.81</td>\n",
       "      <td>3.02</td>\n",
       "    </tr>\n",
       "    <tr>\n",
       "      <th>4</th>\n",
       "      <td>4.687</td>\n",
       "      <td>14.7</td>\n",
       "      <td>2.312</td>\n",
       "      <td>2.50</td>\n",
       "      <td>2.22</td>\n",
       "    </tr>\n",
       "    <tr>\n",
       "      <th>5</th>\n",
       "      <td>8.044</td>\n",
       "      <td>15.6</td>\n",
       "      <td>3.641</td>\n",
       "      <td>4.51</td>\n",
       "      <td>2.36</td>\n",
       "    </tr>\n",
       "    <tr>\n",
       "      <th>6</th>\n",
       "      <td>2.766</td>\n",
       "      <td>13.3</td>\n",
       "      <td>1.244</td>\n",
       "      <td>1.03</td>\n",
       "      <td>1.97</td>\n",
       "    </tr>\n",
       "    <tr>\n",
       "      <th>7</th>\n",
       "      <td>6.538</td>\n",
       "      <td>17.0</td>\n",
       "      <td>2.618</td>\n",
       "      <td>2.39</td>\n",
       "      <td>1.85</td>\n",
       "    </tr>\n",
       "    <tr>\n",
       "      <th>8</th>\n",
       "      <td>6.451</td>\n",
       "      <td>12.9</td>\n",
       "      <td>3.147</td>\n",
       "      <td>5.52</td>\n",
       "      <td>2.01</td>\n",
       "    </tr>\n",
       "    <tr>\n",
       "      <th>9</th>\n",
       "      <td>3.314</td>\n",
       "      <td>12.2</td>\n",
       "      <td>1.606</td>\n",
       "      <td>2.18</td>\n",
       "      <td>1.82</td>\n",
       "    </tr>\n",
       "    <tr>\n",
       "      <th>10</th>\n",
       "      <td>3.777</td>\n",
       "      <td>13.0</td>\n",
       "      <td>2.119</td>\n",
       "      <td>2.83</td>\n",
       "      <td>1.80</td>\n",
       "    </tr>\n",
       "    <tr>\n",
       "      <th>11</th>\n",
       "      <td>1.530</td>\n",
       "      <td>13.8</td>\n",
       "      <td>0.798</td>\n",
       "      <td>0.84</td>\n",
       "      <td>4.25</td>\n",
       "    </tr>\n",
       "    <tr>\n",
       "      <th>12</th>\n",
       "      <td>2.768</td>\n",
       "      <td>13.6</td>\n",
       "      <td>1.336</td>\n",
       "      <td>1.75</td>\n",
       "      <td>2.64</td>\n",
       "    </tr>\n",
       "    <tr>\n",
       "      <th>13</th>\n",
       "      <td>6.585</td>\n",
       "      <td>14.9</td>\n",
       "      <td>2.763</td>\n",
       "      <td>1.91</td>\n",
       "      <td>3.17</td>\n",
       "    </tr>\n",
       "  </tbody>\n",
       "</table>\n",
       "</div>"
      ],
      "text/plain": [
       "       X1    X2     X3    X4    X5\n",
       "0   5.935  14.2  2.265  2.27  2.91\n",
       "1   1.523  13.1  0.597  0.75  2.62\n",
       "2   2.599  12.7  1.237  1.11  1.72\n",
       "3   4.009  15.2  1.649  0.81  3.02\n",
       "4   4.687  14.7  2.312  2.50  2.22\n",
       "5   8.044  15.6  3.641  4.51  2.36\n",
       "6   2.766  13.3  1.244  1.03  1.97\n",
       "7   6.538  17.0  2.618  2.39  1.85\n",
       "8   6.451  12.9  3.147  5.52  2.01\n",
       "9   3.314  12.2  1.606  2.18  1.82\n",
       "10  3.777  13.0  2.119  2.83  1.80\n",
       "11  1.530  13.8  0.798  0.84  4.25\n",
       "12  2.768  13.6  1.336  1.75  2.64\n",
       "13  6.585  14.9  2.763  1.91  3.17"
      ]
     },
     "execution_count": 27,
     "metadata": {},
     "output_type": "execute_result"
    }
   ],
   "source": [
    "pd_data = pd.DataFrame(data)\n",
    "pd_data"
   ]
  },
  {
   "cell_type": "code",
   "execution_count": 28,
   "id": "a556e402",
   "metadata": {},
   "outputs": [],
   "source": [
    "from sklearn.decomposition import PCA\n",
    "from sklearn.preprocessing import StandardScaler"
   ]
  },
  {
   "cell_type": "code",
   "execution_count": 29,
   "id": "6c0b2aa0",
   "metadata": {},
   "outputs": [
    {
     "data": {
      "text/html": [
       "<div>\n",
       "<style scoped>\n",
       "    .dataframe tbody tr th:only-of-type {\n",
       "        vertical-align: middle;\n",
       "    }\n",
       "\n",
       "    .dataframe tbody tr th {\n",
       "        vertical-align: top;\n",
       "    }\n",
       "\n",
       "    .dataframe thead th {\n",
       "        text-align: right;\n",
       "    }\n",
       "</style>\n",
       "<table border=\"1\" class=\"dataframe\">\n",
       "  <thead>\n",
       "    <tr style=\"text-align: right;\">\n",
       "      <th></th>\n",
       "      <th>X1</th>\n",
       "      <th>X2</th>\n",
       "      <th>X3</th>\n",
       "      <th>X4</th>\n",
       "      <th>X5</th>\n",
       "    </tr>\n",
       "  </thead>\n",
       "  <tbody>\n",
       "    <tr>\n",
       "      <th>0</th>\n",
       "      <td>0.805870</td>\n",
       "      <td>0.144964</td>\n",
       "      <td>0.362672</td>\n",
       "      <td>0.072890</td>\n",
       "      <td>0.665895</td>\n",
       "    </tr>\n",
       "    <tr>\n",
       "      <th>1</th>\n",
       "      <td>-1.400165</td>\n",
       "      <td>-0.713671</td>\n",
       "      <td>-1.571798</td>\n",
       "      <td>-1.051095</td>\n",
       "      <td>0.242144</td>\n",
       "    </tr>\n",
       "    <tr>\n",
       "      <th>2</th>\n",
       "      <td>-0.862157</td>\n",
       "      <td>-1.025902</td>\n",
       "      <td>-0.829556</td>\n",
       "      <td>-0.784888</td>\n",
       "      <td>-1.072947</td>\n",
       "    </tr>\n",
       "    <tr>\n",
       "      <th>3</th>\n",
       "      <td>-0.157145</td>\n",
       "      <td>0.925542</td>\n",
       "      <td>-0.351737</td>\n",
       "      <td>-1.006728</td>\n",
       "      <td>0.826629</td>\n",
       "    </tr>\n",
       "    <tr>\n",
       "      <th>4</th>\n",
       "      <td>0.181860</td>\n",
       "      <td>0.535253</td>\n",
       "      <td>0.417180</td>\n",
       "      <td>0.242967</td>\n",
       "      <td>-0.342341</td>\n",
       "    </tr>\n",
       "    <tr>\n",
       "      <th>5</th>\n",
       "      <td>1.860387</td>\n",
       "      <td>1.237773</td>\n",
       "      <td>1.958494</td>\n",
       "      <td>1.729290</td>\n",
       "      <td>-0.137771</td>\n",
       "    </tr>\n",
       "    <tr>\n",
       "      <th>6</th>\n",
       "      <td>-0.778655</td>\n",
       "      <td>-0.557555</td>\n",
       "      <td>-0.821437</td>\n",
       "      <td>-0.844046</td>\n",
       "      <td>-0.707644</td>\n",
       "    </tr>\n",
       "    <tr>\n",
       "      <th>7</th>\n",
       "      <td>1.107375</td>\n",
       "      <td>2.330581</td>\n",
       "      <td>0.772065</td>\n",
       "      <td>0.161626</td>\n",
       "      <td>-0.882990</td>\n",
       "    </tr>\n",
       "    <tr>\n",
       "      <th>8</th>\n",
       "      <td>1.063874</td>\n",
       "      <td>-0.869786</td>\n",
       "      <td>1.385575</td>\n",
       "      <td>2.476149</td>\n",
       "      <td>-0.649196</td>\n",
       "    </tr>\n",
       "    <tr>\n",
       "      <th>9</th>\n",
       "      <td>-0.504651</td>\n",
       "      <td>-1.416191</td>\n",
       "      <td>-0.401606</td>\n",
       "      <td>0.006338</td>\n",
       "      <td>-0.926826</td>\n",
       "    </tr>\n",
       "    <tr>\n",
       "      <th>10</th>\n",
       "      <td>-0.273147</td>\n",
       "      <td>-0.791729</td>\n",
       "      <td>0.193348</td>\n",
       "      <td>0.486990</td>\n",
       "      <td>-0.956050</td>\n",
       "    </tr>\n",
       "    <tr>\n",
       "      <th>11</th>\n",
       "      <td>-1.396665</td>\n",
       "      <td>-0.167267</td>\n",
       "      <td>-1.338688</td>\n",
       "      <td>-0.984544</td>\n",
       "      <td>2.623920</td>\n",
       "    </tr>\n",
       "    <tr>\n",
       "      <th>12</th>\n",
       "      <td>-0.777655</td>\n",
       "      <td>-0.323382</td>\n",
       "      <td>-0.714740</td>\n",
       "      <td>-0.311631</td>\n",
       "      <td>0.271368</td>\n",
       "    </tr>\n",
       "    <tr>\n",
       "      <th>13</th>\n",
       "      <td>1.130875</td>\n",
       "      <td>0.691369</td>\n",
       "      <td>0.940229</td>\n",
       "      <td>-0.193317</td>\n",
       "      <td>1.045811</td>\n",
       "    </tr>\n",
       "  </tbody>\n",
       "</table>\n",
       "</div>"
      ],
      "text/plain": [
       "          X1        X2        X3        X4        X5\n",
       "0   0.805870  0.144964  0.362672  0.072890  0.665895\n",
       "1  -1.400165 -0.713671 -1.571798 -1.051095  0.242144\n",
       "2  -0.862157 -1.025902 -0.829556 -0.784888 -1.072947\n",
       "3  -0.157145  0.925542 -0.351737 -1.006728  0.826629\n",
       "4   0.181860  0.535253  0.417180  0.242967 -0.342341\n",
       "5   1.860387  1.237773  1.958494  1.729290 -0.137771\n",
       "6  -0.778655 -0.557555 -0.821437 -0.844046 -0.707644\n",
       "7   1.107375  2.330581  0.772065  0.161626 -0.882990\n",
       "8   1.063874 -0.869786  1.385575  2.476149 -0.649196\n",
       "9  -0.504651 -1.416191 -0.401606  0.006338 -0.926826\n",
       "10 -0.273147 -0.791729  0.193348  0.486990 -0.956050\n",
       "11 -1.396665 -0.167267 -1.338688 -0.984544  2.623920\n",
       "12 -0.777655 -0.323382 -0.714740 -0.311631  0.271368\n",
       "13  1.130875  0.691369  0.940229 -0.193317  1.045811"
      ]
     },
     "execution_count": 29,
     "metadata": {},
     "output_type": "execute_result"
    }
   ],
   "source": [
    "x = StandardScaler().fit_transform(pd_data)\n",
    "x = pd.DataFrame(x, columns=['X1','X2','X3','X4','X5'])\n",
    "x"
   ]
  },
  {
   "cell_type": "code",
   "execution_count": 44,
   "id": "2c988c60",
   "metadata": {},
   "outputs": [],
   "source": [
    "pca_init = PCA(n_components=len(pd_data.columns))"
   ]
  },
  {
   "cell_type": "code",
   "execution_count": 45,
   "id": "f4a522fc",
   "metadata": {},
   "outputs": [
    {
     "data": {
      "text/plain": [
       "PCA(n_components=5)"
      ]
     },
     "execution_count": 45,
     "metadata": {},
     "output_type": "execute_result"
    }
   ],
   "source": [
    "pca_init.fit(x)"
   ]
  },
  {
   "cell_type": "code",
   "execution_count": 46,
   "id": "1c541b01",
   "metadata": {},
   "outputs": [
    {
     "data": {
      "text/plain": [
       "array([3.26188806, 1.39045626, 0.61649071, 0.10273683, 0.01304352])"
      ]
     },
     "execution_count": 46,
     "metadata": {},
     "output_type": "execute_result"
    }
   ],
   "source": [
    "pca_init.explained_variance_"
   ]
  },
  {
   "cell_type": "code",
   "execution_count": 47,
   "id": "23c8d319",
   "metadata": {},
   "outputs": [
    {
     "data": {
      "text/plain": [
       "array([0.60577921, 0.25822759, 0.11449113, 0.0190797 , 0.00242237])"
      ]
     },
     "execution_count": 47,
     "metadata": {},
     "output_type": "execute_result"
    }
   ],
   "source": [
    "pca_init.explained_variance_ratio_"
   ]
  },
  {
   "cell_type": "code",
   "execution_count": 48,
   "id": "771e144c",
   "metadata": {},
   "outputs": [
    {
     "data": {
      "text/plain": [
       "array([[ 1.07692308,  0.65713183,  1.0454051 ,  0.7969057 , -0.18519289],\n",
       "       [ 0.65713183,  1.07692308,  0.53232734,  0.10273053,  0.20022984],\n",
       "       [ 1.0454051 ,  0.53232734,  1.07692308,  0.91319299, -0.26832875],\n",
       "       [ 0.7969057 ,  0.10273053,  0.91319299,  1.07692308, -0.38553457],\n",
       "       [-0.18519289,  0.20022984, -0.26832875, -0.38553457,  1.07692308]])"
      ]
     },
     "execution_count": 48,
     "metadata": {},
     "output_type": "execute_result"
    }
   ],
   "source": [
    "pca_init.get_covariance()"
   ]
  },
  {
   "cell_type": "code",
   "execution_count": 49,
   "id": "a883245b",
   "metadata": {},
   "outputs": [
    {
     "data": {
      "text/html": [
       "<div>\n",
       "<style scoped>\n",
       "    .dataframe tbody tr th:only-of-type {\n",
       "        vertical-align: middle;\n",
       "    }\n",
       "\n",
       "    .dataframe tbody tr th {\n",
       "        vertical-align: top;\n",
       "    }\n",
       "\n",
       "    .dataframe thead th {\n",
       "        text-align: right;\n",
       "    }\n",
       "</style>\n",
       "<table border=\"1\" class=\"dataframe\">\n",
       "  <thead>\n",
       "    <tr style=\"text-align: right;\">\n",
       "      <th></th>\n",
       "      <th>X1</th>\n",
       "      <th>X2</th>\n",
       "      <th>X3</th>\n",
       "      <th>X4</th>\n",
       "      <th>X5</th>\n",
       "    </tr>\n",
       "  </thead>\n",
       "  <tbody>\n",
       "    <tr>\n",
       "      <th>X1</th>\n",
       "      <td>1.000000</td>\n",
       "      <td>0.610194</td>\n",
       "      <td>0.970733</td>\n",
       "      <td>0.739984</td>\n",
       "      <td>-0.171965</td>\n",
       "    </tr>\n",
       "    <tr>\n",
       "      <th>X2</th>\n",
       "      <td>0.610194</td>\n",
       "      <td>1.000000</td>\n",
       "      <td>0.494304</td>\n",
       "      <td>0.095393</td>\n",
       "      <td>0.185928</td>\n",
       "    </tr>\n",
       "    <tr>\n",
       "      <th>X3</th>\n",
       "      <td>0.970733</td>\n",
       "      <td>0.494304</td>\n",
       "      <td>1.000000</td>\n",
       "      <td>0.847965</td>\n",
       "      <td>-0.249162</td>\n",
       "    </tr>\n",
       "    <tr>\n",
       "      <th>X4</th>\n",
       "      <td>0.739984</td>\n",
       "      <td>0.095393</td>\n",
       "      <td>0.847965</td>\n",
       "      <td>1.000000</td>\n",
       "      <td>-0.357996</td>\n",
       "    </tr>\n",
       "    <tr>\n",
       "      <th>X5</th>\n",
       "      <td>-0.171965</td>\n",
       "      <td>0.185928</td>\n",
       "      <td>-0.249162</td>\n",
       "      <td>-0.357996</td>\n",
       "      <td>1.000000</td>\n",
       "    </tr>\n",
       "  </tbody>\n",
       "</table>\n",
       "</div>"
      ],
      "text/plain": [
       "          X1        X2        X3        X4        X5\n",
       "X1  1.000000  0.610194  0.970733  0.739984 -0.171965\n",
       "X2  0.610194  1.000000  0.494304  0.095393  0.185928\n",
       "X3  0.970733  0.494304  1.000000  0.847965 -0.249162\n",
       "X4  0.739984  0.095393  0.847965  1.000000 -0.357996\n",
       "X5 -0.171965  0.185928 -0.249162 -0.357996  1.000000"
      ]
     },
     "execution_count": 49,
     "metadata": {},
     "output_type": "execute_result"
    }
   ],
   "source": [
    "pd_data.corr()"
   ]
  },
  {
   "cell_type": "code",
   "execution_count": 50,
   "id": "7cc221bd",
   "metadata": {},
   "outputs": [
    {
     "data": {
      "text/plain": [
       "array([[ 3.12562977e+01, -2.62496699e+00, -3.42209329e+01,\n",
       "         5.94819077e+00, -5.34101555e-01],\n",
       "       [-2.62496699e+00,  2.80114228e+00, -8.42195787e-01,\n",
       "         2.25524060e+00, -3.74687501e-01],\n",
       "       [-3.42209329e+01, -8.42195787e-01,  4.61633935e+01,\n",
       "        -1.33907806e+01,  9.80122224e-01],\n",
       "       [ 5.94819077e+00,  2.25524060e+00, -1.33907806e+01,\n",
       "         7.67161816e+00,  1.35002445e-02],\n",
       "       [-5.34101555e-01, -3.74687501e-01,  9.80122224e-01,\n",
       "         1.35002445e-02,  1.15543219e+00]])"
      ]
     },
     "execution_count": 50,
     "metadata": {},
     "output_type": "execute_result"
    }
   ],
   "source": [
    "pca_init.get_precision()"
   ]
  },
  {
   "cell_type": "code",
   "execution_count": 51,
   "id": "350f99dc",
   "metadata": {},
   "outputs": [
    {
     "data": {
      "text/plain": [
       "array([1.80606978, 1.1791761 , 0.78516923, 0.32052586, 0.11420822])"
      ]
     },
     "execution_count": 51,
     "metadata": {},
     "output_type": "execute_result"
    }
   ],
   "source": [
    "np.sqrt(pca_init.explained_variance_)"
   ]
  },
  {
   "cell_type": "code",
   "execution_count": 55,
   "id": "3aa302fb",
   "metadata": {},
   "outputs": [
    {
     "data": {
      "text/plain": [
       "array([0.60577921, 0.25822759])"
      ]
     },
     "execution_count": 55,
     "metadata": {},
     "output_type": "execute_result"
    }
   ],
   "source": [
    "pca_init.explained_variance_ratio_[pca_init.explained_variance_ >= 1]"
   ]
  },
  {
   "cell_type": "code",
   "execution_count": null,
   "id": "a5ffaa05",
   "metadata": {},
   "outputs": [],
   "source": []
  }
 ],
 "metadata": {
  "kernelspec": {
   "display_name": "Python 3 (ipykernel)",
   "language": "python",
   "name": "python3"
  },
  "language_info": {
   "codemirror_mode": {
    "name": "ipython",
    "version": 3
   },
   "file_extension": ".py",
   "mimetype": "text/x-python",
   "name": "python",
   "nbconvert_exporter": "python",
   "pygments_lexer": "ipython3",
   "version": "3.9.6"
  }
 },
 "nbformat": 4,
 "nbformat_minor": 5
}
