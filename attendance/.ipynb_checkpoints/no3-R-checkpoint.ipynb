{
 "cells": [
  {
   "cell_type": "code",
   "execution_count": 81,
   "id": "1a9911f4",
   "metadata": {},
   "outputs": [
    {
     "data": {
      "text/html": [
       "<table class=\"dataframe\">\n",
       "<caption>A matrix: 6 × 300 of type int</caption>\n",
       "<tbody>\n",
       "\t<tr><th scope=row>BIO</th><td>1</td><td>4</td><td>2</td><td>2</td><td>3</td><td>1</td><td>3</td><td>4</td><td>2</td><td>2</td><td>⋯</td><td>3</td><td>3</td><td>4</td><td>1</td><td>3</td><td>1</td><td>1</td><td>3</td><td>2</td><td>3</td></tr>\n",
       "\t<tr><th scope=row>GEO</th><td>1</td><td>4</td><td>1</td><td>3</td><td>1</td><td>1</td><td>3</td><td>3</td><td>1</td><td>3</td><td>⋯</td><td>5</td><td>3</td><td>3</td><td>1</td><td>3</td><td>1</td><td>1</td><td>4</td><td>2</td><td>3</td></tr>\n",
       "\t<tr><th scope=row>CHEM</th><td>1</td><td>3</td><td>3</td><td>2</td><td>2</td><td>1</td><td>3</td><td>4</td><td>3</td><td>3</td><td>⋯</td><td>3</td><td>1</td><td>4</td><td>1</td><td>3</td><td>1</td><td>1</td><td>4</td><td>2</td><td>3</td></tr>\n",
       "\t<tr><th scope=row>ALG</th><td>1</td><td>4</td><td>4</td><td>4</td><td>2</td><td>4</td><td>2</td><td>2</td><td>3</td><td>2</td><td>⋯</td><td>3</td><td>5</td><td>3</td><td>5</td><td>2</td><td>1</td><td>3</td><td>2</td><td>5</td><td>5</td></tr>\n",
       "\t<tr><th scope=row>CALC</th><td>1</td><td>4</td><td>1</td><td>4</td><td>3</td><td>4</td><td>3</td><td>3</td><td>4</td><td>3</td><td>⋯</td><td>4</td><td>5</td><td>4</td><td>3</td><td>2</td><td>1</td><td>3</td><td>4</td><td>4</td><td>5</td></tr>\n",
       "\t<tr><th scope=row>STAT</th><td>1</td><td>4</td><td>1</td><td>3</td><td>4</td><td>4</td><td>1</td><td>2</td><td>3</td><td>4</td><td>⋯</td><td>2</td><td>2</td><td>4</td><td>3</td><td>3</td><td>1</td><td>1</td><td>5</td><td>4</td><td>5</td></tr>\n",
       "</tbody>\n",
       "</table>\n"
      ],
      "text/latex": [
       "A matrix: 6 × 300 of type int\n",
       "\\begin{tabular}{r|lllllllllllllllllllll}\n",
       "\tBIO & 1 & 4 & 2 & 2 & 3 & 1 & 3 & 4 & 2 & 2 & ⋯ & 3 & 3 & 4 & 1 & 3 & 1 & 1 & 3 & 2 & 3\\\\\n",
       "\tGEO & 1 & 4 & 1 & 3 & 1 & 1 & 3 & 3 & 1 & 3 & ⋯ & 5 & 3 & 3 & 1 & 3 & 1 & 1 & 4 & 2 & 3\\\\\n",
       "\tCHEM & 1 & 3 & 3 & 2 & 2 & 1 & 3 & 4 & 3 & 3 & ⋯ & 3 & 1 & 4 & 1 & 3 & 1 & 1 & 4 & 2 & 3\\\\\n",
       "\tALG & 1 & 4 & 4 & 4 & 2 & 4 & 2 & 2 & 3 & 2 & ⋯ & 3 & 5 & 3 & 5 & 2 & 1 & 3 & 2 & 5 & 5\\\\\n",
       "\tCALC & 1 & 4 & 1 & 4 & 3 & 4 & 3 & 3 & 4 & 3 & ⋯ & 4 & 5 & 4 & 3 & 2 & 1 & 3 & 4 & 4 & 5\\\\\n",
       "\tSTAT & 1 & 4 & 1 & 3 & 4 & 4 & 1 & 2 & 3 & 4 & ⋯ & 2 & 2 & 4 & 3 & 3 & 1 & 1 & 5 & 4 & 5\\\\\n",
       "\\end{tabular}\n"
      ],
      "text/markdown": [
       "\n",
       "A matrix: 6 × 300 of type int\n",
       "\n",
       "| BIO | 1 | 4 | 2 | 2 | 3 | 1 | 3 | 4 | 2 | 2 | ⋯ | 3 | 3 | 4 | 1 | 3 | 1 | 1 | 3 | 2 | 3 |\n",
       "| GEO | 1 | 4 | 1 | 3 | 1 | 1 | 3 | 3 | 1 | 3 | ⋯ | 5 | 3 | 3 | 1 | 3 | 1 | 1 | 4 | 2 | 3 |\n",
       "| CHEM | 1 | 3 | 3 | 2 | 2 | 1 | 3 | 4 | 3 | 3 | ⋯ | 3 | 1 | 4 | 1 | 3 | 1 | 1 | 4 | 2 | 3 |\n",
       "| ALG | 1 | 4 | 4 | 4 | 2 | 4 | 2 | 2 | 3 | 2 | ⋯ | 3 | 5 | 3 | 5 | 2 | 1 | 3 | 2 | 5 | 5 |\n",
       "| CALC | 1 | 4 | 1 | 4 | 3 | 4 | 3 | 3 | 4 | 3 | ⋯ | 4 | 5 | 4 | 3 | 2 | 1 | 3 | 4 | 4 | 5 |\n",
       "| STAT | 1 | 4 | 1 | 3 | 4 | 4 | 1 | 2 | 3 | 4 | ⋯ | 2 | 2 | 4 | 3 | 3 | 1 | 1 | 5 | 4 | 5 |\n",
       "\n"
      ],
      "text/plain": [
       "     [,1] [,2] [,3] [,4] [,5] [,6] [,7] [,8] [,9] [,10] [,11] [,12] [,13] [,14]\n",
       "BIO  1    4    2    2    3    1    3    4    2    2     ⋯     3     3     4    \n",
       "GEO  1    4    1    3    1    1    3    3    1    3     ⋯     5     3     3    \n",
       "CHEM 1    3    3    2    2    1    3    4    3    3     ⋯     3     1     4    \n",
       "ALG  1    4    4    4    2    4    2    2    3    2     ⋯     3     5     3    \n",
       "CALC 1    4    1    4    3    4    3    3    4    3     ⋯     4     5     4    \n",
       "STAT 1    4    1    3    4    4    1    2    3    4     ⋯     2     2     4    \n",
       "     [,15] [,16] [,17] [,18] [,19] [,20] [,21]\n",
       "BIO  1     3     1     1     3     2     3    \n",
       "GEO  1     3     1     1     4     2     3    \n",
       "CHEM 1     3     1     1     4     2     3    \n",
       "ALG  5     2     1     3     2     5     5    \n",
       "CALC 3     2     1     3     4     4     5    \n",
       "STAT 3     3     1     1     5     4     5    "
      ]
     },
     "metadata": {},
     "output_type": "display_data"
    }
   ],
   "source": [
    "data <- read.csv('../mvadata/favoritesujects.csv')[-c(1)]\n",
    "t(data)"
   ]
  },
  {
   "cell_type": "code",
   "execution_count": 82,
   "id": "58baf3bf",
   "metadata": {},
   "outputs": [],
   "source": [
    "library(psych)\n",
    "library(GPArotation)"
   ]
  },
  {
   "cell_type": "code",
   "execution_count": 83,
   "id": "f822a691",
   "metadata": {},
   "outputs": [
    {
     "data": {
      "text/html": [
       "<style>\n",
       ".list-inline {list-style: none; margin:0; padding: 0}\n",
       ".list-inline>li {display: inline-block}\n",
       ".list-inline>li:not(:last-child)::after {content: \"\\00b7\"; padding: 0 .5ex}\n",
       "</style>\n",
       "<ol class=list-inline><li>'values'</li><li>'rotation'</li><li>'n.obs'</li><li>'communality'</li><li>'loadings'</li><li>'fit'</li><li>'fit.off'</li><li>'fn'</li><li>'Call'</li><li>'uniquenesses'</li><li>'complexity'</li><li>'chi'</li><li>'EPVAL'</li><li>'R2'</li><li>'objective'</li><li>'residual'</li><li>'rms'</li><li>'factors'</li><li>'dof'</li><li>'null.dof'</li><li>'null.model'</li><li>'criteria'</li><li>'STATISTIC'</li><li>'PVAL'</li><li>'weights'</li><li>'r.scores'</li><li>'Vaccounted'</li><li>'Structure'</li><li>'scores'</li></ol>\n"
      ],
      "text/latex": [
       "\\begin{enumerate*}\n",
       "\\item 'values'\n",
       "\\item 'rotation'\n",
       "\\item 'n.obs'\n",
       "\\item 'communality'\n",
       "\\item 'loadings'\n",
       "\\item 'fit'\n",
       "\\item 'fit.off'\n",
       "\\item 'fn'\n",
       "\\item 'Call'\n",
       "\\item 'uniquenesses'\n",
       "\\item 'complexity'\n",
       "\\item 'chi'\n",
       "\\item 'EPVAL'\n",
       "\\item 'R2'\n",
       "\\item 'objective'\n",
       "\\item 'residual'\n",
       "\\item 'rms'\n",
       "\\item 'factors'\n",
       "\\item 'dof'\n",
       "\\item 'null.dof'\n",
       "\\item 'null.model'\n",
       "\\item 'criteria'\n",
       "\\item 'STATISTIC'\n",
       "\\item 'PVAL'\n",
       "\\item 'weights'\n",
       "\\item 'r.scores'\n",
       "\\item 'Vaccounted'\n",
       "\\item 'Structure'\n",
       "\\item 'scores'\n",
       "\\end{enumerate*}\n"
      ],
      "text/markdown": [
       "1. 'values'\n",
       "2. 'rotation'\n",
       "3. 'n.obs'\n",
       "4. 'communality'\n",
       "5. 'loadings'\n",
       "6. 'fit'\n",
       "7. 'fit.off'\n",
       "8. 'fn'\n",
       "9. 'Call'\n",
       "10. 'uniquenesses'\n",
       "11. 'complexity'\n",
       "12. 'chi'\n",
       "13. 'EPVAL'\n",
       "14. 'R2'\n",
       "15. 'objective'\n",
       "16. 'residual'\n",
       "17. 'rms'\n",
       "18. 'factors'\n",
       "19. 'dof'\n",
       "20. 'null.dof'\n",
       "21. 'null.model'\n",
       "22. 'criteria'\n",
       "23. 'STATISTIC'\n",
       "24. 'PVAL'\n",
       "25. 'weights'\n",
       "26. 'r.scores'\n",
       "27. 'Vaccounted'\n",
       "28. 'Structure'\n",
       "29. 'scores'\n",
       "\n",
       "\n"
      ],
      "text/plain": [
       " [1] \"values\"       \"rotation\"     \"n.obs\"        \"communality\"  \"loadings\"    \n",
       " [6] \"fit\"          \"fit.off\"      \"fn\"           \"Call\"         \"uniquenesses\"\n",
       "[11] \"complexity\"   \"chi\"          \"EPVAL\"        \"R2\"           \"objective\"   \n",
       "[16] \"residual\"     \"rms\"          \"factors\"      \"dof\"          \"null.dof\"    \n",
       "[21] \"null.model\"   \"criteria\"     \"STATISTIC\"    \"PVAL\"         \"weights\"     \n",
       "[26] \"r.scores\"     \"Vaccounted\"   \"Structure\"    \"scores\"      "
      ]
     },
     "metadata": {},
     "output_type": "display_data"
    },
    {
     "data": {
      "text/html": [
       "'----------'"
      ],
      "text/latex": [
       "'----------'"
      ],
      "text/markdown": [
       "'----------'"
      ],
      "text/plain": [
       "[1] \"----------\""
      ]
     },
     "metadata": {},
     "output_type": "display_data"
    },
    {
     "data": {
      "text/plain": [
       "Principal Components Analysis\n",
       "Call: principal(r = data, nfactors = 3, rotate = \"none\")\n",
       "Standardized loadings (pattern matrix) based upon correlation matrix\n",
       "      PC1   PC2   PC3   h2     u2 com\n",
       "BIO  0.78 -0.45 -0.06 0.82 0.1789 1.6\n",
       "GEO  0.77 -0.42  0.00 0.77 0.2319 1.5\n",
       "CHEM 0.75 -0.51 -0.06 0.83 0.1749 1.8\n",
       "ALG  0.55  0.70 -0.34 0.90 0.0955 2.4\n",
       "CALC 0.64  0.66 -0.19 0.88 0.1190 2.2\n",
       "STAT 0.56  0.45  0.69 1.00 0.0048 2.7\n",
       "\n",
       "                       PC1  PC2  PC3\n",
       "SS loadings           2.79 1.78 0.63\n",
       "Proportion Var        0.46 0.30 0.11\n",
       "Cumulative Var        0.46 0.76 0.87\n",
       "Proportion Explained  0.54 0.34 0.12\n",
       "Cumulative Proportion 0.54 0.88 1.00\n",
       "\n",
       "Mean item complexity =  2\n",
       "Test of the hypothesis that 3 components are sufficient.\n",
       "\n",
       "The root mean square of the residuals (RMSR) is  0.05 \n",
       " with the empirical chi square  25.47  with prob <  NA \n",
       "\n",
       "Fit based upon off diagonal values = 0.98"
      ]
     },
     "metadata": {},
     "output_type": "display_data"
    }
   ],
   "source": [
    "data_factor <- principal(data, nfactors = 3, rotate='none')\n",
    "names(data_factor)\n",
    "'----------'\n",
    "data_factor"
   ]
  },
  {
   "cell_type": "code",
   "execution_count": 84,
   "id": "173c3041",
   "metadata": {},
   "outputs": [
    {
     "data": {
      "text/html": [
       "<style>\n",
       ".list-inline {list-style: none; margin:0; padding: 0}\n",
       ".list-inline>li {display: inline-block}\n",
       ".list-inline>li:not(:last-child)::after {content: \"\\00b7\"; padding: 0 .5ex}\n",
       "</style>\n",
       "<ol class=list-inline><li>2.7867282574179</li><li>1.77778185325846</li><li>0.630463765517936</li><li>0.336647442715946</li><li>0.262108595888928</li><li>0.206270085200818</li></ol>\n"
      ],
      "text/latex": [
       "\\begin{enumerate*}\n",
       "\\item 2.7867282574179\n",
       "\\item 1.77778185325846\n",
       "\\item 0.630463765517936\n",
       "\\item 0.336647442715946\n",
       "\\item 0.262108595888928\n",
       "\\item 0.206270085200818\n",
       "\\end{enumerate*}\n"
      ],
      "text/markdown": [
       "1. 2.7867282574179\n",
       "2. 1.77778185325846\n",
       "3. 0.630463765517936\n",
       "4. 0.336647442715946\n",
       "5. 0.262108595888928\n",
       "6. 0.206270085200818\n",
       "\n",
       "\n"
      ],
      "text/plain": [
       "[1] 2.7867283 1.7777819 0.6304638 0.3366474 0.2621086 0.2062701"
      ]
     },
     "metadata": {},
     "output_type": "display_data"
    },
    {
     "data": {
      "text/html": [
       "<style>\n",
       ".list-inline {list-style: none; margin:0; padding: 0}\n",
       ".list-inline>li {display: inline-block}\n",
       ".list-inline>li:not(:last-child)::after {content: \"\\00b7\"; padding: 0 .5ex}\n",
       "</style>\n",
       "<ol class=list-inline><li>0.464454709569651</li><li>0.296296975543078</li><li>0.105077294252989</li><li>0.0561079071193244</li><li>0.0436847659814881</li><li>0.0343783475334697</li></ol>\n"
      ],
      "text/latex": [
       "\\begin{enumerate*}\n",
       "\\item 0.464454709569651\n",
       "\\item 0.296296975543078\n",
       "\\item 0.105077294252989\n",
       "\\item 0.0561079071193244\n",
       "\\item 0.0436847659814881\n",
       "\\item 0.0343783475334697\n",
       "\\end{enumerate*}\n"
      ],
      "text/markdown": [
       "1. 0.464454709569651\n",
       "2. 0.296296975543078\n",
       "3. 0.105077294252989\n",
       "4. 0.0561079071193244\n",
       "5. 0.0436847659814881\n",
       "6. 0.0343783475334697\n",
       "\n",
       "\n"
      ],
      "text/plain": [
       "[1] 0.46445471 0.29629698 0.10507729 0.05610791 0.04368477 0.03437835"
      ]
     },
     "metadata": {},
     "output_type": "display_data"
    }
   ],
   "source": [
    "data_factor$values\n",
    "data_factor$values/sum(data_factor$values)"
   ]
  },
  {
   "cell_type": "code",
   "execution_count": 85,
   "id": "2c15b779",
   "metadata": {},
   "outputs": [
    {
     "data": {
      "image/png": "[encoded data removed]",
      "text/plain": [
       "plot without title"
      ]
     },
     "metadata": {
      "image/png": {
       "height": 420,
       "width": 420
      }
     },
     "output_type": "display_data"
    }
   ],
   "source": [
    "plot(data_factor$values, type='b', pch=19)"
   ]
  },
  {
   "cell_type": "code",
   "execution_count": 99,
   "id": "26f23be2",
   "metadata": {},
   "outputs": [],
   "source": [
    "factor_varimax <- principal(data, nfactors=3, rotate='varimax', scores=T, method='regression')"
   ]
  },
  {
   "cell_type": "code",
   "execution_count": 100,
   "id": "5000bee0",
   "metadata": {},
   "outputs": [
    {
     "data": {
      "text/plain": [
       "Principal Components Analysis\n",
       "Call: principal(r = data, nfactors = 3, rotate = \"varimax\", scores = T, \n",
       "    method = \"regression\")\n",
       "Standardized loadings (pattern matrix) based upon correlation matrix\n",
       "      RC1  RC2  RC3   h2     u2 com\n",
       "BIO  0.90 0.09 0.06 0.82 0.1789 1.0\n",
       "GEO  0.86 0.08 0.12 0.77 0.2319 1.1\n",
       "CHEM 0.91 0.03 0.03 0.83 0.1749 1.0\n",
       "ALG  0.04 0.94 0.12 0.90 0.0955 1.0\n",
       "CALC 0.12 0.89 0.26 0.88 0.1190 1.2\n",
       "STAT 0.12 0.29 0.95 1.00 0.0048 1.2\n",
       "\n",
       "                       RC1  RC2  RC3\n",
       "SS loadings           2.41 1.79 1.00\n",
       "Proportion Var        0.40 0.30 0.17\n",
       "Cumulative Var        0.40 0.70 0.87\n",
       "Proportion Explained  0.46 0.34 0.19\n",
       "Cumulative Proportion 0.46 0.81 1.00\n",
       "\n",
       "Mean item complexity =  1.1\n",
       "Test of the hypothesis that 3 components are sufficient.\n",
       "\n",
       "The root mean square of the residuals (RMSR) is  0.05 \n",
       " with the empirical chi square  25.47  with prob <  NA \n",
       "\n",
       "Fit based upon off diagonal values = 0.98"
      ]
     },
     "metadata": {},
     "output_type": "display_data"
    }
   ],
   "source": [
    "factor_varimax"
   ]
  },
  {
   "cell_type": "code",
   "execution_count": 101,
   "id": "670678dc",
   "metadata": {},
   "outputs": [
    {
     "data": {
      "image/png": "[encoded data removed]",
      "text/plain": [
       "plot without title"
      ]
     },
     "metadata": {
      "image/png": {
       "height": 420,
       "width": 420
      }
     },
     "output_type": "display_data"
    }
   ],
   "source": [
    "plot(factor_varimax$values, type='b', pch=19)"
   ]
  },
  {
   "cell_type": "code",
   "execution_count": 102,
   "id": "fc8a2d12",
   "metadata": {},
   "outputs": [
    {
     "data": {
      "text/html": [
       "<style>\n",
       ".list-inline {list-style: none; margin:0; padding: 0}\n",
       ".list-inline>li {display: inline-block}\n",
       ".list-inline>li:not(:last-child)::after {content: \"\\00b7\"; padding: 0 .5ex}\n",
       "</style>\n",
       "<ol class=list-inline><li>2.7867282574179</li><li>1.77778185325846</li><li>0.630463765517936</li><li>0.336647442715946</li><li>0.262108595888928</li><li>0.206270085200818</li></ol>\n"
      ],
      "text/latex": [
       "\\begin{enumerate*}\n",
       "\\item 2.7867282574179\n",
       "\\item 1.77778185325846\n",
       "\\item 0.630463765517936\n",
       "\\item 0.336647442715946\n",
       "\\item 0.262108595888928\n",
       "\\item 0.206270085200818\n",
       "\\end{enumerate*}\n"
      ],
      "text/markdown": [
       "1. 2.7867282574179\n",
       "2. 1.77778185325846\n",
       "3. 0.630463765517936\n",
       "4. 0.336647442715946\n",
       "5. 0.262108595888928\n",
       "6. 0.206270085200818\n",
       "\n",
       "\n"
      ],
      "text/plain": [
       "[1] 2.7867283 1.7777819 0.6304638 0.3366474 0.2621086 0.2062701"
      ]
     },
     "metadata": {},
     "output_type": "display_data"
    }
   ],
   "source": [
    "factor_varimax$values"
   ]
  },
  {
   "cell_type": "code",
   "execution_count": 103,
   "id": "f146186d",
   "metadata": {},
   "outputs": [
    {
     "data": {
      "text/html": [
       "<table class=\"dataframe\">\n",
       "<caption>A matrix: 3 × 300 of type dbl</caption>\n",
       "<tbody>\n",
       "\t<tr><th scope=row>RC1</th><td>-0.9283133</td><td>1.1752664</td><td>-0.09447976</td><td> 0.008963658</td><td>-0.2438551</td><td>-1.2601605</td><td> 0.8350275</td><td> 1.3957401</td><td>-0.23538428</td><td> 0.3390721</td><td>⋯</td><td> 1.3105378</td><td> 0.02383236</td><td>1.2239815</td><td>-1.2144448</td><td> 0.7297650</td><td>-0.9283133</td><td>-1.0272593</td><td> 1.1758247</td><td>-0.3776922</td><td>0.4590605</td></tr>\n",
       "\t<tr><th scope=row>RC2</th><td>-1.6653329</td><td>0.6901606</td><td>-0.10050957</td><td> 0.924860955</td><td>-0.7461883</td><td> 0.8348188</td><td>-0.3039701</td><td>-0.5081814</td><td> 0.41277614</td><td>-0.8245956</td><td>⋯</td><td> 0.4745465</td><td> 2.13090555</td><td>0.1506422</td><td> 1.0821481</td><td>-1.1206784</td><td>-1.6653329</td><td> 0.3505556</td><td>-0.5886529</td><td> 1.3180908</td><td>1.5540336</td></tr>\n",
       "\t<tr><th scope=row>RC3</th><td>-0.9746338</td><td>0.5521938</td><td>-1.86791022</td><td>-0.174305103</td><td> 1.1537863</td><td> 0.7994104</td><td>-1.5366251</td><td>-0.7713551</td><td>-0.03701312</td><td> 1.1765511</td><td>⋯</td><td>-0.9123137</td><td>-1.34470740</td><td>0.7059675</td><td>-0.2633514</td><td> 0.2942433</td><td>-0.9746338</td><td>-1.5638866</td><td> 1.8993834</td><td> 0.4594808</td><td>1.1823130</td></tr>\n",
       "</tbody>\n",
       "</table>\n"
      ],
      "text/latex": [
       "A matrix: 3 × 300 of type dbl\n",
       "\\begin{tabular}{r|lllllllllllllllllllll}\n",
       "\tRC1 & -0.9283133 & 1.1752664 & -0.09447976 &  0.008963658 & -0.2438551 & -1.2601605 &  0.8350275 &  1.3957401 & -0.23538428 &  0.3390721 & ⋯ &  1.3105378 &  0.02383236 & 1.2239815 & -1.2144448 &  0.7297650 & -0.9283133 & -1.0272593 &  1.1758247 & -0.3776922 & 0.4590605\\\\\n",
       "\tRC2 & -1.6653329 & 0.6901606 & -0.10050957 &  0.924860955 & -0.7461883 &  0.8348188 & -0.3039701 & -0.5081814 &  0.41277614 & -0.8245956 & ⋯ &  0.4745465 &  2.13090555 & 0.1506422 &  1.0821481 & -1.1206784 & -1.6653329 &  0.3505556 & -0.5886529 &  1.3180908 & 1.5540336\\\\\n",
       "\tRC3 & -0.9746338 & 0.5521938 & -1.86791022 & -0.174305103 &  1.1537863 &  0.7994104 & -1.5366251 & -0.7713551 & -0.03701312 &  1.1765511 & ⋯ & -0.9123137 & -1.34470740 & 0.7059675 & -0.2633514 &  0.2942433 & -0.9746338 & -1.5638866 &  1.8993834 &  0.4594808 & 1.1823130\\\\\n",
       "\\end{tabular}\n"
      ],
      "text/markdown": [
       "\n",
       "A matrix: 3 × 300 of type dbl\n",
       "\n",
       "| RC1 | -0.9283133 | 1.1752664 | -0.09447976 |  0.008963658 | -0.2438551 | -1.2601605 |  0.8350275 |  1.3957401 | -0.23538428 |  0.3390721 | ⋯ |  1.3105378 |  0.02383236 | 1.2239815 | -1.2144448 |  0.7297650 | -0.9283133 | -1.0272593 |  1.1758247 | -0.3776922 | 0.4590605 |\n",
       "| RC2 | -1.6653329 | 0.6901606 | -0.10050957 |  0.924860955 | -0.7461883 |  0.8348188 | -0.3039701 | -0.5081814 |  0.41277614 | -0.8245956 | ⋯ |  0.4745465 |  2.13090555 | 0.1506422 |  1.0821481 | -1.1206784 | -1.6653329 |  0.3505556 | -0.5886529 |  1.3180908 | 1.5540336 |\n",
       "| RC3 | -0.9746338 | 0.5521938 | -1.86791022 | -0.174305103 |  1.1537863 |  0.7994104 | -1.5366251 | -0.7713551 | -0.03701312 |  1.1765511 | ⋯ | -0.9123137 | -1.34470740 | 0.7059675 | -0.2633514 |  0.2942433 | -0.9746338 | -1.5638866 |  1.8993834 |  0.4594808 | 1.1823130 |\n",
       "\n"
      ],
      "text/plain": [
       "    [,1]       [,2]      [,3]        [,4]         [,5]       [,6]      \n",
       "RC1 -0.9283133 1.1752664 -0.09447976  0.008963658 -0.2438551 -1.2601605\n",
       "RC2 -1.6653329 0.6901606 -0.10050957  0.924860955 -0.7461883  0.8348188\n",
       "RC3 -0.9746338 0.5521938 -1.86791022 -0.174305103  1.1537863  0.7994104\n",
       "    [,7]       [,8]       [,9]        [,10]      [,11] [,12]      [,13]      \n",
       "RC1  0.8350275  1.3957401 -0.23538428  0.3390721 ⋯      1.3105378  0.02383236\n",
       "RC2 -0.3039701 -0.5081814  0.41277614 -0.8245956 ⋯      0.4745465  2.13090555\n",
       "RC3 -1.5366251 -0.7713551 -0.03701312  1.1765511 ⋯     -0.9123137 -1.34470740\n",
       "    [,14]     [,15]      [,16]      [,17]      [,18]      [,19]      [,20]     \n",
       "RC1 1.2239815 -1.2144448  0.7297650 -0.9283133 -1.0272593  1.1758247 -0.3776922\n",
       "RC2 0.1506422  1.0821481 -1.1206784 -1.6653329  0.3505556 -0.5886529  1.3180908\n",
       "RC3 0.7059675 -0.2633514  0.2942433 -0.9746338 -1.5638866  1.8993834  0.4594808\n",
       "    [,21]    \n",
       "RC1 0.4590605\n",
       "RC2 1.5540336\n",
       "RC3 1.1823130"
      ]
     },
     "metadata": {},
     "output_type": "display_data"
    }
   ],
   "source": [
    "t(factor_varimax$scores)"
   ]
  },
  {
   "cell_type": "code",
   "execution_count": 104,
   "id": "2b63311b",
   "metadata": {},
   "outputs": [],
   "source": [
    "factor_promax <- principal(data, nfactors=3, rotate='promax', scores=T, method='regression')"
   ]
  },
  {
   "cell_type": "code",
   "execution_count": 105,
   "id": "be5aec76",
   "metadata": {},
   "outputs": [
    {
     "data": {
      "text/plain": [
       "Principal Components Analysis\n",
       "Call: principal(r = data, nfactors = 3, rotate = \"promax\", scores = T, \n",
       "    method = \"regression\")\n",
       "Standardized loadings (pattern matrix) based upon correlation matrix\n",
       "       RC1   RC2   RC3   h2     u2 com\n",
       "BIO   0.91  0.03 -0.02 0.82 0.1789   1\n",
       "GEO   0.86  0.00  0.06 0.77 0.2319   1\n",
       "CHEM  0.92 -0.03 -0.04 0.83 0.1749   1\n",
       "ALG  -0.03  0.99 -0.08 0.90 0.0955   1\n",
       "CALC  0.03  0.88  0.09 0.88 0.1190   1\n",
       "STAT -0.01  0.00  1.00 1.00 0.0048   1\n",
       "\n",
       "                       RC1  RC2  RC3\n",
       "SS loadings           2.41 1.76 1.02\n",
       "Proportion Var        0.40 0.29 0.17\n",
       "Cumulative Var        0.40 0.70 0.87\n",
       "Proportion Explained  0.46 0.34 0.20\n",
       "Cumulative Proportion 0.46 0.80 1.00\n",
       "\n",
       " With component correlations of \n",
       "     RC1  RC2  RC3\n",
       "RC1 1.00 0.17 0.24\n",
       "RC2 0.17 1.00 0.48\n",
       "RC3 0.24 0.48 1.00\n",
       "\n",
       "Mean item complexity =  1\n",
       "Test of the hypothesis that 3 components are sufficient.\n",
       "\n",
       "The root mean square of the residuals (RMSR) is  0.05 \n",
       " with the empirical chi square  25.47  with prob <  NA \n",
       "\n",
       "Fit based upon off diagonal values = 0.98"
      ]
     },
     "metadata": {},
     "output_type": "display_data"
    }
   ],
   "source": [
    "factor_promax"
   ]
  },
  {
   "cell_type": "code",
   "execution_count": 106,
   "id": "7c3f1f66",
   "metadata": {},
   "outputs": [
    {
     "data": {
      "text/html": [
       "<style>\n",
       ".list-inline {list-style: none; margin:0; padding: 0}\n",
       ".list-inline>li {display: inline-block}\n",
       ".list-inline>li:not(:last-child)::after {content: \"\\00b7\"; padding: 0 .5ex}\n",
       "</style>\n",
       "<ol class=list-inline><li>2.7867282574179</li><li>1.77778185325846</li><li>0.630463765517936</li><li>0.336647442715946</li><li>0.262108595888928</li><li>0.206270085200818</li></ol>\n"
      ],
      "text/latex": [
       "\\begin{enumerate*}\n",
       "\\item 2.7867282574179\n",
       "\\item 1.77778185325846\n",
       "\\item 0.630463765517936\n",
       "\\item 0.336647442715946\n",
       "\\item 0.262108595888928\n",
       "\\item 0.206270085200818\n",
       "\\end{enumerate*}\n"
      ],
      "text/markdown": [
       "1. 2.7867282574179\n",
       "2. 1.77778185325846\n",
       "3. 0.630463765517936\n",
       "4. 0.336647442715946\n",
       "5. 0.262108595888928\n",
       "6. 0.206270085200818\n",
       "\n",
       "\n"
      ],
      "text/plain": [
       "[1] 2.7867283 1.7777819 0.6304638 0.3366474 0.2621086 0.2062701"
      ]
     },
     "metadata": {},
     "output_type": "display_data"
    }
   ],
   "source": [
    "factor_promax$values"
   ]
  },
  {
   "cell_type": "code",
   "execution_count": 107,
   "id": "bb2819f5",
   "metadata": {},
   "outputs": [
    {
     "data": {
      "text/plain": [
       "\n",
       "Loadings:\n",
       "     RC1   RC2   RC3  \n",
       "BIO  0.900            \n",
       "GEO  0.864       0.125\n",
       "CHEM 0.907            \n",
       "ALG        0.943 0.117\n",
       "CALC 0.122 0.892 0.264\n",
       "STAT 0.124 0.293 0.945\n",
       "\n",
       "                 RC1   RC2   RC3\n",
       "SS loadings    2.410 1.787 0.998\n",
       "Proportion Var 0.402 0.298 0.166\n",
       "Cumulative Var 0.402 0.700 0.866"
      ]
     },
     "metadata": {},
     "output_type": "display_data"
    }
   ],
   "source": [
    "factor_varimax$Structure"
   ]
  },
  {
   "cell_type": "code",
   "execution_count": 95,
   "id": "b7988e3b",
   "metadata": {},
   "outputs": [
    {
     "data": {
      "text/plain": [
       "\n",
       "Loadings:\n",
       "     PC1    PC2    PC3   \n",
       "BIO   0.782 -0.454       \n",
       "GEO   0.771 -0.416       \n",
       "CHEM  0.748 -0.513       \n",
       "ALG   0.547  0.701 -0.338\n",
       "CALC  0.635  0.664 -0.190\n",
       "STAT  0.564  0.451  0.689\n",
       "\n",
       "                 PC1   PC2   PC3\n",
       "SS loadings    2.787 1.778 0.630\n",
       "Proportion Var 0.464 0.296 0.105\n",
       "Cumulative Var 0.464 0.761 0.866"
      ]
     },
     "metadata": {},
     "output_type": "display_data"
    }
   ],
   "source": [
    "data_factor$Structure"
   ]
  },
  {
   "cell_type": "code",
   "execution_count": 96,
   "id": "146420fc",
   "metadata": {},
   "outputs": [
    {
     "data": {
      "text/html": [
       "<table class=\"dataframe\">\n",
       "<caption>A matrix: 6 × 3 of type dbl</caption>\n",
       "<thead>\n",
       "\t<tr><th></th><th scope=col>RC1</th><th scope=col>RC2</th><th scope=col>RC3</th></tr>\n",
       "</thead>\n",
       "<tbody>\n",
       "\t<tr><th scope=row>BIO</th><td>0.9058627</td><td>0.1752787</td><td>0.2086573</td></tr>\n",
       "\t<tr><th scope=row>GEO</th><td>0.8747452</td><td>0.1786031</td><td>0.2594848</td></tr>\n",
       "\t<tr><th scope=row>CHEM</th><td>0.9064087</td><td>0.1111579</td><td>0.1625561</td></tr>\n",
       "\t<tr><th scope=row>ALG</th><td>0.1229965</td><td>0.9476494</td><td>0.3928444</td></tr>\n",
       "\t<tr><th scope=row>CALC</th><td>0.2110191</td><td>0.9338167</td><td>0.5286283</td></tr>\n",
       "\t<tr><th scope=row>STAT</th><td>0.2247575</td><td>0.4817502</td><td>0.9975220</td></tr>\n",
       "</tbody>\n",
       "</table>\n"
      ],
      "text/latex": [
       "A matrix: 6 × 3 of type dbl\n",
       "\\begin{tabular}{r|lll}\n",
       "  & RC1 & RC2 & RC3\\\\\n",
       "\\hline\n",
       "\tBIO & 0.9058627 & 0.1752787 & 0.2086573\\\\\n",
       "\tGEO & 0.8747452 & 0.1786031 & 0.2594848\\\\\n",
       "\tCHEM & 0.9064087 & 0.1111579 & 0.1625561\\\\\n",
       "\tALG & 0.1229965 & 0.9476494 & 0.3928444\\\\\n",
       "\tCALC & 0.2110191 & 0.9338167 & 0.5286283\\\\\n",
       "\tSTAT & 0.2247575 & 0.4817502 & 0.9975220\\\\\n",
       "\\end{tabular}\n"
      ],
      "text/markdown": [
       "\n",
       "A matrix: 6 × 3 of type dbl\n",
       "\n",
       "| <!--/--> | RC1 | RC2 | RC3 |\n",
       "|---|---|---|---|\n",
       "| BIO | 0.9058627 | 0.1752787 | 0.2086573 |\n",
       "| GEO | 0.8747452 | 0.1786031 | 0.2594848 |\n",
       "| CHEM | 0.9064087 | 0.1111579 | 0.1625561 |\n",
       "| ALG | 0.1229965 | 0.9476494 | 0.3928444 |\n",
       "| CALC | 0.2110191 | 0.9338167 | 0.5286283 |\n",
       "| STAT | 0.2247575 | 0.4817502 | 0.9975220 |\n",
       "\n"
      ],
      "text/plain": [
       "     RC1       RC2       RC3      \n",
       "BIO  0.9058627 0.1752787 0.2086573\n",
       "GEO  0.8747452 0.1786031 0.2594848\n",
       "CHEM 0.9064087 0.1111579 0.1625561\n",
       "ALG  0.1229965 0.9476494 0.3928444\n",
       "CALC 0.2110191 0.9338167 0.5286283\n",
       "STAT 0.2247575 0.4817502 0.9975220"
      ]
     },
     "metadata": {},
     "output_type": "display_data"
    }
   ],
   "source": [
    "factor_promax$Structure"
   ]
  },
  {
   "cell_type": "code",
   "execution_count": 97,
   "id": "a0203360",
   "metadata": {},
   "outputs": [
    {
     "data": {
      "text/plain": [
       "\n",
       "Loadings:\n",
       "     PC1    PC2    PC3   \n",
       "BIO   0.782 -0.454       \n",
       "GEO   0.771 -0.416       \n",
       "CHEM  0.748 -0.513       \n",
       "ALG   0.547  0.701 -0.338\n",
       "CALC  0.635  0.664 -0.190\n",
       "STAT  0.564  0.451  0.689\n",
       "\n",
       "                 PC1   PC2   PC3\n",
       "SS loadings    2.787 1.778 0.630\n",
       "Proportion Var 0.464 0.296 0.105\n",
       "Cumulative Var 0.464 0.761 0.866"
      ]
     },
     "metadata": {},
     "output_type": "display_data"
    }
   ],
   "source": [
    "data_factor <- principal(data, nfactors = 3, rotate='none')\n",
    "data_factor$Structure"
   ]
  },
  {
   "cell_type": "code",
   "execution_count": null,
   "id": "50b37202",
   "metadata": {},
   "outputs": [],
   "source": []
  }
 ],
 "metadata": {
  "kernelspec": {
   "display_name": "R",
   "language": "R",
   "name": "ir"
  },
  "language_info": {
   "codemirror_mode": "r",
   "file_extension": ".r",
   "mimetype": "text/x-r-source",
   "name": "R",
   "pygments_lexer": "r",
   "version": "4.0.3"
  }
 },
 "nbformat": 4,
 "nbformat_minor": 5
}
